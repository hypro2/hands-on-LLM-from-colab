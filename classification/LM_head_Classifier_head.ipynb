{
 "cells": [
  {
   "cell_type": "code",
   "execution_count": 1,
   "metadata": {
    "colab": {
     "base_uri": "https://localhost:8080/"
    },
    "id": "6-utOYKXbiMs",
    "outputId": "47e27ad8-f8fb-4c91-ec65-ec525a2a2ea5"
   },
   "outputs": [],
   "source": [
    "# !pip install transformers datasets evaluate peft"
   ]
  },
  {
   "cell_type": "code",
   "execution_count": 2,
   "metadata": {
    "id": "AjMxqf7lafq0",
    "tags": []
   },
   "outputs": [],
   "source": [
    "import torch\n",
    "import torch.nn as nn\n",
    "from transformers import AutoModelForCausalLM, AutoTokenizer,AutoConfig\n",
    "from peft import LoraConfig, get_peft_model\n",
    "\n",
    "# LoRA 설정\n",
    "lora_config = LoraConfig(\n",
    "    r=8,  # Low-rank의 차원\n",
    "    lora_alpha=16,  # LoRA alpha\n",
    "    lora_dropout=0.1,  # Dropout 비율\n",
    "    task_type=\"CAUSAL_LM\",\n",
    "    target_modules=[\"q_proj\", \"k_proj\",\"v_proj\",\"o_proj\"],\n",
    ")\n",
    "\n",
    "# 멀티태스크 모델 정의\n",
    "class MultiTaskModel(nn.Module):\n",
    "    def __init__(self, model_name, num_classes):\n",
    "        super(MultiTaskModel, self).__init__()\n",
    "        config = AutoConfig.from_pretrained(model_name)\n",
    "        config.output_hidden_states = True\n",
    "\n",
    "        # 사전 학습된 모델 로드\n",
    "        self.lm_model = AutoModelForCausalLM.from_pretrained(model_name, config=config)\n",
    "        self.lm_model.config.pad_token_id = 128001\n",
    "        self.lm_model = get_peft_model(self.lm_model, lora_config)\n",
    "        hidden_size = self.lm_model.config.hidden_size\n",
    "\n",
    "        # 분류 헤드 추가\n",
    "        # self.classifier = nn.Linear(hidden_size, num_classes)\n",
    "        intermediate_size = hidden_size // 2  # 중간 크기 설정\n",
    "        self.classifier = nn.Sequential(\n",
    "            nn.Linear(hidden_size, intermediate_size),  # 첫 번째 선형층\n",
    "            nn.ReLU(),  # 활성화 함수\n",
    "            nn.Linear(intermediate_size, num_classes)  # 두 번째 선형층\n",
    "        )\n",
    "\n",
    "    def forward(self, lm_input_ids, lm_attention_mask, class_input_ids=None, class_attention_mask=None, labels=None, class_labels=None):\n",
    "\n",
    "        if class_input_ids is None:\n",
    "            class_input_ids = lm_input_ids\n",
    "        if class_attention_mask is None:\n",
    "            class_attention_mask = lm_attention_mask\n",
    "\n",
    "        # 언어 모델링 출력\n",
    "        outputs = self.lm_model(input_ids=lm_input_ids, attention_mask=lm_attention_mask, labels=labels)\n",
    "        lm_loss = outputs.loss  # LM 손실\n",
    "        logits = outputs.logits  # LM 결과\n",
    "\n",
    "        # 분류 헤드 출력 (CLS 토큰 사용)\n",
    "        class_outputs = self.lm_model(input_ids=class_input_ids, attention_mask=class_attention_mask)\n",
    "        hidden_states = class_outputs.hidden_states  # Hidden states 확인\n",
    "        pooled_output = torch.mean(hidden_states[-1], dim=1)  # Mean Pooling\n",
    "        class_logits = self.classifier(pooled_output)\n",
    "\n",
    "        # 분류 손실 계산\n",
    "        if class_labels is not None:\n",
    "            class_loss = nn.CrossEntropyLoss()(class_logits, class_labels)\n",
    "        else:\n",
    "            class_loss = None\n",
    "\n",
    "        return lm_loss, class_logits, class_loss\n"
   ]
  },
  {
   "cell_type": "code",
   "execution_count": 3,
   "metadata": {
    "id": "luwh4Hiyb5l2",
    "tags": []
   },
   "outputs": [],
   "source": [
    "from tqdm import tqdm\n",
    "import torch.nn.functional as F\n",
    "\n",
    "# 데이터 정리 및 패딩\n",
    "def collate_fn(batch):\n",
    "    lm_input_ids = torch.nn.utils.rnn.pad_sequence([b[\"lm_input_ids\"] for b in batch], batch_first=True, padding_value=0)\n",
    "    lm_attention_mask = torch.nn.utils.rnn.pad_sequence([b[\"lm_attention_mask\"] for b in batch], batch_first=True, padding_value=0)\n",
    "    class_input_ids = torch.nn.utils.rnn.pad_sequence([b[\"class_input_ids\"] for b in batch], batch_first=True, padding_value=0)\n",
    "    class_attention_mask = torch.nn.utils.rnn.pad_sequence([b[\"class_attention_mask\"] for b in batch], batch_first=True, padding_value=0)\n",
    "    labels = torch.nn.utils.rnn.pad_sequence([b[\"labels\"] for b in batch], batch_first=True, padding_value=-100)\n",
    "    class_labels = torch.tensor([b[\"class_labels\"] for b in batch])\n",
    "    return {\"lm_input_ids\": lm_input_ids, \"lm_attention_mask\": lm_attention_mask,\"class_input_ids\":class_input_ids,\"class_attention_mask\":class_attention_mask, \"labels\": labels, \"class_labels\": class_labels}\n",
    "\n",
    "\n",
    "# 학습 루프\n",
    "def train(model, train_dataloader, eval_dataloader, optimizer, alpha=0.5, epochs=3):\n",
    "    model.train()\n",
    "\n",
    "    for epoch in range(epochs):\n",
    "        total_loss = 0.0\n",
    "        train_bar = tqdm(train_dataloader, desc=f\"Epoch {epoch + 1}/{epochs} [Training]\")  # tqdm 추가\n",
    "\n",
    "        for batch in train_bar:\n",
    "            lm_input_ids = batch[\"lm_input_ids\"].to(device)\n",
    "            lm_attention_mask = batch[\"lm_attention_mask\"].to(device)\n",
    "            class_input_ids = batch[\"class_input_ids\"].to(device)\n",
    "            class_attention_mask = batch[\"class_attention_mask\"].to(device)\n",
    "            labels = batch[\"labels\"].to(device)\n",
    "            class_labels = batch[\"class_labels\"].to(device)\n",
    "\n",
    "            # 모델 출력\n",
    "            lm_loss, class_logits, class_loss = model(lm_input_ids, lm_attention_mask, class_input_ids, class_attention_mask, labels, class_labels)\n",
    "\n",
    "            # 총 손실 계산\n",
    "            if class_loss is not None:\n",
    "                loss = lm_loss + alpha * class_loss\n",
    "            else:\n",
    "                loss = lm_loss\n",
    "\n",
    "            # 역전파 및 최적화\n",
    "            optimizer.zero_grad()\n",
    "            loss.backward()\n",
    "            optimizer.step()\n",
    "\n",
    "            # 손실값 업데이트\n",
    "            total_loss += loss.item()\n",
    "            train_bar.set_postfix({\"Loss\": total_loss / (train_bar.n + 1)})\n",
    "            print(f\"LM Loss: {lm_loss.item():.4f}, Class Loss: {class_loss.item():.4f}\")\n",
    "\n",
    "\n",
    "        print(f\"Epoch {epoch + 1}/{epochs}, Average Loss: {total_loss / len(train_dataloader)}\")\n",
    "\n",
    "        # 검증 데이터 평가\n",
    "        evaluate(model, eval_dataloader)\n",
    "\n",
    "\n",
    "# 검증 루프\n",
    "# 검증 루프\n",
    "def evaluate(model, eval_dataloader):\n",
    "    model.eval()\n",
    "    total_lm_loss = 0.0\n",
    "    total_correct = 0\n",
    "    total_samples = 0\n",
    "\n",
    "    # 데이터로더 비어 있는지 확인\n",
    "    if len(eval_dataloader) == 0:\n",
    "        print(\"Warning: Eval dataloader is empty!\")\n",
    "        return\n",
    "\n",
    "    eval_bar = tqdm(eval_dataloader, desc=\"[Evaluating]\")  # tqdm 추가\n",
    "\n",
    "    with torch.no_grad():\n",
    "        for batch in eval_bar:\n",
    "            lm_input_ids = batch[\"lm_input_ids\"].to(device)\n",
    "            lm_attention_mask = batch[\"lm_attention_mask\"].to(device)\n",
    "            class_input_ids = batch[\"class_input_ids\"].to(device)\n",
    "            class_attention_mask = batch[\"class_attention_mask\"].to(device)\n",
    "            labels = batch[\"labels\"].to(device)\n",
    "            class_labels = batch[\"class_labels\"].to(device)\n",
    "\n",
    "            # 모델 출력\n",
    "            lm_loss, class_logits, _ = model(lm_input_ids, lm_attention_mask, class_input_ids, class_attention_mask, labels)\n",
    "\n",
    "            # NaN 체크\n",
    "            if torch.isnan(lm_loss):\n",
    "                print(\"Warning: NaN detected in LM Loss!\")\n",
    "                continue\n",
    "\n",
    "            # 언어 모델링 손실 계산\n",
    "            total_lm_loss += lm_loss.item()\n",
    "\n",
    "            # 분류 정확도 계산\n",
    "            # class_logits의 마지막 차원을 기준으로 argmax를 취함\n",
    "            predictions = torch.argmax(class_logits, dim=-1)\n",
    "\n",
    "            # 정확도 계산\n",
    "            correct = (predictions == class_labels).sum().item()\n",
    "            total_correct += correct\n",
    "            total_samples += class_labels.size(0)\n",
    "\n",
    "    # 평균 LM 손실 및 정확도 계산\n",
    "    avg_lm_loss = total_lm_loss / len(eval_dataloader)\n",
    "    accuracy = total_correct / total_samples\n",
    "\n",
    "    print(f\"Validation - LM Loss: {avg_lm_loss:.4f}, Classification Accuracy: {accuracy:.4f}\")\n",
    "\n",
    "    model.train()  # 평가 후 다시 학습 모드로 전환"
   ]
  },
  {
   "cell_type": "code",
   "execution_count": 4,
   "metadata": {
    "colab": {
     "base_uri": "https://localhost:8080/",
     "height": 605
    },
    "id": "1nOq0OX5a9Ro",
    "outputId": "547fe3f5-b460-4894-d645-29077e05f0bb",
    "tags": []
   },
   "outputs": [
    {
     "data": {
      "text/html": [
       "<div>\n",
       "<style scoped>\n",
       "    .dataframe tbody tr th:only-of-type {\n",
       "        vertical-align: middle;\n",
       "    }\n",
       "\n",
       "    .dataframe tbody tr th {\n",
       "        vertical-align: top;\n",
       "    }\n",
       "\n",
       "    .dataframe thead th {\n",
       "        text-align: right;\n",
       "    }\n",
       "</style>\n",
       "<table border=\"1\" class=\"dataframe\">\n",
       "  <thead>\n",
       "    <tr style=\"text-align: right;\">\n",
       "      <th></th>\n",
       "      <th>skey</th>\n",
       "      <th>ti</th>\n",
       "      <th>ab</th>\n",
       "      <th>clr</th>\n",
       "      <th>cla</th>\n",
       "      <th>ipcs</th>\n",
       "      <th>label_idx</th>\n",
       "    </tr>\n",
       "  </thead>\n",
       "  <tbody>\n",
       "    <tr>\n",
       "      <th>0</th>\n",
       "      <td>4920013002569</td>\n",
       "      <td>photocatalytic roofing granules photocatalytic...</td>\n",
       "      <td>photocatalytic roofing granules include a bind...</td>\n",
       "      <td>1 a process for preparing a photocatalytic roo...</td>\n",
       "      <td>1 a process for preparing a photocatalytic roo...</td>\n",
       "      <td>C09C C01G C09C B82Y E04D C01G</td>\n",
       "      <td>4</td>\n",
       "    </tr>\n",
       "    <tr>\n",
       "      <th>1</th>\n",
       "      <td>4920035002591</td>\n",
       "      <td>nonequilibrium polaronic quantum phasecondensa...</td>\n",
       "      <td>electrical devices operating in a range of 273...</td>\n",
       "      <td>1 an electrical device comprising a an insulat...</td>\n",
       "      <td>1 an electrical device comprising a an insulat...</td>\n",
       "      <td>H01L H01S C01G C01G H01L H01L H01L H01L H01P H...</td>\n",
       "      <td>4</td>\n",
       "    </tr>\n",
       "    <tr>\n",
       "      <th>2</th>\n",
       "      <td>4920031002499</td>\n",
       "      <td>methods of producing composite zeolite catalys...</td>\n",
       "      <td>a method of forming composite zeolite catalyst...</td>\n",
       "      <td>1 a method of forming composite zeolite cataly...</td>\n",
       "      <td>1 a method of forming composite zeolite cataly...</td>\n",
       "      <td>C01B B01J C01B B01J B01J B01J B01J B01J C01B B...</td>\n",
       "      <td>0</td>\n",
       "    </tr>\n",
       "    <tr>\n",
       "      <th>3</th>\n",
       "      <td>4919017002322</td>\n",
       "      <td>method for the generation of power</td>\n",
       "      <td>disclosed herein is a method comprising heatin...</td>\n",
       "      <td>1 a method comprising heating a strontiumconta...</td>\n",
       "      <td>1 a method comprising heating a strontiumconta...</td>\n",
       "      <td>F03G C01B C01F C01F F28F F03G C01B</td>\n",
       "      <td>3</td>\n",
       "    </tr>\n",
       "    <tr>\n",
       "      <th>4</th>\n",
       "      <td>4920030001982</td>\n",
       "      <td>method of preparing mesoporous carbon material...</td>\n",
       "      <td>the present invention relates to a method of p...</td>\n",
       "      <td>1 a method of preparing a mesoporous carbon ma...</td>\n",
       "      <td>1 a method of preparing a mesoporous carbon ma...</td>\n",
       "      <td>C01B B33Y B33Y B29C</td>\n",
       "      <td>0</td>\n",
       "    </tr>\n",
       "  </tbody>\n",
       "</table>\n",
       "</div>"
      ],
      "text/plain": [
       "            skey                                                 ti  \\\n",
       "0  4920013002569  photocatalytic roofing granules photocatalytic...   \n",
       "1  4920035002591  nonequilibrium polaronic quantum phasecondensa...   \n",
       "2  4920031002499  methods of producing composite zeolite catalys...   \n",
       "3  4919017002322                 method for the generation of power   \n",
       "4  4920030001982  method of preparing mesoporous carbon material...   \n",
       "\n",
       "                                                  ab  \\\n",
       "0  photocatalytic roofing granules include a bind...   \n",
       "1  electrical devices operating in a range of 273...   \n",
       "2  a method of forming composite zeolite catalyst...   \n",
       "3  disclosed herein is a method comprising heatin...   \n",
       "4  the present invention relates to a method of p...   \n",
       "\n",
       "                                                 clr  \\\n",
       "0  1 a process for preparing a photocatalytic roo...   \n",
       "1  1 an electrical device comprising a an insulat...   \n",
       "2  1 a method of forming composite zeolite cataly...   \n",
       "3  1 a method comprising heating a strontiumconta...   \n",
       "4  1 a method of preparing a mesoporous carbon ma...   \n",
       "\n",
       "                                                 cla  \\\n",
       "0  1 a process for preparing a photocatalytic roo...   \n",
       "1  1 an electrical device comprising a an insulat...   \n",
       "2  1 a method of forming composite zeolite cataly...   \n",
       "3  1 a method comprising heating a strontiumconta...   \n",
       "4  1 a method of preparing a mesoporous carbon ma...   \n",
       "\n",
       "                                                ipcs  label_idx  \n",
       "0                      C09C C01G C09C B82Y E04D C01G          4  \n",
       "1  H01L H01S C01G C01G H01L H01L H01L H01L H01P H...          4  \n",
       "2  C01B B01J C01B B01J B01J B01J B01J B01J C01B B...          0  \n",
       "3                 F03G C01B C01F C01F F28F F03G C01B          3  \n",
       "4                                C01B B33Y B33Y B29C          0  "
      ]
     },
     "execution_count": 4,
     "metadata": {},
     "output_type": "execute_result"
    }
   ],
   "source": [
    "import pandas as pd\n",
    "from datasets import Dataset, DatasetDict\n",
    "from transformers import AutoTokenizer\n",
    "\n",
    "# 1. CSV 파일 읽기\n",
    "train_df = pd.read_csv(r\"./05_sentence.csv\")\n",
    "train_df = train_df.sample(frac=1, random_state=42).reset_index(drop=True)\n",
    "\n",
    "eval_df = pd.read_csv(r\"./05_sentence_eval.csv\")\n",
    "eval_df = eval_df.sample(frac=1, random_state=42).reset_index(drop=True)\n",
    "train_df.head()"
   ]
  },
  {
   "cell_type": "code",
   "execution_count": 5,
   "metadata": {
    "id": "S4DCYPoxb9BY",
    "tags": []
   },
   "outputs": [],
   "source": [
    "# 데이터 로더\n",
    "def create_train_data(tokenizer, ti, ab, label):\n",
    "    # Chat 템플릿 생성\n",
    "    chat = [\n",
    "        {\"role\": \"system\", \"content\":\"You are an AI that generates classification labels for patents. Read the text and classify them correctly. Let's Think Step by Step.\"},\n",
    "        {\"role\": \"user\", \"content\": f\"Generate a label for the given text.\\n'{ti} {ab}'\"},\n",
    "        {\"role\": \"assistant\", \"content\": f\"Patent classification label is {label_dict[label]}\"},  # 정답 텍스트\n",
    "    ]\n",
    "\n",
    "    # Chat 형식에 맞춰 텍스트 생성\n",
    "    input_txt = tokenizer.apply_chat_template(chat, tokenize=False)\n",
    "\n",
    "    # 토큰화\n",
    "    input_ids = tokenizer.encode(input_txt, return_tensors=\"pt\", max_length=1024, truncation=True).squeeze(0)\n",
    "    attention_mask = torch.ones_like(input_ids)\n",
    "\n",
    "    class_input_txt = tokenizer.apply_chat_template([chat[0],chat[1]], tokenize=False)\n",
    "    class_input_ids = tokenizer.encode(class_input_txt, return_tensors=\"pt\", max_length=1024, truncation=True).squeeze(0)\n",
    "    class_attention_mask = torch.ones_like(class_input_ids)\n",
    "\n",
    "\n",
    "    # 토큰화\n",
    "    input_ids = tokenizer.encode(input_txt, return_tensors=\"pt\", max_length=1024, truncation=True).squeeze(0)\n",
    "    attention_mask = torch.ones_like(input_ids)\n",
    "\n",
    "    # 정답 토큰 인덱스 식별\n",
    "    # 'assistant'의 정답 범위를 마스킹하기 위해 위치 식별\n",
    "    assistant_text = f\"Patent classification label is {label_dict[label]}\"\n",
    "    assistant_start = input_txt.index(assistant_text)  # assistant 정답이 시작되는 위치\n",
    "    assistant_ids = tokenizer.encode(assistant_text, add_special_tokens=False)\n",
    "\n",
    "    # 마스킹 처리\n",
    "    labels = input_ids.clone()\n",
    "\n",
    "    # 모든 토큰을 -100으로 설정\n",
    "    labels[:] = -100\n",
    "\n",
    "    # assistant 출력 범위만 정답으로 설정\n",
    "    assistant_start_idx = (input_ids == assistant_ids[0]).nonzero(as_tuple=True)[0].item()  # 시작 토큰 인덱스\n",
    "    labels[assistant_start_idx:assistant_start_idx + len(assistant_ids)] = input_ids[assistant_start_idx:assistant_start_idx + len(assistant_ids)]\n",
    "\n",
    "    # 클래스 라벨은 텍스트의 분류 결과를 나타내므로, class_label로 별도로 처리\n",
    "    class_label = label\n",
    "\n",
    "    return {\"lm_input_ids\": input_ids, \"lm_attention_mask\": attention_mask,\"class_input_ids\":class_input_ids,\"class_attention_mask\":class_attention_mask, \"labels\": labels, \"class_labels\": class_label}"
   ]
  },
  {
   "cell_type": "code",
   "execution_count": 6,
   "metadata": {
    "id": "EBeQtGZNMJ2l",
    "tags": []
   },
   "outputs": [],
   "source": [
    "label_dict = {0:\"Class_01B\",1:\"Class_01C\",2:\"Class_01D\",3:\"Class_01E\",4:\"Class_01F\",5:\"Class_01G\"}"
   ]
  },
  {
   "cell_type": "code",
   "execution_count": 7,
   "metadata": {
    "colab": {
     "base_uri": "https://localhost:8080/"
    },
    "id": "qfd6vZHCb647",
    "outputId": "f205ce37-c403-40a9-96fb-58436966c7eb",
    "tags": []
   },
   "outputs": [
    {
     "data": {
      "application/vnd.jupyter.widget-view+json": {
       "model_id": "b6aede8277714b11966c72a63976048b",
       "version_major": 2,
       "version_minor": 0
      },
      "text/plain": [
       "Loading checkpoint shards:   0%|          | 0/4 [00:00<?, ?it/s]"
      ]
     },
     "metadata": {},
     "output_type": "display_data"
    }
   ],
   "source": [
    "# 모델 초기화 및 설정\n",
    "device = torch.device(\"cuda\" if torch.cuda.is_available() else \"cpu\")\n",
    "\n",
    "# 분류 클래스 수\n",
    "num_classes = 5\n",
    "\n",
    "model_name = './일반 모델/Meta-Llama-3.1-8B-Instruct'\n",
    "model = MultiTaskModel(model_name, num_classes).to(device)\n",
    "\n",
    "for parameter in model.classifier.parameters():\n",
    "    parameter.requires_grad = True"
   ]
  },
  {
   "cell_type": "code",
   "execution_count": 8,
   "metadata": {
    "colab": {
     "base_uri": "https://localhost:8080/"
    },
    "id": "IA6RKQJDccSr",
    "outputId": "06662e54-5d0a-4661-ee26-076128e64303",
    "scrolled": true,
    "tags": []
   },
   "outputs": [
    {
     "name": "stderr",
     "output_type": "stream",
     "text": [
      "Epoch 1/3 [Training]:   0%|          | 1/400 [00:01<08:50,  1.33s/it, Loss=7.22]"
     ]
    },
    {
     "name": "stdout",
     "output_type": "stream",
     "text": [
      "LM Loss: 5.9255, Class Loss: 1.2986\n"
     ]
    },
    {
     "name": "stderr",
     "output_type": "stream",
     "text": [
      "Epoch 1/3 [Training]:   0%|          | 2/400 [00:02<06:21,  1.04it/s, Loss=13.4]"
     ]
    },
    {
     "name": "stdout",
     "output_type": "stream",
     "text": [
      "LM Loss: 5.7842, Class Loss: 13.7080\n"
     ]
    },
    {
     "name": "stderr",
     "output_type": "stream",
     "text": [
      "Epoch 1/3 [Training]:   1%|          | 3/400 [00:02<05:34,  1.19it/s, Loss=13.2]"
     ]
    },
    {
     "name": "stdout",
     "output_type": "stream",
     "text": [
      "LM Loss: 5.7578, Class Loss: 7.0533\n"
     ]
    },
    {
     "name": "stderr",
     "output_type": "stream",
     "text": [
      "Epoch 1/3 [Training]:   1%|          | 4/400 [00:03<06:10,  1.07it/s, Loss=13.2]"
     ]
    },
    {
     "name": "stdout",
     "output_type": "stream",
     "text": [
      "LM Loss: 5.8022, Class Loss: 7.5158\n"
     ]
    },
    {
     "name": "stderr",
     "output_type": "stream",
     "text": [
      "Epoch 1/3 [Training]:   1%|▏         | 5/400 [00:04<05:15,  1.25it/s, Loss=13.5]"
     ]
    },
    {
     "name": "stdout",
     "output_type": "stream",
     "text": [
      "LM Loss: 5.6291, Class Loss: 8.8697\n"
     ]
    },
    {
     "name": "stderr",
     "output_type": "stream",
     "text": [
      "Epoch 1/3 [Training]:   2%|▏         | 6/400 [00:04<04:38,  1.42it/s, Loss=13.2]"
     ]
    },
    {
     "name": "stdout",
     "output_type": "stream",
     "text": [
      "LM Loss: 5.5190, Class Loss: 6.2082\n"
     ]
    },
    {
     "name": "stderr",
     "output_type": "stream",
     "text": [
      "Epoch 1/3 [Training]:   2%|▏         | 7/400 [00:05<05:02,  1.30it/s, Loss=12.2]"
     ]
    },
    {
     "name": "stdout",
     "output_type": "stream",
     "text": [
      "LM Loss: 5.7460, Class Loss: 0.6989\n"
     ]
    },
    {
     "name": "stderr",
     "output_type": "stream",
     "text": [
      "Epoch 1/3 [Training]:   2%|▏         | 8/400 [00:06<04:52,  1.34it/s, Loss=11.9]"
     ]
    },
    {
     "name": "stdout",
     "output_type": "stream",
     "text": [
      "LM Loss: 5.7502, Class Loss: 3.7433\n"
     ]
    },
    {
     "name": "stderr",
     "output_type": "stream",
     "text": [
      "Epoch 1/3 [Training]:   2%|▏         | 9/400 [00:07<04:57,  1.31it/s, Loss=11.7]"
     ]
    },
    {
     "name": "stdout",
     "output_type": "stream",
     "text": [
      "LM Loss: 5.7694, Class Loss: 4.5667\n"
     ]
    },
    {
     "name": "stderr",
     "output_type": "stream",
     "text": [
      "Epoch 1/3 [Training]:   2%|▎         | 10/400 [00:07<04:25,  1.47it/s, Loss=11.5]"
     ]
    },
    {
     "name": "stdout",
     "output_type": "stream",
     "text": [
      "LM Loss: 5.7156, Class Loss: 3.8205\n"
     ]
    },
    {
     "name": "stderr",
     "output_type": "stream",
     "text": [
      "Epoch 1/3 [Training]:   3%|▎         | 11/400 [00:08<04:27,  1.45it/s, Loss=11.5]"
     ]
    },
    {
     "name": "stdout",
     "output_type": "stream",
     "text": [
      "LM Loss: 5.3659, Class Loss: 6.0155\n"
     ]
    },
    {
     "name": "stderr",
     "output_type": "stream",
     "text": [
      "Epoch 1/3 [Training]:   3%|▎         | 12/400 [00:09<05:10,  1.25it/s, Loss=11.5]"
     ]
    },
    {
     "name": "stdout",
     "output_type": "stream",
     "text": [
      "LM Loss: 5.5256, Class Loss: 5.7808\n"
     ]
    },
    {
     "name": "stderr",
     "output_type": "stream",
     "text": [
      "Epoch 1/3 [Training]:   3%|▎         | 13/400 [00:10<05:14,  1.23it/s, Loss=11.2]"
     ]
    },
    {
     "name": "stdout",
     "output_type": "stream",
     "text": [
      "LM Loss: 5.4149, Class Loss: 2.3246\n"
     ]
    },
    {
     "name": "stderr",
     "output_type": "stream",
     "text": [
      "Epoch 1/3 [Training]:   4%|▎         | 14/400 [00:11<05:11,  1.24it/s, Loss=10.9]"
     ]
    },
    {
     "name": "stdout",
     "output_type": "stream",
     "text": [
      "LM Loss: 5.5055, Class Loss: 1.3729\n"
     ]
    },
    {
     "name": "stderr",
     "output_type": "stream",
     "text": [
      "Epoch 1/3 [Training]:   4%|▍         | 15/400 [00:11<04:53,  1.31it/s, Loss=10.7]"
     ]
    },
    {
     "name": "stdout",
     "output_type": "stream",
     "text": [
      "LM Loss: 5.4697, Class Loss: 2.5396\n"
     ]
    },
    {
     "name": "stderr",
     "output_type": "stream",
     "text": [
      "Epoch 1/3 [Training]:   4%|▍         | 16/400 [00:12<04:25,  1.45it/s, Loss=10.5]"
     ]
    },
    {
     "name": "stdout",
     "output_type": "stream",
     "text": [
      "LM Loss: 5.1568, Class Loss: 2.3410\n"
     ]
    },
    {
     "name": "stderr",
     "output_type": "stream",
     "text": [
      "Epoch 1/3 [Training]:   4%|▍         | 17/400 [00:13<04:36,  1.39it/s, Loss=10.3]"
     ]
    },
    {
     "name": "stdout",
     "output_type": "stream",
     "text": [
      "LM Loss: 5.4375, Class Loss: 2.1105\n"
     ]
    },
    {
     "name": "stderr",
     "output_type": "stream",
     "text": [
      "Epoch 1/3 [Training]:   4%|▍         | 18/400 [00:13<04:32,  1.40it/s, Loss=10.2]"
     ]
    },
    {
     "name": "stdout",
     "output_type": "stream",
     "text": [
      "LM Loss: 5.3077, Class Loss: 3.8543\n"
     ]
    },
    {
     "name": "stderr",
     "output_type": "stream",
     "text": [
      "Epoch 1/3 [Training]:   5%|▍         | 19/400 [00:14<04:47,  1.33it/s, Loss=10.3]"
     ]
    },
    {
     "name": "stdout",
     "output_type": "stream",
     "text": [
      "LM Loss: 5.4445, Class Loss: 4.9521\n"
     ]
    },
    {
     "name": "stderr",
     "output_type": "stream",
     "text": [
      "Epoch 1/3 [Training]:   5%|▌         | 20/400 [00:15<04:40,  1.36it/s, Loss=10.1]"
     ]
    },
    {
     "name": "stdout",
     "output_type": "stream",
     "text": [
      "LM Loss: 5.1062, Class Loss: 3.0515\n"
     ]
    },
    {
     "name": "stderr",
     "output_type": "stream",
     "text": [
      "Epoch 1/3 [Training]:   5%|▌         | 21/400 [00:16<04:39,  1.36it/s, Loss=9.99]"
     ]
    },
    {
     "name": "stdout",
     "output_type": "stream",
     "text": [
      "LM Loss: 5.1646, Class Loss: 1.6539\n"
     ]
    },
    {
     "name": "stderr",
     "output_type": "stream",
     "text": [
      "Epoch 1/3 [Training]:   6%|▌         | 22/400 [00:17<04:57,  1.27it/s, Loss=9.83]"
     ]
    },
    {
     "name": "stdout",
     "output_type": "stream",
     "text": [
      "LM Loss: 4.9231, Class Loss: 1.5911\n"
     ]
    },
    {
     "name": "stderr",
     "output_type": "stream",
     "text": [
      "Epoch 1/3 [Training]:   6%|▌         | 23/400 [00:17<04:47,  1.31it/s, Loss=9.73]"
     ]
    },
    {
     "name": "stdout",
     "output_type": "stream",
     "text": [
      "LM Loss: 5.1108, Class Loss: 2.3258\n"
     ]
    },
    {
     "name": "stderr",
     "output_type": "stream",
     "text": [
      "Epoch 1/3 [Training]:   6%|▌         | 24/400 [00:18<05:02,  1.24it/s, Loss=9.66]"
     ]
    },
    {
     "name": "stdout",
     "output_type": "stream",
     "text": [
      "LM Loss: 5.1825, Class Loss: 2.8332\n"
     ]
    },
    {
     "name": "stderr",
     "output_type": "stream",
     "text": [
      "Epoch 1/3 [Training]:   6%|▋         | 25/400 [00:19<05:19,  1.17it/s, Loss=9.56]"
     ]
    },
    {
     "name": "stdout",
     "output_type": "stream",
     "text": [
      "LM Loss: 4.9411, Class Loss: 2.3785\n"
     ]
    },
    {
     "name": "stderr",
     "output_type": "stream",
     "text": [
      "Epoch 1/3 [Training]:   6%|▋         | 26/400 [00:20<04:58,  1.25it/s, Loss=9.43]"
     ]
    },
    {
     "name": "stdout",
     "output_type": "stream",
     "text": [
      "LM Loss: 4.7657, Class Loss: 1.3977\n"
     ]
    },
    {
     "name": "stderr",
     "output_type": "stream",
     "text": [
      "Epoch 1/3 [Training]:   7%|▋         | 27/400 [00:20<04:36,  1.35it/s, Loss=9.31]"
     ]
    },
    {
     "name": "stdout",
     "output_type": "stream",
     "text": [
      "LM Loss: 4.9453, Class Loss: 1.3260\n"
     ]
    },
    {
     "name": "stderr",
     "output_type": "stream",
     "text": [
      "Epoch 1/3 [Training]:   7%|▋         | 28/400 [00:21<04:30,  1.37it/s, Loss=9.26]"
     ]
    },
    {
     "name": "stdout",
     "output_type": "stream",
     "text": [
      "LM Loss: 5.0612, Class Loss: 2.6205\n"
     ]
    },
    {
     "name": "stderr",
     "output_type": "stream",
     "text": [
      "Epoch 1/3 [Training]:   7%|▋         | 29/400 [00:22<04:31,  1.37it/s, Loss=9.18]"
     ]
    },
    {
     "name": "stdout",
     "output_type": "stream",
     "text": [
      "LM Loss: 5.0129, Class Loss: 1.9581\n"
     ]
    },
    {
     "name": "stderr",
     "output_type": "stream",
     "text": [
      "Epoch 1/3 [Training]:   8%|▊         | 30/400 [00:23<04:31,  1.36it/s, Loss=9.1] "
     ]
    },
    {
     "name": "stdout",
     "output_type": "stream",
     "text": [
      "LM Loss: 4.9211, Class Loss: 1.8391\n"
     ]
    },
    {
     "name": "stderr",
     "output_type": "stream",
     "text": [
      "Epoch 1/3 [Training]:   8%|▊         | 31/400 [00:23<04:16,  1.44it/s, Loss=9.01]"
     ]
    },
    {
     "name": "stdout",
     "output_type": "stream",
     "text": [
      "LM Loss: 4.8816, Class Loss: 1.6277\n"
     ]
    },
    {
     "name": "stderr",
     "output_type": "stream",
     "text": [
      "Epoch 1/3 [Training]:   8%|▊         | 32/400 [00:24<04:06,  1.49it/s, Loss=8.92]"
     ]
    },
    {
     "name": "stdout",
     "output_type": "stream",
     "text": [
      "LM Loss: 4.8193, Class Loss: 1.2710\n"
     ]
    },
    {
     "name": "stderr",
     "output_type": "stream",
     "text": [
      "Epoch 1/3 [Training]:   8%|▊         | 33/400 [00:24<03:58,  1.54it/s, Loss=8.82]"
     ]
    },
    {
     "name": "stdout",
     "output_type": "stream",
     "text": [
      "LM Loss: 4.5909, Class Loss: 1.0347\n"
     ]
    },
    {
     "name": "stderr",
     "output_type": "stream",
     "text": [
      "Epoch 1/3 [Training]:   8%|▊         | 34/400 [00:25<03:53,  1.57it/s, Loss=8.77]"
     ]
    },
    {
     "name": "stdout",
     "output_type": "stream",
     "text": [
      "LM Loss: 4.6771, Class Loss: 2.5341\n"
     ]
    },
    {
     "name": "stderr",
     "output_type": "stream",
     "text": [
      "Epoch 1/3 [Training]:   9%|▉         | 35/400 [00:26<03:59,  1.52it/s, Loss=8.73]"
     ]
    },
    {
     "name": "stdout",
     "output_type": "stream",
     "text": [
      "LM Loss: 4.6873, Class Loss: 2.5870\n"
     ]
    },
    {
     "name": "stderr",
     "output_type": "stream",
     "text": [
      "Epoch 1/3 [Training]:   9%|▉         | 36/400 [00:26<04:07,  1.47it/s, Loss=8.67]"
     ]
    },
    {
     "name": "stdout",
     "output_type": "stream",
     "text": [
      "LM Loss: 4.6161, Class Loss: 1.8411\n"
     ]
    },
    {
     "name": "stderr",
     "output_type": "stream",
     "text": [
      "Epoch 1/3 [Training]:   9%|▉         | 37/400 [00:27<03:50,  1.57it/s, Loss=8.64]"
     ]
    },
    {
     "name": "stdout",
     "output_type": "stream",
     "text": [
      "LM Loss: 4.5233, Class Loss: 2.9450\n"
     ]
    },
    {
     "name": "stderr",
     "output_type": "stream",
     "text": [
      "Epoch 1/3 [Training]:  10%|▉         | 38/400 [00:28<03:57,  1.52it/s, Loss=8.58]"
     ]
    },
    {
     "name": "stdout",
     "output_type": "stream",
     "text": [
      "LM Loss: 4.3339, Class Loss: 2.0460\n"
     ]
    },
    {
     "name": "stderr",
     "output_type": "stream",
     "text": [
      "Epoch 1/3 [Training]:  10%|▉         | 39/400 [00:28<04:05,  1.47it/s, Loss=8.5] "
     ]
    },
    {
     "name": "stdout",
     "output_type": "stream",
     "text": [
      "LM Loss: 4.3243, Class Loss: 1.3845\n"
     ]
    },
    {
     "name": "stderr",
     "output_type": "stream",
     "text": [
      "Epoch 1/3 [Training]:  10%|█         | 40/400 [00:29<04:02,  1.48it/s, Loss=8.44]"
     ]
    },
    {
     "name": "stdout",
     "output_type": "stream",
     "text": [
      "LM Loss: 4.2724, Class Loss: 1.6916\n"
     ]
    },
    {
     "name": "stderr",
     "output_type": "stream",
     "text": [
      "Epoch 1/3 [Training]:  10%|█         | 41/400 [00:30<04:00,  1.49it/s, Loss=8.39]"
     ]
    },
    {
     "name": "stdout",
     "output_type": "stream",
     "text": [
      "LM Loss: 4.5295, Class Loss: 1.8003\n"
     ]
    },
    {
     "name": "stderr",
     "output_type": "stream",
     "text": [
      "Epoch 1/3 [Training]:  10%|█         | 42/400 [00:30<03:46,  1.58it/s, Loss=8.31]"
     ]
    },
    {
     "name": "stdout",
     "output_type": "stream",
     "text": [
      "LM Loss: 4.0352, Class Loss: 0.9964\n"
     ]
    },
    {
     "name": "stderr",
     "output_type": "stream",
     "text": [
      "Epoch 1/3 [Training]:  11%|█         | 43/400 [00:31<03:37,  1.64it/s, Loss=8.26]"
     ]
    },
    {
     "name": "stdout",
     "output_type": "stream",
     "text": [
      "LM Loss: 4.3032, Class Loss: 1.8235\n"
     ]
    },
    {
     "name": "stderr",
     "output_type": "stream",
     "text": [
      "Epoch 1/3 [Training]:  11%|█         | 44/400 [00:31<03:13,  1.84it/s, Loss=8.21]"
     ]
    },
    {
     "name": "stdout",
     "output_type": "stream",
     "text": [
      "LM Loss: 4.0005, Class Loss: 2.0541\n"
     ]
    },
    {
     "name": "stderr",
     "output_type": "stream",
     "text": [
      "Epoch 1/3 [Training]:  11%|█▏        | 45/400 [00:32<03:25,  1.73it/s, Loss=8.15]"
     ]
    },
    {
     "name": "stdout",
     "output_type": "stream",
     "text": [
      "LM Loss: 4.1035, Class Loss: 1.3990\n"
     ]
    },
    {
     "name": "stderr",
     "output_type": "stream",
     "text": [
      "Epoch 1/3 [Training]:  12%|█▏        | 46/400 [00:33<04:10,  1.41it/s, Loss=8.11]"
     ]
    },
    {
     "name": "stdout",
     "output_type": "stream",
     "text": [
      "LM Loss: 4.2258, Class Loss: 2.3797\n"
     ]
    },
    {
     "name": "stderr",
     "output_type": "stream",
     "text": [
      "Epoch 1/3 [Training]:  12%|█▏        | 47/400 [00:34<04:04,  1.44it/s, Loss=8.08]"
     ]
    },
    {
     "name": "stdout",
     "output_type": "stream",
     "text": [
      "LM Loss: 4.0821, Class Loss: 2.2103\n"
     ]
    },
    {
     "name": "stderr",
     "output_type": "stream",
     "text": [
      "Epoch 1/3 [Training]:  12%|█▏        | 48/400 [00:34<04:19,  1.36it/s, Loss=8]   "
     ]
    },
    {
     "name": "stdout",
     "output_type": "stream",
     "text": [
      "LM Loss: 3.8773, Class Loss: 0.5742\n"
     ]
    },
    {
     "name": "stderr",
     "output_type": "stream",
     "text": [
      "Epoch 1/3 [Training]:  12%|█▏        | 49/400 [00:35<04:29,  1.30it/s, Loss=7.94]"
     ]
    },
    {
     "name": "stdout",
     "output_type": "stream",
     "text": [
      "LM Loss: 3.7754, Class Loss: 1.5284\n"
     ]
    },
    {
     "name": "stderr",
     "output_type": "stream",
     "text": [
      "Epoch 1/3 [Training]:  12%|█▎        | 50/400 [00:36<04:03,  1.44it/s, Loss=7.89]"
     ]
    },
    {
     "name": "stdout",
     "output_type": "stream",
     "text": [
      "LM Loss: 3.9327, Class Loss: 1.2868\n"
     ]
    },
    {
     "name": "stderr",
     "output_type": "stream",
     "text": [
      "Epoch 1/3 [Training]:  13%|█▎        | 51/400 [00:36<03:45,  1.55it/s, Loss=7.85]"
     ]
    },
    {
     "name": "stdout",
     "output_type": "stream",
     "text": [
      "LM Loss: 3.7769, Class Loss: 2.1192\n"
     ]
    },
    {
     "name": "stderr",
     "output_type": "stream",
     "text": [
      "Epoch 1/3 [Training]:  13%|█▎        | 52/400 [00:37<03:50,  1.51it/s, Loss=7.8] "
     ]
    },
    {
     "name": "stdout",
     "output_type": "stream",
     "text": [
      "LM Loss: 3.6565, Class Loss: 1.2817\n"
     ]
    },
    {
     "name": "stderr",
     "output_type": "stream",
     "text": [
      "Epoch 1/3 [Training]:  13%|█▎        | 53/400 [00:38<03:57,  1.46it/s, Loss=7.78]"
     ]
    },
    {
     "name": "stdout",
     "output_type": "stream",
     "text": [
      "LM Loss: 3.7654, Class Loss: 3.2558\n"
     ]
    },
    {
     "name": "stderr",
     "output_type": "stream",
     "text": [
      "Epoch 1/3 [Training]:  14%|█▎        | 54/400 [00:38<04:02,  1.43it/s, Loss=7.72]"
     ]
    },
    {
     "name": "stdout",
     "output_type": "stream",
     "text": [
      "LM Loss: 3.5896, Class Loss: 1.1785\n"
     ]
    },
    {
     "name": "stderr",
     "output_type": "stream",
     "text": [
      "Epoch 1/3 [Training]:  14%|█▍        | 55/400 [00:39<03:51,  1.49it/s, Loss=7.68]"
     ]
    },
    {
     "name": "stdout",
     "output_type": "stream",
     "text": [
      "LM Loss: 3.7251, Class Loss: 1.6613\n"
     ]
    },
    {
     "name": "stderr",
     "output_type": "stream",
     "text": [
      "Epoch 1/3 [Training]:  14%|█▍        | 56/400 [00:40<04:15,  1.35it/s, Loss=7.65]"
     ]
    },
    {
     "name": "stdout",
     "output_type": "stream",
     "text": [
      "LM Loss: 3.6715, Class Loss: 1.9217\n"
     ]
    },
    {
     "name": "stderr",
     "output_type": "stream",
     "text": [
      "Epoch 1/3 [Training]:  14%|█▍        | 57/400 [00:41<04:13,  1.35it/s, Loss=7.58]"
     ]
    },
    {
     "name": "stdout",
     "output_type": "stream",
     "text": [
      "LM Loss: 3.2043, Class Loss: 0.6981\n"
     ]
    },
    {
     "name": "stderr",
     "output_type": "stream",
     "text": [
      "Epoch 1/3 [Training]:  14%|█▍        | 58/400 [00:41<04:12,  1.35it/s, Loss=7.52]"
     ]
    },
    {
     "name": "stdout",
     "output_type": "stream",
     "text": [
      "LM Loss: 3.3453, Class Loss: 0.8554\n"
     ]
    },
    {
     "name": "stderr",
     "output_type": "stream",
     "text": [
      "Epoch 1/3 [Training]:  15%|█▍        | 59/400 [00:42<04:17,  1.33it/s, Loss=7.49]"
     ]
    },
    {
     "name": "stdout",
     "output_type": "stream",
     "text": [
      "LM Loss: 3.3256, Class Loss: 2.0758\n"
     ]
    },
    {
     "name": "stderr",
     "output_type": "stream",
     "text": [
      "Epoch 1/3 [Training]:  15%|█▌        | 60/400 [00:43<04:14,  1.33it/s, Loss=7.46]"
     ]
    },
    {
     "name": "stdout",
     "output_type": "stream",
     "text": [
      "LM Loss: 3.5398, Class Loss: 2.4516\n"
     ]
    },
    {
     "name": "stderr",
     "output_type": "stream",
     "text": [
      "Epoch 1/3 [Training]:  15%|█▌        | 61/400 [00:44<04:05,  1.38it/s, Loss=7.41]"
     ]
    },
    {
     "name": "stdout",
     "output_type": "stream",
     "text": [
      "LM Loss: 3.2835, Class Loss: 1.2999\n"
     ]
    },
    {
     "name": "stderr",
     "output_type": "stream",
     "text": [
      "Epoch 1/3 [Training]:  16%|█▌        | 62/400 [00:44<03:53,  1.45it/s, Loss=7.36]"
     ]
    },
    {
     "name": "stdout",
     "output_type": "stream",
     "text": [
      "LM Loss: 3.0269, Class Loss: 0.8749\n"
     ]
    },
    {
     "name": "stderr",
     "output_type": "stream",
     "text": [
      "Epoch 1/3 [Training]:  16%|█▌        | 63/400 [00:45<03:52,  1.45it/s, Loss=7.31]"
     ]
    },
    {
     "name": "stdout",
     "output_type": "stream",
     "text": [
      "LM Loss: 3.2822, Class Loss: 1.1143\n"
     ]
    },
    {
     "name": "stderr",
     "output_type": "stream",
     "text": [
      "Epoch 1/3 [Training]:  16%|█▌        | 64/400 [00:45<03:33,  1.58it/s, Loss=7.28]"
     ]
    },
    {
     "name": "stdout",
     "output_type": "stream",
     "text": [
      "LM Loss: 3.0044, Class Loss: 2.1917\n"
     ]
    },
    {
     "name": "stderr",
     "output_type": "stream",
     "text": [
      "Epoch 1/3 [Training]:  16%|█▋        | 65/400 [00:46<03:48,  1.47it/s, Loss=7.23]"
     ]
    },
    {
     "name": "stdout",
     "output_type": "stream",
     "text": [
      "LM Loss: 2.9361, Class Loss: 1.2948\n"
     ]
    },
    {
     "name": "stderr",
     "output_type": "stream",
     "text": [
      "Epoch 1/3 [Training]:  16%|█▋        | 66/400 [00:47<03:32,  1.57it/s, Loss=7.18]"
     ]
    },
    {
     "name": "stdout",
     "output_type": "stream",
     "text": [
      "LM Loss: 2.9591, Class Loss: 0.8773\n"
     ]
    },
    {
     "name": "stderr",
     "output_type": "stream",
     "text": [
      "Epoch 1/3 [Training]:  17%|█▋        | 67/400 [00:47<03:38,  1.53it/s, Loss=7.15]"
     ]
    },
    {
     "name": "stdout",
     "output_type": "stream",
     "text": [
      "LM Loss: 2.8387, Class Loss: 2.1555\n"
     ]
    },
    {
     "name": "stderr",
     "output_type": "stream",
     "text": [
      "Epoch 1/3 [Training]:  17%|█▋        | 68/400 [00:48<03:45,  1.47it/s, Loss=7.11]"
     ]
    },
    {
     "name": "stdout",
     "output_type": "stream",
     "text": [
      "LM Loss: 2.7462, Class Loss: 2.0259\n"
     ]
    },
    {
     "name": "stderr",
     "output_type": "stream",
     "text": [
      "Epoch 1/3 [Training]:  17%|█▋        | 69/400 [00:49<04:01,  1.37it/s, Loss=7.07]"
     ]
    },
    {
     "name": "stdout",
     "output_type": "stream",
     "text": [
      "LM Loss: 2.7861, Class Loss: 1.4874\n"
     ]
    },
    {
     "name": "stderr",
     "output_type": "stream",
     "text": [
      "Epoch 1/3 [Training]:  18%|█▊        | 70/400 [00:50<04:11,  1.31it/s, Loss=7.04]"
     ]
    },
    {
     "name": "stdout",
     "output_type": "stream",
     "text": [
      "LM Loss: 2.7445, Class Loss: 2.4198\n"
     ]
    },
    {
     "name": "stderr",
     "output_type": "stream",
     "text": [
      "Epoch 1/3 [Training]:  18%|█▊        | 71/400 [00:50<03:50,  1.43it/s, Loss=7]   "
     ]
    },
    {
     "name": "stdout",
     "output_type": "stream",
     "text": [
      "LM Loss: 2.6994, Class Loss: 1.4829\n"
     ]
    },
    {
     "name": "stderr",
     "output_type": "stream",
     "text": [
      "Epoch 1/3 [Training]:  18%|█▊        | 72/400 [00:51<03:40,  1.49it/s, Loss=6.96]"
     ]
    },
    {
     "name": "stdout",
     "output_type": "stream",
     "text": [
      "LM Loss: 2.8028, Class Loss: 1.2495\n"
     ]
    },
    {
     "name": "stderr",
     "output_type": "stream",
     "text": [
      "Epoch 1/3 [Training]:  18%|█▊        | 73/400 [00:52<03:46,  1.45it/s, Loss=6.94]"
     ]
    },
    {
     "name": "stdout",
     "output_type": "stream",
     "text": [
      "LM Loss: 2.5792, Class Loss: 2.6819\n"
     ]
    },
    {
     "name": "stderr",
     "output_type": "stream",
     "text": [
      "Epoch 1/3 [Training]:  18%|█▊        | 74/400 [00:52<03:15,  1.67it/s, Loss=6.91]"
     ]
    },
    {
     "name": "stdout",
     "output_type": "stream",
     "text": [
      "LM Loss: 2.6440, Class Loss: 1.9223\n"
     ]
    },
    {
     "name": "stderr",
     "output_type": "stream",
     "text": [
      "Epoch 1/3 [Training]:  19%|█▉        | 75/400 [00:53<03:38,  1.49it/s, Loss=6.87]"
     ]
    },
    {
     "name": "stdout",
     "output_type": "stream",
     "text": [
      "LM Loss: 2.5498, Class Loss: 1.4724\n"
     ]
    },
    {
     "name": "stderr",
     "output_type": "stream",
     "text": [
      "Epoch 1/3 [Training]:  19%|█▉        | 76/400 [00:54<04:10,  1.29it/s, Loss=6.83]"
     ]
    },
    {
     "name": "stdout",
     "output_type": "stream",
     "text": [
      "LM Loss: 2.3297, Class Loss: 1.3346\n"
     ]
    },
    {
     "name": "stderr",
     "output_type": "stream",
     "text": [
      "Epoch 1/3 [Training]:  19%|█▉        | 77/400 [00:55<03:46,  1.43it/s, Loss=6.78]"
     ]
    },
    {
     "name": "stdout",
     "output_type": "stream",
     "text": [
      "LM Loss: 2.4199, Class Loss: 1.0100\n"
     ]
    },
    {
     "name": "stderr",
     "output_type": "stream",
     "text": [
      "Epoch 1/3 [Training]:  20%|█▉        | 78/400 [00:55<03:54,  1.38it/s, Loss=6.73]"
     ]
    },
    {
     "name": "stdout",
     "output_type": "stream",
     "text": [
      "LM Loss: 2.3595, Class Loss: 0.5811\n"
     ]
    },
    {
     "name": "stderr",
     "output_type": "stream",
     "text": [
      "Epoch 1/3 [Training]:  20%|█▉        | 79/400 [00:56<03:59,  1.34it/s, Loss=6.69]"
     ]
    },
    {
     "name": "stdout",
     "output_type": "stream",
     "text": [
      "LM Loss: 2.1552, Class Loss: 1.0074\n"
     ]
    },
    {
     "name": "stderr",
     "output_type": "stream",
     "text": [
      "Epoch 1/3 [Training]:  20%|██        | 80/400 [00:57<03:45,  1.42it/s, Loss=6.64]"
     ]
    },
    {
     "name": "stdout",
     "output_type": "stream",
     "text": [
      "LM Loss: 2.1057, Class Loss: 0.9025\n"
     ]
    },
    {
     "name": "stderr",
     "output_type": "stream",
     "text": [
      "Epoch 1/3 [Training]:  20%|██        | 81/400 [00:57<03:35,  1.48it/s, Loss=6.61]"
     ]
    },
    {
     "name": "stdout",
     "output_type": "stream",
     "text": [
      "LM Loss: 2.2341, Class Loss: 1.9774\n"
     ]
    },
    {
     "name": "stderr",
     "output_type": "stream",
     "text": [
      "Epoch 1/3 [Training]:  20%|██        | 82/400 [00:58<03:20,  1.58it/s, Loss=6.59]"
     ]
    },
    {
     "name": "stdout",
     "output_type": "stream",
     "text": [
      "LM Loss: 2.2234, Class Loss: 2.3487\n"
     ]
    },
    {
     "name": "stderr",
     "output_type": "stream",
     "text": [
      "Epoch 1/3 [Training]:  21%|██        | 83/400 [00:59<03:26,  1.54it/s, Loss=6.57]"
     ]
    },
    {
     "name": "stdout",
     "output_type": "stream",
     "text": [
      "LM Loss: 2.1129, Class Loss: 2.8111\n"
     ]
    },
    {
     "name": "stderr",
     "output_type": "stream",
     "text": [
      "Epoch 1/3 [Training]:  21%|██        | 84/400 [00:59<03:13,  1.63it/s, Loss=6.54]"
     ]
    },
    {
     "name": "stdout",
     "output_type": "stream",
     "text": [
      "LM Loss: 2.1032, Class Loss: 2.0209\n"
     ]
    },
    {
     "name": "stderr",
     "output_type": "stream",
     "text": [
      "Epoch 1/3 [Training]:  21%|██▏       | 85/400 [01:00<03:02,  1.72it/s, Loss=6.5] "
     ]
    },
    {
     "name": "stdout",
     "output_type": "stream",
     "text": [
      "LM Loss: 2.0472, Class Loss: 1.3315\n"
     ]
    },
    {
     "name": "stderr",
     "output_type": "stream",
     "text": [
      "Epoch 1/3 [Training]:  22%|██▏       | 86/400 [01:00<03:16,  1.59it/s, Loss=6.48]"
     ]
    },
    {
     "name": "stdout",
     "output_type": "stream",
     "text": [
      "LM Loss: 2.0107, Class Loss: 2.4692\n"
     ]
    },
    {
     "name": "stderr",
     "output_type": "stream",
     "text": [
      "Epoch 1/3 [Training]:  22%|██▏       | 87/400 [01:01<03:19,  1.57it/s, Loss=6.43]"
     ]
    },
    {
     "name": "stdout",
     "output_type": "stream",
     "text": [
      "LM Loss: 1.8167, Class Loss: 0.5494\n"
     ]
    },
    {
     "name": "stderr",
     "output_type": "stream",
     "text": [
      "Epoch 1/3 [Training]:  22%|██▏       | 88/400 [01:02<03:10,  1.63it/s, Loss=6.4] "
     ]
    },
    {
     "name": "stdout",
     "output_type": "stream",
     "text": [
      "LM Loss: 1.8599, Class Loss: 1.9328\n"
     ]
    },
    {
     "name": "stderr",
     "output_type": "stream",
     "text": [
      "Epoch 1/3 [Training]:  22%|██▏       | 89/400 [01:02<03:09,  1.64it/s, Loss=6.36]"
     ]
    },
    {
     "name": "stdout",
     "output_type": "stream",
     "text": [
      "LM Loss: 1.8355, Class Loss: 1.2540\n"
     ]
    },
    {
     "name": "stderr",
     "output_type": "stream",
     "text": [
      "Epoch 1/3 [Training]:  22%|██▎       | 90/400 [01:03<03:25,  1.51it/s, Loss=6.33]"
     ]
    },
    {
     "name": "stdout",
     "output_type": "stream",
     "text": [
      "LM Loss: 1.8052, Class Loss: 1.9650\n"
     ]
    },
    {
     "name": "stderr",
     "output_type": "stream",
     "text": [
      "Epoch 1/3 [Training]:  23%|██▎       | 91/400 [01:03<03:04,  1.67it/s, Loss=6.3] "
     ]
    },
    {
     "name": "stdout",
     "output_type": "stream",
     "text": [
      "LM Loss: 1.7218, Class Loss: 1.9385\n"
     ]
    },
    {
     "name": "stderr",
     "output_type": "stream",
     "text": [
      "Epoch 1/3 [Training]:  23%|██▎       | 92/400 [01:04<03:09,  1.62it/s, Loss=6.27]"
     ]
    },
    {
     "name": "stdout",
     "output_type": "stream",
     "text": [
      "LM Loss: 1.6732, Class Loss: 1.6049\n"
     ]
    },
    {
     "name": "stderr",
     "output_type": "stream",
     "text": [
      "Epoch 1/3 [Training]:  23%|██▎       | 93/400 [01:05<02:58,  1.72it/s, Loss=6.24]"
     ]
    },
    {
     "name": "stdout",
     "output_type": "stream",
     "text": [
      "LM Loss: 1.6836, Class Loss: 1.7656\n"
     ]
    },
    {
     "name": "stderr",
     "output_type": "stream",
     "text": [
      "Epoch 1/3 [Training]:  24%|██▎       | 94/400 [01:05<03:12,  1.59it/s, Loss=6.2] "
     ]
    },
    {
     "name": "stdout",
     "output_type": "stream",
     "text": [
      "LM Loss: 1.5059, Class Loss: 1.2207\n"
     ]
    },
    {
     "name": "stderr",
     "output_type": "stream",
     "text": [
      "Epoch 1/3 [Training]:  24%|██▍       | 95/400 [01:06<03:04,  1.65it/s, Loss=6.17]"
     ]
    },
    {
     "name": "stdout",
     "output_type": "stream",
     "text": [
      "LM Loss: 1.5464, Class Loss: 1.5567\n"
     ]
    },
    {
     "name": "stderr",
     "output_type": "stream",
     "text": [
      "Epoch 1/3 [Training]:  24%|██▍       | 96/400 [01:07<03:21,  1.51it/s, Loss=6.14]"
     ]
    },
    {
     "name": "stdout",
     "output_type": "stream",
     "text": [
      "LM Loss: 1.4310, Class Loss: 1.8022\n"
     ]
    },
    {
     "name": "stderr",
     "output_type": "stream",
     "text": [
      "Epoch 1/3 [Training]:  24%|██▍       | 97/400 [01:07<03:20,  1.51it/s, Loss=6.1] "
     ]
    },
    {
     "name": "stdout",
     "output_type": "stream",
     "text": [
      "LM Loss: 1.5036, Class Loss: 0.8707\n"
     ]
    },
    {
     "name": "stderr",
     "output_type": "stream",
     "text": [
      "Epoch 1/3 [Training]:  24%|██▍       | 98/400 [01:08<03:14,  1.55it/s, Loss=6.06]"
     ]
    },
    {
     "name": "stdout",
     "output_type": "stream",
     "text": [
      "LM Loss: 1.2477, Class Loss: 1.2375\n"
     ]
    },
    {
     "name": "stderr",
     "output_type": "stream",
     "text": [
      "Epoch 1/3 [Training]:  25%|██▍       | 99/400 [01:09<03:42,  1.35it/s, Loss=6.03]"
     ]
    },
    {
     "name": "stdout",
     "output_type": "stream",
     "text": [
      "LM Loss: 1.4247, Class Loss: 1.3217\n"
     ]
    },
    {
     "name": "stderr",
     "output_type": "stream",
     "text": [
      "Epoch 1/3 [Training]:  25%|██▌       | 100/400 [01:09<03:30,  1.43it/s, Loss=5.99]"
     ]
    },
    {
     "name": "stdout",
     "output_type": "stream",
     "text": [
      "LM Loss: 1.2785, Class Loss: 1.0276\n"
     ]
    },
    {
     "name": "stderr",
     "output_type": "stream",
     "text": [
      "Epoch 1/3 [Training]:  25%|██▌       | 101/400 [01:10<03:16,  1.52it/s, Loss=5.96]"
     ]
    },
    {
     "name": "stdout",
     "output_type": "stream",
     "text": [
      "LM Loss: 1.2273, Class Loss: 1.3049\n"
     ]
    },
    {
     "name": "stderr",
     "output_type": "stream",
     "text": [
      "Epoch 1/3 [Training]:  26%|██▌       | 102/400 [01:11<03:11,  1.56it/s, Loss=5.94]"
     ]
    },
    {
     "name": "stdout",
     "output_type": "stream",
     "text": [
      "LM Loss: 1.3065, Class Loss: 2.3723\n"
     ]
    },
    {
     "name": "stderr",
     "output_type": "stream",
     "text": [
      "Epoch 1/3 [Training]:  26%|██▌       | 103/400 [01:11<03:12,  1.55it/s, Loss=5.9] "
     ]
    },
    {
     "name": "stdout",
     "output_type": "stream",
     "text": [
      "LM Loss: 1.1189, Class Loss: 1.3120\n"
     ]
    },
    {
     "name": "stderr",
     "output_type": "stream",
     "text": [
      "Epoch 1/3 [Training]:  26%|██▌       | 104/400 [01:12<02:58,  1.66it/s, Loss=5.87]"
     ]
    },
    {
     "name": "stdout",
     "output_type": "stream",
     "text": [
      "LM Loss: 1.1264, Class Loss: 1.4344\n"
     ]
    },
    {
     "name": "stderr",
     "output_type": "stream",
     "text": [
      "Epoch 1/3 [Training]:  26%|██▋       | 105/400 [01:12<02:53,  1.70it/s, Loss=5.85]"
     ]
    },
    {
     "name": "stdout",
     "output_type": "stream",
     "text": [
      "LM Loss: 1.3068, Class Loss: 2.0877\n"
     ]
    },
    {
     "name": "stderr",
     "output_type": "stream",
     "text": [
      "Epoch 1/3 [Training]:  26%|██▋       | 106/400 [01:13<03:05,  1.58it/s, Loss=5.81]"
     ]
    },
    {
     "name": "stdout",
     "output_type": "stream",
     "text": [
      "LM Loss: 1.0950, Class Loss: 1.2400\n"
     ]
    },
    {
     "name": "stderr",
     "output_type": "stream",
     "text": [
      "Epoch 1/3 [Training]:  27%|██▋       | 107/400 [01:14<02:58,  1.64it/s, Loss=5.77]"
     ]
    },
    {
     "name": "stdout",
     "output_type": "stream",
     "text": [
      "LM Loss: 1.0197, Class Loss: 0.5033\n"
     ]
    },
    {
     "name": "stderr",
     "output_type": "stream",
     "text": [
      "Epoch 1/3 [Training]:  27%|██▋       | 108/400 [01:14<02:57,  1.64it/s, Loss=5.74]"
     ]
    },
    {
     "name": "stdout",
     "output_type": "stream",
     "text": [
      "LM Loss: 1.0455, Class Loss: 0.7094\n"
     ]
    },
    {
     "name": "stderr",
     "output_type": "stream",
     "text": [
      "Epoch 1/3 [Training]:  27%|██▋       | 109/400 [01:15<03:22,  1.44it/s, Loss=5.71]"
     ]
    },
    {
     "name": "stdout",
     "output_type": "stream",
     "text": [
      "LM Loss: 1.1884, Class Loss: 2.1489\n"
     ]
    },
    {
     "name": "stderr",
     "output_type": "stream",
     "text": [
      "Epoch 1/3 [Training]:  28%|██▊       | 110/400 [01:16<03:14,  1.49it/s, Loss=5.68]"
     ]
    },
    {
     "name": "stdout",
     "output_type": "stream",
     "text": [
      "LM Loss: 0.9178, Class Loss: 1.4743\n"
     ]
    },
    {
     "name": "stderr",
     "output_type": "stream",
     "text": [
      "Epoch 1/3 [Training]:  28%|██▊       | 111/400 [01:16<03:16,  1.47it/s, Loss=5.65]"
     ]
    },
    {
     "name": "stdout",
     "output_type": "stream",
     "text": [
      "LM Loss: 0.9594, Class Loss: 0.9020\n"
     ]
    },
    {
     "name": "stderr",
     "output_type": "stream",
     "text": [
      "Epoch 1/3 [Training]:  28%|██▊       | 112/400 [01:17<03:20,  1.44it/s, Loss=5.62]"
     ]
    },
    {
     "name": "stdout",
     "output_type": "stream",
     "text": [
      "LM Loss: 0.9073, Class Loss: 0.8499\n"
     ]
    },
    {
     "name": "stderr",
     "output_type": "stream",
     "text": [
      "Epoch 1/3 [Training]:  28%|██▊       | 113/400 [01:18<03:05,  1.55it/s, Loss=5.58]"
     ]
    },
    {
     "name": "stdout",
     "output_type": "stream",
     "text": [
      "LM Loss: 0.8400, Class Loss: 0.9169\n"
     ]
    },
    {
     "name": "stderr",
     "output_type": "stream",
     "text": [
      "Epoch 1/3 [Training]:  28%|██▊       | 114/400 [01:18<03:05,  1.54it/s, Loss=5.55]"
     ]
    },
    {
     "name": "stdout",
     "output_type": "stream",
     "text": [
      "LM Loss: 0.8770, Class Loss: 1.0512\n"
     ]
    },
    {
     "name": "stderr",
     "output_type": "stream",
     "text": [
      "Epoch 1/3 [Training]:  29%|██▉       | 115/400 [01:19<03:12,  1.48it/s, Loss=5.52]"
     ]
    },
    {
     "name": "stdout",
     "output_type": "stream",
     "text": [
      "LM Loss: 0.9128, Class Loss: 1.3239\n"
     ]
    },
    {
     "name": "stderr",
     "output_type": "stream",
     "text": [
      "Epoch 1/3 [Training]:  29%|██▉       | 116/400 [01:20<03:10,  1.49it/s, Loss=5.5] "
     ]
    },
    {
     "name": "stdout",
     "output_type": "stream",
     "text": [
      "LM Loss: 1.0110, Class Loss: 1.7826\n"
     ]
    },
    {
     "name": "stderr",
     "output_type": "stream",
     "text": [
      "Epoch 1/3 [Training]:  29%|██▉       | 117/400 [01:20<03:12,  1.47it/s, Loss=5.47]"
     ]
    },
    {
     "name": "stdout",
     "output_type": "stream",
     "text": [
      "LM Loss: 0.6890, Class Loss: 1.3973\n"
     ]
    },
    {
     "name": "stderr",
     "output_type": "stream",
     "text": [
      "Epoch 1/3 [Training]:  30%|██▉       | 118/400 [01:21<03:05,  1.52it/s, Loss=5.44]"
     ]
    },
    {
     "name": "stdout",
     "output_type": "stream",
     "text": [
      "LM Loss: 0.7185, Class Loss: 1.4195\n"
     ]
    },
    {
     "name": "stderr",
     "output_type": "stream",
     "text": [
      "Epoch 1/3 [Training]:  30%|██▉       | 119/400 [01:22<03:08,  1.49it/s, Loss=5.41]"
     ]
    },
    {
     "name": "stdout",
     "output_type": "stream",
     "text": [
      "LM Loss: 0.9284, Class Loss: 1.3154\n"
     ]
    },
    {
     "name": "stderr",
     "output_type": "stream",
     "text": [
      "Epoch 1/3 [Training]:  30%|███       | 120/400 [01:22<02:58,  1.57it/s, Loss=5.38]"
     ]
    },
    {
     "name": "stdout",
     "output_type": "stream",
     "text": [
      "LM Loss: 0.8415, Class Loss: 1.1203\n"
     ]
    },
    {
     "name": "stderr",
     "output_type": "stream",
     "text": [
      "Epoch 1/3 [Training]:  30%|███       | 121/400 [01:23<02:48,  1.66it/s, Loss=5.37]"
     ]
    },
    {
     "name": "stdout",
     "output_type": "stream",
     "text": [
      "LM Loss: 0.7524, Class Loss: 2.4707\n"
     ]
    },
    {
     "name": "stderr",
     "output_type": "stream",
     "text": [
      "Epoch 1/3 [Training]:  30%|███       | 122/400 [01:24<02:56,  1.58it/s, Loss=5.33]"
     ]
    },
    {
     "name": "stdout",
     "output_type": "stream",
     "text": [
      "LM Loss: 0.6345, Class Loss: 0.9269\n"
     ]
    },
    {
     "name": "stderr",
     "output_type": "stream",
     "text": [
      "Epoch 1/3 [Training]:  31%|███       | 123/400 [01:24<02:53,  1.60it/s, Loss=5.31]"
     ]
    },
    {
     "name": "stdout",
     "output_type": "stream",
     "text": [
      "LM Loss: 0.7099, Class Loss: 1.8071\n"
     ]
    },
    {
     "name": "stderr",
     "output_type": "stream",
     "text": [
      "Epoch 1/3 [Training]:  31%|███       | 124/400 [01:25<02:55,  1.57it/s, Loss=5.29]"
     ]
    },
    {
     "name": "stdout",
     "output_type": "stream",
     "text": [
      "LM Loss: 0.7471, Class Loss: 1.6114\n"
     ]
    },
    {
     "name": "stderr",
     "output_type": "stream",
     "text": [
      "Epoch 1/3 [Training]:  31%|███▏      | 125/400 [01:25<02:56,  1.56it/s, Loss=5.26]"
     ]
    },
    {
     "name": "stdout",
     "output_type": "stream",
     "text": [
      "LM Loss: 0.5902, Class Loss: 1.7240\n"
     ]
    },
    {
     "name": "stderr",
     "output_type": "stream",
     "text": [
      "Epoch 1/3 [Training]:  32%|███▏      | 126/400 [01:26<02:46,  1.64it/s, Loss=5.24]"
     ]
    },
    {
     "name": "stdout",
     "output_type": "stream",
     "text": [
      "LM Loss: 0.6682, Class Loss: 1.6347\n"
     ]
    },
    {
     "name": "stderr",
     "output_type": "stream",
     "text": [
      "Epoch 1/3 [Training]:  32%|███▏      | 127/400 [01:27<02:56,  1.54it/s, Loss=5.21]"
     ]
    },
    {
     "name": "stdout",
     "output_type": "stream",
     "text": [
      "LM Loss: 0.5971, Class Loss: 1.0511\n"
     ]
    },
    {
     "name": "stderr",
     "output_type": "stream",
     "text": [
      "Epoch 1/3 [Training]:  32%|███▏      | 128/400 [01:27<03:00,  1.50it/s, Loss=5.18]"
     ]
    },
    {
     "name": "stdout",
     "output_type": "stream",
     "text": [
      "LM Loss: 0.5593, Class Loss: 0.7331\n"
     ]
    },
    {
     "name": "stderr",
     "output_type": "stream",
     "text": [
      "Epoch 1/3 [Training]:  32%|███▏      | 129/400 [01:28<02:46,  1.62it/s, Loss=5.16]"
     ]
    },
    {
     "name": "stdout",
     "output_type": "stream",
     "text": [
      "LM Loss: 0.4586, Class Loss: 1.8551\n"
     ]
    },
    {
     "name": "stderr",
     "output_type": "stream",
     "text": [
      "Epoch 1/3 [Training]:  32%|███▎      | 130/400 [01:29<03:00,  1.49it/s, Loss=5.13]"
     ]
    },
    {
     "name": "stdout",
     "output_type": "stream",
     "text": [
      "LM Loss: 0.4896, Class Loss: 0.6869\n"
     ]
    },
    {
     "name": "stderr",
     "output_type": "stream",
     "text": [
      "Epoch 1/3 [Training]:  33%|███▎      | 131/400 [01:30<03:09,  1.42it/s, Loss=5.1] "
     ]
    },
    {
     "name": "stdout",
     "output_type": "stream",
     "text": [
      "LM Loss: 0.6333, Class Loss: 0.4077\n"
     ]
    },
    {
     "name": "stderr",
     "output_type": "stream",
     "text": [
      "Epoch 1/3 [Training]:  33%|███▎      | 132/400 [01:30<02:57,  1.51it/s, Loss=5.08]"
     ]
    },
    {
     "name": "stdout",
     "output_type": "stream",
     "text": [
      "LM Loss: 0.5506, Class Loss: 2.3423\n"
     ]
    },
    {
     "name": "stderr",
     "output_type": "stream",
     "text": [
      "Epoch 1/3 [Training]:  33%|███▎      | 133/400 [01:31<02:47,  1.59it/s, Loss=5.06]"
     ]
    },
    {
     "name": "stdout",
     "output_type": "stream",
     "text": [
      "LM Loss: 0.5945, Class Loss: 1.1498\n"
     ]
    },
    {
     "name": "stderr",
     "output_type": "stream",
     "text": [
      "Epoch 1/3 [Training]:  34%|███▎      | 134/400 [01:31<02:55,  1.51it/s, Loss=5.03]"
     ]
    },
    {
     "name": "stdout",
     "output_type": "stream",
     "text": [
      "LM Loss: 0.3558, Class Loss: 0.6232\n"
     ]
    },
    {
     "name": "stderr",
     "output_type": "stream",
     "text": [
      "Epoch 1/3 [Training]:  34%|███▍      | 135/400 [01:32<02:44,  1.61it/s, Loss=5]   "
     ]
    },
    {
     "name": "stdout",
     "output_type": "stream",
     "text": [
      "LM Loss: 0.5143, Class Loss: 1.6242\n"
     ]
    },
    {
     "name": "stderr",
     "output_type": "stream",
     "text": [
      "Epoch 1/3 [Training]:  34%|███▍      | 136/400 [01:33<02:47,  1.58it/s, Loss=4.98]"
     ]
    },
    {
     "name": "stdout",
     "output_type": "stream",
     "text": [
      "LM Loss: 0.5001, Class Loss: 1.1768\n"
     ]
    },
    {
     "name": "stderr",
     "output_type": "stream",
     "text": [
      "Epoch 1/3 [Training]:  34%|███▍      | 137/400 [01:33<02:54,  1.51it/s, Loss=4.95]"
     ]
    },
    {
     "name": "stdout",
     "output_type": "stream",
     "text": [
      "LM Loss: 0.2271, Class Loss: 0.8922\n"
     ]
    },
    {
     "name": "stderr",
     "output_type": "stream",
     "text": [
      "Epoch 1/3 [Training]:  34%|███▍      | 138/400 [01:34<02:56,  1.48it/s, Loss=4.92]"
     ]
    },
    {
     "name": "stdout",
     "output_type": "stream",
     "text": [
      "LM Loss: 0.2204, Class Loss: 0.3636\n"
     ]
    },
    {
     "name": "stderr",
     "output_type": "stream",
     "text": [
      "Epoch 1/3 [Training]:  35%|███▍      | 139/400 [01:35<03:18,  1.31it/s, Loss=4.89]"
     ]
    },
    {
     "name": "stdout",
     "output_type": "stream",
     "text": [
      "LM Loss: 0.5417, Class Loss: 0.9054\n"
     ]
    },
    {
     "name": "stderr",
     "output_type": "stream",
     "text": [
      "Epoch 1/3 [Training]:  35%|███▌      | 140/400 [01:36<03:16,  1.32it/s, Loss=4.86]"
     ]
    },
    {
     "name": "stdout",
     "output_type": "stream",
     "text": [
      "LM Loss: 0.2500, Class Loss: 0.4329\n"
     ]
    },
    {
     "name": "stderr",
     "output_type": "stream",
     "text": [
      "Epoch 1/3 [Training]:  35%|███▌      | 141/400 [01:36<02:57,  1.46it/s, Loss=4.84]"
     ]
    },
    {
     "name": "stdout",
     "output_type": "stream",
     "text": [
      "LM Loss: 0.2292, Class Loss: 0.9344\n"
     ]
    },
    {
     "name": "stderr",
     "output_type": "stream",
     "text": [
      "Epoch 1/3 [Training]:  36%|███▌      | 142/400 [01:37<03:05,  1.39it/s, Loss=4.81]"
     ]
    },
    {
     "name": "stdout",
     "output_type": "stream",
     "text": [
      "LM Loss: 0.3456, Class Loss: 1.0103\n"
     ]
    },
    {
     "name": "stderr",
     "output_type": "stream",
     "text": [
      "Epoch 1/3 [Training]:  36%|███▌      | 143/400 [01:38<03:03,  1.40it/s, Loss=4.79]"
     ]
    },
    {
     "name": "stdout",
     "output_type": "stream",
     "text": [
      "LM Loss: 0.4167, Class Loss: 0.4780\n"
     ]
    },
    {
     "name": "stderr",
     "output_type": "stream",
     "text": [
      "Epoch 1/3 [Training]:  36%|███▌      | 144/400 [01:38<02:54,  1.47it/s, Loss=4.77]"
     ]
    },
    {
     "name": "stdout",
     "output_type": "stream",
     "text": [
      "LM Loss: 0.2742, Class Loss: 1.4721\n"
     ]
    },
    {
     "name": "stderr",
     "output_type": "stream",
     "text": [
      "Epoch 1/3 [Training]:  36%|███▋      | 145/400 [01:39<03:06,  1.37it/s, Loss=4.75]"
     ]
    },
    {
     "name": "stdout",
     "output_type": "stream",
     "text": [
      "LM Loss: 0.2140, Class Loss: 2.5279\n"
     ]
    },
    {
     "name": "stderr",
     "output_type": "stream",
     "text": [
      "Epoch 1/3 [Training]:  36%|███▋      | 146/400 [01:40<02:48,  1.51it/s, Loss=4.73]"
     ]
    },
    {
     "name": "stdout",
     "output_type": "stream",
     "text": [
      "LM Loss: 0.4767, Class Loss: 1.2729\n"
     ]
    },
    {
     "name": "stderr",
     "output_type": "stream",
     "text": [
      "Epoch 1/3 [Training]:  37%|███▋      | 147/400 [01:40<02:47,  1.51it/s, Loss=4.72]"
     ]
    },
    {
     "name": "stdout",
     "output_type": "stream",
     "text": [
      "LM Loss: 0.3180, Class Loss: 2.4289\n"
     ]
    },
    {
     "name": "stderr",
     "output_type": "stream",
     "text": [
      "Epoch 1/3 [Training]:  37%|███▋      | 148/400 [01:41<02:47,  1.51it/s, Loss=4.7] "
     ]
    },
    {
     "name": "stdout",
     "output_type": "stream",
     "text": [
      "LM Loss: 0.2705, Class Loss: 1.2480\n"
     ]
    },
    {
     "name": "stderr",
     "output_type": "stream",
     "text": [
      "Epoch 1/3 [Training]:  37%|███▋      | 149/400 [01:42<02:36,  1.61it/s, Loss=4.67]"
     ]
    },
    {
     "name": "stdout",
     "output_type": "stream",
     "text": [
      "LM Loss: 0.4071, Class Loss: 0.3299\n"
     ]
    },
    {
     "name": "stderr",
     "output_type": "stream",
     "text": [
      "Epoch 1/3 [Training]:  38%|███▊      | 150/400 [01:42<02:38,  1.58it/s, Loss=4.64]"
     ]
    },
    {
     "name": "stdout",
     "output_type": "stream",
     "text": [
      "LM Loss: 0.2199, Class Loss: 0.5513\n"
     ]
    },
    {
     "name": "stderr",
     "output_type": "stream",
     "text": [
      "Epoch 1/3 [Training]:  38%|███▊      | 151/400 [01:43<02:49,  1.47it/s, Loss=4.63]"
     ]
    },
    {
     "name": "stdout",
     "output_type": "stream",
     "text": [
      "LM Loss: 0.3161, Class Loss: 2.3469\n"
     ]
    },
    {
     "name": "stderr",
     "output_type": "stream",
     "text": [
      "Epoch 1/3 [Training]:  38%|███▊      | 152/400 [01:44<02:39,  1.55it/s, Loss=4.61]"
     ]
    },
    {
     "name": "stdout",
     "output_type": "stream",
     "text": [
      "LM Loss: 0.1934, Class Loss: 1.4903\n"
     ]
    },
    {
     "name": "stderr",
     "output_type": "stream",
     "text": [
      "Epoch 1/3 [Training]:  38%|███▊      | 153/400 [01:44<02:28,  1.66it/s, Loss=4.6] "
     ]
    },
    {
     "name": "stdout",
     "output_type": "stream",
     "text": [
      "LM Loss: 0.6159, Class Loss: 2.2678\n"
     ]
    },
    {
     "name": "stderr",
     "output_type": "stream",
     "text": [
      "Epoch 1/3 [Training]:  38%|███▊      | 154/400 [01:45<02:24,  1.70it/s, Loss=4.59]"
     ]
    },
    {
     "name": "stdout",
     "output_type": "stream",
     "text": [
      "LM Loss: 0.4649, Class Loss: 2.4134\n"
     ]
    },
    {
     "name": "stderr",
     "output_type": "stream",
     "text": [
      "Epoch 1/3 [Training]:  39%|███▉      | 155/400 [01:45<02:17,  1.78it/s, Loss=4.57]"
     ]
    },
    {
     "name": "stdout",
     "output_type": "stream",
     "text": [
      "LM Loss: 0.3380, Class Loss: 0.9747\n"
     ]
    },
    {
     "name": "stderr",
     "output_type": "stream",
     "text": [
      "Epoch 1/3 [Training]:  39%|███▉      | 156/400 [01:46<02:27,  1.66it/s, Loss=4.54]"
     ]
    },
    {
     "name": "stdout",
     "output_type": "stream",
     "text": [
      "LM Loss: 0.1815, Class Loss: 0.2851\n"
     ]
    },
    {
     "name": "stderr",
     "output_type": "stream",
     "text": [
      "Epoch 1/3 [Training]:  39%|███▉      | 157/400 [01:47<02:36,  1.56it/s, Loss=4.52]"
     ]
    },
    {
     "name": "stdout",
     "output_type": "stream",
     "text": [
      "LM Loss: 0.3117, Class Loss: 1.1932\n"
     ]
    },
    {
     "name": "stderr",
     "output_type": "stream",
     "text": [
      "Epoch 1/3 [Training]:  40%|███▉      | 158/400 [01:47<02:42,  1.49it/s, Loss=4.51]"
     ]
    },
    {
     "name": "stdout",
     "output_type": "stream",
     "text": [
      "LM Loss: 0.2965, Class Loss: 2.9631\n"
     ]
    },
    {
     "name": "stderr",
     "output_type": "stream",
     "text": [
      "Epoch 1/3 [Training]:  40%|███▉      | 159/400 [01:48<02:46,  1.45it/s, Loss=4.49]"
     ]
    },
    {
     "name": "stdout",
     "output_type": "stream",
     "text": [
      "LM Loss: 0.3961, Class Loss: 0.8433\n"
     ]
    },
    {
     "name": "stderr",
     "output_type": "stream",
     "text": [
      "Epoch 1/3 [Training]:  40%|████      | 160/400 [01:49<03:08,  1.27it/s, Loss=4.47]"
     ]
    },
    {
     "name": "stdout",
     "output_type": "stream",
     "text": [
      "LM Loss: 0.2032, Class Loss: 0.7450\n"
     ]
    },
    {
     "name": "stderr",
     "output_type": "stream",
     "text": [
      "Epoch 1/3 [Training]:  40%|████      | 161/400 [01:50<02:58,  1.34it/s, Loss=4.46]"
     ]
    },
    {
     "name": "stdout",
     "output_type": "stream",
     "text": [
      "LM Loss: 0.4623, Class Loss: 2.2586\n"
     ]
    },
    {
     "name": "stderr",
     "output_type": "stream",
     "text": [
      "Epoch 1/3 [Training]:  40%|████      | 162/400 [01:50<03:01,  1.31it/s, Loss=4.44]"
     ]
    },
    {
     "name": "stdout",
     "output_type": "stream",
     "text": [
      "LM Loss: 0.3592, Class Loss: 1.1229\n"
     ]
    },
    {
     "name": "stderr",
     "output_type": "stream",
     "text": [
      "Epoch 1/3 [Training]:  41%|████      | 163/400 [01:51<02:41,  1.47it/s, Loss=4.43]"
     ]
    },
    {
     "name": "stdout",
     "output_type": "stream",
     "text": [
      "LM Loss: 0.3020, Class Loss: 1.7357\n"
     ]
    },
    {
     "name": "stderr",
     "output_type": "stream",
     "text": [
      "Epoch 1/3 [Training]:  41%|████      | 164/400 [01:52<02:39,  1.48it/s, Loss=4.41]"
     ]
    },
    {
     "name": "stdout",
     "output_type": "stream",
     "text": [
      "LM Loss: 0.1485, Class Loss: 1.1360\n"
     ]
    },
    {
     "name": "stderr",
     "output_type": "stream",
     "text": [
      "Epoch 1/3 [Training]:  41%|████▏     | 165/400 [01:52<02:34,  1.52it/s, Loss=4.39]"
     ]
    },
    {
     "name": "stdout",
     "output_type": "stream",
     "text": [
      "LM Loss: 0.3010, Class Loss: 1.0690\n"
     ]
    },
    {
     "name": "stderr",
     "output_type": "stream",
     "text": [
      "Epoch 1/3 [Training]:  42%|████▏     | 166/400 [01:53<02:46,  1.41it/s, Loss=4.38]"
     ]
    },
    {
     "name": "stdout",
     "output_type": "stream",
     "text": [
      "LM Loss: 0.3070, Class Loss: 1.9794\n"
     ]
    },
    {
     "name": "stderr",
     "output_type": "stream",
     "text": [
      "Epoch 1/3 [Training]:  42%|████▏     | 167/400 [01:54<02:42,  1.44it/s, Loss=4.36]"
     ]
    },
    {
     "name": "stdout",
     "output_type": "stream",
     "text": [
      "LM Loss: 0.4645, Class Loss: 0.7169\n"
     ]
    },
    {
     "name": "stderr",
     "output_type": "stream",
     "text": [
      "Epoch 1/3 [Training]:  42%|████▏     | 168/400 [01:54<02:42,  1.43it/s, Loss=4.34]"
     ]
    },
    {
     "name": "stdout",
     "output_type": "stream",
     "text": [
      "LM Loss: 0.3843, Class Loss: 0.9995\n"
     ]
    },
    {
     "name": "stderr",
     "output_type": "stream",
     "text": [
      "Epoch 1/3 [Training]:  42%|████▏     | 169/400 [01:55<02:29,  1.54it/s, Loss=4.32]"
     ]
    },
    {
     "name": "stdout",
     "output_type": "stream",
     "text": [
      "LM Loss: 0.1805, Class Loss: 0.9812\n"
     ]
    },
    {
     "name": "stderr",
     "output_type": "stream",
     "text": [
      "Epoch 1/3 [Training]:  42%|████▎     | 170/400 [01:56<02:47,  1.38it/s, Loss=4.3] "
     ]
    },
    {
     "name": "stdout",
     "output_type": "stream",
     "text": [
      "LM Loss: 0.2602, Class Loss: 0.4843\n"
     ]
    },
    {
     "name": "stderr",
     "output_type": "stream",
     "text": [
      "Epoch 1/3 [Training]:  43%|████▎     | 171/400 [01:57<02:38,  1.45it/s, Loss=4.28]"
     ]
    },
    {
     "name": "stdout",
     "output_type": "stream",
     "text": [
      "LM Loss: 0.1829, Class Loss: 1.0395\n"
     ]
    },
    {
     "name": "stderr",
     "output_type": "stream",
     "text": [
      "Epoch 1/3 [Training]:  43%|████▎     | 172/400 [01:57<02:26,  1.56it/s, Loss=4.26]"
     ]
    },
    {
     "name": "stdout",
     "output_type": "stream",
     "text": [
      "LM Loss: 0.2411, Class Loss: 1.0104\n"
     ]
    },
    {
     "name": "stderr",
     "output_type": "stream",
     "text": [
      "Epoch 1/3 [Training]:  43%|████▎     | 173/400 [01:58<02:16,  1.67it/s, Loss=4.25]"
     ]
    },
    {
     "name": "stdout",
     "output_type": "stream",
     "text": [
      "LM Loss: 0.2605, Class Loss: 1.2659\n"
     ]
    },
    {
     "name": "stderr",
     "output_type": "stream",
     "text": [
      "Epoch 1/3 [Training]:  44%|████▎     | 174/400 [01:58<02:10,  1.73it/s, Loss=4.23]"
     ]
    },
    {
     "name": "stdout",
     "output_type": "stream",
     "text": [
      "LM Loss: 0.1845, Class Loss: 0.7624\n"
     ]
    },
    {
     "name": "stderr",
     "output_type": "stream",
     "text": [
      "Epoch 1/3 [Training]:  44%|████▍     | 175/400 [01:59<02:21,  1.60it/s, Loss=4.21]"
     ]
    },
    {
     "name": "stdout",
     "output_type": "stream",
     "text": [
      "LM Loss: 0.1537, Class Loss: 0.7035\n"
     ]
    },
    {
     "name": "stderr",
     "output_type": "stream",
     "text": [
      "Epoch 1/3 [Training]:  44%|████▍     | 176/400 [02:00<02:46,  1.35it/s, Loss=4.19]"
     ]
    },
    {
     "name": "stdout",
     "output_type": "stream",
     "text": [
      "LM Loss: 0.2737, Class Loss: 0.5373\n"
     ]
    },
    {
     "name": "stderr",
     "output_type": "stream",
     "text": [
      "Epoch 1/3 [Training]:  44%|████▍     | 177/400 [02:00<02:39,  1.39it/s, Loss=4.17]"
     ]
    },
    {
     "name": "stdout",
     "output_type": "stream",
     "text": [
      "LM Loss: 0.2144, Class Loss: 0.7906\n"
     ]
    },
    {
     "name": "stderr",
     "output_type": "stream",
     "text": [
      "Epoch 1/3 [Training]:  44%|████▍     | 178/400 [02:01<02:28,  1.49it/s, Loss=4.15]"
     ]
    },
    {
     "name": "stdout",
     "output_type": "stream",
     "text": [
      "LM Loss: 0.1033, Class Loss: 0.4566\n"
     ]
    },
    {
     "name": "stderr",
     "output_type": "stream",
     "text": [
      "Epoch 1/3 [Training]:  45%|████▍     | 179/400 [02:02<02:35,  1.42it/s, Loss=4.13]"
     ]
    },
    {
     "name": "stdout",
     "output_type": "stream",
     "text": [
      "LM Loss: 0.3692, Class Loss: 0.6392\n"
     ]
    },
    {
     "name": "stderr",
     "output_type": "stream",
     "text": [
      "Epoch 1/3 [Training]:  45%|████▌     | 180/400 [02:02<02:28,  1.48it/s, Loss=4.12]"
     ]
    },
    {
     "name": "stdout",
     "output_type": "stream",
     "text": [
      "LM Loss: 0.2704, Class Loss: 1.1541\n"
     ]
    },
    {
     "name": "stderr",
     "output_type": "stream",
     "text": [
      "Epoch 1/3 [Training]:  45%|████▌     | 181/400 [02:03<02:26,  1.49it/s, Loss=4.1] "
     ]
    },
    {
     "name": "stdout",
     "output_type": "stream",
     "text": [
      "LM Loss: 0.2404, Class Loss: 0.3770\n"
     ]
    },
    {
     "name": "stderr",
     "output_type": "stream",
     "text": [
      "Epoch 1/3 [Training]:  46%|████▌     | 182/400 [02:04<02:15,  1.61it/s, Loss=4.09]"
     ]
    },
    {
     "name": "stdout",
     "output_type": "stream",
     "text": [
      "LM Loss: 0.3352, Class Loss: 1.3247\n"
     ]
    },
    {
     "name": "stderr",
     "output_type": "stream",
     "text": [
      "Epoch 1/3 [Training]:  46%|████▌     | 183/400 [02:04<02:20,  1.55it/s, Loss=4.07]"
     ]
    },
    {
     "name": "stdout",
     "output_type": "stream",
     "text": [
      "LM Loss: 0.0854, Class Loss: 0.0737\n"
     ]
    },
    {
     "name": "stderr",
     "output_type": "stream",
     "text": [
      "Epoch 1/3 [Training]:  46%|████▌     | 184/400 [02:05<02:22,  1.51it/s, Loss=4.05]"
     ]
    },
    {
     "name": "stdout",
     "output_type": "stream",
     "text": [
      "LM Loss: 0.4767, Class Loss: 0.1937\n"
     ]
    },
    {
     "name": "stderr",
     "output_type": "stream",
     "text": [
      "Epoch 1/3 [Training]:  46%|████▋     | 185/400 [02:05<02:11,  1.63it/s, Loss=4.03]"
     ]
    },
    {
     "name": "stdout",
     "output_type": "stream",
     "text": [
      "LM Loss: 0.2772, Class Loss: 1.4308\n"
     ]
    },
    {
     "name": "stderr",
     "output_type": "stream",
     "text": [
      "Epoch 1/3 [Training]:  46%|████▋     | 186/400 [02:06<02:16,  1.57it/s, Loss=4.02]"
     ]
    },
    {
     "name": "stdout",
     "output_type": "stream",
     "text": [
      "LM Loss: 0.1492, Class Loss: 0.6776\n"
     ]
    },
    {
     "name": "stderr",
     "output_type": "stream",
     "text": [
      "Epoch 1/3 [Training]:  47%|████▋     | 187/400 [02:07<02:17,  1.55it/s, Loss=4]   "
     ]
    },
    {
     "name": "stdout",
     "output_type": "stream",
     "text": [
      "LM Loss: 0.1859, Class Loss: 0.2975\n"
     ]
    },
    {
     "name": "stderr",
     "output_type": "stream",
     "text": [
      "Epoch 1/3 [Training]:  47%|████▋     | 188/400 [02:07<02:14,  1.58it/s, Loss=3.99]"
     ]
    },
    {
     "name": "stdout",
     "output_type": "stream",
     "text": [
      "LM Loss: 0.5215, Class Loss: 1.6774\n"
     ]
    },
    {
     "name": "stderr",
     "output_type": "stream",
     "text": [
      "Epoch 1/3 [Training]:  47%|████▋     | 189/400 [02:08<02:23,  1.47it/s, Loss=3.98]"
     ]
    },
    {
     "name": "stdout",
     "output_type": "stream",
     "text": [
      "LM Loss: 0.1808, Class Loss: 1.8801\n"
     ]
    },
    {
     "name": "stderr",
     "output_type": "stream",
     "text": [
      "Epoch 1/3 [Training]:  48%|████▊     | 190/400 [02:09<02:33,  1.37it/s, Loss=3.96]"
     ]
    },
    {
     "name": "stdout",
     "output_type": "stream",
     "text": [
      "LM Loss: 0.2391, Class Loss: 1.0575\n"
     ]
    },
    {
     "name": "stderr",
     "output_type": "stream",
     "text": [
      "Epoch 1/3 [Training]:  48%|████▊     | 191/400 [02:10<02:19,  1.50it/s, Loss=3.95]"
     ]
    },
    {
     "name": "stdout",
     "output_type": "stream",
     "text": [
      "LM Loss: 0.2387, Class Loss: 1.5442\n"
     ]
    },
    {
     "name": "stderr",
     "output_type": "stream",
     "text": [
      "Epoch 1/3 [Training]:  48%|████▊     | 192/400 [02:10<02:21,  1.47it/s, Loss=3.94]"
     ]
    },
    {
     "name": "stdout",
     "output_type": "stream",
     "text": [
      "LM Loss: 0.2197, Class Loss: 1.4408\n"
     ]
    },
    {
     "name": "stderr",
     "output_type": "stream",
     "text": [
      "Epoch 1/3 [Training]:  48%|████▊     | 193/400 [02:11<02:11,  1.58it/s, Loss=3.94]"
     ]
    },
    {
     "name": "stdout",
     "output_type": "stream",
     "text": [
      "LM Loss: 0.4368, Class Loss: 2.7980\n"
     ]
    },
    {
     "name": "stderr",
     "output_type": "stream",
     "text": [
      "Epoch 1/3 [Training]:  48%|████▊     | 194/400 [02:12<02:23,  1.44it/s, Loss=3.92]"
     ]
    },
    {
     "name": "stdout",
     "output_type": "stream",
     "text": [
      "LM Loss: 0.2008, Class Loss: 0.3903\n"
     ]
    },
    {
     "name": "stderr",
     "output_type": "stream",
     "text": [
      "Epoch 1/3 [Training]:  49%|████▉     | 195/400 [02:12<02:22,  1.43it/s, Loss=3.91]"
     ]
    },
    {
     "name": "stdout",
     "output_type": "stream",
     "text": [
      "LM Loss: 0.3148, Class Loss: 2.3538\n"
     ]
    },
    {
     "name": "stderr",
     "output_type": "stream",
     "text": [
      "Epoch 1/3 [Training]:  49%|████▉     | 196/400 [02:13<02:11,  1.55it/s, Loss=3.9] "
     ]
    },
    {
     "name": "stdout",
     "output_type": "stream",
     "text": [
      "LM Loss: 0.1722, Class Loss: 0.4233\n"
     ]
    },
    {
     "name": "stderr",
     "output_type": "stream",
     "text": [
      "Epoch 1/3 [Training]:  49%|████▉     | 197/400 [02:14<02:11,  1.54it/s, Loss=3.88]"
     ]
    },
    {
     "name": "stdout",
     "output_type": "stream",
     "text": [
      "LM Loss: 0.1546, Class Loss: 1.0254\n"
     ]
    },
    {
     "name": "stderr",
     "output_type": "stream",
     "text": [
      "Epoch 1/3 [Training]:  50%|████▉     | 198/400 [02:15<02:30,  1.34it/s, Loss=3.87]"
     ]
    },
    {
     "name": "stdout",
     "output_type": "stream",
     "text": [
      "LM Loss: 0.2551, Class Loss: 1.4106\n"
     ]
    },
    {
     "name": "stderr",
     "output_type": "stream",
     "text": [
      "Epoch 1/3 [Training]:  50%|████▉     | 199/400 [02:15<02:32,  1.32it/s, Loss=3.86]"
     ]
    },
    {
     "name": "stdout",
     "output_type": "stream",
     "text": [
      "LM Loss: 0.2811, Class Loss: 0.4049\n"
     ]
    },
    {
     "name": "stderr",
     "output_type": "stream",
     "text": [
      "Epoch 1/3 [Training]:  50%|█████     | 200/400 [02:16<02:25,  1.37it/s, Loss=3.84]"
     ]
    },
    {
     "name": "stdout",
     "output_type": "stream",
     "text": [
      "LM Loss: 0.0861, Class Loss: 0.1875\n"
     ]
    },
    {
     "name": "stderr",
     "output_type": "stream",
     "text": [
      "Epoch 1/3 [Training]:  50%|█████     | 201/400 [02:17<02:28,  1.34it/s, Loss=3.83]"
     ]
    },
    {
     "name": "stdout",
     "output_type": "stream",
     "text": [
      "LM Loss: 0.2548, Class Loss: 1.4648\n"
     ]
    },
    {
     "name": "stderr",
     "output_type": "stream",
     "text": [
      "Epoch 1/3 [Training]:  50%|█████     | 202/400 [02:17<02:23,  1.38it/s, Loss=3.81]"
     ]
    },
    {
     "name": "stdout",
     "output_type": "stream",
     "text": [
      "LM Loss: 0.2101, Class Loss: 0.6749\n"
     ]
    },
    {
     "name": "stderr",
     "output_type": "stream",
     "text": [
      "Epoch 1/3 [Training]:  51%|█████     | 203/400 [02:18<02:23,  1.38it/s, Loss=3.8] "
     ]
    },
    {
     "name": "stdout",
     "output_type": "stream",
     "text": [
      "LM Loss: 0.1650, Class Loss: 1.8717\n"
     ]
    },
    {
     "name": "stderr",
     "output_type": "stream",
     "text": [
      "Epoch 1/3 [Training]:  51%|█████     | 204/400 [02:19<02:10,  1.50it/s, Loss=3.79]"
     ]
    },
    {
     "name": "stdout",
     "output_type": "stream",
     "text": [
      "LM Loss: 0.1946, Class Loss: 1.1445\n"
     ]
    },
    {
     "name": "stderr",
     "output_type": "stream",
     "text": [
      "Epoch 1/3 [Training]:  51%|█████▏    | 205/400 [02:19<02:10,  1.50it/s, Loss=3.79]"
     ]
    },
    {
     "name": "stdout",
     "output_type": "stream",
     "text": [
      "LM Loss: 0.3122, Class Loss: 2.4026\n"
     ]
    },
    {
     "name": "stderr",
     "output_type": "stream",
     "text": [
      "Epoch 1/3 [Training]:  52%|█████▏    | 206/400 [02:20<02:13,  1.45it/s, Loss=3.78]"
     ]
    },
    {
     "name": "stdout",
     "output_type": "stream",
     "text": [
      "LM Loss: 0.2780, Class Loss: 1.2505\n"
     ]
    },
    {
     "name": "stderr",
     "output_type": "stream",
     "text": [
      "Epoch 1/3 [Training]:  52%|█████▏    | 207/400 [02:21<02:08,  1.51it/s, Loss=3.76]"
     ]
    },
    {
     "name": "stdout",
     "output_type": "stream",
     "text": [
      "LM Loss: 0.2259, Class Loss: 0.4104\n"
     ]
    },
    {
     "name": "stderr",
     "output_type": "stream",
     "text": [
      "Epoch 1/3 [Training]:  52%|█████▏    | 208/400 [02:21<02:09,  1.48it/s, Loss=3.75]"
     ]
    },
    {
     "name": "stdout",
     "output_type": "stream",
     "text": [
      "LM Loss: 0.2357, Class Loss: 1.2979\n"
     ]
    },
    {
     "name": "stderr",
     "output_type": "stream",
     "text": [
      "Epoch 1/3 [Training]:  52%|█████▏    | 209/400 [02:22<02:05,  1.52it/s, Loss=3.74]"
     ]
    },
    {
     "name": "stdout",
     "output_type": "stream",
     "text": [
      "LM Loss: 0.0830, Class Loss: 0.8543\n"
     ]
    },
    {
     "name": "stderr",
     "output_type": "stream",
     "text": [
      "Epoch 1/3 [Training]:  52%|█████▎    | 210/400 [02:23<02:09,  1.47it/s, Loss=3.72]"
     ]
    },
    {
     "name": "stdout",
     "output_type": "stream",
     "text": [
      "LM Loss: 0.1458, Class Loss: 0.4755\n"
     ]
    },
    {
     "name": "stderr",
     "output_type": "stream",
     "text": [
      "Epoch 1/3 [Training]:  53%|█████▎    | 211/400 [02:24<02:15,  1.40it/s, Loss=3.71]"
     ]
    },
    {
     "name": "stdout",
     "output_type": "stream",
     "text": [
      "LM Loss: 0.3122, Class Loss: 1.6226\n"
     ]
    },
    {
     "name": "stderr",
     "output_type": "stream",
     "text": [
      "Epoch 1/3 [Training]:  53%|█████▎    | 212/400 [02:24<02:11,  1.43it/s, Loss=3.7] "
     ]
    },
    {
     "name": "stdout",
     "output_type": "stream",
     "text": [
      "LM Loss: 0.1590, Class Loss: 1.0442\n"
     ]
    },
    {
     "name": "stderr",
     "output_type": "stream",
     "text": [
      "Epoch 1/3 [Training]:  53%|█████▎    | 213/400 [02:25<01:59,  1.57it/s, Loss=3.69]"
     ]
    },
    {
     "name": "stdout",
     "output_type": "stream",
     "text": [
      "LM Loss: 0.1745, Class Loss: 0.7603\n"
     ]
    },
    {
     "name": "stderr",
     "output_type": "stream",
     "text": [
      "Epoch 1/3 [Training]:  54%|█████▎    | 214/400 [02:25<02:04,  1.49it/s, Loss=3.68]"
     ]
    },
    {
     "name": "stdout",
     "output_type": "stream",
     "text": [
      "LM Loss: 0.1209, Class Loss: 1.4822\n"
     ]
    },
    {
     "name": "stderr",
     "output_type": "stream",
     "text": [
      "Epoch 1/3 [Training]:  54%|█████▍    | 215/400 [02:26<02:07,  1.45it/s, Loss=3.66]"
     ]
    },
    {
     "name": "stdout",
     "output_type": "stream",
     "text": [
      "LM Loss: 0.2128, Class Loss: 0.4178\n"
     ]
    },
    {
     "name": "stderr",
     "output_type": "stream",
     "text": [
      "Epoch 1/3 [Training]:  54%|█████▍    | 216/400 [02:27<02:09,  1.42it/s, Loss=3.65]"
     ]
    },
    {
     "name": "stdout",
     "output_type": "stream",
     "text": [
      "LM Loss: 0.3163, Class Loss: 0.4799\n"
     ]
    },
    {
     "name": "stderr",
     "output_type": "stream",
     "text": [
      "Epoch 1/3 [Training]:  54%|█████▍    | 217/400 [02:28<02:03,  1.48it/s, Loss=3.64]"
     ]
    },
    {
     "name": "stdout",
     "output_type": "stream",
     "text": [
      "LM Loss: 0.1731, Class Loss: 1.5680\n"
     ]
    },
    {
     "name": "stderr",
     "output_type": "stream",
     "text": [
      "Epoch 1/3 [Training]:  55%|█████▍    | 218/400 [02:28<02:02,  1.49it/s, Loss=3.63]"
     ]
    },
    {
     "name": "stdout",
     "output_type": "stream",
     "text": [
      "LM Loss: 0.1606, Class Loss: 1.6078\n"
     ]
    },
    {
     "name": "stderr",
     "output_type": "stream",
     "text": [
      "Epoch 1/3 [Training]:  55%|█████▍    | 219/400 [02:29<02:05,  1.45it/s, Loss=3.62]"
     ]
    },
    {
     "name": "stdout",
     "output_type": "stream",
     "text": [
      "LM Loss: 0.2074, Class Loss: 1.0751\n"
     ]
    },
    {
     "name": "stderr",
     "output_type": "stream",
     "text": [
      "Epoch 1/3 [Training]:  55%|█████▌    | 220/400 [02:30<02:04,  1.44it/s, Loss=3.61]"
     ]
    },
    {
     "name": "stdout",
     "output_type": "stream",
     "text": [
      "LM Loss: 0.1309, Class Loss: 0.4272\n"
     ]
    },
    {
     "name": "stderr",
     "output_type": "stream",
     "text": [
      "Epoch 1/3 [Training]:  55%|█████▌    | 221/400 [02:30<02:02,  1.46it/s, Loss=3.6] "
     ]
    },
    {
     "name": "stdout",
     "output_type": "stream",
     "text": [
      "LM Loss: 0.2584, Class Loss: 0.6557\n"
     ]
    },
    {
     "name": "stderr",
     "output_type": "stream",
     "text": [
      "Epoch 1/3 [Training]:  56%|█████▌    | 222/400 [02:31<01:52,  1.59it/s, Loss=3.59]"
     ]
    },
    {
     "name": "stdout",
     "output_type": "stream",
     "text": [
      "LM Loss: 0.1486, Class Loss: 2.2545\n"
     ]
    },
    {
     "name": "stderr",
     "output_type": "stream",
     "text": [
      "Epoch 1/3 [Training]:  56%|█████▌    | 223/400 [02:32<01:55,  1.53it/s, Loss=3.58]"
     ]
    },
    {
     "name": "stdout",
     "output_type": "stream",
     "text": [
      "LM Loss: 0.1571, Class Loss: 1.5786\n"
     ]
    },
    {
     "name": "stderr",
     "output_type": "stream",
     "text": [
      "Epoch 1/3 [Training]:  56%|█████▌    | 224/400 [02:32<01:52,  1.56it/s, Loss=3.57]"
     ]
    },
    {
     "name": "stdout",
     "output_type": "stream",
     "text": [
      "LM Loss: 0.1566, Class Loss: 0.9205\n"
     ]
    },
    {
     "name": "stderr",
     "output_type": "stream",
     "text": [
      "Epoch 1/3 [Training]:  56%|█████▋    | 225/400 [02:33<01:55,  1.51it/s, Loss=3.56]"
     ]
    },
    {
     "name": "stdout",
     "output_type": "stream",
     "text": [
      "LM Loss: 0.1839, Class Loss: 0.2054\n"
     ]
    },
    {
     "name": "stderr",
     "output_type": "stream",
     "text": [
      "Epoch 1/3 [Training]:  56%|█████▋    | 226/400 [02:34<01:58,  1.46it/s, Loss=3.54]"
     ]
    },
    {
     "name": "stdout",
     "output_type": "stream",
     "text": [
      "LM Loss: 0.1274, Class Loss: 0.3710\n"
     ]
    },
    {
     "name": "stderr",
     "output_type": "stream",
     "text": [
      "Epoch 1/3 [Training]:  57%|█████▋    | 227/400 [02:34<01:58,  1.45it/s, Loss=3.54]"
     ]
    },
    {
     "name": "stdout",
     "output_type": "stream",
     "text": [
      "LM Loss: 0.0801, Class Loss: 1.3812\n"
     ]
    },
    {
     "name": "stderr",
     "output_type": "stream",
     "text": [
      "Epoch 1/3 [Training]:  57%|█████▋    | 228/400 [02:35<02:09,  1.33it/s, Loss=3.52]"
     ]
    },
    {
     "name": "stdout",
     "output_type": "stream",
     "text": [
      "LM Loss: 0.2010, Class Loss: 0.1491\n"
     ]
    },
    {
     "name": "stderr",
     "output_type": "stream",
     "text": [
      "Epoch 1/3 [Training]:  57%|█████▋    | 229/400 [02:36<02:13,  1.28it/s, Loss=3.51]"
     ]
    },
    {
     "name": "stdout",
     "output_type": "stream",
     "text": [
      "LM Loss: 0.1019, Class Loss: 0.7520\n"
     ]
    },
    {
     "name": "stderr",
     "output_type": "stream",
     "text": [
      "Epoch 1/3 [Training]:  57%|█████▊    | 230/400 [02:37<02:10,  1.30it/s, Loss=3.5] "
     ]
    },
    {
     "name": "stdout",
     "output_type": "stream",
     "text": [
      "LM Loss: 0.2930, Class Loss: 1.0933\n"
     ]
    },
    {
     "name": "stderr",
     "output_type": "stream",
     "text": [
      "Epoch 1/3 [Training]:  58%|█████▊    | 231/400 [02:38<02:10,  1.29it/s, Loss=3.49]"
     ]
    },
    {
     "name": "stdout",
     "output_type": "stream",
     "text": [
      "LM Loss: 0.2534, Class Loss: 1.4723\n"
     ]
    },
    {
     "name": "stderr",
     "output_type": "stream",
     "text": [
      "Epoch 1/3 [Training]:  58%|█████▊    | 232/400 [02:38<02:08,  1.31it/s, Loss=3.48]"
     ]
    },
    {
     "name": "stdout",
     "output_type": "stream",
     "text": [
      "LM Loss: 0.3695, Class Loss: 0.8772\n"
     ]
    },
    {
     "name": "stderr",
     "output_type": "stream",
     "text": [
      "Epoch 1/3 [Training]:  58%|█████▊    | 233/400 [02:39<02:02,  1.37it/s, Loss=3.47]"
     ]
    },
    {
     "name": "stdout",
     "output_type": "stream",
     "text": [
      "LM Loss: 0.2698, Class Loss: 0.7235\n"
     ]
    },
    {
     "name": "stderr",
     "output_type": "stream",
     "text": [
      "Epoch 1/3 [Training]:  58%|█████▊    | 234/400 [02:40<01:59,  1.38it/s, Loss=3.46]"
     ]
    },
    {
     "name": "stdout",
     "output_type": "stream",
     "text": [
      "LM Loss: 0.2112, Class Loss: 1.2379\n"
     ]
    },
    {
     "name": "stderr",
     "output_type": "stream",
     "text": [
      "Epoch 1/3 [Training]:  59%|█████▉    | 235/400 [02:40<02:05,  1.32it/s, Loss=3.45]"
     ]
    },
    {
     "name": "stdout",
     "output_type": "stream",
     "text": [
      "LM Loss: 0.1827, Class Loss: 1.0411\n"
     ]
    },
    {
     "name": "stderr",
     "output_type": "stream",
     "text": [
      "Epoch 1/3 [Training]:  59%|█████▉    | 236/400 [02:41<01:59,  1.37it/s, Loss=3.44]"
     ]
    },
    {
     "name": "stdout",
     "output_type": "stream",
     "text": [
      "LM Loss: 0.1866, Class Loss: 0.4009\n"
     ]
    },
    {
     "name": "stderr",
     "output_type": "stream",
     "text": [
      "Epoch 1/3 [Training]:  59%|█████▉    | 237/400 [02:42<01:50,  1.48it/s, Loss=3.43]"
     ]
    },
    {
     "name": "stdout",
     "output_type": "stream",
     "text": [
      "LM Loss: 0.2544, Class Loss: 1.3900\n"
     ]
    },
    {
     "name": "stderr",
     "output_type": "stream",
     "text": [
      "Epoch 1/3 [Training]:  60%|█████▉    | 238/400 [02:43<02:00,  1.34it/s, Loss=3.43]"
     ]
    },
    {
     "name": "stdout",
     "output_type": "stream",
     "text": [
      "LM Loss: 0.2090, Class Loss: 1.5771\n"
     ]
    },
    {
     "name": "stderr",
     "output_type": "stream",
     "text": [
      "Epoch 1/3 [Training]:  60%|█████▉    | 239/400 [02:44<02:07,  1.26it/s, Loss=3.42]"
     ]
    },
    {
     "name": "stdout",
     "output_type": "stream",
     "text": [
      "LM Loss: 0.1601, Class Loss: 0.7328\n"
     ]
    },
    {
     "name": "stderr",
     "output_type": "stream",
     "text": [
      "Epoch 1/3 [Training]:  60%|██████    | 240/400 [02:44<02:02,  1.31it/s, Loss=3.4] "
     ]
    },
    {
     "name": "stdout",
     "output_type": "stream",
     "text": [
      "LM Loss: 0.0910, Class Loss: 0.0622\n"
     ]
    },
    {
     "name": "stderr",
     "output_type": "stream",
     "text": [
      "Epoch 1/3 [Training]:  60%|██████    | 241/400 [02:45<01:56,  1.36it/s, Loss=3.39]"
     ]
    },
    {
     "name": "stdout",
     "output_type": "stream",
     "text": [
      "LM Loss: 0.2013, Class Loss: 1.1141\n"
     ]
    },
    {
     "name": "stderr",
     "output_type": "stream",
     "text": [
      "Epoch 1/3 [Training]:  60%|██████    | 242/400 [02:45<01:47,  1.47it/s, Loss=3.38]"
     ]
    },
    {
     "name": "stdout",
     "output_type": "stream",
     "text": [
      "LM Loss: 0.1139, Class Loss: 0.9662\n"
     ]
    },
    {
     "name": "stderr",
     "output_type": "stream",
     "text": [
      "Epoch 1/3 [Training]:  61%|██████    | 243/400 [02:46<01:46,  1.48it/s, Loss=3.37]"
     ]
    },
    {
     "name": "stdout",
     "output_type": "stream",
     "text": [
      "LM Loss: 0.1783, Class Loss: 0.2990\n"
     ]
    },
    {
     "name": "stderr",
     "output_type": "stream",
     "text": [
      "Epoch 1/3 [Training]:  61%|██████    | 244/400 [02:47<01:48,  1.44it/s, Loss=3.37]"
     ]
    },
    {
     "name": "stdout",
     "output_type": "stream",
     "text": [
      "LM Loss: 0.1932, Class Loss: 1.4574\n"
     ]
    },
    {
     "name": "stderr",
     "output_type": "stream",
     "text": [
      "Epoch 1/3 [Training]:  61%|██████▏   | 245/400 [02:47<01:41,  1.53it/s, Loss=3.36]"
     ]
    },
    {
     "name": "stdout",
     "output_type": "stream",
     "text": [
      "LM Loss: 0.1201, Class Loss: 1.3048\n"
     ]
    },
    {
     "name": "stderr",
     "output_type": "stream",
     "text": [
      "Epoch 1/3 [Training]:  62%|██████▏   | 246/400 [02:48<01:38,  1.56it/s, Loss=3.35]"
     ]
    },
    {
     "name": "stdout",
     "output_type": "stream",
     "text": [
      "LM Loss: 0.2028, Class Loss: 0.1609\n"
     ]
    },
    {
     "name": "stderr",
     "output_type": "stream",
     "text": [
      "Epoch 1/3 [Training]:  62%|██████▏   | 247/400 [02:49<01:32,  1.65it/s, Loss=3.34]"
     ]
    },
    {
     "name": "stdout",
     "output_type": "stream",
     "text": [
      "LM Loss: 0.2207, Class Loss: 1.7719\n"
     ]
    },
    {
     "name": "stderr",
     "output_type": "stream",
     "text": [
      "Epoch 1/3 [Training]:  62%|██████▏   | 248/400 [02:49<01:36,  1.57it/s, Loss=3.33]"
     ]
    },
    {
     "name": "stdout",
     "output_type": "stream",
     "text": [
      "LM Loss: 0.2092, Class Loss: 0.7736\n"
     ]
    },
    {
     "name": "stderr",
     "output_type": "stream",
     "text": [
      "Epoch 1/3 [Training]:  62%|██████▏   | 249/400 [02:50<01:39,  1.52it/s, Loss=3.32]"
     ]
    },
    {
     "name": "stdout",
     "output_type": "stream",
     "text": [
      "LM Loss: 0.2063, Class Loss: 0.4333\n"
     ]
    },
    {
     "name": "stderr",
     "output_type": "stream",
     "text": [
      "Epoch 1/3 [Training]:  62%|██████▎   | 250/400 [02:51<01:40,  1.49it/s, Loss=3.31]"
     ]
    },
    {
     "name": "stdout",
     "output_type": "stream",
     "text": [
      "LM Loss: 0.2780, Class Loss: 0.6551\n"
     ]
    },
    {
     "name": "stderr",
     "output_type": "stream",
     "text": [
      "Epoch 1/3 [Training]:  63%|██████▎   | 251/400 [02:51<01:42,  1.45it/s, Loss=3.3] "
     ]
    },
    {
     "name": "stdout",
     "output_type": "stream",
     "text": [
      "LM Loss: 0.2420, Class Loss: 0.9278\n"
     ]
    },
    {
     "name": "stderr",
     "output_type": "stream",
     "text": [
      "Epoch 1/3 [Training]:  63%|██████▎   | 252/400 [02:53<02:23,  1.03it/s, Loss=3.29]"
     ]
    },
    {
     "name": "stdout",
     "output_type": "stream",
     "text": [
      "LM Loss: 0.3107, Class Loss: 0.8869\n"
     ]
    },
    {
     "name": "stderr",
     "output_type": "stream",
     "text": [
      "Epoch 1/3 [Training]:  63%|██████▎   | 253/400 [02:53<01:59,  1.23it/s, Loss=3.29]"
     ]
    },
    {
     "name": "stdout",
     "output_type": "stream",
     "text": [
      "LM Loss: 0.1791, Class Loss: 1.1308\n"
     ]
    },
    {
     "name": "stderr",
     "output_type": "stream",
     "text": [
      "Epoch 1/3 [Training]:  64%|██████▎   | 254/400 [02:54<01:55,  1.27it/s, Loss=3.28]"
     ]
    },
    {
     "name": "stdout",
     "output_type": "stream",
     "text": [
      "LM Loss: 0.2110, Class Loss: 2.0750\n"
     ]
    },
    {
     "name": "stderr",
     "output_type": "stream",
     "text": [
      "Epoch 1/3 [Training]:  64%|██████▍   | 255/400 [02:55<01:43,  1.41it/s, Loss=3.27]"
     ]
    },
    {
     "name": "stdout",
     "output_type": "stream",
     "text": [
      "LM Loss: 0.3050, Class Loss: 1.1077\n"
     ]
    },
    {
     "name": "stderr",
     "output_type": "stream",
     "text": [
      "Epoch 1/3 [Training]:  64%|██████▍   | 256/400 [02:55<01:43,  1.39it/s, Loss=3.27]"
     ]
    },
    {
     "name": "stdout",
     "output_type": "stream",
     "text": [
      "LM Loss: 0.0947, Class Loss: 1.5600\n"
     ]
    },
    {
     "name": "stderr",
     "output_type": "stream",
     "text": [
      "Epoch 1/3 [Training]:  64%|██████▍   | 257/400 [02:56<01:40,  1.43it/s, Loss=3.26]"
     ]
    },
    {
     "name": "stdout",
     "output_type": "stream",
     "text": [
      "LM Loss: 0.1480, Class Loss: 0.3257\n"
     ]
    },
    {
     "name": "stderr",
     "output_type": "stream",
     "text": [
      "Epoch 1/3 [Training]:  64%|██████▍   | 258/400 [02:57<01:43,  1.37it/s, Loss=3.25]"
     ]
    },
    {
     "name": "stdout",
     "output_type": "stream",
     "text": [
      "LM Loss: 0.2862, Class Loss: 0.9536\n"
     ]
    },
    {
     "name": "stderr",
     "output_type": "stream",
     "text": [
      "Epoch 1/3 [Training]:  65%|██████▍   | 259/400 [02:58<01:39,  1.41it/s, Loss=3.24]"
     ]
    },
    {
     "name": "stdout",
     "output_type": "stream",
     "text": [
      "LM Loss: 0.1536, Class Loss: 0.2563\n"
     ]
    },
    {
     "name": "stderr",
     "output_type": "stream",
     "text": [
      "Epoch 1/3 [Training]:  65%|██████▌   | 260/400 [02:58<01:40,  1.40it/s, Loss=3.23]"
     ]
    },
    {
     "name": "stdout",
     "output_type": "stream",
     "text": [
      "LM Loss: 0.1988, Class Loss: 1.1886\n"
     ]
    },
    {
     "name": "stderr",
     "output_type": "stream",
     "text": [
      "Epoch 1/3 [Training]:  65%|██████▌   | 261/400 [02:59<01:40,  1.38it/s, Loss=3.22]"
     ]
    },
    {
     "name": "stdout",
     "output_type": "stream",
     "text": [
      "LM Loss: 0.2480, Class Loss: 0.5088\n"
     ]
    },
    {
     "name": "stderr",
     "output_type": "stream",
     "text": [
      "Epoch 1/3 [Training]:  66%|██████▌   | 262/400 [03:00<02:08,  1.07it/s, Loss=3.22]"
     ]
    },
    {
     "name": "stdout",
     "output_type": "stream",
     "text": [
      "LM Loss: 0.1659, Class Loss: 2.0814\n"
     ]
    },
    {
     "name": "stderr",
     "output_type": "stream",
     "text": [
      "Epoch 1/3 [Training]:  66%|██████▌   | 263/400 [03:01<01:50,  1.24it/s, Loss=3.21]"
     ]
    },
    {
     "name": "stdout",
     "output_type": "stream",
     "text": [
      "LM Loss: 0.2269, Class Loss: 1.8097\n"
     ]
    },
    {
     "name": "stderr",
     "output_type": "stream",
     "text": [
      "Epoch 1/3 [Training]:  66%|██████▌   | 264/400 [03:02<01:48,  1.25it/s, Loss=3.21]"
     ]
    },
    {
     "name": "stdout",
     "output_type": "stream",
     "text": [
      "LM Loss: 0.3097, Class Loss: 1.9051\n"
     ]
    },
    {
     "name": "stderr",
     "output_type": "stream",
     "text": [
      "Epoch 1/3 [Training]:  66%|██████▋   | 265/400 [03:02<01:38,  1.38it/s, Loss=3.2] "
     ]
    },
    {
     "name": "stdout",
     "output_type": "stream",
     "text": [
      "LM Loss: 0.1968, Class Loss: 1.3057\n"
     ]
    },
    {
     "name": "stderr",
     "output_type": "stream",
     "text": [
      "Epoch 1/3 [Training]:  66%|██████▋   | 266/400 [03:03<01:36,  1.39it/s, Loss=3.2]"
     ]
    },
    {
     "name": "stdout",
     "output_type": "stream",
     "text": [
      "LM Loss: 0.1520, Class Loss: 0.8057\n"
     ]
    },
    {
     "name": "stderr",
     "output_type": "stream",
     "text": [
      "Epoch 1/3 [Training]:  67%|██████▋   | 267/400 [03:04<01:38,  1.35it/s, Loss=3.19]"
     ]
    },
    {
     "name": "stdout",
     "output_type": "stream",
     "text": [
      "LM Loss: 0.1989, Class Loss: 0.9700\n"
     ]
    },
    {
     "name": "stderr",
     "output_type": "stream",
     "text": [
      "Epoch 1/3 [Training]:  67%|██████▋   | 268/400 [03:05<01:36,  1.37it/s, Loss=3.18]"
     ]
    },
    {
     "name": "stdout",
     "output_type": "stream",
     "text": [
      "LM Loss: 0.1072, Class Loss: 1.2095\n"
     ]
    },
    {
     "name": "stderr",
     "output_type": "stream",
     "text": [
      "Epoch 1/3 [Training]:  67%|██████▋   | 269/400 [03:05<01:42,  1.28it/s, Loss=3.17]"
     ]
    },
    {
     "name": "stdout",
     "output_type": "stream",
     "text": [
      "LM Loss: 0.1560, Class Loss: 0.3710\n"
     ]
    },
    {
     "name": "stderr",
     "output_type": "stream",
     "text": [
      "Epoch 1/3 [Training]:  68%|██████▊   | 270/400 [03:06<01:43,  1.25it/s, Loss=3.16]"
     ]
    },
    {
     "name": "stdout",
     "output_type": "stream",
     "text": [
      "LM Loss: 0.2211, Class Loss: 0.3777\n"
     ]
    },
    {
     "name": "stderr",
     "output_type": "stream",
     "text": [
      "Epoch 1/3 [Training]:  68%|██████▊   | 271/400 [03:07<01:32,  1.39it/s, Loss=3.15]"
     ]
    },
    {
     "name": "stdout",
     "output_type": "stream",
     "text": [
      "LM Loss: 0.1814, Class Loss: 1.0675\n"
     ]
    },
    {
     "name": "stderr",
     "output_type": "stream",
     "text": [
      "Epoch 1/3 [Training]:  68%|██████▊   | 272/400 [03:07<01:27,  1.46it/s, Loss=3.15]"
     ]
    },
    {
     "name": "stdout",
     "output_type": "stream",
     "text": [
      "LM Loss: 0.1514, Class Loss: 1.5790\n"
     ]
    },
    {
     "name": "stderr",
     "output_type": "stream",
     "text": [
      "Epoch 1/3 [Training]:  68%|██████▊   | 273/400 [03:08<01:28,  1.43it/s, Loss=3.14]"
     ]
    },
    {
     "name": "stdout",
     "output_type": "stream",
     "text": [
      "LM Loss: 0.3091, Class Loss: 1.3424\n"
     ]
    },
    {
     "name": "stderr",
     "output_type": "stream",
     "text": [
      "Epoch 1/3 [Training]:  68%|██████▊   | 274/400 [03:09<01:29,  1.41it/s, Loss=3.13]"
     ]
    },
    {
     "name": "stdout",
     "output_type": "stream",
     "text": [
      "LM Loss: 0.0663, Class Loss: 0.0635\n"
     ]
    },
    {
     "name": "stderr",
     "output_type": "stream",
     "text": [
      "Epoch 1/3 [Training]:  69%|██████▉   | 275/400 [03:09<01:21,  1.53it/s, Loss=3.13]"
     ]
    },
    {
     "name": "stdout",
     "output_type": "stream",
     "text": [
      "LM Loss: 0.1916, Class Loss: 1.8978\n"
     ]
    },
    {
     "name": "stderr",
     "output_type": "stream",
     "text": [
      "Epoch 1/3 [Training]:  69%|██████▉   | 276/400 [03:10<01:28,  1.41it/s, Loss=3.12]"
     ]
    },
    {
     "name": "stdout",
     "output_type": "stream",
     "text": [
      "LM Loss: 0.2300, Class Loss: 1.5735\n"
     ]
    },
    {
     "name": "stderr",
     "output_type": "stream",
     "text": [
      "Epoch 1/3 [Training]:  69%|██████▉   | 277/400 [03:11<01:23,  1.47it/s, Loss=3.11]"
     ]
    },
    {
     "name": "stdout",
     "output_type": "stream",
     "text": [
      "LM Loss: 0.2136, Class Loss: 0.4106\n"
     ]
    },
    {
     "name": "stderr",
     "output_type": "stream",
     "text": [
      "Epoch 1/3 [Training]:  70%|██████▉   | 278/400 [03:11<01:20,  1.52it/s, Loss=3.11]"
     ]
    },
    {
     "name": "stdout",
     "output_type": "stream",
     "text": [
      "LM Loss: 0.1500, Class Loss: 1.1660\n"
     ]
    },
    {
     "name": "stderr",
     "output_type": "stream",
     "text": [
      "Epoch 1/3 [Training]:  70%|██████▉   | 279/400 [03:12<01:22,  1.47it/s, Loss=3.1] "
     ]
    },
    {
     "name": "stdout",
     "output_type": "stream",
     "text": [
      "LM Loss: 0.1328, Class Loss: 0.2048\n"
     ]
    },
    {
     "name": "stderr",
     "output_type": "stream",
     "text": [
      "Epoch 1/3 [Training]:  70%|███████   | 280/400 [03:13<01:27,  1.37it/s, Loss=3.09]"
     ]
    },
    {
     "name": "stdout",
     "output_type": "stream",
     "text": [
      "LM Loss: 0.1553, Class Loss: 0.8006\n"
     ]
    },
    {
     "name": "stderr",
     "output_type": "stream",
     "text": [
      "Epoch 1/3 [Training]:  70%|███████   | 281/400 [03:14<01:27,  1.36it/s, Loss=3.08]"
     ]
    },
    {
     "name": "stdout",
     "output_type": "stream",
     "text": [
      "LM Loss: 0.1422, Class Loss: 0.7261\n"
     ]
    },
    {
     "name": "stderr",
     "output_type": "stream",
     "text": [
      "Epoch 1/3 [Training]:  70%|███████   | 282/400 [03:15<01:30,  1.31it/s, Loss=3.08]"
     ]
    },
    {
     "name": "stdout",
     "output_type": "stream",
     "text": [
      "LM Loss: 0.2281, Class Loss: 0.8743\n"
     ]
    },
    {
     "name": "stderr",
     "output_type": "stream",
     "text": [
      "Epoch 1/3 [Training]:  71%|███████   | 283/400 [03:15<01:28,  1.32it/s, Loss=3.07]"
     ]
    },
    {
     "name": "stdout",
     "output_type": "stream",
     "text": [
      "LM Loss: 0.1715, Class Loss: 1.0776\n"
     ]
    },
    {
     "name": "stderr",
     "output_type": "stream",
     "text": [
      "Epoch 1/3 [Training]:  71%|███████   | 284/400 [03:16<01:22,  1.40it/s, Loss=3.06]"
     ]
    },
    {
     "name": "stdout",
     "output_type": "stream",
     "text": [
      "LM Loss: 0.1121, Class Loss: 1.5643\n"
     ]
    },
    {
     "name": "stderr",
     "output_type": "stream",
     "text": [
      "Epoch 1/3 [Training]:  71%|███████▏  | 285/400 [03:17<01:22,  1.39it/s, Loss=3.06]"
     ]
    },
    {
     "name": "stdout",
     "output_type": "stream",
     "text": [
      "LM Loss: 0.1088, Class Loss: 0.2996\n"
     ]
    },
    {
     "name": "stderr",
     "output_type": "stream",
     "text": [
      "Epoch 1/3 [Training]:  72%|███████▏  | 286/400 [03:17<01:18,  1.46it/s, Loss=3.05]"
     ]
    },
    {
     "name": "stdout",
     "output_type": "stream",
     "text": [
      "LM Loss: 0.1809, Class Loss: 0.2666\n"
     ]
    },
    {
     "name": "stderr",
     "output_type": "stream",
     "text": [
      "Epoch 1/3 [Training]:  72%|███████▏  | 287/400 [03:18<01:16,  1.47it/s, Loss=3.04]"
     ]
    },
    {
     "name": "stdout",
     "output_type": "stream",
     "text": [
      "LM Loss: 0.1502, Class Loss: 1.1564\n"
     ]
    },
    {
     "name": "stderr",
     "output_type": "stream",
     "text": [
      "Epoch 1/3 [Training]:  72%|███████▏  | 288/400 [03:19<01:21,  1.37it/s, Loss=3.03]"
     ]
    },
    {
     "name": "stdout",
     "output_type": "stream",
     "text": [
      "LM Loss: 0.2274, Class Loss: 0.5946\n"
     ]
    },
    {
     "name": "stderr",
     "output_type": "stream",
     "text": [
      "Epoch 1/3 [Training]:  72%|███████▏  | 289/400 [03:19<01:14,  1.50it/s, Loss=3.02]"
     ]
    },
    {
     "name": "stdout",
     "output_type": "stream",
     "text": [
      "LM Loss: 0.2253, Class Loss: 0.2588\n"
     ]
    },
    {
     "name": "stderr",
     "output_type": "stream",
     "text": [
      "Epoch 1/3 [Training]:  72%|███████▎  | 290/400 [03:20<01:17,  1.42it/s, Loss=3.02]"
     ]
    },
    {
     "name": "stdout",
     "output_type": "stream",
     "text": [
      "LM Loss: 0.1538, Class Loss: 2.4767\n"
     ]
    },
    {
     "name": "stderr",
     "output_type": "stream",
     "text": [
      "Epoch 1/3 [Training]:  73%|███████▎  | 291/400 [03:21<01:13,  1.48it/s, Loss=3.02]"
     ]
    },
    {
     "name": "stdout",
     "output_type": "stream",
     "text": [
      "LM Loss: 0.2162, Class Loss: 1.4758\n"
     ]
    },
    {
     "name": "stderr",
     "output_type": "stream",
     "text": [
      "Epoch 1/3 [Training]:  73%|███████▎  | 292/400 [03:21<01:13,  1.46it/s, Loss=3.01]"
     ]
    },
    {
     "name": "stdout",
     "output_type": "stream",
     "text": [
      "LM Loss: 0.1784, Class Loss: 1.0567\n"
     ]
    },
    {
     "name": "stderr",
     "output_type": "stream",
     "text": [
      "Epoch 1/3 [Training]:  73%|███████▎  | 293/400 [03:22<01:13,  1.45it/s, Loss=3.01]"
     ]
    },
    {
     "name": "stdout",
     "output_type": "stream",
     "text": [
      "LM Loss: 0.1750, Class Loss: 2.8911\n"
     ]
    },
    {
     "name": "stderr",
     "output_type": "stream",
     "text": [
      "Epoch 1/3 [Training]:  74%|███████▎  | 294/400 [03:23<01:07,  1.58it/s, Loss=3.01]"
     ]
    },
    {
     "name": "stdout",
     "output_type": "stream",
     "text": [
      "LM Loss: 0.2468, Class Loss: 1.7429\n"
     ]
    },
    {
     "name": "stderr",
     "output_type": "stream",
     "text": [
      "Epoch 1/3 [Training]:  74%|███████▍  | 295/400 [03:23<01:05,  1.60it/s, Loss=3]   "
     ]
    },
    {
     "name": "stdout",
     "output_type": "stream",
     "text": [
      "LM Loss: 0.0533, Class Loss: 0.8933\n"
     ]
    },
    {
     "name": "stderr",
     "output_type": "stream",
     "text": [
      "Epoch 1/3 [Training]:  74%|███████▍  | 296/400 [03:24<01:01,  1.70it/s, Loss=3]"
     ]
    },
    {
     "name": "stdout",
     "output_type": "stream",
     "text": [
      "LM Loss: 0.2124, Class Loss: 0.9966\n"
     ]
    },
    {
     "name": "stderr",
     "output_type": "stream",
     "text": [
      "Epoch 1/3 [Training]:  74%|███████▍  | 297/400 [03:24<01:05,  1.58it/s, Loss=2.99]"
     ]
    },
    {
     "name": "stdout",
     "output_type": "stream",
     "text": [
      "LM Loss: 0.1889, Class Loss: 1.6795\n"
     ]
    },
    {
     "name": "stderr",
     "output_type": "stream",
     "text": [
      "Epoch 1/3 [Training]:  74%|███████▍  | 298/400 [03:25<01:06,  1.53it/s, Loss=2.98]"
     ]
    },
    {
     "name": "stdout",
     "output_type": "stream",
     "text": [
      "LM Loss: 0.2571, Class Loss: 0.6800\n"
     ]
    },
    {
     "name": "stderr",
     "output_type": "stream",
     "text": [
      "Epoch 1/3 [Training]:  75%|███████▍  | 299/400 [03:26<01:04,  1.57it/s, Loss=2.98]"
     ]
    },
    {
     "name": "stdout",
     "output_type": "stream",
     "text": [
      "LM Loss: 0.2188, Class Loss: 1.1613\n"
     ]
    },
    {
     "name": "stderr",
     "output_type": "stream",
     "text": [
      "Epoch 1/3 [Training]:  75%|███████▌  | 300/400 [03:26<01:04,  1.55it/s, Loss=2.97]"
     ]
    },
    {
     "name": "stdout",
     "output_type": "stream",
     "text": [
      "LM Loss: 0.1164, Class Loss: 1.0836\n"
     ]
    },
    {
     "name": "stderr",
     "output_type": "stream",
     "text": [
      "Epoch 1/3 [Training]:  75%|███████▌  | 301/400 [03:27<01:06,  1.49it/s, Loss=2.97]"
     ]
    },
    {
     "name": "stdout",
     "output_type": "stream",
     "text": [
      "LM Loss: 0.1342, Class Loss: 1.3917\n"
     ]
    },
    {
     "name": "stderr",
     "output_type": "stream",
     "text": [
      "Epoch 1/3 [Training]:  76%|███████▌  | 302/400 [03:28<01:07,  1.45it/s, Loss=2.96]"
     ]
    },
    {
     "name": "stdout",
     "output_type": "stream",
     "text": [
      "LM Loss: 0.1858, Class Loss: 1.1987\n"
     ]
    },
    {
     "name": "stderr",
     "output_type": "stream",
     "text": [
      "Epoch 1/3 [Training]:  76%|███████▌  | 303/400 [03:29<01:08,  1.42it/s, Loss=2.96]"
     ]
    },
    {
     "name": "stdout",
     "output_type": "stream",
     "text": [
      "LM Loss: 0.1934, Class Loss: 0.6426\n"
     ]
    },
    {
     "name": "stderr",
     "output_type": "stream",
     "text": [
      "Epoch 1/3 [Training]:  76%|███████▌  | 304/400 [03:29<01:06,  1.45it/s, Loss=2.95]"
     ]
    },
    {
     "name": "stdout",
     "output_type": "stream",
     "text": [
      "LM Loss: 0.2314, Class Loss: 1.1308\n"
     ]
    },
    {
     "name": "stderr",
     "output_type": "stream",
     "text": [
      "Epoch 1/3 [Training]:  76%|███████▋  | 305/400 [03:30<01:13,  1.29it/s, Loss=2.95]"
     ]
    },
    {
     "name": "stdout",
     "output_type": "stream",
     "text": [
      "LM Loss: 0.2102, Class Loss: 1.6264\n"
     ]
    },
    {
     "name": "stderr",
     "output_type": "stream",
     "text": [
      "Epoch 1/3 [Training]:  76%|███████▋  | 306/400 [03:31<01:13,  1.29it/s, Loss=2.94]"
     ]
    },
    {
     "name": "stdout",
     "output_type": "stream",
     "text": [
      "LM Loss: 0.1695, Class Loss: 0.4335\n"
     ]
    },
    {
     "name": "stderr",
     "output_type": "stream",
     "text": [
      "Epoch 1/3 [Training]:  77%|███████▋  | 307/400 [03:32<01:04,  1.44it/s, Loss=2.93]"
     ]
    },
    {
     "name": "stdout",
     "output_type": "stream",
     "text": [
      "LM Loss: 0.1428, Class Loss: 0.9750\n"
     ]
    },
    {
     "name": "stderr",
     "output_type": "stream",
     "text": [
      "Epoch 1/3 [Training]:  77%|███████▋  | 308/400 [03:32<01:05,  1.41it/s, Loss=2.93]"
     ]
    },
    {
     "name": "stdout",
     "output_type": "stream",
     "text": [
      "LM Loss: 0.1609, Class Loss: 0.9373\n"
     ]
    },
    {
     "name": "stderr",
     "output_type": "stream",
     "text": [
      "Epoch 1/3 [Training]:  77%|███████▋  | 309/400 [03:33<01:00,  1.51it/s, Loss=2.92]"
     ]
    },
    {
     "name": "stdout",
     "output_type": "stream",
     "text": [
      "LM Loss: 0.1963, Class Loss: 1.2461\n"
     ]
    },
    {
     "name": "stderr",
     "output_type": "stream",
     "text": [
      "Epoch 1/3 [Training]:  78%|███████▊  | 310/400 [03:33<00:56,  1.59it/s, Loss=2.92]"
     ]
    },
    {
     "name": "stdout",
     "output_type": "stream",
     "text": [
      "LM Loss: 0.1135, Class Loss: 1.4285\n"
     ]
    },
    {
     "name": "stderr",
     "output_type": "stream",
     "text": [
      "Epoch 1/3 [Training]:  78%|███████▊  | 311/400 [03:34<00:53,  1.65it/s, Loss=2.91]"
     ]
    },
    {
     "name": "stdout",
     "output_type": "stream",
     "text": [
      "LM Loss: 0.1135, Class Loss: 0.8959\n"
     ]
    },
    {
     "name": "stderr",
     "output_type": "stream",
     "text": [
      "Epoch 1/3 [Training]:  78%|███████▊  | 312/400 [03:35<00:53,  1.65it/s, Loss=2.91]"
     ]
    },
    {
     "name": "stdout",
     "output_type": "stream",
     "text": [
      "LM Loss: 0.2509, Class Loss: 1.5359\n"
     ]
    },
    {
     "name": "stderr",
     "output_type": "stream",
     "text": [
      "Epoch 1/3 [Training]:  78%|███████▊  | 313/400 [03:35<00:56,  1.55it/s, Loss=2.9] "
     ]
    },
    {
     "name": "stdout",
     "output_type": "stream",
     "text": [
      "LM Loss: 0.2081, Class Loss: 0.6798\n"
     ]
    },
    {
     "name": "stderr",
     "output_type": "stream",
     "text": [
      "Epoch 1/3 [Training]:  78%|███████▊  | 314/400 [03:36<00:51,  1.66it/s, Loss=2.9]"
     ]
    },
    {
     "name": "stdout",
     "output_type": "stream",
     "text": [
      "LM Loss: 0.1216, Class Loss: 1.3862\n"
     ]
    },
    {
     "name": "stderr",
     "output_type": "stream",
     "text": [
      "Epoch 1/3 [Training]:  79%|███████▉  | 315/400 [03:36<00:52,  1.61it/s, Loss=2.89]"
     ]
    },
    {
     "name": "stdout",
     "output_type": "stream",
     "text": [
      "LM Loss: 0.1696, Class Loss: 1.1512\n"
     ]
    },
    {
     "name": "stderr",
     "output_type": "stream",
     "text": [
      "Epoch 1/3 [Training]:  79%|███████▉  | 316/400 [03:37<00:49,  1.71it/s, Loss=2.89]"
     ]
    },
    {
     "name": "stdout",
     "output_type": "stream",
     "text": [
      "LM Loss: 0.1969, Class Loss: 1.7067\n"
     ]
    },
    {
     "name": "stderr",
     "output_type": "stream",
     "text": [
      "Epoch 1/3 [Training]:  79%|███████▉  | 317/400 [03:38<00:50,  1.65it/s, Loss=2.88]"
     ]
    },
    {
     "name": "stdout",
     "output_type": "stream",
     "text": [
      "LM Loss: 0.1237, Class Loss: 0.7747\n"
     ]
    },
    {
     "name": "stderr",
     "output_type": "stream",
     "text": [
      "Epoch 1/3 [Training]:  80%|███████▉  | 318/400 [03:38<00:48,  1.69it/s, Loss=2.88]"
     ]
    },
    {
     "name": "stdout",
     "output_type": "stream",
     "text": [
      "LM Loss: 0.1672, Class Loss: 1.1764\n"
     ]
    },
    {
     "name": "stderr",
     "output_type": "stream",
     "text": [
      "Epoch 1/3 [Training]:  80%|███████▉  | 319/400 [03:39<00:47,  1.72it/s, Loss=2.87]"
     ]
    },
    {
     "name": "stdout",
     "output_type": "stream",
     "text": [
      "LM Loss: 0.1418, Class Loss: 0.7958\n"
     ]
    },
    {
     "name": "stderr",
     "output_type": "stream",
     "text": [
      "Epoch 1/3 [Training]:  80%|████████  | 320/400 [03:39<00:48,  1.65it/s, Loss=2.87]"
     ]
    },
    {
     "name": "stdout",
     "output_type": "stream",
     "text": [
      "LM Loss: 0.0844, Class Loss: 0.9063\n"
     ]
    },
    {
     "name": "stderr",
     "output_type": "stream",
     "text": [
      "Epoch 1/3 [Training]:  80%|████████  | 321/400 [03:40<00:56,  1.40it/s, Loss=2.86]"
     ]
    },
    {
     "name": "stdout",
     "output_type": "stream",
     "text": [
      "LM Loss: 0.0994, Class Loss: 0.4193\n"
     ]
    },
    {
     "name": "stderr",
     "output_type": "stream",
     "text": [
      "Epoch 1/3 [Training]:  80%|████████  | 322/400 [03:41<00:54,  1.44it/s, Loss=2.85]"
     ]
    },
    {
     "name": "stdout",
     "output_type": "stream",
     "text": [
      "LM Loss: 0.1553, Class Loss: 0.7315\n"
     ]
    },
    {
     "name": "stderr",
     "output_type": "stream",
     "text": [
      "Epoch 1/3 [Training]:  81%|████████  | 323/400 [03:42<00:54,  1.41it/s, Loss=2.85]"
     ]
    },
    {
     "name": "stdout",
     "output_type": "stream",
     "text": [
      "LM Loss: 0.1498, Class Loss: 0.2708\n"
     ]
    },
    {
     "name": "stderr",
     "output_type": "stream",
     "text": [
      "Epoch 1/3 [Training]:  81%|████████  | 324/400 [03:42<00:54,  1.40it/s, Loss=2.84]"
     ]
    },
    {
     "name": "stdout",
     "output_type": "stream",
     "text": [
      "LM Loss: 0.2097, Class Loss: 0.6948\n"
     ]
    },
    {
     "name": "stderr",
     "output_type": "stream",
     "text": [
      "Epoch 1/3 [Training]:  81%|████████▏ | 325/400 [03:43<00:56,  1.33it/s, Loss=2.84]"
     ]
    },
    {
     "name": "stdout",
     "output_type": "stream",
     "text": [
      "LM Loss: 0.2406, Class Loss: 1.2559\n"
     ]
    },
    {
     "name": "stderr",
     "output_type": "stream",
     "text": [
      "Epoch 1/3 [Training]:  82%|████████▏ | 326/400 [03:44<00:55,  1.33it/s, Loss=2.83]"
     ]
    },
    {
     "name": "stdout",
     "output_type": "stream",
     "text": [
      "LM Loss: 0.2090, Class Loss: 1.8541\n"
     ]
    },
    {
     "name": "stderr",
     "output_type": "stream",
     "text": [
      "Epoch 1/3 [Training]:  82%|████████▏ | 327/400 [03:45<00:49,  1.48it/s, Loss=2.83]"
     ]
    },
    {
     "name": "stdout",
     "output_type": "stream",
     "text": [
      "LM Loss: 0.2588, Class Loss: 0.6651\n"
     ]
    },
    {
     "name": "stderr",
     "output_type": "stream",
     "text": [
      "Epoch 1/3 [Training]:  82%|████████▏ | 328/400 [03:45<00:49,  1.47it/s, Loss=2.83]"
     ]
    },
    {
     "name": "stdout",
     "output_type": "stream",
     "text": [
      "LM Loss: 0.1999, Class Loss: 2.4404\n"
     ]
    },
    {
     "name": "stderr",
     "output_type": "stream",
     "text": [
      "Epoch 1/3 [Training]:  82%|████████▏ | 329/400 [03:46<00:46,  1.52it/s, Loss=2.82]"
     ]
    },
    {
     "name": "stdout",
     "output_type": "stream",
     "text": [
      "LM Loss: 0.0819, Class Loss: 0.5530\n"
     ]
    },
    {
     "name": "stderr",
     "output_type": "stream",
     "text": [
      "Epoch 1/3 [Training]:  82%|████████▎ | 330/400 [03:47<00:47,  1.46it/s, Loss=2.82]"
     ]
    },
    {
     "name": "stdout",
     "output_type": "stream",
     "text": [
      "LM Loss: 0.1912, Class Loss: 1.1709\n"
     ]
    },
    {
     "name": "stderr",
     "output_type": "stream",
     "text": [
      "Epoch 1/3 [Training]:  83%|████████▎ | 331/400 [03:47<00:48,  1.43it/s, Loss=2.81]"
     ]
    },
    {
     "name": "stdout",
     "output_type": "stream",
     "text": [
      "LM Loss: 0.1185, Class Loss: 1.4821\n"
     ]
    },
    {
     "name": "stderr",
     "output_type": "stream",
     "text": [
      "Epoch 1/3 [Training]:  83%|████████▎ | 332/400 [03:48<00:49,  1.38it/s, Loss=2.81]"
     ]
    },
    {
     "name": "stdout",
     "output_type": "stream",
     "text": [
      "LM Loss: 0.1267, Class Loss: 0.7034\n"
     ]
    },
    {
     "name": "stderr",
     "output_type": "stream",
     "text": [
      "Epoch 1/3 [Training]:  83%|████████▎ | 333/400 [03:49<00:48,  1.37it/s, Loss=2.8] "
     ]
    },
    {
     "name": "stdout",
     "output_type": "stream",
     "text": [
      "LM Loss: 0.1159, Class Loss: 0.4594\n"
     ]
    },
    {
     "name": "stderr",
     "output_type": "stream",
     "text": [
      "Epoch 1/3 [Training]:  84%|████████▎ | 334/400 [03:50<00:52,  1.25it/s, Loss=2.79]"
     ]
    },
    {
     "name": "stdout",
     "output_type": "stream",
     "text": [
      "LM Loss: 0.1994, Class Loss: 0.7250\n"
     ]
    },
    {
     "name": "stderr",
     "output_type": "stream",
     "text": [
      "Epoch 1/3 [Training]:  84%|████████▍ | 335/400 [03:51<00:54,  1.20it/s, Loss=2.79]"
     ]
    },
    {
     "name": "stdout",
     "output_type": "stream",
     "text": [
      "LM Loss: 0.3047, Class Loss: 2.1047\n"
     ]
    },
    {
     "name": "stderr",
     "output_type": "stream",
     "text": [
      "Epoch 1/3 [Training]:  84%|████████▍ | 336/400 [03:51<00:49,  1.28it/s, Loss=2.79]"
     ]
    },
    {
     "name": "stdout",
     "output_type": "stream",
     "text": [
      "LM Loss: 0.1681, Class Loss: 0.7372\n"
     ]
    },
    {
     "name": "stderr",
     "output_type": "stream",
     "text": [
      "Epoch 1/3 [Training]:  84%|████████▍ | 337/400 [03:52<00:45,  1.37it/s, Loss=2.78]"
     ]
    },
    {
     "name": "stdout",
     "output_type": "stream",
     "text": [
      "LM Loss: 0.1605, Class Loss: 1.0513\n"
     ]
    },
    {
     "name": "stderr",
     "output_type": "stream",
     "text": [
      "Epoch 1/3 [Training]:  84%|████████▍ | 338/400 [03:53<00:44,  1.39it/s, Loss=2.78]"
     ]
    },
    {
     "name": "stdout",
     "output_type": "stream",
     "text": [
      "LM Loss: 0.1165, Class Loss: 0.6747\n"
     ]
    },
    {
     "name": "stderr",
     "output_type": "stream",
     "text": [
      "Epoch 1/3 [Training]:  85%|████████▍ | 339/400 [03:53<00:40,  1.49it/s, Loss=2.77]"
     ]
    },
    {
     "name": "stdout",
     "output_type": "stream",
     "text": [
      "LM Loss: 0.3249, Class Loss: 1.1341\n"
     ]
    },
    {
     "name": "stderr",
     "output_type": "stream",
     "text": [
      "Epoch 1/3 [Training]:  85%|████████▌ | 340/400 [03:54<00:38,  1.57it/s, Loss=2.77]"
     ]
    },
    {
     "name": "stdout",
     "output_type": "stream",
     "text": [
      "LM Loss: 0.1393, Class Loss: 0.9144\n"
     ]
    },
    {
     "name": "stderr",
     "output_type": "stream",
     "text": [
      "Epoch 1/3 [Training]:  85%|████████▌ | 341/400 [03:54<00:35,  1.68it/s, Loss=2.76]"
     ]
    },
    {
     "name": "stdout",
     "output_type": "stream",
     "text": [
      "LM Loss: 0.2262, Class Loss: 1.3061\n"
     ]
    },
    {
     "name": "stderr",
     "output_type": "stream",
     "text": [
      "Epoch 1/3 [Training]:  86%|████████▌ | 342/400 [03:55<00:39,  1.45it/s, Loss=2.76]"
     ]
    },
    {
     "name": "stdout",
     "output_type": "stream",
     "text": [
      "LM Loss: 0.2334, Class Loss: 0.1804\n"
     ]
    },
    {
     "name": "stderr",
     "output_type": "stream",
     "text": [
      "Epoch 1/3 [Training]:  86%|████████▌ | 343/400 [03:56<00:39,  1.45it/s, Loss=2.75]"
     ]
    },
    {
     "name": "stdout",
     "output_type": "stream",
     "text": [
      "LM Loss: 0.3091, Class Loss: 1.3252\n"
     ]
    },
    {
     "name": "stderr",
     "output_type": "stream",
     "text": [
      "Epoch 1/3 [Training]:  86%|████████▌ | 344/400 [03:57<00:41,  1.36it/s, Loss=2.75]"
     ]
    },
    {
     "name": "stdout",
     "output_type": "stream",
     "text": [
      "LM Loss: 0.1584, Class Loss: 0.1863\n"
     ]
    },
    {
     "name": "stderr",
     "output_type": "stream",
     "text": [
      "Epoch 1/3 [Training]:  86%|████████▋ | 345/400 [03:58<00:40,  1.36it/s, Loss=2.74]"
     ]
    },
    {
     "name": "stdout",
     "output_type": "stream",
     "text": [
      "LM Loss: 0.2274, Class Loss: 1.5217\n"
     ]
    },
    {
     "name": "stderr",
     "output_type": "stream",
     "text": [
      "Epoch 1/3 [Training]:  86%|████████▋ | 346/400 [03:58<00:40,  1.33it/s, Loss=2.74]"
     ]
    },
    {
     "name": "stdout",
     "output_type": "stream",
     "text": [
      "LM Loss: 0.1783, Class Loss: 1.4349\n"
     ]
    },
    {
     "name": "stderr",
     "output_type": "stream",
     "text": [
      "Epoch 1/3 [Training]:  87%|████████▋ | 347/400 [03:59<00:36,  1.44it/s, Loss=2.74]"
     ]
    },
    {
     "name": "stdout",
     "output_type": "stream",
     "text": [
      "LM Loss: 0.1642, Class Loss: 1.0735\n"
     ]
    },
    {
     "name": "stderr",
     "output_type": "stream",
     "text": [
      "Epoch 1/3 [Training]:  87%|████████▋ | 348/400 [04:00<00:40,  1.27it/s, Loss=2.73]"
     ]
    },
    {
     "name": "stdout",
     "output_type": "stream",
     "text": [
      "LM Loss: 0.1881, Class Loss: 1.1559\n"
     ]
    },
    {
     "name": "stderr",
     "output_type": "stream",
     "text": [
      "Epoch 1/3 [Training]:  87%|████████▋ | 349/400 [04:01<00:39,  1.29it/s, Loss=2.73]"
     ]
    },
    {
     "name": "stdout",
     "output_type": "stream",
     "text": [
      "LM Loss: 0.1779, Class Loss: 0.1365\n"
     ]
    },
    {
     "name": "stderr",
     "output_type": "stream",
     "text": [
      "Epoch 1/3 [Training]:  88%|████████▊ | 350/400 [04:01<00:38,  1.31it/s, Loss=2.72]"
     ]
    },
    {
     "name": "stdout",
     "output_type": "stream",
     "text": [
      "LM Loss: 0.1571, Class Loss: 0.4339\n"
     ]
    },
    {
     "name": "stderr",
     "output_type": "stream",
     "text": [
      "Epoch 1/3 [Training]:  88%|████████▊ | 351/400 [04:02<00:42,  1.17it/s, Loss=2.71]"
     ]
    },
    {
     "name": "stdout",
     "output_type": "stream",
     "text": [
      "LM Loss: 0.2071, Class Loss: 0.8974\n"
     ]
    },
    {
     "name": "stderr",
     "output_type": "stream",
     "text": [
      "Epoch 1/3 [Training]:  88%|████████▊ | 352/400 [04:03<00:43,  1.11it/s, Loss=2.71]"
     ]
    },
    {
     "name": "stdout",
     "output_type": "stream",
     "text": [
      "LM Loss: 0.1343, Class Loss: 0.6309\n"
     ]
    },
    {
     "name": "stderr",
     "output_type": "stream",
     "text": [
      "Epoch 1/3 [Training]:  88%|████████▊ | 353/400 [04:04<00:39,  1.19it/s, Loss=2.7] "
     ]
    },
    {
     "name": "stdout",
     "output_type": "stream",
     "text": [
      "LM Loss: 0.2302, Class Loss: 0.7097\n"
     ]
    },
    {
     "name": "stderr",
     "output_type": "stream",
     "text": [
      "Epoch 1/3 [Training]:  88%|████████▊ | 354/400 [04:05<00:36,  1.27it/s, Loss=2.7]"
     ]
    },
    {
     "name": "stdout",
     "output_type": "stream",
     "text": [
      "LM Loss: 0.1062, Class Loss: 0.5175\n"
     ]
    },
    {
     "name": "stderr",
     "output_type": "stream",
     "text": [
      "Epoch 1/3 [Training]:  89%|████████▉ | 355/400 [04:05<00:34,  1.31it/s, Loss=2.69]"
     ]
    },
    {
     "name": "stdout",
     "output_type": "stream",
     "text": [
      "LM Loss: 0.1154, Class Loss: 0.3669\n"
     ]
    },
    {
     "name": "stderr",
     "output_type": "stream",
     "text": [
      "Epoch 1/3 [Training]:  89%|████████▉ | 356/400 [04:06<00:30,  1.45it/s, Loss=2.69]"
     ]
    },
    {
     "name": "stdout",
     "output_type": "stream",
     "text": [
      "LM Loss: 0.1740, Class Loss: 0.6836\n"
     ]
    },
    {
     "name": "stderr",
     "output_type": "stream",
     "text": [
      "Epoch 1/3 [Training]:  89%|████████▉ | 357/400 [04:07<00:35,  1.23it/s, Loss=2.68]"
     ]
    },
    {
     "name": "stdout",
     "output_type": "stream",
     "text": [
      "LM Loss: 0.1832, Class Loss: 0.6239\n"
     ]
    },
    {
     "name": "stderr",
     "output_type": "stream",
     "text": [
      "Epoch 1/3 [Training]:  90%|████████▉ | 358/400 [04:08<00:31,  1.33it/s, Loss=2.68]"
     ]
    },
    {
     "name": "stdout",
     "output_type": "stream",
     "text": [
      "LM Loss: 0.0969, Class Loss: 0.9679\n"
     ]
    },
    {
     "name": "stderr",
     "output_type": "stream",
     "text": [
      "Epoch 1/3 [Training]:  90%|████████▉ | 359/400 [04:08<00:28,  1.46it/s, Loss=2.67]"
     ]
    },
    {
     "name": "stdout",
     "output_type": "stream",
     "text": [
      "LM Loss: 0.1888, Class Loss: 1.8062\n"
     ]
    },
    {
     "name": "stderr",
     "output_type": "stream",
     "text": [
      "Epoch 1/3 [Training]:  90%|█████████ | 360/400 [04:09<00:28,  1.40it/s, Loss=2.67]"
     ]
    },
    {
     "name": "stdout",
     "output_type": "stream",
     "text": [
      "LM Loss: 0.1149, Class Loss: 1.5908\n"
     ]
    },
    {
     "name": "stderr",
     "output_type": "stream",
     "text": [
      "Epoch 1/3 [Training]:  90%|█████████ | 361/400 [04:10<00:27,  1.40it/s, Loss=2.67]"
     ]
    },
    {
     "name": "stdout",
     "output_type": "stream",
     "text": [
      "LM Loss: 0.1393, Class Loss: 0.4897\n"
     ]
    },
    {
     "name": "stderr",
     "output_type": "stream",
     "text": [
      "Epoch 1/3 [Training]:  90%|█████████ | 362/400 [04:10<00:25,  1.47it/s, Loss=2.66]"
     ]
    },
    {
     "name": "stdout",
     "output_type": "stream",
     "text": [
      "LM Loss: 0.1801, Class Loss: 0.9061\n"
     ]
    },
    {
     "name": "stderr",
     "output_type": "stream",
     "text": [
      "Epoch 1/3 [Training]:  91%|█████████ | 363/400 [04:11<00:25,  1.43it/s, Loss=2.66]"
     ]
    },
    {
     "name": "stdout",
     "output_type": "stream",
     "text": [
      "LM Loss: 0.1859, Class Loss: 0.9086\n"
     ]
    },
    {
     "name": "stderr",
     "output_type": "stream",
     "text": [
      "Epoch 1/3 [Training]:  91%|█████████ | 364/400 [04:12<00:26,  1.35it/s, Loss=2.65]"
     ]
    },
    {
     "name": "stdout",
     "output_type": "stream",
     "text": [
      "LM Loss: 0.0960, Class Loss: 0.7901\n"
     ]
    },
    {
     "name": "stderr",
     "output_type": "stream",
     "text": [
      "Epoch 1/3 [Training]:  91%|█████████▏| 365/400 [04:12<00:23,  1.48it/s, Loss=2.65]"
     ]
    },
    {
     "name": "stdout",
     "output_type": "stream",
     "text": [
      "LM Loss: 0.1817, Class Loss: 0.6435\n"
     ]
    },
    {
     "name": "stderr",
     "output_type": "stream",
     "text": [
      "Epoch 1/3 [Training]:  92%|█████████▏| 366/400 [04:13<00:23,  1.47it/s, Loss=2.65]"
     ]
    },
    {
     "name": "stdout",
     "output_type": "stream",
     "text": [
      "LM Loss: 0.2003, Class Loss: 1.4045\n"
     ]
    },
    {
     "name": "stderr",
     "output_type": "stream",
     "text": [
      "Epoch 1/3 [Training]:  92%|█████████▏| 367/400 [04:14<00:24,  1.37it/s, Loss=2.64]"
     ]
    },
    {
     "name": "stdout",
     "output_type": "stream",
     "text": [
      "LM Loss: 0.0809, Class Loss: 1.7389\n"
     ]
    },
    {
     "name": "stderr",
     "output_type": "stream",
     "text": [
      "Epoch 1/3 [Training]:  92%|█████████▏| 368/400 [04:14<00:20,  1.55it/s, Loss=2.64]"
     ]
    },
    {
     "name": "stdout",
     "output_type": "stream",
     "text": [
      "LM Loss: 0.1605, Class Loss: 0.6433\n"
     ]
    },
    {
     "name": "stderr",
     "output_type": "stream",
     "text": [
      "Epoch 1/3 [Training]:  92%|█████████▏| 369/400 [04:15<00:20,  1.54it/s, Loss=2.63]"
     ]
    },
    {
     "name": "stdout",
     "output_type": "stream",
     "text": [
      "LM Loss: 0.1670, Class Loss: 1.0771\n"
     ]
    },
    {
     "name": "stderr",
     "output_type": "stream",
     "text": [
      "Epoch 1/3 [Training]:  92%|█████████▎| 370/400 [04:16<00:20,  1.48it/s, Loss=2.63]"
     ]
    },
    {
     "name": "stdout",
     "output_type": "stream",
     "text": [
      "LM Loss: 0.1854, Class Loss: 1.7338\n"
     ]
    },
    {
     "name": "stderr",
     "output_type": "stream",
     "text": [
      "Epoch 1/3 [Training]:  93%|█████████▎| 371/400 [04:17<00:19,  1.46it/s, Loss=2.63]"
     ]
    },
    {
     "name": "stdout",
     "output_type": "stream",
     "text": [
      "LM Loss: 0.1333, Class Loss: 0.3216\n"
     ]
    },
    {
     "name": "stderr",
     "output_type": "stream",
     "text": [
      "Epoch 1/3 [Training]:  93%|█████████▎| 372/400 [04:17<00:20,  1.33it/s, Loss=2.63]"
     ]
    },
    {
     "name": "stdout",
     "output_type": "stream",
     "text": [
      "LM Loss: 0.2049, Class Loss: 3.5384\n"
     ]
    },
    {
     "name": "stderr",
     "output_type": "stream",
     "text": [
      "Epoch 1/3 [Training]:  93%|█████████▎| 373/400 [04:18<00:20,  1.34it/s, Loss=2.63]"
     ]
    },
    {
     "name": "stdout",
     "output_type": "stream",
     "text": [
      "LM Loss: 0.0807, Class Loss: 1.2794\n"
     ]
    },
    {
     "name": "stderr",
     "output_type": "stream",
     "text": [
      "Epoch 1/3 [Training]:  94%|█████████▎| 374/400 [04:19<00:17,  1.47it/s, Loss=2.62]"
     ]
    },
    {
     "name": "stdout",
     "output_type": "stream",
     "text": [
      "LM Loss: 0.1840, Class Loss: 0.7790\n"
     ]
    },
    {
     "name": "stderr",
     "output_type": "stream",
     "text": [
      "Epoch 1/3 [Training]:  94%|█████████▍| 375/400 [04:19<00:16,  1.48it/s, Loss=2.62]"
     ]
    },
    {
     "name": "stdout",
     "output_type": "stream",
     "text": [
      "LM Loss: 0.1942, Class Loss: 2.5223\n"
     ]
    },
    {
     "name": "stderr",
     "output_type": "stream",
     "text": [
      "Epoch 1/3 [Training]:  94%|█████████▍| 376/400 [04:20<00:16,  1.48it/s, Loss=2.62]"
     ]
    },
    {
     "name": "stdout",
     "output_type": "stream",
     "text": [
      "LM Loss: 0.1859, Class Loss: 2.4434\n"
     ]
    },
    {
     "name": "stderr",
     "output_type": "stream",
     "text": [
      "Epoch 1/3 [Training]:  94%|█████████▍| 377/400 [04:21<00:14,  1.59it/s, Loss=2.62]"
     ]
    },
    {
     "name": "stdout",
     "output_type": "stream",
     "text": [
      "LM Loss: 0.1573, Class Loss: 2.6232\n"
     ]
    },
    {
     "name": "stderr",
     "output_type": "stream",
     "text": [
      "Epoch 1/3 [Training]:  94%|█████████▍| 378/400 [04:21<00:13,  1.61it/s, Loss=2.62]"
     ]
    },
    {
     "name": "stdout",
     "output_type": "stream",
     "text": [
      "LM Loss: 0.1792, Class Loss: 0.2410\n"
     ]
    },
    {
     "name": "stderr",
     "output_type": "stream",
     "text": [
      "Epoch 1/3 [Training]:  95%|█████████▍| 379/400 [04:22<00:15,  1.32it/s, Loss=2.61]"
     ]
    },
    {
     "name": "stdout",
     "output_type": "stream",
     "text": [
      "LM Loss: 0.1611, Class Loss: 1.0860\n"
     ]
    },
    {
     "name": "stderr",
     "output_type": "stream",
     "text": [
      "Epoch 1/3 [Training]:  95%|█████████▌| 380/400 [04:23<00:13,  1.47it/s, Loss=2.61]"
     ]
    },
    {
     "name": "stdout",
     "output_type": "stream",
     "text": [
      "LM Loss: 0.1863, Class Loss: 0.7415\n"
     ]
    },
    {
     "name": "stderr",
     "output_type": "stream",
     "text": [
      "Epoch 1/3 [Training]:  95%|█████████▌| 381/400 [04:23<00:12,  1.55it/s, Loss=2.61]"
     ]
    },
    {
     "name": "stdout",
     "output_type": "stream",
     "text": [
      "LM Loss: 0.1544, Class Loss: 1.3917\n"
     ]
    },
    {
     "name": "stderr",
     "output_type": "stream",
     "text": [
      "Epoch 1/3 [Training]:  96%|█████████▌| 382/400 [04:24<00:12,  1.46it/s, Loss=2.6] "
     ]
    },
    {
     "name": "stdout",
     "output_type": "stream",
     "text": [
      "LM Loss: 0.1725, Class Loss: 0.6310\n"
     ]
    },
    {
     "name": "stderr",
     "output_type": "stream",
     "text": [
      "Epoch 1/3 [Training]:  96%|█████████▌| 383/400 [04:25<00:10,  1.59it/s, Loss=2.6]"
     ]
    },
    {
     "name": "stdout",
     "output_type": "stream",
     "text": [
      "LM Loss: 0.2215, Class Loss: 0.7710\n"
     ]
    },
    {
     "name": "stderr",
     "output_type": "stream",
     "text": [
      "Epoch 1/3 [Training]:  96%|█████████▌| 384/400 [04:25<00:10,  1.57it/s, Loss=2.59]"
     ]
    },
    {
     "name": "stdout",
     "output_type": "stream",
     "text": [
      "LM Loss: 0.1469, Class Loss: 0.3557\n"
     ]
    },
    {
     "name": "stderr",
     "output_type": "stream",
     "text": [
      "Epoch 1/3 [Training]:  96%|█████████▋| 385/400 [04:26<00:09,  1.63it/s, Loss=2.59]"
     ]
    },
    {
     "name": "stdout",
     "output_type": "stream",
     "text": [
      "LM Loss: 0.3120, Class Loss: 1.3217\n"
     ]
    },
    {
     "name": "stderr",
     "output_type": "stream",
     "text": [
      "Epoch 1/3 [Training]:  96%|█████████▋| 386/400 [04:26<00:08,  1.73it/s, Loss=2.58]"
     ]
    },
    {
     "name": "stdout",
     "output_type": "stream",
     "text": [
      "LM Loss: 0.1093, Class Loss: 0.9522\n"
     ]
    },
    {
     "name": "stderr",
     "output_type": "stream",
     "text": [
      "Epoch 1/3 [Training]:  97%|█████████▋| 387/400 [04:27<00:08,  1.55it/s, Loss=2.58]"
     ]
    },
    {
     "name": "stdout",
     "output_type": "stream",
     "text": [
      "LM Loss: 0.0799, Class Loss: 0.0142\n"
     ]
    },
    {
     "name": "stderr",
     "output_type": "stream",
     "text": [
      "Epoch 1/3 [Training]:  97%|█████████▋| 388/400 [04:28<00:08,  1.45it/s, Loss=2.57]"
     ]
    },
    {
     "name": "stdout",
     "output_type": "stream",
     "text": [
      "LM Loss: 0.1175, Class Loss: 0.8894\n"
     ]
    },
    {
     "name": "stderr",
     "output_type": "stream",
     "text": [
      "Epoch 1/3 [Training]:  97%|█████████▋| 389/400 [04:29<00:07,  1.39it/s, Loss=2.57]"
     ]
    },
    {
     "name": "stdout",
     "output_type": "stream",
     "text": [
      "LM Loss: 0.1967, Class Loss: 2.0657\n"
     ]
    },
    {
     "name": "stderr",
     "output_type": "stream",
     "text": [
      "Epoch 1/3 [Training]:  98%|█████████▊| 390/400 [04:29<00:07,  1.40it/s, Loss=2.57]"
     ]
    },
    {
     "name": "stdout",
     "output_type": "stream",
     "text": [
      "LM Loss: 0.1861, Class Loss: 0.6259\n"
     ]
    },
    {
     "name": "stderr",
     "output_type": "stream",
     "text": [
      "Epoch 1/3 [Training]:  98%|█████████▊| 391/400 [04:30<00:06,  1.43it/s, Loss=2.56]"
     ]
    },
    {
     "name": "stdout",
     "output_type": "stream",
     "text": [
      "LM Loss: 0.0353, Class Loss: 0.1100\n"
     ]
    },
    {
     "name": "stderr",
     "output_type": "stream",
     "text": [
      "Epoch 1/3 [Training]:  98%|█████████▊| 392/400 [04:31<00:05,  1.49it/s, Loss=2.56]"
     ]
    },
    {
     "name": "stdout",
     "output_type": "stream",
     "text": [
      "LM Loss: 0.1582, Class Loss: 1.4134\n"
     ]
    },
    {
     "name": "stderr",
     "output_type": "stream",
     "text": [
      "Epoch 1/3 [Training]:  98%|█████████▊| 393/400 [04:31<00:04,  1.61it/s, Loss=2.56]"
     ]
    },
    {
     "name": "stdout",
     "output_type": "stream",
     "text": [
      "LM Loss: 0.2786, Class Loss: 0.8492\n"
     ]
    },
    {
     "name": "stderr",
     "output_type": "stream",
     "text": [
      "Epoch 1/3 [Training]:  98%|█████████▊| 394/400 [04:32<00:04,  1.49it/s, Loss=2.55]"
     ]
    },
    {
     "name": "stdout",
     "output_type": "stream",
     "text": [
      "LM Loss: 0.1996, Class Loss: 1.6294\n"
     ]
    },
    {
     "name": "stderr",
     "output_type": "stream",
     "text": [
      "Epoch 1/3 [Training]:  99%|█████████▉| 395/400 [04:33<00:03,  1.47it/s, Loss=2.55]"
     ]
    },
    {
     "name": "stdout",
     "output_type": "stream",
     "text": [
      "LM Loss: 0.1678, Class Loss: 2.1057\n"
     ]
    },
    {
     "name": "stderr",
     "output_type": "stream",
     "text": [
      "Epoch 1/3 [Training]:  99%|█████████▉| 396/400 [04:33<00:02,  1.46it/s, Loss=2.55]"
     ]
    },
    {
     "name": "stdout",
     "output_type": "stream",
     "text": [
      "LM Loss: 0.0926, Class Loss: 0.8708\n"
     ]
    },
    {
     "name": "stderr",
     "output_type": "stream",
     "text": [
      "Epoch 1/3 [Training]:  99%|█████████▉| 397/400 [04:34<00:02,  1.45it/s, Loss=2.55]"
     ]
    },
    {
     "name": "stdout",
     "output_type": "stream",
     "text": [
      "LM Loss: 0.1431, Class Loss: 1.8090\n"
     ]
    },
    {
     "name": "stderr",
     "output_type": "stream",
     "text": [
      "Epoch 1/3 [Training]: 100%|█████████▉| 398/400 [04:35<00:01,  1.36it/s, Loss=2.54]"
     ]
    },
    {
     "name": "stdout",
     "output_type": "stream",
     "text": [
      "LM Loss: 0.2414, Class Loss: 0.3226\n"
     ]
    },
    {
     "name": "stderr",
     "output_type": "stream",
     "text": [
      "Epoch 1/3 [Training]: 100%|█████████▉| 399/400 [04:36<00:00,  1.27it/s, Loss=2.54]"
     ]
    },
    {
     "name": "stdout",
     "output_type": "stream",
     "text": [
      "LM Loss: 0.1267, Class Loss: 0.6930\n"
     ]
    },
    {
     "name": "stderr",
     "output_type": "stream",
     "text": [
      "Epoch 1/3 [Training]: 100%|██████████| 400/400 [04:37<00:00,  1.44it/s, Loss=2.53]\n"
     ]
    },
    {
     "name": "stdout",
     "output_type": "stream",
     "text": [
      "LM Loss: 0.1340, Class Loss: 0.7621\n",
      "Epoch 1/3, Average Loss: 2.534974868632853\n"
     ]
    },
    {
     "name": "stderr",
     "output_type": "stream",
     "text": [
      "[Evaluating]:   0%|          | 0/100 [00:00<?, ?it/s]We detected that you are passing `past_key_values` as a tuple and this is deprecated and will be removed in v4.43. Please use an appropriate `Cache` class (https://huggingface.co/docs/transformers/v4.41.3/en/internal/generation_utils#transformers.Cache)\n",
      "[Evaluating]: 100%|██████████| 100/100 [00:34<00:00,  2.91it/s]\n"
     ]
    },
    {
     "name": "stdout",
     "output_type": "stream",
     "text": [
      "Validation - LM Loss: 0.1536, Classification Accuracy: 0.5850\n"
     ]
    },
    {
     "name": "stderr",
     "output_type": "stream",
     "text": [
      "Epoch 2/3 [Training]:   0%|          | 1/400 [00:00<05:35,  1.19it/s, Loss=1.25]"
     ]
    },
    {
     "name": "stdout",
     "output_type": "stream",
     "text": [
      "LM Loss: 0.1576, Class Loss: 1.0900\n"
     ]
    },
    {
     "name": "stderr",
     "output_type": "stream",
     "text": [
      "Epoch 2/3 [Training]:   0%|          | 2/400 [00:01<05:02,  1.32it/s, Loss=1.72]"
     ]
    },
    {
     "name": "stdout",
     "output_type": "stream",
     "text": [
      "LM Loss: 0.2394, Class Loss: 1.9538\n"
     ]
    },
    {
     "name": "stderr",
     "output_type": "stream",
     "text": [
      "Epoch 2/3 [Training]:   1%|          | 3/400 [00:02<04:52,  1.36it/s, Loss=1.65]"
     ]
    },
    {
     "name": "stdout",
     "output_type": "stream",
     "text": [
      "LM Loss: 0.2350, Class Loss: 1.2694\n"
     ]
    },
    {
     "name": "stderr",
     "output_type": "stream",
     "text": [
      "Epoch 2/3 [Training]:   1%|          | 4/400 [00:03<05:44,  1.15it/s, Loss=1.62]"
     ]
    },
    {
     "name": "stdout",
     "output_type": "stream",
     "text": [
      "LM Loss: 0.2124, Class Loss: 1.3155\n"
     ]
    },
    {
     "name": "stderr",
     "output_type": "stream",
     "text": [
      "Epoch 2/3 [Training]:   1%|▏         | 5/400 [00:03<04:59,  1.32it/s, Loss=1.77]"
     ]
    },
    {
     "name": "stdout",
     "output_type": "stream",
     "text": [
      "LM Loss: 0.2169, Class Loss: 2.1451\n"
     ]
    },
    {
     "name": "stderr",
     "output_type": "stream",
     "text": [
      "Epoch 2/3 [Training]:   2%|▏         | 6/400 [00:04<04:27,  1.47it/s, Loss=1.56]"
     ]
    },
    {
     "name": "stdout",
     "output_type": "stream",
     "text": [
      "LM Loss: 0.0755, Class Loss: 0.4494\n"
     ]
    },
    {
     "name": "stderr",
     "output_type": "stream",
     "text": [
      "Epoch 2/3 [Training]:   2%|▏         | 7/400 [00:05<04:55,  1.33it/s, Loss=1.42]"
     ]
    },
    {
     "name": "stdout",
     "output_type": "stream",
     "text": [
      "LM Loss: 0.1926, Class Loss: 0.4048\n"
     ]
    },
    {
     "name": "stderr",
     "output_type": "stream",
     "text": [
      "Epoch 2/3 [Training]:   2%|▏         | 8/400 [00:06<04:47,  1.36it/s, Loss=1.29]"
     ]
    },
    {
     "name": "stdout",
     "output_type": "stream",
     "text": [
      "LM Loss: 0.1557, Class Loss: 0.2197\n"
     ]
    },
    {
     "name": "stderr",
     "output_type": "stream",
     "text": [
      "Epoch 2/3 [Training]:   2%|▏         | 9/400 [00:06<04:54,  1.33it/s, Loss=1.27]"
     ]
    },
    {
     "name": "stdout",
     "output_type": "stream",
     "text": [
      "LM Loss: 0.1672, Class Loss: 0.9505\n"
     ]
    },
    {
     "name": "stderr",
     "output_type": "stream",
     "text": [
      "Epoch 2/3 [Training]:   2%|▎         | 10/400 [00:07<04:23,  1.48it/s, Loss=1.25]"
     ]
    },
    {
     "name": "stdout",
     "output_type": "stream",
     "text": [
      "LM Loss: 0.1454, Class Loss: 0.8992\n"
     ]
    },
    {
     "name": "stderr",
     "output_type": "stream",
     "text": [
      "Epoch 2/3 [Training]:   3%|▎         | 11/400 [00:08<04:26,  1.46it/s, Loss=1.22]"
     ]
    },
    {
     "name": "stdout",
     "output_type": "stream",
     "text": [
      "LM Loss: 0.0631, Class Loss: 0.8648\n"
     ]
    },
    {
     "name": "stderr",
     "output_type": "stream",
     "text": [
      "Epoch 2/3 [Training]:   3%|▎         | 12/400 [00:09<05:09,  1.25it/s, Loss=1.27]"
     ]
    },
    {
     "name": "stdout",
     "output_type": "stream",
     "text": [
      "LM Loss: 0.2251, Class Loss: 1.6137\n"
     ]
    },
    {
     "name": "stderr",
     "output_type": "stream",
     "text": [
      "Epoch 2/3 [Training]:   3%|▎         | 13/400 [00:09<05:14,  1.23it/s, Loss=1.35]"
     ]
    },
    {
     "name": "stdout",
     "output_type": "stream",
     "text": [
      "LM Loss: 0.2422, Class Loss: 2.0812\n"
     ]
    },
    {
     "name": "stderr",
     "output_type": "stream",
     "text": [
      "Epoch 2/3 [Training]:   4%|▎         | 14/400 [00:10<05:11,  1.24it/s, Loss=1.27]"
     ]
    },
    {
     "name": "stdout",
     "output_type": "stream",
     "text": [
      "LM Loss: 0.1109, Class Loss: 0.0859\n"
     ]
    },
    {
     "name": "stderr",
     "output_type": "stream",
     "text": [
      "Epoch 2/3 [Training]:   4%|▍         | 15/400 [00:11<04:53,  1.31it/s, Loss=1.25]"
     ]
    },
    {
     "name": "stdout",
     "output_type": "stream",
     "text": [
      "LM Loss: 0.2673, Class Loss: 0.6364\n"
     ]
    },
    {
     "name": "stderr",
     "output_type": "stream",
     "text": [
      "Epoch 2/3 [Training]:   4%|▍         | 16/400 [00:11<04:25,  1.45it/s, Loss=1.2] "
     ]
    },
    {
     "name": "stdout",
     "output_type": "stream",
     "text": [
      "LM Loss: 0.0633, Class Loss: 0.4511\n"
     ]
    },
    {
     "name": "stderr",
     "output_type": "stream",
     "text": [
      "Epoch 2/3 [Training]:   4%|▍         | 17/400 [00:12<04:36,  1.39it/s, Loss=1.16]"
     ]
    },
    {
     "name": "stdout",
     "output_type": "stream",
     "text": [
      "LM Loss: 0.2528, Class Loss: 0.2282\n"
     ]
    },
    {
     "name": "stderr",
     "output_type": "stream",
     "text": [
      "Epoch 2/3 [Training]:   4%|▍         | 18/400 [00:13<04:32,  1.40it/s, Loss=1.19]"
     ]
    },
    {
     "name": "stdout",
     "output_type": "stream",
     "text": [
      "LM Loss: 0.1039, Class Loss: 1.5939\n"
     ]
    },
    {
     "name": "stderr",
     "output_type": "stream",
     "text": [
      "Epoch 2/3 [Training]:   5%|▍         | 19/400 [00:14<04:46,  1.33it/s, Loss=1.27]"
     ]
    },
    {
     "name": "stdout",
     "output_type": "stream",
     "text": [
      "LM Loss: 0.2091, Class Loss: 2.4927\n"
     ]
    },
    {
     "name": "stderr",
     "output_type": "stream",
     "text": [
      "Epoch 2/3 [Training]:   5%|▌         | 20/400 [00:14<04:39,  1.36it/s, Loss=1.33]"
     ]
    },
    {
     "name": "stdout",
     "output_type": "stream",
     "text": [
      "LM Loss: 0.2005, Class Loss: 2.3715\n"
     ]
    },
    {
     "name": "stderr",
     "output_type": "stream",
     "text": [
      "Epoch 2/3 [Training]:   5%|▌         | 21/400 [00:15<04:39,  1.36it/s, Loss=1.36]"
     ]
    },
    {
     "name": "stdout",
     "output_type": "stream",
     "text": [
      "LM Loss: 0.1662, Class Loss: 1.6832\n"
     ]
    },
    {
     "name": "stderr",
     "output_type": "stream",
     "text": [
      "Epoch 2/3 [Training]:   6%|▌         | 22/400 [00:16<04:57,  1.27it/s, Loss=1.35]"
     ]
    },
    {
     "name": "stdout",
     "output_type": "stream",
     "text": [
      "LM Loss: 0.1437, Class Loss: 1.0272\n"
     ]
    },
    {
     "name": "stderr",
     "output_type": "stream",
     "text": [
      "Epoch 2/3 [Training]:   6%|▌         | 23/400 [00:17<04:47,  1.31it/s, Loss=1.35]"
     ]
    },
    {
     "name": "stdout",
     "output_type": "stream",
     "text": [
      "LM Loss: 0.2583, Class Loss: 1.0351\n"
     ]
    },
    {
     "name": "stderr",
     "output_type": "stream",
     "text": [
      "Epoch 2/3 [Training]:   6%|▌         | 24/400 [00:18<04:56,  1.27it/s, Loss=1.31]"
     ]
    },
    {
     "name": "stdout",
     "output_type": "stream",
     "text": [
      "LM Loss: 0.1142, Class Loss: 0.2900\n"
     ]
    },
    {
     "name": "stderr",
     "output_type": "stream",
     "text": [
      "Epoch 2/3 [Training]:   6%|▋         | 25/400 [00:19<05:14,  1.19it/s, Loss=1.31]"
     ]
    },
    {
     "name": "stdout",
     "output_type": "stream",
     "text": [
      "LM Loss: 0.1392, Class Loss: 1.2346\n"
     ]
    },
    {
     "name": "stderr",
     "output_type": "stream",
     "text": [
      "Epoch 2/3 [Training]:   6%|▋         | 26/400 [00:19<04:54,  1.27it/s, Loss=1.3] "
     ]
    },
    {
     "name": "stdout",
     "output_type": "stream",
     "text": [
      "LM Loss: 0.1333, Class Loss: 0.8114\n"
     ]
    },
    {
     "name": "stderr",
     "output_type": "stream",
     "text": [
      "Epoch 2/3 [Training]:   7%|▋         | 27/400 [00:20<04:33,  1.36it/s, Loss=1.26]"
     ]
    },
    {
     "name": "stdout",
     "output_type": "stream",
     "text": [
      "LM Loss: 0.1948, Class Loss: 0.2178\n"
     ]
    },
    {
     "name": "stderr",
     "output_type": "stream",
     "text": [
      "Epoch 2/3 [Training]:   7%|▋         | 28/400 [00:21<04:29,  1.38it/s, Loss=1.26]"
     ]
    },
    {
     "name": "stdout",
     "output_type": "stream",
     "text": [
      "LM Loss: 0.1429, Class Loss: 1.1745\n"
     ]
    },
    {
     "name": "stderr",
     "output_type": "stream",
     "text": [
      "Epoch 2/3 [Training]:   7%|▋         | 29/400 [00:21<04:30,  1.37it/s, Loss=1.25]"
     ]
    },
    {
     "name": "stdout",
     "output_type": "stream",
     "text": [
      "LM Loss: 0.1077, Class Loss: 0.8662\n"
     ]
    },
    {
     "name": "stderr",
     "output_type": "stream",
     "text": [
      "Epoch 2/3 [Training]:   8%|▊         | 30/400 [00:22<04:30,  1.37it/s, Loss=1.23]"
     ]
    },
    {
     "name": "stdout",
     "output_type": "stream",
     "text": [
      "LM Loss: 0.0819, Class Loss: 0.4684\n"
     ]
    },
    {
     "name": "stderr",
     "output_type": "stream",
     "text": [
      "Epoch 2/3 [Training]:   8%|▊         | 31/400 [00:23<04:16,  1.44it/s, Loss=1.22]"
     ]
    },
    {
     "name": "stdout",
     "output_type": "stream",
     "text": [
      "LM Loss: 0.1348, Class Loss: 0.7729\n"
     ]
    },
    {
     "name": "stderr",
     "output_type": "stream",
     "text": [
      "Epoch 2/3 [Training]:   8%|▊         | 32/400 [00:23<04:06,  1.50it/s, Loss=1.21]"
     ]
    },
    {
     "name": "stdout",
     "output_type": "stream",
     "text": [
      "LM Loss: 0.1759, Class Loss: 0.5485\n"
     ]
    },
    {
     "name": "stderr",
     "output_type": "stream",
     "text": [
      "Epoch 2/3 [Training]:   8%|▊         | 33/400 [00:24<03:58,  1.54it/s, Loss=1.18]"
     ]
    },
    {
     "name": "stdout",
     "output_type": "stream",
     "text": [
      "LM Loss: 0.0976, Class Loss: 0.1581\n"
     ]
    },
    {
     "name": "stderr",
     "output_type": "stream",
     "text": [
      "Epoch 2/3 [Training]:   8%|▊         | 34/400 [00:24<03:53,  1.57it/s, Loss=1.16]"
     ]
    },
    {
     "name": "stdout",
     "output_type": "stream",
     "text": [
      "LM Loss: 0.1992, Class Loss: 0.2413\n"
     ]
    },
    {
     "name": "stderr",
     "output_type": "stream",
     "text": [
      "Epoch 2/3 [Training]:   9%|▉         | 35/400 [00:25<03:59,  1.52it/s, Loss=1.15]"
     ]
    },
    {
     "name": "stdout",
     "output_type": "stream",
     "text": [
      "LM Loss: 0.1807, Class Loss: 0.7146\n"
     ]
    },
    {
     "name": "stderr",
     "output_type": "stream",
     "text": [
      "Epoch 2/3 [Training]:   9%|▉         | 36/400 [00:26<04:07,  1.47it/s, Loss=1.17]"
     ]
    },
    {
     "name": "stdout",
     "output_type": "stream",
     "text": [
      "LM Loss: 0.1337, Class Loss: 1.8399\n"
     ]
    },
    {
     "name": "stderr",
     "output_type": "stream",
     "text": [
      "Epoch 2/3 [Training]:   9%|▉         | 37/400 [00:26<03:50,  1.57it/s, Loss=1.17]"
     ]
    },
    {
     "name": "stdout",
     "output_type": "stream",
     "text": [
      "LM Loss: 0.1957, Class Loss: 0.8548\n"
     ]
    },
    {
     "name": "stderr",
     "output_type": "stream",
     "text": [
      "Epoch 2/3 [Training]:  10%|▉         | 38/400 [00:27<03:57,  1.52it/s, Loss=1.19]"
     ]
    },
    {
     "name": "stdout",
     "output_type": "stream",
     "text": [
      "LM Loss: 0.1530, Class Loss: 1.9555\n"
     ]
    },
    {
     "name": "stderr",
     "output_type": "stream",
     "text": [
      "Epoch 2/3 [Training]:  10%|▉         | 39/400 [00:28<04:05,  1.47it/s, Loss=1.19]"
     ]
    },
    {
     "name": "stdout",
     "output_type": "stream",
     "text": [
      "LM Loss: 0.0978, Class Loss: 0.9152\n"
     ]
    },
    {
     "name": "stderr",
     "output_type": "stream",
     "text": [
      "Epoch 2/3 [Training]:  10%|█         | 40/400 [00:29<04:02,  1.48it/s, Loss=1.21]"
     ]
    },
    {
     "name": "stdout",
     "output_type": "stream",
     "text": [
      "LM Loss: 0.0932, Class Loss: 1.9461\n"
     ]
    },
    {
     "name": "stderr",
     "output_type": "stream",
     "text": [
      "Epoch 2/3 [Training]:  10%|█         | 41/400 [00:29<04:00,  1.49it/s, Loss=1.21]"
     ]
    },
    {
     "name": "stdout",
     "output_type": "stream",
     "text": [
      "LM Loss: 0.2841, Class Loss: 1.1040\n"
     ]
    },
    {
     "name": "stderr",
     "output_type": "stream",
     "text": [
      "Epoch 2/3 [Training]:  10%|█         | 42/400 [00:30<03:46,  1.58it/s, Loss=1.2] "
     ]
    },
    {
     "name": "stdout",
     "output_type": "stream",
     "text": [
      "LM Loss: 0.1445, Class Loss: 0.5883\n"
     ]
    },
    {
     "name": "stderr",
     "output_type": "stream",
     "text": [
      "Epoch 2/3 [Training]:  11%|█         | 43/400 [00:30<03:37,  1.64it/s, Loss=1.2]"
     ]
    },
    {
     "name": "stdout",
     "output_type": "stream",
     "text": [
      "LM Loss: 0.1879, Class Loss: 1.0745\n"
     ]
    },
    {
     "name": "stderr",
     "output_type": "stream",
     "text": [
      "Epoch 2/3 [Training]:  11%|█         | 44/400 [00:31<03:13,  1.84it/s, Loss=1.2]"
     ]
    },
    {
     "name": "stdout",
     "output_type": "stream",
     "text": [
      "LM Loss: 0.1059, Class Loss: 1.0325\n"
     ]
    },
    {
     "name": "stderr",
     "output_type": "stream",
     "text": [
      "Epoch 2/3 [Training]:  11%|█▏        | 45/400 [00:31<03:25,  1.73it/s, Loss=1.18]"
     ]
    },
    {
     "name": "stdout",
     "output_type": "stream",
     "text": [
      "LM Loss: 0.1115, Class Loss: 0.2835\n"
     ]
    },
    {
     "name": "stderr",
     "output_type": "stream",
     "text": [
      "Epoch 2/3 [Training]:  12%|█▏        | 46/400 [00:32<04:10,  1.41it/s, Loss=1.22]"
     ]
    },
    {
     "name": "stdout",
     "output_type": "stream",
     "text": [
      "LM Loss: 0.3249, Class Loss: 2.4022\n"
     ]
    },
    {
     "name": "stderr",
     "output_type": "stream",
     "text": [
      "Epoch 2/3 [Training]:  12%|█▏        | 47/400 [00:33<04:04,  1.44it/s, Loss=1.21]"
     ]
    },
    {
     "name": "stdout",
     "output_type": "stream",
     "text": [
      "LM Loss: 0.0990, Class Loss: 0.5910\n"
     ]
    },
    {
     "name": "stderr",
     "output_type": "stream",
     "text": [
      "Epoch 2/3 [Training]:  12%|█▏        | 48/400 [00:34<04:19,  1.36it/s, Loss=1.19]"
     ]
    },
    {
     "name": "stdout",
     "output_type": "stream",
     "text": [
      "LM Loss: 0.1501, Class Loss: 0.3147\n"
     ]
    },
    {
     "name": "stderr",
     "output_type": "stream",
     "text": [
      "Epoch 2/3 [Training]:  12%|█▏        | 49/400 [00:35<04:29,  1.30it/s, Loss=1.2] "
     ]
    },
    {
     "name": "stdout",
     "output_type": "stream",
     "text": [
      "LM Loss: 0.2246, Class Loss: 1.6451\n"
     ]
    },
    {
     "name": "stderr",
     "output_type": "stream",
     "text": [
      "Epoch 2/3 [Training]:  12%|█▎        | 50/400 [00:35<04:03,  1.44it/s, Loss=1.19]"
     ]
    },
    {
     "name": "stdout",
     "output_type": "stream",
     "text": [
      "LM Loss: 0.2409, Class Loss: 0.3692\n"
     ]
    },
    {
     "name": "stderr",
     "output_type": "stream",
     "text": [
      "Epoch 2/3 [Training]:  13%|█▎        | 51/400 [00:36<03:45,  1.55it/s, Loss=1.18]"
     ]
    },
    {
     "name": "stdout",
     "output_type": "stream",
     "text": [
      "LM Loss: 0.1169, Class Loss: 0.5841\n"
     ]
    },
    {
     "name": "stderr",
     "output_type": "stream",
     "text": [
      "Epoch 2/3 [Training]:  13%|█▎        | 52/400 [00:36<03:50,  1.51it/s, Loss=1.19]"
     ]
    },
    {
     "name": "stdout",
     "output_type": "stream",
     "text": [
      "LM Loss: 0.1549, Class Loss: 1.1936\n"
     ]
    },
    {
     "name": "stderr",
     "output_type": "stream",
     "text": [
      "Epoch 2/3 [Training]:  13%|█▎        | 53/400 [00:37<03:57,  1.46it/s, Loss=1.22]"
     ]
    },
    {
     "name": "stdout",
     "output_type": "stream",
     "text": [
      "LM Loss: 0.2654, Class Loss: 2.5387\n"
     ]
    },
    {
     "name": "stderr",
     "output_type": "stream",
     "text": [
      "Epoch 2/3 [Training]:  14%|█▎        | 54/400 [00:38<04:02,  1.43it/s, Loss=1.22]"
     ]
    },
    {
     "name": "stdout",
     "output_type": "stream",
     "text": [
      "LM Loss: 0.2404, Class Loss: 1.0339\n"
     ]
    },
    {
     "name": "stderr",
     "output_type": "stream",
     "text": [
      "Epoch 2/3 [Training]:  14%|█▍        | 55/400 [00:39<03:52,  1.49it/s, Loss=1.21]"
     ]
    },
    {
     "name": "stdout",
     "output_type": "stream",
     "text": [
      "LM Loss: 0.1131, Class Loss: 0.7038\n"
     ]
    },
    {
     "name": "stderr",
     "output_type": "stream",
     "text": [
      "Epoch 2/3 [Training]:  14%|█▍        | 56/400 [00:39<04:15,  1.35it/s, Loss=1.21]"
     ]
    },
    {
     "name": "stdout",
     "output_type": "stream",
     "text": [
      "LM Loss: 0.4077, Class Loss: 0.5280\n"
     ]
    },
    {
     "name": "stderr",
     "output_type": "stream",
     "text": [
      "Epoch 2/3 [Training]:  14%|█▍        | 57/400 [00:40<04:13,  1.35it/s, Loss=1.19]"
     ]
    },
    {
     "name": "stdout",
     "output_type": "stream",
     "text": [
      "LM Loss: 0.0897, Class Loss: 0.1101\n"
     ]
    },
    {
     "name": "stderr",
     "output_type": "stream",
     "text": [
      "Epoch 2/3 [Training]:  14%|█▍        | 58/400 [00:41<04:12,  1.35it/s, Loss=1.17]"
     ]
    },
    {
     "name": "stdout",
     "output_type": "stream",
     "text": [
      "LM Loss: 0.1379, Class Loss: 0.2896\n"
     ]
    },
    {
     "name": "stderr",
     "output_type": "stream",
     "text": [
      "Epoch 2/3 [Training]:  15%|█▍        | 59/400 [00:42<04:17,  1.32it/s, Loss=1.17]"
     ]
    },
    {
     "name": "stdout",
     "output_type": "stream",
     "text": [
      "LM Loss: 0.2377, Class Loss: 0.4981\n"
     ]
    },
    {
     "name": "stderr",
     "output_type": "stream",
     "text": [
      "Epoch 2/3 [Training]:  15%|█▌        | 60/400 [00:42<04:15,  1.33it/s, Loss=1.17]"
     ]
    },
    {
     "name": "stdout",
     "output_type": "stream",
     "text": [
      "LM Loss: 0.2626, Class Loss: 1.3064\n"
     ]
    },
    {
     "name": "stderr",
     "output_type": "stream",
     "text": [
      "Epoch 2/3 [Training]:  15%|█▌        | 61/400 [00:43<04:06,  1.38it/s, Loss=1.16]"
     ]
    },
    {
     "name": "stdout",
     "output_type": "stream",
     "text": [
      "LM Loss: 0.0837, Class Loss: 0.4458\n"
     ]
    },
    {
     "name": "stderr",
     "output_type": "stream",
     "text": [
      "Epoch 2/3 [Training]:  16%|█▌        | 62/400 [00:44<03:53,  1.45it/s, Loss=1.15]"
     ]
    },
    {
     "name": "stdout",
     "output_type": "stream",
     "text": [
      "LM Loss: 0.1748, Class Loss: 0.4361\n"
     ]
    },
    {
     "name": "stderr",
     "output_type": "stream",
     "text": [
      "Epoch 2/3 [Training]:  16%|█▌        | 63/400 [00:44<03:53,  1.45it/s, Loss=1.14]"
     ]
    },
    {
     "name": "stdout",
     "output_type": "stream",
     "text": [
      "LM Loss: 0.1432, Class Loss: 0.3341\n"
     ]
    },
    {
     "name": "stderr",
     "output_type": "stream",
     "text": [
      "Epoch 2/3 [Training]:  16%|█▌        | 64/400 [00:45<03:33,  1.57it/s, Loss=1.15]"
     ]
    },
    {
     "name": "stdout",
     "output_type": "stream",
     "text": [
      "LM Loss: 0.1496, Class Loss: 1.6524\n"
     ]
    },
    {
     "name": "stderr",
     "output_type": "stream",
     "text": [
      "Epoch 2/3 [Training]:  16%|█▋        | 65/400 [00:46<03:48,  1.47it/s, Loss=1.15]"
     ]
    },
    {
     "name": "stdout",
     "output_type": "stream",
     "text": [
      "LM Loss: 0.2105, Class Loss: 0.8859\n"
     ]
    },
    {
     "name": "stderr",
     "output_type": "stream",
     "text": [
      "Epoch 2/3 [Training]:  16%|█▋        | 66/400 [00:46<03:32,  1.57it/s, Loss=1.15]"
     ]
    },
    {
     "name": "stdout",
     "output_type": "stream",
     "text": [
      "LM Loss: 0.0665, Class Loss: 0.9860\n"
     ]
    },
    {
     "name": "stderr",
     "output_type": "stream",
     "text": [
      "Epoch 2/3 [Training]:  17%|█▋        | 67/400 [00:47<03:38,  1.53it/s, Loss=1.16]"
     ]
    },
    {
     "name": "stdout",
     "output_type": "stream",
     "text": [
      "LM Loss: 0.1757, Class Loss: 1.3222\n"
     ]
    },
    {
     "name": "stderr",
     "output_type": "stream",
     "text": [
      "Epoch 2/3 [Training]:  17%|█▋        | 68/400 [00:48<03:51,  1.43it/s, Loss=1.15]"
     ]
    },
    {
     "name": "stdout",
     "output_type": "stream",
     "text": [
      "LM Loss: 0.1235, Class Loss: 0.5758\n"
     ]
    },
    {
     "name": "stderr",
     "output_type": "stream",
     "text": [
      "Epoch 2/3 [Training]:  17%|█▋        | 69/400 [00:49<04:05,  1.35it/s, Loss=1.14]"
     ]
    },
    {
     "name": "stdout",
     "output_type": "stream",
     "text": [
      "LM Loss: 0.1463, Class Loss: 0.5485\n"
     ]
    },
    {
     "name": "stderr",
     "output_type": "stream",
     "text": [
      "Epoch 2/3 [Training]:  18%|█▊        | 70/400 [00:49<04:14,  1.30it/s, Loss=1.17]"
     ]
    },
    {
     "name": "stdout",
     "output_type": "stream",
     "text": [
      "LM Loss: 0.1872, Class Loss: 2.4694\n"
     ]
    },
    {
     "name": "stderr",
     "output_type": "stream",
     "text": [
      "Epoch 2/3 [Training]:  18%|█▊        | 71/400 [00:50<03:52,  1.42it/s, Loss=1.17]"
     ]
    },
    {
     "name": "stdout",
     "output_type": "stream",
     "text": [
      "LM Loss: 0.1766, Class Loss: 1.0888\n"
     ]
    },
    {
     "name": "stderr",
     "output_type": "stream",
     "text": [
      "Epoch 2/3 [Training]:  18%|█▊        | 72/400 [00:51<03:41,  1.48it/s, Loss=1.16]"
     ]
    },
    {
     "name": "stdout",
     "output_type": "stream",
     "text": [
      "LM Loss: 0.2088, Class Loss: 0.4647\n"
     ]
    },
    {
     "name": "stderr",
     "output_type": "stream",
     "text": [
      "Epoch 2/3 [Training]:  18%|█▊        | 73/400 [00:51<03:47,  1.44it/s, Loss=1.16]"
     ]
    },
    {
     "name": "stdout",
     "output_type": "stream",
     "text": [
      "LM Loss: 0.1289, Class Loss: 1.0310\n"
     ]
    },
    {
     "name": "stderr",
     "output_type": "stream",
     "text": [
      "Epoch 2/3 [Training]:  18%|█▊        | 74/400 [00:52<03:16,  1.66it/s, Loss=1.15]"
     ]
    },
    {
     "name": "stdout",
     "output_type": "stream",
     "text": [
      "LM Loss: 0.0708, Class Loss: 0.4014\n"
     ]
    },
    {
     "name": "stderr",
     "output_type": "stream",
     "text": [
      "Epoch 2/3 [Training]:  19%|█▉        | 75/400 [00:53<03:39,  1.48it/s, Loss=1.15]"
     ]
    },
    {
     "name": "stdout",
     "output_type": "stream",
     "text": [
      "LM Loss: 0.2044, Class Loss: 1.1867\n"
     ]
    },
    {
     "name": "stderr",
     "output_type": "stream",
     "text": [
      "Epoch 2/3 [Training]:  19%|█▉        | 76/400 [00:54<04:11,  1.29it/s, Loss=1.15]"
     ]
    },
    {
     "name": "stdout",
     "output_type": "stream",
     "text": [
      "LM Loss: 0.0607, Class Loss: 0.7389\n"
     ]
    },
    {
     "name": "stderr",
     "output_type": "stream",
     "text": [
      "Epoch 2/3 [Training]:  19%|█▉        | 77/400 [00:54<03:46,  1.43it/s, Loss=1.14]"
     ]
    },
    {
     "name": "stdout",
     "output_type": "stream",
     "text": [
      "LM Loss: 0.1867, Class Loss: 0.5720\n"
     ]
    },
    {
     "name": "stderr",
     "output_type": "stream",
     "text": [
      "Epoch 2/3 [Training]:  20%|█▉        | 78/400 [00:55<03:54,  1.37it/s, Loss=1.13]"
     ]
    },
    {
     "name": "stdout",
     "output_type": "stream",
     "text": [
      "LM Loss: 0.1315, Class Loss: 0.2738\n"
     ]
    },
    {
     "name": "stderr",
     "output_type": "stream",
     "text": [
      "Epoch 2/3 [Training]:  20%|█▉        | 79/400 [00:56<03:59,  1.34it/s, Loss=1.13]"
     ]
    },
    {
     "name": "stdout",
     "output_type": "stream",
     "text": [
      "LM Loss: 0.1431, Class Loss: 0.4788\n"
     ]
    },
    {
     "name": "stderr",
     "output_type": "stream",
     "text": [
      "Epoch 2/3 [Training]:  20%|██        | 80/400 [00:56<03:45,  1.42it/s, Loss=1.12]"
     ]
    },
    {
     "name": "stdout",
     "output_type": "stream",
     "text": [
      "LM Loss: 0.1256, Class Loss: 0.5018\n"
     ]
    },
    {
     "name": "stderr",
     "output_type": "stream",
     "text": [
      "Epoch 2/3 [Training]:  20%|██        | 81/400 [00:57<03:35,  1.48it/s, Loss=1.13]"
     ]
    },
    {
     "name": "stdout",
     "output_type": "stream",
     "text": [
      "LM Loss: 0.0756, Class Loss: 1.4835\n"
     ]
    },
    {
     "name": "stderr",
     "output_type": "stream",
     "text": [
      "Epoch 2/3 [Training]:  20%|██        | 82/400 [00:57<03:20,  1.58it/s, Loss=1.13]"
     ]
    },
    {
     "name": "stdout",
     "output_type": "stream",
     "text": [
      "LM Loss: 0.1802, Class Loss: 1.4852\n"
     ]
    },
    {
     "name": "stderr",
     "output_type": "stream",
     "text": [
      "Epoch 2/3 [Training]:  21%|██        | 83/400 [00:58<03:26,  1.54it/s, Loss=1.17]"
     ]
    },
    {
     "name": "stdout",
     "output_type": "stream",
     "text": [
      "LM Loss: 0.3261, Class Loss: 3.7664\n"
     ]
    },
    {
     "name": "stderr",
     "output_type": "stream",
     "text": [
      "Epoch 2/3 [Training]:  21%|██        | 84/400 [00:59<03:14,  1.63it/s, Loss=1.17]"
     ]
    },
    {
     "name": "stdout",
     "output_type": "stream",
     "text": [
      "LM Loss: 0.2264, Class Loss: 0.9023\n"
     ]
    },
    {
     "name": "stderr",
     "output_type": "stream",
     "text": [
      "Epoch 2/3 [Training]:  21%|██▏       | 85/400 [00:59<03:02,  1.72it/s, Loss=1.16]"
     ]
    },
    {
     "name": "stdout",
     "output_type": "stream",
     "text": [
      "LM Loss: 0.1761, Class Loss: 0.5211\n"
     ]
    },
    {
     "name": "stderr",
     "output_type": "stream",
     "text": [
      "Epoch 2/3 [Training]:  22%|██▏       | 86/400 [01:00<03:17,  1.59it/s, Loss=1.18]"
     ]
    },
    {
     "name": "stdout",
     "output_type": "stream",
     "text": [
      "LM Loss: 0.0309, Class Loss: 2.3607\n"
     ]
    },
    {
     "name": "stderr",
     "output_type": "stream",
     "text": [
      "Epoch 2/3 [Training]:  22%|██▏       | 87/400 [01:01<03:19,  1.57it/s, Loss=1.17]"
     ]
    },
    {
     "name": "stdout",
     "output_type": "stream",
     "text": [
      "LM Loss: 0.1078, Class Loss: 0.0702\n"
     ]
    },
    {
     "name": "stderr",
     "output_type": "stream",
     "text": [
      "Epoch 2/3 [Training]:  22%|██▏       | 88/400 [01:01<03:11,  1.63it/s, Loss=1.17]"
     ]
    },
    {
     "name": "stdout",
     "output_type": "stream",
     "text": [
      "LM Loss: 0.1249, Class Loss: 1.2517\n"
     ]
    },
    {
     "name": "stderr",
     "output_type": "stream",
     "text": [
      "Epoch 2/3 [Training]:  22%|██▏       | 89/400 [01:02<03:10,  1.64it/s, Loss=1.16]"
     ]
    },
    {
     "name": "stdout",
     "output_type": "stream",
     "text": [
      "LM Loss: 0.1698, Class Loss: 0.3843\n"
     ]
    },
    {
     "name": "stderr",
     "output_type": "stream",
     "text": [
      "Epoch 2/3 [Training]:  22%|██▎       | 90/400 [01:02<03:26,  1.50it/s, Loss=1.15]"
     ]
    },
    {
     "name": "stdout",
     "output_type": "stream",
     "text": [
      "LM Loss: 0.1127, Class Loss: 0.2859\n"
     ]
    },
    {
     "name": "stderr",
     "output_type": "stream",
     "text": [
      "Epoch 2/3 [Training]:  23%|██▎       | 91/400 [01:03<03:05,  1.67it/s, Loss=1.15]"
     ]
    },
    {
     "name": "stdout",
     "output_type": "stream",
     "text": [
      "LM Loss: 0.1465, Class Loss: 0.6561\n"
     ]
    },
    {
     "name": "stderr",
     "output_type": "stream",
     "text": [
      "Epoch 2/3 [Training]:  23%|██▎       | 92/400 [01:04<03:10,  1.62it/s, Loss=1.15]"
     ]
    },
    {
     "name": "stdout",
     "output_type": "stream",
     "text": [
      "LM Loss: 0.1481, Class Loss: 1.0808\n"
     ]
    },
    {
     "name": "stderr",
     "output_type": "stream",
     "text": [
      "Epoch 2/3 [Training]:  23%|██▎       | 93/400 [01:04<02:58,  1.72it/s, Loss=1.16]"
     ]
    },
    {
     "name": "stdout",
     "output_type": "stream",
     "text": [
      "LM Loss: 0.2111, Class Loss: 1.6645\n"
     ]
    },
    {
     "name": "stderr",
     "output_type": "stream",
     "text": [
      "Epoch 2/3 [Training]:  24%|██▎       | 94/400 [01:05<03:12,  1.59it/s, Loss=1.15]"
     ]
    },
    {
     "name": "stdout",
     "output_type": "stream",
     "text": [
      "LM Loss: 0.1260, Class Loss: 0.6040\n"
     ]
    },
    {
     "name": "stderr",
     "output_type": "stream",
     "text": [
      "Epoch 2/3 [Training]:  24%|██▍       | 95/400 [01:05<03:05,  1.65it/s, Loss=1.15]"
     ]
    },
    {
     "name": "stdout",
     "output_type": "stream",
     "text": [
      "LM Loss: 0.1779, Class Loss: 0.5384\n"
     ]
    },
    {
     "name": "stderr",
     "output_type": "stream",
     "text": [
      "Epoch 2/3 [Training]:  24%|██▍       | 96/400 [01:06<03:21,  1.51it/s, Loss=1.14]"
     ]
    },
    {
     "name": "stdout",
     "output_type": "stream",
     "text": [
      "LM Loss: 0.0852, Class Loss: 0.1865\n"
     ]
    },
    {
     "name": "stderr",
     "output_type": "stream",
     "text": [
      "Epoch 2/3 [Training]:  24%|██▍       | 97/400 [01:07<03:20,  1.51it/s, Loss=1.13]"
     ]
    },
    {
     "name": "stdout",
     "output_type": "stream",
     "text": [
      "LM Loss: 0.1655, Class Loss: 0.0979\n"
     ]
    },
    {
     "name": "stderr",
     "output_type": "stream",
     "text": [
      "Epoch 2/3 [Training]:  24%|██▍       | 98/400 [01:07<03:14,  1.55it/s, Loss=1.13]"
     ]
    },
    {
     "name": "stdout",
     "output_type": "stream",
     "text": [
      "LM Loss: 0.2631, Class Loss: 0.5925\n"
     ]
    },
    {
     "name": "stderr",
     "output_type": "stream",
     "text": [
      "Epoch 2/3 [Training]:  25%|██▍       | 99/400 [01:08<03:42,  1.35it/s, Loss=1.12]"
     ]
    },
    {
     "name": "stdout",
     "output_type": "stream",
     "text": [
      "LM Loss: 0.1077, Class Loss: 0.6274\n"
     ]
    },
    {
     "name": "stderr",
     "output_type": "stream",
     "text": [
      "Epoch 2/3 [Training]:  25%|██▌       | 100/400 [01:09<03:30,  1.43it/s, Loss=1.12]"
     ]
    },
    {
     "name": "stdout",
     "output_type": "stream",
     "text": [
      "LM Loss: 0.1559, Class Loss: 0.6093\n"
     ]
    },
    {
     "name": "stderr",
     "output_type": "stream",
     "text": [
      "Epoch 2/3 [Training]:  25%|██▌       | 101/400 [01:10<03:16,  1.52it/s, Loss=1.11]"
     ]
    },
    {
     "name": "stdout",
     "output_type": "stream",
     "text": [
      "LM Loss: 0.2152, Class Loss: 0.2532\n"
     ]
    },
    {
     "name": "stderr",
     "output_type": "stream",
     "text": [
      "Epoch 2/3 [Training]:  26%|██▌       | 102/400 [01:10<03:11,  1.56it/s, Loss=1.12]"
     ]
    },
    {
     "name": "stdout",
     "output_type": "stream",
     "text": [
      "LM Loss: 0.2257, Class Loss: 1.3877\n"
     ]
    },
    {
     "name": "stderr",
     "output_type": "stream",
     "text": [
      "Epoch 2/3 [Training]:  26%|██▌       | 103/400 [01:11<03:12,  1.54it/s, Loss=1.11]"
     ]
    },
    {
     "name": "stdout",
     "output_type": "stream",
     "text": [
      "LM Loss: 0.1298, Class Loss: 0.1868\n"
     ]
    },
    {
     "name": "stderr",
     "output_type": "stream",
     "text": [
      "Epoch 2/3 [Training]:  26%|██▌       | 104/400 [01:11<02:58,  1.66it/s, Loss=1.1] "
     ]
    },
    {
     "name": "stdout",
     "output_type": "stream",
     "text": [
      "LM Loss: 0.1573, Class Loss: 0.2689\n"
     ]
    },
    {
     "name": "stderr",
     "output_type": "stream",
     "text": [
      "Epoch 2/3 [Training]:  26%|██▋       | 105/400 [01:12<02:53,  1.70it/s, Loss=1.11]"
     ]
    },
    {
     "name": "stdout",
     "output_type": "stream",
     "text": [
      "LM Loss: 0.2363, Class Loss: 1.6792\n"
     ]
    },
    {
     "name": "stderr",
     "output_type": "stream",
     "text": [
      "Epoch 2/3 [Training]:  26%|██▋       | 106/400 [01:13<03:06,  1.58it/s, Loss=1.11]"
     ]
    },
    {
     "name": "stdout",
     "output_type": "stream",
     "text": [
      "LM Loss: 0.1518, Class Loss: 0.2784\n"
     ]
    },
    {
     "name": "stderr",
     "output_type": "stream",
     "text": [
      "Epoch 2/3 [Training]:  27%|██▋       | 107/400 [01:13<02:58,  1.64it/s, Loss=1.1] "
     ]
    },
    {
     "name": "stdout",
     "output_type": "stream",
     "text": [
      "LM Loss: 0.0779, Class Loss: 0.0707\n"
     ]
    },
    {
     "name": "stderr",
     "output_type": "stream",
     "text": [
      "Epoch 2/3 [Training]:  27%|██▋       | 108/400 [01:14<02:58,  1.64it/s, Loss=1.09]"
     ]
    },
    {
     "name": "stdout",
     "output_type": "stream",
     "text": [
      "LM Loss: 0.1290, Class Loss: 0.1009\n"
     ]
    },
    {
     "name": "stderr",
     "output_type": "stream",
     "text": [
      "Epoch 2/3 [Training]:  27%|██▋       | 109/400 [01:15<03:22,  1.43it/s, Loss=1.1] "
     ]
    },
    {
     "name": "stdout",
     "output_type": "stream",
     "text": [
      "LM Loss: 0.2223, Class Loss: 2.5533\n"
     ]
    },
    {
     "name": "stderr",
     "output_type": "stream",
     "text": [
      "Epoch 2/3 [Training]:  28%|██▊       | 110/400 [01:15<03:14,  1.49it/s, Loss=1.1]"
     ]
    },
    {
     "name": "stdout",
     "output_type": "stream",
     "text": [
      "LM Loss: 0.0546, Class Loss: 0.3323\n"
     ]
    },
    {
     "name": "stderr",
     "output_type": "stream",
     "text": [
      "Epoch 2/3 [Training]:  28%|██▊       | 111/400 [01:16<03:16,  1.47it/s, Loss=1.09]"
     ]
    },
    {
     "name": "stdout",
     "output_type": "stream",
     "text": [
      "LM Loss: 0.1359, Class Loss: 0.4244\n"
     ]
    },
    {
     "name": "stderr",
     "output_type": "stream",
     "text": [
      "Epoch 2/3 [Training]:  28%|██▊       | 112/400 [01:17<03:20,  1.43it/s, Loss=1.09]"
     ]
    },
    {
     "name": "stdout",
     "output_type": "stream",
     "text": [
      "LM Loss: 0.0607, Class Loss: 0.2168\n"
     ]
    },
    {
     "name": "stderr",
     "output_type": "stream",
     "text": [
      "Epoch 2/3 [Training]:  28%|██▊       | 113/400 [01:17<03:05,  1.55it/s, Loss=1.08]"
     ]
    },
    {
     "name": "stdout",
     "output_type": "stream",
     "text": [
      "LM Loss: 0.1307, Class Loss: 0.2987\n"
     ]
    },
    {
     "name": "stderr",
     "output_type": "stream",
     "text": [
      "Epoch 2/3 [Training]:  28%|██▊       | 114/400 [01:18<03:05,  1.54it/s, Loss=1.07]"
     ]
    },
    {
     "name": "stdout",
     "output_type": "stream",
     "text": [
      "LM Loss: 0.1869, Class Loss: 0.3275\n"
     ]
    },
    {
     "name": "stderr",
     "output_type": "stream",
     "text": [
      "Epoch 2/3 [Training]:  29%|██▉       | 115/400 [01:19<03:12,  1.48it/s, Loss=1.07]"
     ]
    },
    {
     "name": "stdout",
     "output_type": "stream",
     "text": [
      "LM Loss: 0.2315, Class Loss: 0.4526\n"
     ]
    },
    {
     "name": "stderr",
     "output_type": "stream",
     "text": [
      "Epoch 2/3 [Training]:  29%|██▉       | 116/400 [01:19<03:10,  1.49it/s, Loss=1.08]"
     ]
    },
    {
     "name": "stdout",
     "output_type": "stream",
     "text": [
      "LM Loss: 0.1746, Class Loss: 1.7998\n"
     ]
    },
    {
     "name": "stderr",
     "output_type": "stream",
     "text": [
      "Epoch 2/3 [Training]:  29%|██▉       | 117/400 [01:20<03:12,  1.47it/s, Loss=1.08]"
     ]
    },
    {
     "name": "stdout",
     "output_type": "stream",
     "text": [
      "LM Loss: 0.0757, Class Loss: 0.9559\n"
     ]
    },
    {
     "name": "stderr",
     "output_type": "stream",
     "text": [
      "Epoch 2/3 [Training]:  30%|██▉       | 118/400 [01:21<03:05,  1.52it/s, Loss=1.1] "
     ]
    },
    {
     "name": "stdout",
     "output_type": "stream",
     "text": [
      "LM Loss: 0.1294, Class Loss: 3.3749\n"
     ]
    },
    {
     "name": "stderr",
     "output_type": "stream",
     "text": [
      "Epoch 2/3 [Training]:  30%|██▉       | 119/400 [01:21<03:09,  1.49it/s, Loss=1.09]"
     ]
    },
    {
     "name": "stdout",
     "output_type": "stream",
     "text": [
      "LM Loss: 0.1126, Class Loss: 0.1513\n"
     ]
    },
    {
     "name": "stderr",
     "output_type": "stream",
     "text": [
      "Epoch 2/3 [Training]:  30%|███       | 120/400 [01:22<02:58,  1.57it/s, Loss=1.09]"
     ]
    },
    {
     "name": "stdout",
     "output_type": "stream",
     "text": [
      "LM Loss: 0.0892, Class Loss: 0.2398\n"
     ]
    },
    {
     "name": "stderr",
     "output_type": "stream",
     "text": [
      "Epoch 2/3 [Training]:  30%|███       | 121/400 [01:22<02:48,  1.65it/s, Loss=1.09]"
     ]
    },
    {
     "name": "stdout",
     "output_type": "stream",
     "text": [
      "LM Loss: 0.1830, Class Loss: 1.0174\n"
     ]
    },
    {
     "name": "stderr",
     "output_type": "stream",
     "text": [
      "Epoch 2/3 [Training]:  30%|███       | 122/400 [01:23<02:56,  1.58it/s, Loss=1.08]"
     ]
    },
    {
     "name": "stdout",
     "output_type": "stream",
     "text": [
      "LM Loss: 0.1349, Class Loss: 0.5615\n"
     ]
    },
    {
     "name": "stderr",
     "output_type": "stream",
     "text": [
      "Epoch 2/3 [Training]:  31%|███       | 123/400 [01:24<02:53,  1.59it/s, Loss=1.08]"
     ]
    },
    {
     "name": "stdout",
     "output_type": "stream",
     "text": [
      "LM Loss: 0.0857, Class Loss: 0.7746\n"
     ]
    },
    {
     "name": "stderr",
     "output_type": "stream",
     "text": [
      "Epoch 2/3 [Training]:  31%|███       | 124/400 [01:24<02:55,  1.57it/s, Loss=1.08]"
     ]
    },
    {
     "name": "stdout",
     "output_type": "stream",
     "text": [
      "LM Loss: 0.0848, Class Loss: 1.3347\n"
     ]
    },
    {
     "name": "stderr",
     "output_type": "stream",
     "text": [
      "Epoch 2/3 [Training]:  31%|███▏      | 125/400 [01:25<02:56,  1.55it/s, Loss=1.09]"
     ]
    },
    {
     "name": "stdout",
     "output_type": "stream",
     "text": [
      "LM Loss: 0.1796, Class Loss: 1.7329\n"
     ]
    },
    {
     "name": "stderr",
     "output_type": "stream",
     "text": [
      "Epoch 2/3 [Training]:  32%|███▏      | 126/400 [01:26<02:46,  1.64it/s, Loss=1.09]"
     ]
    },
    {
     "name": "stdout",
     "output_type": "stream",
     "text": [
      "LM Loss: 0.1507, Class Loss: 0.7223\n"
     ]
    },
    {
     "name": "stderr",
     "output_type": "stream",
     "text": [
      "Epoch 2/3 [Training]:  32%|███▏      | 127/400 [01:26<02:56,  1.54it/s, Loss=1.08]"
     ]
    },
    {
     "name": "stdout",
     "output_type": "stream",
     "text": [
      "LM Loss: 0.1472, Class Loss: 0.0996\n"
     ]
    },
    {
     "name": "stderr",
     "output_type": "stream",
     "text": [
      "Epoch 2/3 [Training]:  32%|███▏      | 128/400 [01:27<03:01,  1.50it/s, Loss=1.08]"
     ]
    },
    {
     "name": "stdout",
     "output_type": "stream",
     "text": [
      "LM Loss: 0.1571, Class Loss: 0.2817\n"
     ]
    },
    {
     "name": "stderr",
     "output_type": "stream",
     "text": [
      "Epoch 2/3 [Training]:  32%|███▏      | 129/400 [01:28<02:47,  1.62it/s, Loss=1.08]"
     ]
    },
    {
     "name": "stdout",
     "output_type": "stream",
     "text": [
      "LM Loss: 0.0812, Class Loss: 0.9458\n"
     ]
    },
    {
     "name": "stderr",
     "output_type": "stream",
     "text": [
      "Epoch 2/3 [Training]:  32%|███▎      | 130/400 [01:28<03:00,  1.49it/s, Loss=1.07]"
     ]
    },
    {
     "name": "stdout",
     "output_type": "stream",
     "text": [
      "LM Loss: 0.1357, Class Loss: 0.1966\n"
     ]
    },
    {
     "name": "stderr",
     "output_type": "stream",
     "text": [
      "Epoch 2/3 [Training]:  33%|███▎      | 131/400 [01:29<03:09,  1.42it/s, Loss=1.07]"
     ]
    },
    {
     "name": "stdout",
     "output_type": "stream",
     "text": [
      "LM Loss: 0.1406, Class Loss: 0.1441\n"
     ]
    },
    {
     "name": "stderr",
     "output_type": "stream",
     "text": [
      "Epoch 2/3 [Training]:  33%|███▎      | 132/400 [01:30<02:57,  1.51it/s, Loss=1.07]"
     ]
    },
    {
     "name": "stdout",
     "output_type": "stream",
     "text": [
      "LM Loss: 0.1445, Class Loss: 2.1183\n"
     ]
    },
    {
     "name": "stderr",
     "output_type": "stream",
     "text": [
      "Epoch 2/3 [Training]:  33%|███▎      | 133/400 [01:30<02:47,  1.59it/s, Loss=1.07]"
     ]
    },
    {
     "name": "stdout",
     "output_type": "stream",
     "text": [
      "LM Loss: 0.1796, Class Loss: 0.5885\n"
     ]
    },
    {
     "name": "stderr",
     "output_type": "stream",
     "text": [
      "Epoch 2/3 [Training]:  34%|███▎      | 134/400 [01:31<02:55,  1.51it/s, Loss=1.07]"
     ]
    },
    {
     "name": "stdout",
     "output_type": "stream",
     "text": [
      "LM Loss: 0.0760, Class Loss: 0.1631\n"
     ]
    },
    {
     "name": "stderr",
     "output_type": "stream",
     "text": [
      "Epoch 2/3 [Training]:  34%|███▍      | 135/400 [01:31<02:44,  1.61it/s, Loss=1.06]"
     ]
    },
    {
     "name": "stdout",
     "output_type": "stream",
     "text": [
      "LM Loss: 0.1645, Class Loss: 0.7362\n"
     ]
    },
    {
     "name": "stderr",
     "output_type": "stream",
     "text": [
      "Epoch 2/3 [Training]:  34%|███▍      | 136/400 [01:32<02:47,  1.58it/s, Loss=1.07]"
     ]
    },
    {
     "name": "stdout",
     "output_type": "stream",
     "text": [
      "LM Loss: 0.1170, Class Loss: 1.6107\n"
     ]
    },
    {
     "name": "stderr",
     "output_type": "stream",
     "text": [
      "Epoch 2/3 [Training]:  34%|███▍      | 137/400 [01:33<02:54,  1.51it/s, Loss=1.06]"
     ]
    },
    {
     "name": "stdout",
     "output_type": "stream",
     "text": [
      "LM Loss: 0.0489, Class Loss: 0.1961\n"
     ]
    },
    {
     "name": "stderr",
     "output_type": "stream",
     "text": [
      "Epoch 2/3 [Training]:  34%|███▍      | 138/400 [01:34<02:56,  1.48it/s, Loss=1.06]"
     ]
    },
    {
     "name": "stdout",
     "output_type": "stream",
     "text": [
      "LM Loss: 0.0428, Class Loss: 0.1326\n"
     ]
    },
    {
     "name": "stderr",
     "output_type": "stream",
     "text": [
      "Epoch 2/3 [Training]:  35%|███▍      | 139/400 [01:35<03:18,  1.31it/s, Loss=1.05]"
     ]
    },
    {
     "name": "stdout",
     "output_type": "stream",
     "text": [
      "LM Loss: 0.2261, Class Loss: 0.3244\n"
     ]
    },
    {
     "name": "stderr",
     "output_type": "stream",
     "text": [
      "Epoch 2/3 [Training]:  35%|███▌      | 140/400 [01:35<03:16,  1.32it/s, Loss=1.05]"
     ]
    },
    {
     "name": "stdout",
     "output_type": "stream",
     "text": [
      "LM Loss: 0.0628, Class Loss: 0.4526\n"
     ]
    },
    {
     "name": "stderr",
     "output_type": "stream",
     "text": [
      "Epoch 2/3 [Training]:  35%|███▌      | 141/400 [01:36<02:57,  1.46it/s, Loss=1.04]"
     ]
    },
    {
     "name": "stdout",
     "output_type": "stream",
     "text": [
      "LM Loss: 0.0505, Class Loss: 0.2348\n"
     ]
    },
    {
     "name": "stderr",
     "output_type": "stream",
     "text": [
      "Epoch 2/3 [Training]:  36%|███▌      | 142/400 [01:37<03:05,  1.39it/s, Loss=1.04]"
     ]
    },
    {
     "name": "stdout",
     "output_type": "stream",
     "text": [
      "LM Loss: 0.0668, Class Loss: 0.6019\n"
     ]
    },
    {
     "name": "stderr",
     "output_type": "stream",
     "text": [
      "Epoch 2/3 [Training]:  36%|███▌      | 143/400 [01:37<03:03,  1.40it/s, Loss=1.04]"
     ]
    },
    {
     "name": "stdout",
     "output_type": "stream",
     "text": [
      "LM Loss: 0.1873, Class Loss: 0.1254\n"
     ]
    },
    {
     "name": "stderr",
     "output_type": "stream",
     "text": [
      "Epoch 2/3 [Training]:  36%|███▌      | 144/400 [01:38<02:54,  1.46it/s, Loss=1.04]"
     ]
    },
    {
     "name": "stdout",
     "output_type": "stream",
     "text": [
      "LM Loss: 0.1541, Class Loss: 1.3620\n"
     ]
    },
    {
     "name": "stderr",
     "output_type": "stream",
     "text": [
      "Epoch 2/3 [Training]:  36%|███▋      | 145/400 [01:39<03:06,  1.37it/s, Loss=1.05]"
     ]
    },
    {
     "name": "stdout",
     "output_type": "stream",
     "text": [
      "LM Loss: 0.2204, Class Loss: 1.9376\n"
     ]
    },
    {
     "name": "stderr",
     "output_type": "stream",
     "text": [
      "Epoch 2/3 [Training]:  36%|███▋      | 146/400 [01:39<02:48,  1.51it/s, Loss=1.05]"
     ]
    },
    {
     "name": "stdout",
     "output_type": "stream",
     "text": [
      "LM Loss: 0.1143, Class Loss: 0.6034\n"
     ]
    },
    {
     "name": "stderr",
     "output_type": "stream",
     "text": [
      "Epoch 2/3 [Training]:  37%|███▋      | 147/400 [01:40<02:47,  1.51it/s, Loss=1.05]"
     ]
    },
    {
     "name": "stdout",
     "output_type": "stream",
     "text": [
      "LM Loss: 0.2415, Class Loss: 1.1401\n"
     ]
    },
    {
     "name": "stderr",
     "output_type": "stream",
     "text": [
      "Epoch 2/3 [Training]:  37%|███▋      | 148/400 [01:41<02:47,  1.51it/s, Loss=1.04]"
     ]
    },
    {
     "name": "stdout",
     "output_type": "stream",
     "text": [
      "LM Loss: 0.0971, Class Loss: 0.5027\n"
     ]
    },
    {
     "name": "stderr",
     "output_type": "stream",
     "text": [
      "Epoch 2/3 [Training]:  37%|███▋      | 149/400 [01:41<02:36,  1.60it/s, Loss=1.04]"
     ]
    },
    {
     "name": "stdout",
     "output_type": "stream",
     "text": [
      "LM Loss: 0.0454, Class Loss: 0.2581\n"
     ]
    },
    {
     "name": "stderr",
     "output_type": "stream",
     "text": [
      "Epoch 2/3 [Training]:  38%|███▊      | 150/400 [01:42<02:38,  1.58it/s, Loss=1.03]"
     ]
    },
    {
     "name": "stdout",
     "output_type": "stream",
     "text": [
      "LM Loss: 0.0760, Class Loss: 0.1190\n"
     ]
    },
    {
     "name": "stderr",
     "output_type": "stream",
     "text": [
      "Epoch 2/3 [Training]:  38%|███▊      | 151/400 [01:43<02:49,  1.47it/s, Loss=1.03]"
     ]
    },
    {
     "name": "stdout",
     "output_type": "stream",
     "text": [
      "LM Loss: 0.1532, Class Loss: 0.9927\n"
     ]
    },
    {
     "name": "stderr",
     "output_type": "stream",
     "text": [
      "Epoch 2/3 [Training]:  38%|███▊      | 152/400 [01:43<02:39,  1.55it/s, Loss=1.03]"
     ]
    },
    {
     "name": "stdout",
     "output_type": "stream",
     "text": [
      "LM Loss: 0.1355, Class Loss: 0.5291\n"
     ]
    },
    {
     "name": "stderr",
     "output_type": "stream",
     "text": [
      "Epoch 2/3 [Training]:  38%|███▊      | 153/400 [01:44<02:28,  1.66it/s, Loss=1.03]"
     ]
    },
    {
     "name": "stdout",
     "output_type": "stream",
     "text": [
      "LM Loss: 0.1284, Class Loss: 0.4158\n"
     ]
    },
    {
     "name": "stderr",
     "output_type": "stream",
     "text": [
      "Epoch 2/3 [Training]:  38%|███▊      | 154/400 [01:44<02:24,  1.70it/s, Loss=1.03]"
     ]
    },
    {
     "name": "stdout",
     "output_type": "stream",
     "text": [
      "LM Loss: 0.2422, Class Loss: 0.6358\n"
     ]
    },
    {
     "name": "stderr",
     "output_type": "stream",
     "text": [
      "Epoch 2/3 [Training]:  39%|███▉      | 155/400 [01:45<02:17,  1.78it/s, Loss=1.03]"
     ]
    },
    {
     "name": "stdout",
     "output_type": "stream",
     "text": [
      "LM Loss: 0.3144, Class Loss: 0.5963\n"
     ]
    },
    {
     "name": "stderr",
     "output_type": "stream",
     "text": [
      "Epoch 2/3 [Training]:  39%|███▉      | 156/400 [01:45<02:27,  1.66it/s, Loss=1.02]"
     ]
    },
    {
     "name": "stdout",
     "output_type": "stream",
     "text": [
      "LM Loss: 0.0257, Class Loss: 0.0269\n"
     ]
    },
    {
     "name": "stderr",
     "output_type": "stream",
     "text": [
      "Epoch 2/3 [Training]:  39%|███▉      | 157/400 [01:46<02:36,  1.55it/s, Loss=1.02]"
     ]
    },
    {
     "name": "stdout",
     "output_type": "stream",
     "text": [
      "LM Loss: 0.1747, Class Loss: 0.3445\n"
     ]
    },
    {
     "name": "stderr",
     "output_type": "stream",
     "text": [
      "Epoch 2/3 [Training]:  40%|███▉      | 158/400 [01:47<02:42,  1.49it/s, Loss=1.02]"
     ]
    },
    {
     "name": "stdout",
     "output_type": "stream",
     "text": [
      "LM Loss: 0.2334, Class Loss: 1.6387\n"
     ]
    },
    {
     "name": "stderr",
     "output_type": "stream",
     "text": [
      "Epoch 2/3 [Training]:  40%|███▉      | 159/400 [01:48<02:46,  1.45it/s, Loss=1.02]"
     ]
    },
    {
     "name": "stdout",
     "output_type": "stream",
     "text": [
      "LM Loss: 0.0852, Class Loss: 0.2109\n"
     ]
    },
    {
     "name": "stderr",
     "output_type": "stream",
     "text": [
      "Epoch 2/3 [Training]:  40%|████      | 160/400 [01:49<03:08,  1.27it/s, Loss=1.01]"
     ]
    },
    {
     "name": "stdout",
     "output_type": "stream",
     "text": [
      "LM Loss: 0.1105, Class Loss: 0.1289\n"
     ]
    },
    {
     "name": "stderr",
     "output_type": "stream",
     "text": [
      "Epoch 2/3 [Training]:  40%|████      | 161/400 [01:49<02:58,  1.34it/s, Loss=1.02]"
     ]
    },
    {
     "name": "stdout",
     "output_type": "stream",
     "text": [
      "LM Loss: 0.3301, Class Loss: 2.1223\n"
     ]
    },
    {
     "name": "stderr",
     "output_type": "stream",
     "text": [
      "Epoch 2/3 [Training]:  40%|████      | 162/400 [01:50<03:01,  1.31it/s, Loss=1.02]"
     ]
    },
    {
     "name": "stdout",
     "output_type": "stream",
     "text": [
      "LM Loss: 0.1990, Class Loss: 0.5348\n"
     ]
    },
    {
     "name": "stderr",
     "output_type": "stream",
     "text": [
      "Epoch 2/3 [Training]:  41%|████      | 163/400 [01:51<02:41,  1.47it/s, Loss=1.02]"
     ]
    },
    {
     "name": "stdout",
     "output_type": "stream",
     "text": [
      "LM Loss: 0.2291, Class Loss: 0.7714\n"
     ]
    },
    {
     "name": "stderr",
     "output_type": "stream",
     "text": [
      "Epoch 2/3 [Training]:  41%|████      | 164/400 [01:51<02:39,  1.48it/s, Loss=1.02]"
     ]
    },
    {
     "name": "stdout",
     "output_type": "stream",
     "text": [
      "LM Loss: 0.0580, Class Loss: 0.1296\n"
     ]
    },
    {
     "name": "stderr",
     "output_type": "stream",
     "text": [
      "Epoch 2/3 [Training]:  41%|████▏     | 165/400 [01:52<02:34,  1.52it/s, Loss=1.01]"
     ]
    },
    {
     "name": "stdout",
     "output_type": "stream",
     "text": [
      "LM Loss: 0.1151, Class Loss: 0.3289\n"
     ]
    },
    {
     "name": "stderr",
     "output_type": "stream",
     "text": [
      "Epoch 2/3 [Training]:  42%|████▏     | 166/400 [01:53<02:46,  1.41it/s, Loss=1.02]"
     ]
    },
    {
     "name": "stdout",
     "output_type": "stream",
     "text": [
      "LM Loss: 0.1348, Class Loss: 1.4216\n"
     ]
    },
    {
     "name": "stderr",
     "output_type": "stream",
     "text": [
      "Epoch 2/3 [Training]:  42%|████▏     | 167/400 [01:53<02:42,  1.44it/s, Loss=1.01]"
     ]
    },
    {
     "name": "stdout",
     "output_type": "stream",
     "text": [
      "LM Loss: 0.0681, Class Loss: 0.3124\n"
     ]
    },
    {
     "name": "stderr",
     "output_type": "stream",
     "text": [
      "Epoch 2/3 [Training]:  42%|████▏     | 168/400 [01:54<02:42,  1.43it/s, Loss=1.01]"
     ]
    },
    {
     "name": "stdout",
     "output_type": "stream",
     "text": [
      "LM Loss: 0.2811, Class Loss: 0.3052\n"
     ]
    },
    {
     "name": "stderr",
     "output_type": "stream",
     "text": [
      "Epoch 2/3 [Training]:  42%|████▏     | 169/400 [01:55<02:29,  1.54it/s, Loss=1.01]"
     ]
    },
    {
     "name": "stdout",
     "output_type": "stream",
     "text": [
      "LM Loss: 0.0843, Class Loss: 0.6154\n"
     ]
    },
    {
     "name": "stderr",
     "output_type": "stream",
     "text": [
      "Epoch 2/3 [Training]:  42%|████▎     | 170/400 [01:55<02:46,  1.38it/s, Loss=1]   "
     ]
    },
    {
     "name": "stdout",
     "output_type": "stream",
     "text": [
      "LM Loss: 0.0555, Class Loss: 0.4047\n"
     ]
    },
    {
     "name": "stderr",
     "output_type": "stream",
     "text": [
      "Epoch 2/3 [Training]:  43%|████▎     | 171/400 [01:56<02:38,  1.45it/s, Loss=1]"
     ]
    },
    {
     "name": "stdout",
     "output_type": "stream",
     "text": [
      "LM Loss: 0.0881, Class Loss: 0.6046\n"
     ]
    },
    {
     "name": "stderr",
     "output_type": "stream",
     "text": [
      "Epoch 2/3 [Training]:  43%|████▎     | 172/400 [01:57<02:26,  1.56it/s, Loss=1]"
     ]
    },
    {
     "name": "stdout",
     "output_type": "stream",
     "text": [
      "LM Loss: 0.2087, Class Loss: 0.2984\n"
     ]
    },
    {
     "name": "stderr",
     "output_type": "stream",
     "text": [
      "Epoch 2/3 [Training]:  43%|████▎     | 173/400 [01:57<02:16,  1.67it/s, Loss=0.997]"
     ]
    },
    {
     "name": "stdout",
     "output_type": "stream",
     "text": [
      "LM Loss: 0.1183, Class Loss: 0.3731\n"
     ]
    },
    {
     "name": "stderr",
     "output_type": "stream",
     "text": [
      "Epoch 2/3 [Training]:  44%|████▎     | 174/400 [01:58<02:10,  1.73it/s, Loss=0.994]"
     ]
    },
    {
     "name": "stdout",
     "output_type": "stream",
     "text": [
      "LM Loss: 0.0577, Class Loss: 0.4829\n"
     ]
    },
    {
     "name": "stderr",
     "output_type": "stream",
     "text": [
      "Epoch 2/3 [Training]:  44%|████▍     | 175/400 [01:58<02:21,  1.59it/s, Loss=0.99] "
     ]
    },
    {
     "name": "stdout",
     "output_type": "stream",
     "text": [
      "LM Loss: 0.1809, Class Loss: 0.0563\n"
     ]
    },
    {
     "name": "stderr",
     "output_type": "stream",
     "text": [
      "Epoch 2/3 [Training]:  44%|████▍     | 176/400 [01:59<02:46,  1.35it/s, Loss=0.987]"
     ]
    },
    {
     "name": "stdout",
     "output_type": "stream",
     "text": [
      "LM Loss: 0.1677, Class Loss: 0.3110\n"
     ]
    },
    {
     "name": "stderr",
     "output_type": "stream",
     "text": [
      "Epoch 2/3 [Training]:  44%|████▍     | 177/400 [02:00<02:40,  1.39it/s, Loss=0.983]"
     ]
    },
    {
     "name": "stdout",
     "output_type": "stream",
     "text": [
      "LM Loss: 0.0562, Class Loss: 0.2506\n"
     ]
    },
    {
     "name": "stderr",
     "output_type": "stream",
     "text": [
      "Epoch 2/3 [Training]:  44%|████▍     | 178/400 [02:01<02:28,  1.49it/s, Loss=0.978]"
     ]
    },
    {
     "name": "stdout",
     "output_type": "stream",
     "text": [
      "LM Loss: 0.0472, Class Loss: 0.1116\n"
     ]
    },
    {
     "name": "stderr",
     "output_type": "stream",
     "text": [
      "Epoch 2/3 [Training]:  45%|████▍     | 179/400 [02:01<02:35,  1.42it/s, Loss=0.977]"
     ]
    },
    {
     "name": "stdout",
     "output_type": "stream",
     "text": [
      "LM Loss: 0.1033, Class Loss: 0.7106\n"
     ]
    },
    {
     "name": "stderr",
     "output_type": "stream",
     "text": [
      "Epoch 2/3 [Training]:  45%|████▌     | 180/400 [02:02<02:28,  1.48it/s, Loss=0.976]"
     ]
    },
    {
     "name": "stdout",
     "output_type": "stream",
     "text": [
      "LM Loss: 0.1820, Class Loss: 0.5091\n"
     ]
    },
    {
     "name": "stderr",
     "output_type": "stream",
     "text": [
      "Epoch 2/3 [Training]:  45%|████▌     | 181/400 [02:03<02:27,  1.49it/s, Loss=0.971]"
     ]
    },
    {
     "name": "stdout",
     "output_type": "stream",
     "text": [
      "LM Loss: 0.0552, Class Loss: 0.0452\n"
     ]
    },
    {
     "name": "stderr",
     "output_type": "stream",
     "text": [
      "Epoch 2/3 [Training]:  46%|████▌     | 182/400 [02:03<02:15,  1.61it/s, Loss=0.973]"
     ]
    },
    {
     "name": "stdout",
     "output_type": "stream",
     "text": [
      "LM Loss: 0.2300, Class Loss: 1.0406\n"
     ]
    },
    {
     "name": "stderr",
     "output_type": "stream",
     "text": [
      "Epoch 2/3 [Training]:  46%|████▌     | 183/400 [02:04<02:20,  1.55it/s, Loss=0.968]"
     ]
    },
    {
     "name": "stdout",
     "output_type": "stream",
     "text": [
      "LM Loss: 0.0350, Class Loss: 0.0051\n"
     ]
    },
    {
     "name": "stderr",
     "output_type": "stream",
     "text": [
      "Epoch 2/3 [Training]:  46%|████▌     | 184/400 [02:05<02:22,  1.51it/s, Loss=0.964]"
     ]
    },
    {
     "name": "stdout",
     "output_type": "stream",
     "text": [
      "LM Loss: 0.2357, Class Loss: 0.0492\n"
     ]
    },
    {
     "name": "stderr",
     "output_type": "stream",
     "text": [
      "Epoch 2/3 [Training]:  46%|████▋     | 185/400 [02:05<02:11,  1.63it/s, Loss=0.965]"
     ]
    },
    {
     "name": "stdout",
     "output_type": "stream",
     "text": [
      "LM Loss: 0.2165, Class Loss: 0.9316\n"
     ]
    },
    {
     "name": "stderr",
     "output_type": "stream",
     "text": [
      "Epoch 2/3 [Training]:  46%|████▋     | 186/400 [02:06<02:16,  1.57it/s, Loss=0.962]"
     ]
    },
    {
     "name": "stdout",
     "output_type": "stream",
     "text": [
      "LM Loss: 0.0583, Class Loss: 0.3824\n"
     ]
    },
    {
     "name": "stderr",
     "output_type": "stream",
     "text": [
      "Epoch 2/3 [Training]:  47%|████▋     | 187/400 [02:06<02:17,  1.55it/s, Loss=0.958]"
     ]
    },
    {
     "name": "stdout",
     "output_type": "stream",
     "text": [
      "LM Loss: 0.1116, Class Loss: 0.0353\n"
     ]
    },
    {
     "name": "stderr",
     "output_type": "stream",
     "text": [
      "Epoch 2/3 [Training]:  47%|████▋     | 188/400 [02:07<02:14,  1.58it/s, Loss=0.968]"
     ]
    },
    {
     "name": "stdout",
     "output_type": "stream",
     "text": [
      "LM Loss: 0.2551, Class Loss: 2.5490\n"
     ]
    },
    {
     "name": "stderr",
     "output_type": "stream",
     "text": [
      "Epoch 2/3 [Training]:  47%|████▋     | 189/400 [02:08<02:23,  1.47it/s, Loss=0.973]"
     ]
    },
    {
     "name": "stdout",
     "output_type": "stream",
     "text": [
      "LM Loss: 0.2020, Class Loss: 1.7437\n"
     ]
    },
    {
     "name": "stderr",
     "output_type": "stream",
     "text": [
      "Epoch 2/3 [Training]:  48%|████▊     | 190/400 [02:09<02:33,  1.37it/s, Loss=0.975]"
     ]
    },
    {
     "name": "stdout",
     "output_type": "stream",
     "text": [
      "LM Loss: 0.1678, Class Loss: 1.2041\n"
     ]
    },
    {
     "name": "stderr",
     "output_type": "stream",
     "text": [
      "Epoch 2/3 [Training]:  48%|████▊     | 191/400 [02:09<02:19,  1.50it/s, Loss=0.976]"
     ]
    },
    {
     "name": "stdout",
     "output_type": "stream",
     "text": [
      "LM Loss: 0.1668, Class Loss: 1.1005\n"
     ]
    },
    {
     "name": "stderr",
     "output_type": "stream",
     "text": [
      "Epoch 2/3 [Training]:  48%|████▊     | 192/400 [02:10<02:21,  1.47it/s, Loss=0.979]"
     ]
    },
    {
     "name": "stdout",
     "output_type": "stream",
     "text": [
      "LM Loss: 0.1481, Class Loss: 1.3350\n"
     ]
    },
    {
     "name": "stderr",
     "output_type": "stream",
     "text": [
      "Epoch 2/3 [Training]:  48%|████▊     | 193/400 [02:10<02:11,  1.58it/s, Loss=0.983]"
     ]
    },
    {
     "name": "stdout",
     "output_type": "stream",
     "text": [
      "LM Loss: 0.2454, Class Loss: 1.5542\n"
     ]
    },
    {
     "name": "stderr",
     "output_type": "stream",
     "text": [
      "Epoch 2/3 [Training]:  48%|████▊     | 194/400 [02:11<02:23,  1.44it/s, Loss=0.979]"
     ]
    },
    {
     "name": "stdout",
     "output_type": "stream",
     "text": [
      "LM Loss: 0.0843, Class Loss: 0.1157\n"
     ]
    },
    {
     "name": "stderr",
     "output_type": "stream",
     "text": [
      "Epoch 2/3 [Training]:  49%|████▉     | 195/400 [02:12<02:22,  1.43it/s, Loss=0.992]"
     ]
    },
    {
     "name": "stdout",
     "output_type": "stream",
     "text": [
      "LM Loss: 0.3869, Class Loss: 3.0344\n"
     ]
    },
    {
     "name": "stderr",
     "output_type": "stream",
     "text": [
      "Epoch 2/3 [Training]:  49%|████▉     | 196/400 [02:13<02:11,  1.55it/s, Loss=0.988]"
     ]
    },
    {
     "name": "stdout",
     "output_type": "stream",
     "text": [
      "LM Loss: 0.0643, Class Loss: 0.2677\n"
     ]
    },
    {
     "name": "stderr",
     "output_type": "stream",
     "text": [
      "Epoch 2/3 [Training]:  49%|████▉     | 197/400 [02:13<02:12,  1.54it/s, Loss=0.987]"
     ]
    },
    {
     "name": "stdout",
     "output_type": "stream",
     "text": [
      "LM Loss: 0.1404, Class Loss: 0.5339\n"
     ]
    },
    {
     "name": "stderr",
     "output_type": "stream",
     "text": [
      "Epoch 2/3 [Training]:  50%|████▉     | 198/400 [02:14<02:30,  1.34it/s, Loss=0.988]"
     ]
    },
    {
     "name": "stdout",
     "output_type": "stream",
     "text": [
      "LM Loss: 0.1506, Class Loss: 0.9856\n"
     ]
    },
    {
     "name": "stderr",
     "output_type": "stream",
     "text": [
      "Epoch 2/3 [Training]:  50%|████▉     | 199/400 [02:15<02:32,  1.32it/s, Loss=0.984]"
     ]
    },
    {
     "name": "stdout",
     "output_type": "stream",
     "text": [
      "LM Loss: 0.1677, Class Loss: 0.1666\n"
     ]
    },
    {
     "name": "stderr",
     "output_type": "stream",
     "text": [
      "Epoch 2/3 [Training]:  50%|█████     | 200/400 [02:16<02:25,  1.37it/s, Loss=0.98] "
     ]
    },
    {
     "name": "stdout",
     "output_type": "stream",
     "text": [
      "LM Loss: 0.0498, Class Loss: 0.0104\n"
     ]
    },
    {
     "name": "stderr",
     "output_type": "stream",
     "text": [
      "Epoch 2/3 [Training]:  50%|█████     | 201/400 [02:16<02:28,  1.34it/s, Loss=0.977]"
     ]
    },
    {
     "name": "stdout",
     "output_type": "stream",
     "text": [
      "LM Loss: 0.1241, Class Loss: 0.2403\n"
     ]
    },
    {
     "name": "stderr",
     "output_type": "stream",
     "text": [
      "Epoch 2/3 [Training]:  50%|█████     | 202/400 [02:17<02:23,  1.38it/s, Loss=0.975]"
     ]
    },
    {
     "name": "stdout",
     "output_type": "stream",
     "text": [
      "LM Loss: 0.1573, Class Loss: 0.5727\n"
     ]
    },
    {
     "name": "stderr",
     "output_type": "stream",
     "text": [
      "Epoch 2/3 [Training]:  51%|█████     | 203/400 [02:18<02:23,  1.38it/s, Loss=0.974]"
     ]
    },
    {
     "name": "stdout",
     "output_type": "stream",
     "text": [
      "LM Loss: 0.1306, Class Loss: 0.6063\n"
     ]
    },
    {
     "name": "stderr",
     "output_type": "stream",
     "text": [
      "Epoch 2/3 [Training]:  51%|█████     | 204/400 [02:18<02:10,  1.50it/s, Loss=0.972]"
     ]
    },
    {
     "name": "stdout",
     "output_type": "stream",
     "text": [
      "LM Loss: 0.1311, Class Loss: 0.4421\n"
     ]
    },
    {
     "name": "stderr",
     "output_type": "stream",
     "text": [
      "Epoch 2/3 [Training]:  51%|█████▏    | 205/400 [02:19<02:10,  1.50it/s, Loss=0.97] "
     ]
    },
    {
     "name": "stdout",
     "output_type": "stream",
     "text": [
      "LM Loss: 0.2237, Class Loss: 0.2728\n"
     ]
    },
    {
     "name": "stderr",
     "output_type": "stream",
     "text": [
      "Epoch 2/3 [Training]:  52%|█████▏    | 206/400 [02:20<02:13,  1.45it/s, Loss=0.97]"
     ]
    },
    {
     "name": "stdout",
     "output_type": "stream",
     "text": [
      "LM Loss: 0.2492, Class Loss: 0.7801\n"
     ]
    },
    {
     "name": "stderr",
     "output_type": "stream",
     "text": [
      "Epoch 2/3 [Training]:  52%|█████▏    | 207/400 [02:20<02:08,  1.51it/s, Loss=0.966]"
     ]
    },
    {
     "name": "stdout",
     "output_type": "stream",
     "text": [
      "LM Loss: 0.1180, Class Loss: 0.0322\n"
     ]
    },
    {
     "name": "stderr",
     "output_type": "stream",
     "text": [
      "Epoch 2/3 [Training]:  52%|█████▏    | 208/400 [02:21<02:09,  1.48it/s, Loss=0.965]"
     ]
    },
    {
     "name": "stdout",
     "output_type": "stream",
     "text": [
      "LM Loss: 0.1636, Class Loss: 0.5847\n"
     ]
    },
    {
     "name": "stderr",
     "output_type": "stream",
     "text": [
      "Epoch 2/3 [Training]:  52%|█████▏    | 209/400 [02:22<02:05,  1.52it/s, Loss=0.962]"
     ]
    },
    {
     "name": "stdout",
     "output_type": "stream",
     "text": [
      "LM Loss: 0.0264, Class Loss: 0.2774\n"
     ]
    },
    {
     "name": "stderr",
     "output_type": "stream",
     "text": [
      "Epoch 2/3 [Training]:  52%|█████▎    | 210/400 [02:22<02:09,  1.47it/s, Loss=0.959]"
     ]
    },
    {
     "name": "stdout",
     "output_type": "stream",
     "text": [
      "LM Loss: 0.1205, Class Loss: 0.1916\n"
     ]
    },
    {
     "name": "stderr",
     "output_type": "stream",
     "text": [
      "Epoch 2/3 [Training]:  53%|█████▎    | 211/400 [02:23<02:15,  1.40it/s, Loss=0.958]"
     ]
    },
    {
     "name": "stdout",
     "output_type": "stream",
     "text": [
      "LM Loss: 0.2201, Class Loss: 0.6332\n"
     ]
    },
    {
     "name": "stderr",
     "output_type": "stream",
     "text": [
      "Epoch 2/3 [Training]:  53%|█████▎    | 212/400 [02:24<02:11,  1.43it/s, Loss=0.956]"
     ]
    },
    {
     "name": "stdout",
     "output_type": "stream",
     "text": [
      "LM Loss: 0.1391, Class Loss: 0.2809\n"
     ]
    },
    {
     "name": "stderr",
     "output_type": "stream",
     "text": [
      "Epoch 2/3 [Training]:  53%|█████▎    | 213/400 [02:24<01:59,  1.56it/s, Loss=0.953]"
     ]
    },
    {
     "name": "stdout",
     "output_type": "stream",
     "text": [
      "LM Loss: 0.0992, Class Loss: 0.2879\n"
     ]
    },
    {
     "name": "stderr",
     "output_type": "stream",
     "text": [
      "Epoch 2/3 [Training]:  54%|█████▎    | 214/400 [02:25<02:04,  1.49it/s, Loss=0.956]"
     ]
    },
    {
     "name": "stdout",
     "output_type": "stream",
     "text": [
      "LM Loss: 0.1288, Class Loss: 1.4705\n"
     ]
    },
    {
     "name": "stderr",
     "output_type": "stream",
     "text": [
      "Epoch 2/3 [Training]:  54%|█████▍    | 215/400 [02:26<02:07,  1.45it/s, Loss=0.953]"
     ]
    },
    {
     "name": "stdout",
     "output_type": "stream",
     "text": [
      "LM Loss: 0.0922, Class Loss: 0.1147\n"
     ]
    },
    {
     "name": "stderr",
     "output_type": "stream",
     "text": [
      "Epoch 2/3 [Training]:  54%|█████▍    | 216/400 [02:27<02:09,  1.42it/s, Loss=0.949]"
     ]
    },
    {
     "name": "stdout",
     "output_type": "stream",
     "text": [
      "LM Loss: 0.1087, Class Loss: 0.0314\n"
     ]
    },
    {
     "name": "stderr",
     "output_type": "stream",
     "text": [
      "Epoch 2/3 [Training]:  54%|█████▍    | 217/400 [02:27<02:03,  1.48it/s, Loss=0.947]"
     ]
    },
    {
     "name": "stdout",
     "output_type": "stream",
     "text": [
      "LM Loss: 0.0873, Class Loss: 0.3549\n"
     ]
    },
    {
     "name": "stderr",
     "output_type": "stream",
     "text": [
      "Epoch 2/3 [Training]:  55%|█████▍    | 218/400 [02:28<02:02,  1.49it/s, Loss=0.948]"
     ]
    },
    {
     "name": "stdout",
     "output_type": "stream",
     "text": [
      "LM Loss: 0.0971, Class Loss: 1.2462\n"
     ]
    },
    {
     "name": "stderr",
     "output_type": "stream",
     "text": [
      "Epoch 2/3 [Training]:  55%|█████▍    | 219/400 [02:29<02:05,  1.45it/s, Loss=0.948]"
     ]
    },
    {
     "name": "stdout",
     "output_type": "stream",
     "text": [
      "LM Loss: 0.2396, Class Loss: 0.6725\n"
     ]
    },
    {
     "name": "stderr",
     "output_type": "stream",
     "text": [
      "Epoch 2/3 [Training]:  55%|█████▌    | 220/400 [02:29<02:04,  1.44it/s, Loss=0.944]"
     ]
    },
    {
     "name": "stdout",
     "output_type": "stream",
     "text": [
      "LM Loss: 0.0266, Class Loss: 0.0159\n"
     ]
    },
    {
     "name": "stderr",
     "output_type": "stream",
     "text": [
      "Epoch 2/3 [Training]:  55%|█████▌    | 221/400 [02:30<02:02,  1.46it/s, Loss=0.941]"
     ]
    },
    {
     "name": "stdout",
     "output_type": "stream",
     "text": [
      "LM Loss: 0.1523, Class Loss: 0.0739\n"
     ]
    },
    {
     "name": "stderr",
     "output_type": "stream",
     "text": [
      "Epoch 2/3 [Training]:  56%|█████▌    | 222/400 [02:30<01:52,  1.58it/s, Loss=0.941]"
     ]
    },
    {
     "name": "stdout",
     "output_type": "stream",
     "text": [
      "LM Loss: 0.0449, Class Loss: 0.9751\n"
     ]
    },
    {
     "name": "stderr",
     "output_type": "stream",
     "text": [
      "Epoch 2/3 [Training]:  56%|█████▌    | 223/400 [02:31<01:55,  1.53it/s, Loss=0.939]"
     ]
    },
    {
     "name": "stdout",
     "output_type": "stream",
     "text": [
      "LM Loss: 0.1322, Class Loss: 0.3312\n"
     ]
    },
    {
     "name": "stderr",
     "output_type": "stream",
     "text": [
      "Epoch 2/3 [Training]:  56%|█████▌    | 224/400 [02:32<01:52,  1.56it/s, Loss=0.938]"
     ]
    },
    {
     "name": "stdout",
     "output_type": "stream",
     "text": [
      "LM Loss: 0.1642, Class Loss: 0.4908\n"
     ]
    },
    {
     "name": "stderr",
     "output_type": "stream",
     "text": [
      "Epoch 2/3 [Training]:  56%|█████▋    | 225/400 [02:32<01:55,  1.51it/s, Loss=0.934]"
     ]
    },
    {
     "name": "stdout",
     "output_type": "stream",
     "text": [
      "LM Loss: 0.0879, Class Loss: 0.0145\n"
     ]
    },
    {
     "name": "stderr",
     "output_type": "stream",
     "text": [
      "Epoch 2/3 [Training]:  56%|█████▋    | 226/400 [02:33<01:58,  1.46it/s, Loss=0.931]"
     ]
    },
    {
     "name": "stdout",
     "output_type": "stream",
     "text": [
      "LM Loss: 0.0588, Class Loss: 0.0970\n"
     ]
    },
    {
     "name": "stderr",
     "output_type": "stream",
     "text": [
      "Epoch 2/3 [Training]:  57%|█████▋    | 227/400 [02:34<01:59,  1.45it/s, Loss=0.929]"
     ]
    },
    {
     "name": "stdout",
     "output_type": "stream",
     "text": [
      "LM Loss: 0.0292, Class Loss: 0.4783\n"
     ]
    },
    {
     "name": "stderr",
     "output_type": "stream",
     "text": [
      "Epoch 2/3 [Training]:  57%|█████▋    | 228/400 [02:35<02:09,  1.33it/s, Loss=0.925]"
     ]
    },
    {
     "name": "stdout",
     "output_type": "stream",
     "text": [
      "LM Loss: 0.1177, Class Loss: 0.0523\n"
     ]
    },
    {
     "name": "stderr",
     "output_type": "stream",
     "text": [
      "Epoch 2/3 [Training]:  57%|█████▋    | 229/400 [02:36<02:13,  1.28it/s, Loss=0.922]"
     ]
    },
    {
     "name": "stdout",
     "output_type": "stream",
     "text": [
      "LM Loss: 0.0548, Class Loss: 0.0370\n"
     ]
    },
    {
     "name": "stderr",
     "output_type": "stream",
     "text": [
      "Epoch 2/3 [Training]:  57%|█████▊    | 230/400 [02:36<02:10,  1.30it/s, Loss=0.923]"
     ]
    },
    {
     "name": "stdout",
     "output_type": "stream",
     "text": [
      "LM Loss: 0.2721, Class Loss: 0.9759\n"
     ]
    },
    {
     "name": "stderr",
     "output_type": "stream",
     "text": [
      "Epoch 2/3 [Training]:  58%|█████▊    | 231/400 [02:37<02:11,  1.29it/s, Loss=0.921]"
     ]
    },
    {
     "name": "stdout",
     "output_type": "stream",
     "text": [
      "LM Loss: 0.1301, Class Loss: 0.2781\n"
     ]
    },
    {
     "name": "stderr",
     "output_type": "stream",
     "text": [
      "Epoch 2/3 [Training]:  58%|█████▊    | 232/400 [02:38<02:08,  1.31it/s, Loss=0.918]"
     ]
    },
    {
     "name": "stdout",
     "output_type": "stream",
     "text": [
      "LM Loss: 0.2936, Class Loss: 0.0350\n"
     ]
    },
    {
     "name": "stderr",
     "output_type": "stream",
     "text": [
      "Epoch 2/3 [Training]:  58%|█████▊    | 233/400 [02:39<02:02,  1.36it/s, Loss=0.915]"
     ]
    },
    {
     "name": "stdout",
     "output_type": "stream",
     "text": [
      "LM Loss: 0.1049, Class Loss: 0.0997\n"
     ]
    },
    {
     "name": "stderr",
     "output_type": "stream",
     "text": [
      "Epoch 2/3 [Training]:  58%|█████▊    | 234/400 [02:39<01:59,  1.38it/s, Loss=0.913]"
     ]
    },
    {
     "name": "stdout",
     "output_type": "stream",
     "text": [
      "LM Loss: 0.1021, Class Loss: 0.1758\n"
     ]
    },
    {
     "name": "stderr",
     "output_type": "stream",
     "text": [
      "Epoch 2/3 [Training]:  59%|█████▉    | 235/400 [02:40<02:05,  1.32it/s, Loss=0.91] "
     ]
    },
    {
     "name": "stdout",
     "output_type": "stream",
     "text": [
      "LM Loss: 0.1167, Class Loss: 0.2358\n"
     ]
    },
    {
     "name": "stderr",
     "output_type": "stream",
     "text": [
      "Epoch 2/3 [Training]:  59%|█████▉    | 236/400 [02:41<01:59,  1.37it/s, Loss=0.907]"
     ]
    },
    {
     "name": "stdout",
     "output_type": "stream",
     "text": [
      "LM Loss: 0.0736, Class Loss: 0.0205\n"
     ]
    },
    {
     "name": "stderr",
     "output_type": "stream",
     "text": [
      "Epoch 2/3 [Training]:  59%|█████▉    | 237/400 [02:41<01:50,  1.48it/s, Loss=0.91] "
     ]
    },
    {
     "name": "stdout",
     "output_type": "stream",
     "text": [
      "LM Loss: 0.3184, Class Loss: 1.4505\n"
     ]
    },
    {
     "name": "stderr",
     "output_type": "stream",
     "text": [
      "Epoch 2/3 [Training]:  60%|█████▉    | 238/400 [02:42<02:00,  1.34it/s, Loss=0.909]"
     ]
    },
    {
     "name": "stdout",
     "output_type": "stream",
     "text": [
      "LM Loss: 0.1284, Class Loss: 0.3163\n"
     ]
    },
    {
     "name": "stderr",
     "output_type": "stream",
     "text": [
      "Epoch 2/3 [Training]:  60%|█████▉    | 239/400 [02:43<02:07,  1.26it/s, Loss=0.908]"
     ]
    },
    {
     "name": "stdout",
     "output_type": "stream",
     "text": [
      "LM Loss: 0.0935, Class Loss: 0.7028\n"
     ]
    },
    {
     "name": "stderr",
     "output_type": "stream",
     "text": [
      "Epoch 2/3 [Training]:  60%|██████    | 240/400 [02:44<02:02,  1.31it/s, Loss=0.904]"
     ]
    },
    {
     "name": "stdout",
     "output_type": "stream",
     "text": [
      "LM Loss: 0.0305, Class Loss: 0.0037\n"
     ]
    },
    {
     "name": "stderr",
     "output_type": "stream",
     "text": [
      "Epoch 2/3 [Training]:  60%|██████    | 241/400 [02:44<01:56,  1.36it/s, Loss=0.902]"
     ]
    },
    {
     "name": "stdout",
     "output_type": "stream",
     "text": [
      "LM Loss: 0.1082, Class Loss: 0.1147\n"
     ]
    },
    {
     "name": "stderr",
     "output_type": "stream",
     "text": [
      "Epoch 2/3 [Training]:  60%|██████    | 242/400 [02:45<01:47,  1.47it/s, Loss=0.899]"
     ]
    },
    {
     "name": "stdout",
     "output_type": "stream",
     "text": [
      "LM Loss: 0.0608, Class Loss: 0.2300\n"
     ]
    },
    {
     "name": "stderr",
     "output_type": "stream",
     "text": [
      "Epoch 2/3 [Training]:  61%|██████    | 243/400 [02:46<01:46,  1.48it/s, Loss=0.896]"
     ]
    },
    {
     "name": "stdout",
     "output_type": "stream",
     "text": [
      "LM Loss: 0.0936, Class Loss: 0.0192\n"
     ]
    },
    {
     "name": "stderr",
     "output_type": "stream",
     "text": [
      "Epoch 2/3 [Training]:  61%|██████    | 244/400 [02:46<01:48,  1.44it/s, Loss=0.895]"
     ]
    },
    {
     "name": "stdout",
     "output_type": "stream",
     "text": [
      "LM Loss: 0.1759, Class Loss: 0.4546\n"
     ]
    },
    {
     "name": "stderr",
     "output_type": "stream",
     "text": [
      "Epoch 2/3 [Training]:  61%|██████▏   | 245/400 [02:47<01:41,  1.53it/s, Loss=0.893]"
     ]
    },
    {
     "name": "stdout",
     "output_type": "stream",
     "text": [
      "LM Loss: 0.0867, Class Loss: 0.4899\n"
     ]
    },
    {
     "name": "stderr",
     "output_type": "stream",
     "text": [
      "Epoch 2/3 [Training]:  62%|██████▏   | 246/400 [02:48<01:38,  1.56it/s, Loss=0.89] "
     ]
    },
    {
     "name": "stdout",
     "output_type": "stream",
     "text": [
      "LM Loss: 0.0711, Class Loss: 0.0176\n"
     ]
    },
    {
     "name": "stderr",
     "output_type": "stream",
     "text": [
      "Epoch 2/3 [Training]:  62%|██████▏   | 247/400 [02:48<01:32,  1.65it/s, Loss=0.893]"
     ]
    },
    {
     "name": "stdout",
     "output_type": "stream",
     "text": [
      "LM Loss: 0.2696, Class Loss: 1.3769\n"
     ]
    },
    {
     "name": "stderr",
     "output_type": "stream",
     "text": [
      "Epoch 2/3 [Training]:  62%|██████▏   | 248/400 [02:49<01:36,  1.57it/s, Loss=0.89] "
     ]
    },
    {
     "name": "stdout",
     "output_type": "stream",
     "text": [
      "LM Loss: 0.1546, Class Loss: 0.0547\n"
     ]
    },
    {
     "name": "stderr",
     "output_type": "stream",
     "text": [
      "Epoch 2/3 [Training]:  62%|██████▏   | 249/400 [02:50<01:39,  1.52it/s, Loss=0.888]"
     ]
    },
    {
     "name": "stdout",
     "output_type": "stream",
     "text": [
      "LM Loss: 0.0793, Class Loss: 0.1155\n"
     ]
    },
    {
     "name": "stderr",
     "output_type": "stream",
     "text": [
      "Epoch 2/3 [Training]:  62%|██████▎   | 250/400 [02:50<01:40,  1.49it/s, Loss=0.887]"
     ]
    },
    {
     "name": "stdout",
     "output_type": "stream",
     "text": [
      "LM Loss: 0.1927, Class Loss: 0.4045\n"
     ]
    },
    {
     "name": "stderr",
     "output_type": "stream",
     "text": [
      "Epoch 2/3 [Training]:  63%|██████▎   | 251/400 [02:51<01:42,  1.45it/s, Loss=0.887]"
     ]
    },
    {
     "name": "stdout",
     "output_type": "stream",
     "text": [
      "LM Loss: 0.2497, Class Loss: 0.7183\n"
     ]
    },
    {
     "name": "stderr",
     "output_type": "stream",
     "text": [
      "Epoch 2/3 [Training]:  63%|██████▎   | 252/400 [02:53<02:23,  1.03it/s, Loss=0.888]"
     ]
    },
    {
     "name": "stdout",
     "output_type": "stream",
     "text": [
      "LM Loss: 0.1678, Class Loss: 1.1287\n"
     ]
    },
    {
     "name": "stderr",
     "output_type": "stream",
     "text": [
      "Epoch 2/3 [Training]:  63%|██████▎   | 253/400 [02:53<01:59,  1.23it/s, Loss=0.889]"
     ]
    },
    {
     "name": "stdout",
     "output_type": "stream",
     "text": [
      "LM Loss: 0.0848, Class Loss: 1.0023\n"
     ]
    },
    {
     "name": "stderr",
     "output_type": "stream",
     "text": [
      "Epoch 2/3 [Training]:  64%|██████▎   | 254/400 [02:54<01:55,  1.27it/s, Loss=0.897]"
     ]
    },
    {
     "name": "stdout",
     "output_type": "stream",
     "text": [
      "LM Loss: 0.2147, Class Loss: 2.5688\n"
     ]
    },
    {
     "name": "stderr",
     "output_type": "stream",
     "text": [
      "Epoch 2/3 [Training]:  64%|██████▍   | 255/400 [02:54<01:43,  1.41it/s, Loss=0.896]"
     ]
    },
    {
     "name": "stdout",
     "output_type": "stream",
     "text": [
      "LM Loss: 0.1550, Class Loss: 0.6296\n"
     ]
    },
    {
     "name": "stderr",
     "output_type": "stream",
     "text": [
      "Epoch 2/3 [Training]:  64%|██████▍   | 256/400 [02:55<01:43,  1.39it/s, Loss=0.901]"
     ]
    },
    {
     "name": "stdout",
     "output_type": "stream",
     "text": [
      "LM Loss: 0.1049, Class Loss: 2.0941\n"
     ]
    },
    {
     "name": "stderr",
     "output_type": "stream",
     "text": [
      "Epoch 2/3 [Training]:  64%|██████▍   | 257/400 [02:56<01:40,  1.43it/s, Loss=0.898]"
     ]
    },
    {
     "name": "stdout",
     "output_type": "stream",
     "text": [
      "LM Loss: 0.0413, Class Loss: 0.1214\n"
     ]
    },
    {
     "name": "stderr",
     "output_type": "stream",
     "text": [
      "Epoch 2/3 [Training]:  64%|██████▍   | 258/400 [02:57<01:43,  1.37it/s, Loss=0.899]"
     ]
    },
    {
     "name": "stdout",
     "output_type": "stream",
     "text": [
      "LM Loss: 0.1729, Class Loss: 0.7586\n"
     ]
    },
    {
     "name": "stderr",
     "output_type": "stream",
     "text": [
      "Epoch 2/3 [Training]:  65%|██████▍   | 259/400 [02:57<01:39,  1.41it/s, Loss=0.895]"
     ]
    },
    {
     "name": "stdout",
     "output_type": "stream",
     "text": [
      "LM Loss: 0.0365, Class Loss: 0.0402\n"
     ]
    },
    {
     "name": "stderr",
     "output_type": "stream",
     "text": [
      "Epoch 2/3 [Training]:  65%|██████▌   | 260/400 [02:58<01:40,  1.40it/s, Loss=0.894]"
     ]
    },
    {
     "name": "stdout",
     "output_type": "stream",
     "text": [
      "LM Loss: 0.1133, Class Loss: 0.3480\n"
     ]
    },
    {
     "name": "stderr",
     "output_type": "stream",
     "text": [
      "Epoch 2/3 [Training]:  65%|██████▌   | 261/400 [02:59<01:40,  1.38it/s, Loss=0.891]"
     ]
    },
    {
     "name": "stdout",
     "output_type": "stream",
     "text": [
      "LM Loss: 0.0910, Class Loss: 0.1653\n"
     ]
    },
    {
     "name": "stderr",
     "output_type": "stream",
     "text": [
      "Epoch 2/3 [Training]:  66%|██████▌   | 262/400 [03:00<02:08,  1.07it/s, Loss=0.895]"
     ]
    },
    {
     "name": "stdout",
     "output_type": "stream",
     "text": [
      "LM Loss: 0.0869, Class Loss: 1.7386\n"
     ]
    },
    {
     "name": "stderr",
     "output_type": "stream",
     "text": [
      "Epoch 2/3 [Training]:  66%|██████▌   | 263/400 [03:01<01:50,  1.24it/s, Loss=0.9]  "
     ]
    },
    {
     "name": "stdout",
     "output_type": "stream",
     "text": [
      "LM Loss: 0.1949, Class Loss: 1.9839\n"
     ]
    },
    {
     "name": "stderr",
     "output_type": "stream",
     "text": [
      "Epoch 2/3 [Training]:  66%|██████▌   | 264/400 [03:01<01:48,  1.25it/s, Loss=0.906]"
     ]
    },
    {
     "name": "stdout",
     "output_type": "stream",
     "text": [
      "LM Loss: 0.2433, Class Loss: 2.3121\n"
     ]
    },
    {
     "name": "stderr",
     "output_type": "stream",
     "text": [
      "Epoch 2/3 [Training]:  66%|██████▋   | 265/400 [03:02<01:38,  1.38it/s, Loss=0.904]"
     ]
    },
    {
     "name": "stdout",
     "output_type": "stream",
     "text": [
      "LM Loss: 0.1580, Class Loss: 0.1351\n"
     ]
    },
    {
     "name": "stderr",
     "output_type": "stream",
     "text": [
      "Epoch 2/3 [Training]:  66%|██████▋   | 266/400 [03:03<01:36,  1.39it/s, Loss=0.902]"
     ]
    },
    {
     "name": "stdout",
     "output_type": "stream",
     "text": [
      "LM Loss: 0.1412, Class Loss: 0.2882\n"
     ]
    },
    {
     "name": "stderr",
     "output_type": "stream",
     "text": [
      "Epoch 2/3 [Training]:  67%|██████▋   | 267/400 [03:03<01:38,  1.35it/s, Loss=0.9]  "
     ]
    },
    {
     "name": "stdout",
     "output_type": "stream",
     "text": [
      "LM Loss: 0.1726, Class Loss: 0.1343\n"
     ]
    },
    {
     "name": "stderr",
     "output_type": "stream",
     "text": [
      "Epoch 2/3 [Training]:  67%|██████▋   | 268/400 [03:04<01:36,  1.37it/s, Loss=0.898]"
     ]
    },
    {
     "name": "stdout",
     "output_type": "stream",
     "text": [
      "LM Loss: 0.1102, Class Loss: 0.3237\n"
     ]
    },
    {
     "name": "stderr",
     "output_type": "stream",
     "text": [
      "Epoch 2/3 [Training]:  67%|██████▋   | 269/400 [03:05<01:42,  1.28it/s, Loss=0.895]"
     ]
    },
    {
     "name": "stdout",
     "output_type": "stream",
     "text": [
      "LM Loss: 0.0295, Class Loss: 0.0601\n"
     ]
    },
    {
     "name": "stderr",
     "output_type": "stream",
     "text": [
      "Epoch 2/3 [Training]:  68%|██████▊   | 270/400 [03:06<01:43,  1.25it/s, Loss=0.892]"
     ]
    },
    {
     "name": "stdout",
     "output_type": "stream",
     "text": [
      "LM Loss: 0.0670, Class Loss: 0.0231\n"
     ]
    },
    {
     "name": "stderr",
     "output_type": "stream",
     "text": [
      "Epoch 2/3 [Training]:  68%|██████▊   | 271/400 [03:06<01:32,  1.39it/s, Loss=0.89] "
     ]
    },
    {
     "name": "stdout",
     "output_type": "stream",
     "text": [
      "LM Loss: 0.1509, Class Loss: 0.1669\n"
     ]
    },
    {
     "name": "stderr",
     "output_type": "stream",
     "text": [
      "Epoch 2/3 [Training]:  68%|██████▊   | 272/400 [03:07<01:27,  1.46it/s, Loss=0.889]"
     ]
    },
    {
     "name": "stdout",
     "output_type": "stream",
     "text": [
      "LM Loss: 0.0846, Class Loss: 0.4376\n"
     ]
    },
    {
     "name": "stderr",
     "output_type": "stream",
     "text": [
      "Epoch 2/3 [Training]:  68%|██████▊   | 273/400 [03:08<01:28,  1.43it/s, Loss=0.889]"
     ]
    },
    {
     "name": "stdout",
     "output_type": "stream",
     "text": [
      "LM Loss: 0.2362, Class Loss: 0.8679\n"
     ]
    },
    {
     "name": "stderr",
     "output_type": "stream",
     "text": [
      "Epoch 2/3 [Training]:  68%|██████▊   | 274/400 [03:08<01:29,  1.41it/s, Loss=0.886]"
     ]
    },
    {
     "name": "stdout",
     "output_type": "stream",
     "text": [
      "LM Loss: 0.0108, Class Loss: 0.0276\n"
     ]
    },
    {
     "name": "stderr",
     "output_type": "stream",
     "text": [
      "Epoch 2/3 [Training]:  69%|██████▉   | 275/400 [03:09<01:21,  1.52it/s, Loss=0.889]"
     ]
    },
    {
     "name": "stdout",
     "output_type": "stream",
     "text": [
      "LM Loss: 0.2976, Class Loss: 1.2239\n"
     ]
    },
    {
     "name": "stderr",
     "output_type": "stream",
     "text": [
      "Epoch 2/3 [Training]:  69%|██████▉   | 276/400 [03:10<01:28,  1.40it/s, Loss=0.889]"
     ]
    },
    {
     "name": "stdout",
     "output_type": "stream",
     "text": [
      "LM Loss: 0.2432, Class Loss: 0.7421\n"
     ]
    },
    {
     "name": "stderr",
     "output_type": "stream",
     "text": [
      "Epoch 2/3 [Training]:  69%|██████▉   | 277/400 [03:10<01:23,  1.47it/s, Loss=0.886]"
     ]
    },
    {
     "name": "stdout",
     "output_type": "stream",
     "text": [
      "LM Loss: 0.0571, Class Loss: 0.0085\n"
     ]
    },
    {
     "name": "stderr",
     "output_type": "stream",
     "text": [
      "Epoch 2/3 [Training]:  70%|██████▉   | 278/400 [03:11<01:20,  1.52it/s, Loss=0.886]"
     ]
    },
    {
     "name": "stdout",
     "output_type": "stream",
     "text": [
      "LM Loss: 0.0543, Class Loss: 0.7282\n"
     ]
    },
    {
     "name": "stderr",
     "output_type": "stream",
     "text": [
      "Epoch 2/3 [Training]:  70%|██████▉   | 279/400 [03:12<01:22,  1.46it/s, Loss=0.883]"
     ]
    },
    {
     "name": "stdout",
     "output_type": "stream",
     "text": [
      "LM Loss: 0.0168, Class Loss: 0.1766\n"
     ]
    },
    {
     "name": "stderr",
     "output_type": "stream",
     "text": [
      "Epoch 2/3 [Training]:  70%|███████   | 280/400 [03:13<01:27,  1.37it/s, Loss=0.882]"
     ]
    },
    {
     "name": "stdout",
     "output_type": "stream",
     "text": [
      "LM Loss: 0.0919, Class Loss: 0.3582\n"
     ]
    },
    {
     "name": "stderr",
     "output_type": "stream",
     "text": [
      "Epoch 2/3 [Training]:  70%|███████   | 281/400 [03:13<01:27,  1.36it/s, Loss=0.879]"
     ]
    },
    {
     "name": "stdout",
     "output_type": "stream",
     "text": [
      "LM Loss: 0.1017, Class Loss: 0.0264\n"
     ]
    },
    {
     "name": "stderr",
     "output_type": "stream",
     "text": [
      "Epoch 2/3 [Training]:  70%|███████   | 282/400 [03:14<01:30,  1.31it/s, Loss=0.877]"
     ]
    },
    {
     "name": "stdout",
     "output_type": "stream",
     "text": [
      "LM Loss: 0.1424, Class Loss: 0.0926\n"
     ]
    },
    {
     "name": "stderr",
     "output_type": "stream",
     "text": [
      "Epoch 2/3 [Training]:  71%|███████   | 283/400 [03:15<01:28,  1.32it/s, Loss=0.878]"
     ]
    },
    {
     "name": "stdout",
     "output_type": "stream",
     "text": [
      "LM Loss: 0.1256, Class Loss: 1.0238\n"
     ]
    },
    {
     "name": "stderr",
     "output_type": "stream",
     "text": [
      "Epoch 2/3 [Training]:  71%|███████   | 284/400 [03:16<01:22,  1.40it/s, Loss=0.877]"
     ]
    },
    {
     "name": "stdout",
     "output_type": "stream",
     "text": [
      "LM Loss: 0.1884, Class Loss: 0.4401\n"
     ]
    },
    {
     "name": "stderr",
     "output_type": "stream",
     "text": [
      "Epoch 2/3 [Training]:  71%|███████▏  | 285/400 [03:16<01:22,  1.39it/s, Loss=0.874]"
     ]
    },
    {
     "name": "stdout",
     "output_type": "stream",
     "text": [
      "LM Loss: 0.0293, Class Loss: 0.0258\n"
     ]
    },
    {
     "name": "stderr",
     "output_type": "stream",
     "text": [
      "Epoch 2/3 [Training]:  72%|███████▏  | 286/400 [03:17<01:18,  1.45it/s, Loss=0.871]"
     ]
    },
    {
     "name": "stdout",
     "output_type": "stream",
     "text": [
      "LM Loss: 0.0730, Class Loss: 0.0430\n"
     ]
    },
    {
     "name": "stderr",
     "output_type": "stream",
     "text": [
      "Epoch 2/3 [Training]:  72%|███████▏  | 287/400 [03:18<01:16,  1.47it/s, Loss=0.869]"
     ]
    },
    {
     "name": "stdout",
     "output_type": "stream",
     "text": [
      "LM Loss: 0.1110, Class Loss: 0.2732\n"
     ]
    },
    {
     "name": "stderr",
     "output_type": "stream",
     "text": [
      "Epoch 2/3 [Training]:  72%|███████▏  | 288/400 [03:18<01:21,  1.37it/s, Loss=0.867]"
     ]
    },
    {
     "name": "stdout",
     "output_type": "stream",
     "text": [
      "LM Loss: 0.2683, Class Loss: 0.0416\n"
     ]
    },
    {
     "name": "stderr",
     "output_type": "stream",
     "text": [
      "Epoch 2/3 [Training]:  72%|███████▏  | 289/400 [03:19<01:14,  1.50it/s, Loss=0.865]"
     ]
    },
    {
     "name": "stdout",
     "output_type": "stream",
     "text": [
      "LM Loss: 0.0557, Class Loss: 0.1118\n"
     ]
    },
    {
     "name": "stderr",
     "output_type": "stream",
     "text": [
      "Epoch 2/3 [Training]:  72%|███████▎  | 290/400 [03:20<01:17,  1.42it/s, Loss=0.874]"
     ]
    },
    {
     "name": "stdout",
     "output_type": "stream",
     "text": [
      "LM Loss: 0.3453, Class Loss: 3.0011\n"
     ]
    },
    {
     "name": "stderr",
     "output_type": "stream",
     "text": [
      "Epoch 2/3 [Training]:  73%|███████▎  | 291/400 [03:20<01:13,  1.48it/s, Loss=0.874]"
     ]
    },
    {
     "name": "stdout",
     "output_type": "stream",
     "text": [
      "LM Loss: 0.1188, Class Loss: 0.7404\n"
     ]
    },
    {
     "name": "stderr",
     "output_type": "stream",
     "text": [
      "Epoch 2/3 [Training]:  73%|███████▎  | 292/400 [03:21<01:13,  1.46it/s, Loss=0.871]"
     ]
    },
    {
     "name": "stdout",
     "output_type": "stream",
     "text": [
      "LM Loss: 0.1243, Class Loss: 0.0970\n"
     ]
    },
    {
     "name": "stderr",
     "output_type": "stream",
     "text": [
      "Epoch 2/3 [Training]:  73%|███████▎  | 293/400 [03:22<01:14,  1.45it/s, Loss=0.878]"
     ]
    },
    {
     "name": "stdout",
     "output_type": "stream",
     "text": [
      "LM Loss: 0.1856, Class Loss: 2.6238\n"
     ]
    },
    {
     "name": "stderr",
     "output_type": "stream",
     "text": [
      "Epoch 2/3 [Training]:  74%|███████▎  | 294/400 [03:22<01:07,  1.58it/s, Loss=0.879]"
     ]
    },
    {
     "name": "stdout",
     "output_type": "stream",
     "text": [
      "LM Loss: 0.2134, Class Loss: 1.0978\n"
     ]
    },
    {
     "name": "stderr",
     "output_type": "stream",
     "text": [
      "Epoch 2/3 [Training]:  74%|███████▍  | 295/400 [03:23<01:05,  1.60it/s, Loss=0.881]"
     ]
    },
    {
     "name": "stdout",
     "output_type": "stream",
     "text": [
      "LM Loss: 0.0135, Class Loss: 1.2851\n"
     ]
    },
    {
     "name": "stderr",
     "output_type": "stream",
     "text": [
      "Epoch 2/3 [Training]:  74%|███████▍  | 296/400 [03:23<01:01,  1.70it/s, Loss=0.882]"
     ]
    },
    {
     "name": "stdout",
     "output_type": "stream",
     "text": [
      "LM Loss: 0.0599, Class Loss: 1.1205\n"
     ]
    },
    {
     "name": "stderr",
     "output_type": "stream",
     "text": [
      "Epoch 2/3 [Training]:  74%|███████▍  | 297/400 [03:24<01:05,  1.58it/s, Loss=0.881]"
     ]
    },
    {
     "name": "stdout",
     "output_type": "stream",
     "text": [
      "LM Loss: 0.2572, Class Loss: 0.3979\n"
     ]
    },
    {
     "name": "stderr",
     "output_type": "stream",
     "text": [
      "Epoch 2/3 [Training]:  74%|███████▍  | 298/400 [03:25<01:06,  1.53it/s, Loss=0.879]"
     ]
    },
    {
     "name": "stdout",
     "output_type": "stream",
     "text": [
      "LM Loss: 0.2110, Class Loss: 0.0495\n"
     ]
    },
    {
     "name": "stderr",
     "output_type": "stream",
     "text": [
      "Epoch 2/3 [Training]:  75%|███████▍  | 299/400 [03:25<01:04,  1.56it/s, Loss=0.877]"
     ]
    },
    {
     "name": "stdout",
     "output_type": "stream",
     "text": [
      "LM Loss: 0.2339, Class Loss: 0.0933\n"
     ]
    },
    {
     "name": "stderr",
     "output_type": "stream",
     "text": [
      "Epoch 2/3 [Training]:  75%|███████▌  | 300/400 [03:26<01:04,  1.55it/s, Loss=0.875]"
     ]
    },
    {
     "name": "stdout",
     "output_type": "stream",
     "text": [
      "LM Loss: 0.0985, Class Loss: 0.2707\n"
     ]
    },
    {
     "name": "stderr",
     "output_type": "stream",
     "text": [
      "Epoch 2/3 [Training]:  75%|███████▌  | 301/400 [03:27<01:06,  1.49it/s, Loss=0.873]"
     ]
    },
    {
     "name": "stdout",
     "output_type": "stream",
     "text": [
      "LM Loss: 0.1222, Class Loss: 0.1094\n"
     ]
    },
    {
     "name": "stderr",
     "output_type": "stream",
     "text": [
      "Epoch 2/3 [Training]:  76%|███████▌  | 302/400 [03:28<01:07,  1.45it/s, Loss=0.874]"
     ]
    },
    {
     "name": "stdout",
     "output_type": "stream",
     "text": [
      "LM Loss: 0.0692, Class Loss: 1.0240\n"
     ]
    },
    {
     "name": "stderr",
     "output_type": "stream",
     "text": [
      "Epoch 2/3 [Training]:  76%|███████▌  | 303/400 [03:28<01:08,  1.42it/s, Loss=0.872]"
     ]
    },
    {
     "name": "stdout",
     "output_type": "stream",
     "text": [
      "LM Loss: 0.1108, Class Loss: 0.2552\n"
     ]
    },
    {
     "name": "stderr",
     "output_type": "stream",
     "text": [
      "Epoch 2/3 [Training]:  76%|███████▌  | 304/400 [03:29<01:06,  1.45it/s, Loss=0.873]"
     ]
    },
    {
     "name": "stdout",
     "output_type": "stream",
     "text": [
      "LM Loss: 0.1304, Class Loss: 0.8900\n"
     ]
    },
    {
     "name": "stderr",
     "output_type": "stream",
     "text": [
      "Epoch 2/3 [Training]:  76%|███████▋  | 305/400 [03:30<01:13,  1.29it/s, Loss=0.877]"
     ]
    },
    {
     "name": "stdout",
     "output_type": "stream",
     "text": [
      "LM Loss: 0.1654, Class Loss: 2.1022\n"
     ]
    },
    {
     "name": "stderr",
     "output_type": "stream",
     "text": [
      "Epoch 2/3 [Training]:  76%|███████▋  | 306/400 [03:31<01:13,  1.29it/s, Loss=0.875]"
     ]
    },
    {
     "name": "stdout",
     "output_type": "stream",
     "text": [
      "LM Loss: 0.0988, Class Loss: 0.0300\n"
     ]
    },
    {
     "name": "stderr",
     "output_type": "stream",
     "text": [
      "Epoch 2/3 [Training]:  77%|███████▋  | 307/400 [03:31<01:04,  1.44it/s, Loss=0.874]"
     ]
    },
    {
     "name": "stdout",
     "output_type": "stream",
     "text": [
      "LM Loss: 0.0808, Class Loss: 0.4667\n"
     ]
    },
    {
     "name": "stderr",
     "output_type": "stream",
     "text": [
      "Epoch 2/3 [Training]:  77%|███████▋  | 308/400 [03:32<01:05,  1.41it/s, Loss=0.872]"
     ]
    },
    {
     "name": "stdout",
     "output_type": "stream",
     "text": [
      "LM Loss: 0.1220, Class Loss: 0.1983\n"
     ]
    },
    {
     "name": "stderr",
     "output_type": "stream",
     "text": [
      "Epoch 2/3 [Training]:  77%|███████▋  | 309/400 [03:32<01:00,  1.51it/s, Loss=0.871]"
     ]
    },
    {
     "name": "stdout",
     "output_type": "stream",
     "text": [
      "LM Loss: 0.0844, Class Loss: 0.2946\n"
     ]
    },
    {
     "name": "stderr",
     "output_type": "stream",
     "text": [
      "Epoch 2/3 [Training]:  78%|███████▊  | 310/400 [03:33<00:56,  1.59it/s, Loss=0.873]"
     ]
    },
    {
     "name": "stdout",
     "output_type": "stream",
     "text": [
      "LM Loss: 0.1450, Class Loss: 1.3725\n"
     ]
    },
    {
     "name": "stderr",
     "output_type": "stream",
     "text": [
      "Epoch 2/3 [Training]:  78%|███████▊  | 311/400 [03:34<00:53,  1.65it/s, Loss=0.871]"
     ]
    },
    {
     "name": "stdout",
     "output_type": "stream",
     "text": [
      "LM Loss: 0.0227, Class Loss: 0.3584\n"
     ]
    },
    {
     "name": "stderr",
     "output_type": "stream",
     "text": [
      "Epoch 2/3 [Training]:  78%|███████▊  | 312/400 [03:34<00:53,  1.65it/s, Loss=0.87] "
     ]
    },
    {
     "name": "stdout",
     "output_type": "stream",
     "text": [
      "LM Loss: 0.1030, Class Loss: 0.4705\n"
     ]
    },
    {
     "name": "stderr",
     "output_type": "stream",
     "text": [
      "Epoch 2/3 [Training]:  78%|███████▊  | 313/400 [03:35<00:56,  1.55it/s, Loss=0.869]"
     ]
    },
    {
     "name": "stdout",
     "output_type": "stream",
     "text": [
      "LM Loss: 0.1542, Class Loss: 0.2510\n"
     ]
    },
    {
     "name": "stderr",
     "output_type": "stream",
     "text": [
      "Epoch 2/3 [Training]:  78%|███████▊  | 314/400 [03:35<00:51,  1.66it/s, Loss=0.871]"
     ]
    },
    {
     "name": "stdout",
     "output_type": "stream",
     "text": [
      "LM Loss: 0.1305, Class Loss: 1.4920\n"
     ]
    },
    {
     "name": "stderr",
     "output_type": "stream",
     "text": [
      "Epoch 2/3 [Training]:  79%|███████▉  | 315/400 [03:36<00:52,  1.61it/s, Loss=0.872]"
     ]
    },
    {
     "name": "stdout",
     "output_type": "stream",
     "text": [
      "LM Loss: 0.1254, Class Loss: 0.9554\n"
     ]
    },
    {
     "name": "stderr",
     "output_type": "stream",
     "text": [
      "Epoch 2/3 [Training]:  79%|███████▉  | 316/400 [03:37<00:49,  1.71it/s, Loss=0.876]"
     ]
    },
    {
     "name": "stdout",
     "output_type": "stream",
     "text": [
      "LM Loss: 0.1451, Class Loss: 2.1405\n"
     ]
    },
    {
     "name": "stderr",
     "output_type": "stream",
     "text": [
      "Epoch 2/3 [Training]:  79%|███████▉  | 317/400 [03:37<00:50,  1.65it/s, Loss=0.876]"
     ]
    },
    {
     "name": "stdout",
     "output_type": "stream",
     "text": [
      "LM Loss: 0.1114, Class Loss: 0.6588\n"
     ]
    },
    {
     "name": "stderr",
     "output_type": "stream",
     "text": [
      "Epoch 2/3 [Training]:  80%|███████▉  | 318/400 [03:38<00:48,  1.69it/s, Loss=0.876]"
     ]
    },
    {
     "name": "stdout",
     "output_type": "stream",
     "text": [
      "LM Loss: 0.2690, Class Loss: 0.7290\n"
     ]
    },
    {
     "name": "stderr",
     "output_type": "stream",
     "text": [
      "Epoch 2/3 [Training]:  80%|███████▉  | 319/400 [03:38<00:47,  1.72it/s, Loss=0.874]"
     ]
    },
    {
     "name": "stdout",
     "output_type": "stream",
     "text": [
      "LM Loss: 0.0848, Class Loss: 0.0836\n"
     ]
    },
    {
     "name": "stderr",
     "output_type": "stream",
     "text": [
      "Epoch 2/3 [Training]:  80%|████████  | 320/400 [03:39<00:48,  1.65it/s, Loss=0.873]"
     ]
    },
    {
     "name": "stdout",
     "output_type": "stream",
     "text": [
      "LM Loss: 0.0542, Class Loss: 0.4775\n"
     ]
    },
    {
     "name": "stderr",
     "output_type": "stream",
     "text": [
      "Epoch 2/3 [Training]:  80%|████████  | 321/400 [03:40<00:56,  1.40it/s, Loss=0.871]"
     ]
    },
    {
     "name": "stdout",
     "output_type": "stream",
     "text": [
      "LM Loss: 0.0738, Class Loss: 0.1918\n"
     ]
    },
    {
     "name": "stderr",
     "output_type": "stream",
     "text": [
      "Epoch 2/3 [Training]:  80%|████████  | 322/400 [03:41<00:54,  1.44it/s, Loss=0.87] "
     ]
    },
    {
     "name": "stdout",
     "output_type": "stream",
     "text": [
      "LM Loss: 0.1445, Class Loss: 0.2558\n"
     ]
    },
    {
     "name": "stderr",
     "output_type": "stream",
     "text": [
      "Epoch 2/3 [Training]:  81%|████████  | 323/400 [03:41<00:54,  1.41it/s, Loss=0.867]"
     ]
    },
    {
     "name": "stdout",
     "output_type": "stream",
     "text": [
      "LM Loss: 0.0464, Class Loss: 0.0592\n"
     ]
    },
    {
     "name": "stderr",
     "output_type": "stream",
     "text": [
      "Epoch 2/3 [Training]:  81%|████████  | 324/400 [03:42<00:54,  1.40it/s, Loss=0.866]"
     ]
    },
    {
     "name": "stdout",
     "output_type": "stream",
     "text": [
      "LM Loss: 0.0745, Class Loss: 0.2596\n"
     ]
    },
    {
     "name": "stderr",
     "output_type": "stream",
     "text": [
      "Epoch 2/3 [Training]:  81%|████████▏ | 325/400 [03:43<00:56,  1.33it/s, Loss=0.864]"
     ]
    },
    {
     "name": "stdout",
     "output_type": "stream",
     "text": [
      "LM Loss: 0.2813, Class Loss: 0.2352\n"
     ]
    },
    {
     "name": "stderr",
     "output_type": "stream",
     "text": [
      "Epoch 2/3 [Training]:  82%|████████▏ | 326/400 [03:44<00:55,  1.33it/s, Loss=0.865]"
     ]
    },
    {
     "name": "stdout",
     "output_type": "stream",
     "text": [
      "LM Loss: 0.1953, Class Loss: 0.9509\n"
     ]
    },
    {
     "name": "stderr",
     "output_type": "stream",
     "text": [
      "Epoch 2/3 [Training]:  82%|████████▏ | 327/400 [03:44<00:49,  1.48it/s, Loss=0.863]"
     ]
    },
    {
     "name": "stdout",
     "output_type": "stream",
     "text": [
      "LM Loss: 0.1038, Class Loss: 0.1367\n"
     ]
    },
    {
     "name": "stderr",
     "output_type": "stream",
     "text": [
      "Epoch 2/3 [Training]:  82%|████████▏ | 328/400 [03:45<00:49,  1.47it/s, Loss=0.87] "
     ]
    },
    {
     "name": "stdout",
     "output_type": "stream",
     "text": [
      "LM Loss: 0.3725, Class Loss: 2.6935\n"
     ]
    },
    {
     "name": "stderr",
     "output_type": "stream",
     "text": [
      "Epoch 2/3 [Training]:  82%|████████▏ | 329/400 [03:46<00:46,  1.52it/s, Loss=0.868]"
     ]
    },
    {
     "name": "stdout",
     "output_type": "stream",
     "text": [
      "LM Loss: 0.0293, Class Loss: 0.3059\n"
     ]
    },
    {
     "name": "stderr",
     "output_type": "stream",
     "text": [
      "Epoch 2/3 [Training]:  82%|████████▎ | 330/400 [03:46<00:47,  1.46it/s, Loss=0.867]"
     ]
    },
    {
     "name": "stdout",
     "output_type": "stream",
     "text": [
      "LM Loss: 0.1038, Class Loss: 0.2535\n"
     ]
    },
    {
     "name": "stderr",
     "output_type": "stream",
     "text": [
      "Epoch 2/3 [Training]:  83%|████████▎ | 331/400 [03:47<00:48,  1.43it/s, Loss=0.868]"
     ]
    },
    {
     "name": "stdout",
     "output_type": "stream",
     "text": [
      "LM Loss: 0.1322, Class Loss: 0.9676\n"
     ]
    },
    {
     "name": "stderr",
     "output_type": "stream",
     "text": [
      "Epoch 2/3 [Training]:  83%|████████▎ | 332/400 [03:48<00:49,  1.38it/s, Loss=0.867]"
     ]
    },
    {
     "name": "stdout",
     "output_type": "stream",
     "text": [
      "LM Loss: 0.0939, Class Loss: 0.4340\n"
     ]
    },
    {
     "name": "stderr",
     "output_type": "stream",
     "text": [
      "Epoch 2/3 [Training]:  83%|████████▎ | 333/400 [03:49<00:48,  1.37it/s, Loss=0.864]"
     ]
    },
    {
     "name": "stdout",
     "output_type": "stream",
     "text": [
      "LM Loss: 0.0555, Class Loss: 0.0653\n"
     ]
    },
    {
     "name": "stderr",
     "output_type": "stream",
     "text": [
      "Epoch 2/3 [Training]:  84%|████████▎ | 334/400 [03:49<00:52,  1.25it/s, Loss=0.866]"
     ]
    },
    {
     "name": "stdout",
     "output_type": "stream",
     "text": [
      "LM Loss: 0.2304, Class Loss: 1.1428\n"
     ]
    },
    {
     "name": "stderr",
     "output_type": "stream",
     "text": [
      "Epoch 2/3 [Training]:  84%|████████▍ | 335/400 [03:50<00:54,  1.20it/s, Loss=0.867]"
     ]
    },
    {
     "name": "stdout",
     "output_type": "stream",
     "text": [
      "LM Loss: 0.2051, Class Loss: 0.9090\n"
     ]
    },
    {
     "name": "stderr",
     "output_type": "stream",
     "text": [
      "Epoch 2/3 [Training]:  84%|████████▍ | 336/400 [03:51<00:49,  1.28it/s, Loss=0.865]"
     ]
    },
    {
     "name": "stdout",
     "output_type": "stream",
     "text": [
      "LM Loss: 0.0749, Class Loss: 0.1703\n"
     ]
    },
    {
     "name": "stderr",
     "output_type": "stream",
     "text": [
      "Epoch 2/3 [Training]:  84%|████████▍ | 337/400 [03:52<00:45,  1.37it/s, Loss=0.865]"
     ]
    },
    {
     "name": "stdout",
     "output_type": "stream",
     "text": [
      "LM Loss: 0.1017, Class Loss: 0.7819\n"
     ]
    },
    {
     "name": "stderr",
     "output_type": "stream",
     "text": [
      "Epoch 2/3 [Training]:  84%|████████▍ | 338/400 [03:52<00:44,  1.39it/s, Loss=0.863]"
     ]
    },
    {
     "name": "stdout",
     "output_type": "stream",
     "text": [
      "LM Loss: 0.0648, Class Loss: 0.1258\n"
     ]
    },
    {
     "name": "stderr",
     "output_type": "stream",
     "text": [
      "Epoch 2/3 [Training]:  85%|████████▍ | 339/400 [03:53<00:40,  1.50it/s, Loss=0.862]"
     ]
    },
    {
     "name": "stdout",
     "output_type": "stream",
     "text": [
      "LM Loss: 0.3443, Class Loss: 0.2871\n"
     ]
    },
    {
     "name": "stderr",
     "output_type": "stream",
     "text": [
      "Epoch 2/3 [Training]:  85%|████████▌ | 340/400 [03:53<00:38,  1.58it/s, Loss=0.86] "
     ]
    },
    {
     "name": "stdout",
     "output_type": "stream",
     "text": [
      "LM Loss: 0.0754, Class Loss: 0.0602\n"
     ]
    },
    {
     "name": "stderr",
     "output_type": "stream",
     "text": [
      "Epoch 2/3 [Training]:  85%|████████▌ | 341/400 [03:54<00:35,  1.69it/s, Loss=0.86]"
     ]
    },
    {
     "name": "stdout",
     "output_type": "stream",
     "text": [
      "LM Loss: 0.1042, Class Loss: 0.7793\n"
     ]
    },
    {
     "name": "stderr",
     "output_type": "stream",
     "text": [
      "Epoch 2/3 [Training]:  86%|████████▌ | 342/400 [03:55<00:39,  1.46it/s, Loss=0.858]"
     ]
    },
    {
     "name": "stdout",
     "output_type": "stream",
     "text": [
      "LM Loss: 0.0669, Class Loss: 0.0099\n"
     ]
    },
    {
     "name": "stderr",
     "output_type": "stream",
     "text": [
      "Epoch 2/3 [Training]:  86%|████████▌ | 343/400 [03:56<00:39,  1.45it/s, Loss=0.86] "
     ]
    },
    {
     "name": "stdout",
     "output_type": "stream",
     "text": [
      "LM Loss: 0.2810, Class Loss: 1.1862\n"
     ]
    },
    {
     "name": "stderr",
     "output_type": "stream",
     "text": [
      "Epoch 2/3 [Training]:  86%|████████▌ | 344/400 [03:56<00:41,  1.36it/s, Loss=0.858]"
     ]
    },
    {
     "name": "stdout",
     "output_type": "stream",
     "text": [
      "LM Loss: 0.0787, Class Loss: 0.0783\n"
     ]
    },
    {
     "name": "stderr",
     "output_type": "stream",
     "text": [
      "Epoch 2/3 [Training]:  86%|████████▋ | 345/400 [03:57<00:40,  1.36it/s, Loss=0.856]"
     ]
    },
    {
     "name": "stdout",
     "output_type": "stream",
     "text": [
      "LM Loss: 0.1490, Class Loss: 0.2971\n"
     ]
    },
    {
     "name": "stderr",
     "output_type": "stream",
     "text": [
      "Epoch 2/3 [Training]:  86%|████████▋ | 346/400 [03:58<00:40,  1.33it/s, Loss=0.857]"
     ]
    },
    {
     "name": "stdout",
     "output_type": "stream",
     "text": [
      "LM Loss: 0.1668, Class Loss: 0.9981\n"
     ]
    },
    {
     "name": "stderr",
     "output_type": "stream",
     "text": [
      "Epoch 2/3 [Training]:  87%|████████▋ | 347/400 [03:58<00:36,  1.44it/s, Loss=0.856]"
     ]
    },
    {
     "name": "stdout",
     "output_type": "stream",
     "text": [
      "LM Loss: 0.1358, Class Loss: 0.3018\n"
     ]
    },
    {
     "name": "stderr",
     "output_type": "stream",
     "text": [
      "Epoch 2/3 [Training]:  87%|████████▋ | 348/400 [03:59<00:40,  1.27it/s, Loss=0.854]"
     ]
    },
    {
     "name": "stdout",
     "output_type": "stream",
     "text": [
      "LM Loss: 0.0972, Class Loss: 0.0529\n"
     ]
    },
    {
     "name": "stderr",
     "output_type": "stream",
     "text": [
      "Epoch 2/3 [Training]:  87%|████████▋ | 349/400 [04:00<00:39,  1.29it/s, Loss=0.852]"
     ]
    },
    {
     "name": "stdout",
     "output_type": "stream",
     "text": [
      "LM Loss: 0.0567, Class Loss: 0.0122\n"
     ]
    },
    {
     "name": "stderr",
     "output_type": "stream",
     "text": [
      "Epoch 2/3 [Training]:  88%|████████▊ | 350/400 [04:01<00:38,  1.31it/s, Loss=0.853]"
     ]
    },
    {
     "name": "stdout",
     "output_type": "stream",
     "text": [
      "LM Loss: 0.2009, Class Loss: 0.9300\n"
     ]
    },
    {
     "name": "stderr",
     "output_type": "stream",
     "text": [
      "Epoch 2/3 [Training]:  88%|████████▊ | 351/400 [04:02<00:41,  1.17it/s, Loss=0.851]"
     ]
    },
    {
     "name": "stdout",
     "output_type": "stream",
     "text": [
      "LM Loss: 0.1477, Class Loss: 0.3257\n"
     ]
    },
    {
     "name": "stderr",
     "output_type": "stream",
     "text": [
      "Epoch 2/3 [Training]:  88%|████████▊ | 352/400 [04:03<00:43,  1.11it/s, Loss=0.85] "
     ]
    },
    {
     "name": "stdout",
     "output_type": "stream",
     "text": [
      "LM Loss: 0.0370, Class Loss: 0.2213\n"
     ]
    },
    {
     "name": "stderr",
     "output_type": "stream",
     "text": [
      "Epoch 2/3 [Training]:  88%|████████▊ | 353/400 [04:04<00:39,  1.19it/s, Loss=0.848]"
     ]
    },
    {
     "name": "stdout",
     "output_type": "stream",
     "text": [
      "LM Loss: 0.1564, Class Loss: 0.0349\n"
     ]
    },
    {
     "name": "stderr",
     "output_type": "stream",
     "text": [
      "Epoch 2/3 [Training]:  88%|████████▊ | 354/400 [04:04<00:36,  1.27it/s, Loss=0.847]"
     ]
    },
    {
     "name": "stdout",
     "output_type": "stream",
     "text": [
      "LM Loss: 0.0456, Class Loss: 0.2960\n"
     ]
    },
    {
     "name": "stderr",
     "output_type": "stream",
     "text": [
      "Epoch 2/3 [Training]:  89%|████████▉ | 355/400 [04:05<00:34,  1.31it/s, Loss=0.844]"
     ]
    },
    {
     "name": "stdout",
     "output_type": "stream",
     "text": [
      "LM Loss: 0.0241, Class Loss: 0.0843\n"
     ]
    },
    {
     "name": "stderr",
     "output_type": "stream",
     "text": [
      "Epoch 2/3 [Training]:  89%|████████▉ | 356/400 [04:06<00:30,  1.45it/s, Loss=0.843]"
     ]
    },
    {
     "name": "stdout",
     "output_type": "stream",
     "text": [
      "LM Loss: 0.0872, Class Loss: 0.1331\n"
     ]
    },
    {
     "name": "stderr",
     "output_type": "stream",
     "text": [
      "Epoch 2/3 [Training]:  89%|████████▉ | 357/400 [04:07<00:35,  1.23it/s, Loss=0.842]"
     ]
    },
    {
     "name": "stdout",
     "output_type": "stream",
     "text": [
      "LM Loss: 0.1435, Class Loss: 0.3792\n"
     ]
    },
    {
     "name": "stderr",
     "output_type": "stream",
     "text": [
      "Epoch 2/3 [Training]:  90%|████████▉ | 358/400 [04:07<00:31,  1.33it/s, Loss=0.84] "
     ]
    },
    {
     "name": "stdout",
     "output_type": "stream",
     "text": [
      "LM Loss: 0.0464, Class Loss: 0.1967\n"
     ]
    },
    {
     "name": "stderr",
     "output_type": "stream",
     "text": [
      "Epoch 2/3 [Training]:  90%|████████▉ | 359/400 [04:08<00:28,  1.46it/s, Loss=0.842]"
     ]
    },
    {
     "name": "stdout",
     "output_type": "stream",
     "text": [
      "LM Loss: 0.1328, Class Loss: 1.4185\n"
     ]
    },
    {
     "name": "stderr",
     "output_type": "stream",
     "text": [
      "Epoch 2/3 [Training]:  90%|█████████ | 360/400 [04:09<00:28,  1.40it/s, Loss=0.842]"
     ]
    },
    {
     "name": "stdout",
     "output_type": "stream",
     "text": [
      "LM Loss: 0.0926, Class Loss: 0.8439\n"
     ]
    },
    {
     "name": "stderr",
     "output_type": "stream",
     "text": [
      "Epoch 2/3 [Training]:  90%|█████████ | 361/400 [04:09<00:27,  1.40it/s, Loss=0.841]"
     ]
    },
    {
     "name": "stdout",
     "output_type": "stream",
     "text": [
      "LM Loss: 0.1125, Class Loss: 0.2164\n"
     ]
    },
    {
     "name": "stderr",
     "output_type": "stream",
     "text": [
      "Epoch 2/3 [Training]:  90%|█████████ | 362/400 [04:10<00:25,  1.47it/s, Loss=0.841]"
     ]
    },
    {
     "name": "stdout",
     "output_type": "stream",
     "text": [
      "LM Loss: 0.1264, Class Loss: 0.8944\n"
     ]
    },
    {
     "name": "stderr",
     "output_type": "stream",
     "text": [
      "Epoch 2/3 [Training]:  91%|█████████ | 363/400 [04:11<00:25,  1.43it/s, Loss=0.84] "
     ]
    },
    {
     "name": "stdout",
     "output_type": "stream",
     "text": [
      "LM Loss: 0.1212, Class Loss: 0.3108\n"
     ]
    },
    {
     "name": "stderr",
     "output_type": "stream",
     "text": [
      "Epoch 2/3 [Training]:  91%|█████████ | 364/400 [04:12<00:26,  1.35it/s, Loss=0.838]"
     ]
    },
    {
     "name": "stdout",
     "output_type": "stream",
     "text": [
      "LM Loss: 0.0332, Class Loss: 0.1508\n"
     ]
    },
    {
     "name": "stderr",
     "output_type": "stream",
     "text": [
      "Epoch 2/3 [Training]:  91%|█████████▏| 365/400 [04:12<00:23,  1.48it/s, Loss=0.837]"
     ]
    },
    {
     "name": "stdout",
     "output_type": "stream",
     "text": [
      "LM Loss: 0.0995, Class Loss: 0.0577\n"
     ]
    },
    {
     "name": "stderr",
     "output_type": "stream",
     "text": [
      "Epoch 2/3 [Training]:  92%|█████████▏| 366/400 [04:13<00:23,  1.47it/s, Loss=0.839]"
     ]
    },
    {
     "name": "stdout",
     "output_type": "stream",
     "text": [
      "LM Loss: 0.1988, Class Loss: 1.4008\n"
     ]
    },
    {
     "name": "stderr",
     "output_type": "stream",
     "text": [
      "Epoch 2/3 [Training]:  92%|█████████▏| 367/400 [04:14<00:24,  1.37it/s, Loss=0.838]"
     ]
    },
    {
     "name": "stdout",
     "output_type": "stream",
     "text": [
      "LM Loss: 0.0647, Class Loss: 0.5771\n"
     ]
    },
    {
     "name": "stderr",
     "output_type": "stream",
     "text": [
      "Epoch 2/3 [Training]:  92%|█████████▏| 368/400 [04:14<00:20,  1.55it/s, Loss=0.837]"
     ]
    },
    {
     "name": "stdout",
     "output_type": "stream",
     "text": [
      "LM Loss: 0.0801, Class Loss: 0.1469\n"
     ]
    },
    {
     "name": "stderr",
     "output_type": "stream",
     "text": [
      "Epoch 2/3 [Training]:  92%|█████████▏| 369/400 [04:15<00:20,  1.54it/s, Loss=0.837]"
     ]
    },
    {
     "name": "stdout",
     "output_type": "stream",
     "text": [
      "LM Loss: 0.1086, Class Loss: 0.8034\n"
     ]
    },
    {
     "name": "stderr",
     "output_type": "stream",
     "text": [
      "Epoch 2/3 [Training]:  92%|█████████▎| 370/400 [04:15<00:20,  1.48it/s, Loss=0.837]"
     ]
    },
    {
     "name": "stdout",
     "output_type": "stream",
     "text": [
      "LM Loss: 0.2517, Class Loss: 0.6455\n"
     ]
    },
    {
     "name": "stderr",
     "output_type": "stream",
     "text": [
      "Epoch 2/3 [Training]:  93%|█████████▎| 371/400 [04:16<00:19,  1.46it/s, Loss=0.835]"
     ]
    },
    {
     "name": "stdout",
     "output_type": "stream",
     "text": [
      "LM Loss: 0.0717, Class Loss: 0.0569\n"
     ]
    },
    {
     "name": "stderr",
     "output_type": "stream",
     "text": [
      "Epoch 2/3 [Training]:  93%|█████████▎| 372/400 [04:17<00:20,  1.33it/s, Loss=0.839]"
     ]
    },
    {
     "name": "stdout",
     "output_type": "stream",
     "text": [
      "LM Loss: 0.2029, Class Loss: 2.2768\n"
     ]
    },
    {
     "name": "stderr",
     "output_type": "stream",
     "text": [
      "Epoch 2/3 [Training]:  93%|█████████▎| 373/400 [04:18<00:20,  1.34it/s, Loss=0.838]"
     ]
    },
    {
     "name": "stdout",
     "output_type": "stream",
     "text": [
      "LM Loss: 0.0203, Class Loss: 0.1886\n"
     ]
    },
    {
     "name": "stderr",
     "output_type": "stream",
     "text": [
      "Epoch 2/3 [Training]:  94%|█████████▎| 374/400 [04:18<00:17,  1.47it/s, Loss=0.837]"
     ]
    },
    {
     "name": "stdout",
     "output_type": "stream",
     "text": [
      "LM Loss: 0.1586, Class Loss: 0.5182\n"
     ]
    },
    {
     "name": "stderr",
     "output_type": "stream",
     "text": [
      "Epoch 2/3 [Training]:  94%|█████████▍| 375/400 [04:19<00:16,  1.48it/s, Loss=0.839]"
     ]
    },
    {
     "name": "stdout",
     "output_type": "stream",
     "text": [
      "LM Loss: 0.1756, Class Loss: 1.4073\n"
     ]
    },
    {
     "name": "stderr",
     "output_type": "stream",
     "text": [
      "Epoch 2/3 [Training]:  94%|█████████▍| 376/400 [04:20<00:16,  1.48it/s, Loss=0.842]"
     ]
    },
    {
     "name": "stdout",
     "output_type": "stream",
     "text": [
      "LM Loss: 0.1502, Class Loss: 1.6241\n"
     ]
    },
    {
     "name": "stderr",
     "output_type": "stream",
     "text": [
      "Epoch 2/3 [Training]:  94%|█████████▍| 377/400 [04:20<00:14,  1.59it/s, Loss=0.843]"
     ]
    },
    {
     "name": "stdout",
     "output_type": "stream",
     "text": [
      "LM Loss: 0.0752, Class Loss: 1.0858\n"
     ]
    },
    {
     "name": "stderr",
     "output_type": "stream",
     "text": [
      "Epoch 2/3 [Training]:  94%|█████████▍| 378/400 [04:21<00:13,  1.61it/s, Loss=0.841]"
     ]
    },
    {
     "name": "stdout",
     "output_type": "stream",
     "text": [
      "LM Loss: 0.0639, Class Loss: 0.0550\n"
     ]
    },
    {
     "name": "stderr",
     "output_type": "stream",
     "text": [
      "Epoch 2/3 [Training]:  95%|█████████▍| 379/400 [04:22<00:15,  1.32it/s, Loss=0.841]"
     ]
    },
    {
     "name": "stdout",
     "output_type": "stream",
     "text": [
      "LM Loss: 0.1191, Class Loss: 0.9757\n"
     ]
    },
    {
     "name": "stderr",
     "output_type": "stream",
     "text": [
      "Epoch 2/3 [Training]:  95%|█████████▌| 380/400 [04:22<00:13,  1.47it/s, Loss=0.84] "
     ]
    },
    {
     "name": "stdout",
     "output_type": "stream",
     "text": [
      "LM Loss: 0.1032, Class Loss: 0.4024\n"
     ]
    },
    {
     "name": "stderr",
     "output_type": "stream",
     "text": [
      "Epoch 2/3 [Training]:  95%|█████████▌| 381/400 [04:23<00:12,  1.55it/s, Loss=0.839]"
     ]
    },
    {
     "name": "stdout",
     "output_type": "stream",
     "text": [
      "LM Loss: 0.1031, Class Loss: 0.2600\n"
     ]
    },
    {
     "name": "stderr",
     "output_type": "stream",
     "text": [
      "Epoch 2/3 [Training]:  96%|█████████▌| 382/400 [04:24<00:12,  1.45it/s, Loss=0.838]"
     ]
    },
    {
     "name": "stdout",
     "output_type": "stream",
     "text": [
      "LM Loss: 0.0766, Class Loss: 0.2334\n"
     ]
    },
    {
     "name": "stderr",
     "output_type": "stream",
     "text": [
      "Epoch 2/3 [Training]:  96%|█████████▌| 383/400 [04:24<00:10,  1.59it/s, Loss=0.836]"
     ]
    },
    {
     "name": "stdout",
     "output_type": "stream",
     "text": [
      "LM Loss: 0.1189, Class Loss: 0.1930\n"
     ]
    },
    {
     "name": "stderr",
     "output_type": "stream",
     "text": [
      "Epoch 2/3 [Training]:  96%|█████████▌| 384/400 [04:25<00:10,  1.56it/s, Loss=0.835]"
     ]
    },
    {
     "name": "stdout",
     "output_type": "stream",
     "text": [
      "LM Loss: 0.0548, Class Loss: 0.1530\n"
     ]
    },
    {
     "name": "stderr",
     "output_type": "stream",
     "text": [
      "Epoch 2/3 [Training]:  96%|█████████▋| 385/400 [04:25<00:09,  1.63it/s, Loss=0.835]"
     ]
    },
    {
     "name": "stdout",
     "output_type": "stream",
     "text": [
      "LM Loss: 0.3261, Class Loss: 0.7607\n"
     ]
    },
    {
     "name": "stderr",
     "output_type": "stream",
     "text": [
      "Epoch 2/3 [Training]:  96%|█████████▋| 386/400 [04:26<00:08,  1.73it/s, Loss=0.834]"
     ]
    },
    {
     "name": "stdout",
     "output_type": "stream",
     "text": [
      "LM Loss: 0.0475, Class Loss: 0.3537\n"
     ]
    },
    {
     "name": "stderr",
     "output_type": "stream",
     "text": [
      "Epoch 2/3 [Training]:  97%|█████████▋| 387/400 [04:27<00:08,  1.55it/s, Loss=0.832]"
     ]
    },
    {
     "name": "stdout",
     "output_type": "stream",
     "text": [
      "LM Loss: 0.0142, Class Loss: 0.0006\n"
     ]
    },
    {
     "name": "stderr",
     "output_type": "stream",
     "text": [
      "Epoch 2/3 [Training]:  97%|█████████▋| 388/400 [04:28<00:08,  1.45it/s, Loss=0.832]"
     ]
    },
    {
     "name": "stdout",
     "output_type": "stream",
     "text": [
      "LM Loss: 0.0915, Class Loss: 0.7731\n"
     ]
    },
    {
     "name": "stderr",
     "output_type": "stream",
     "text": [
      "Epoch 2/3 [Training]:  97%|█████████▋| 389/400 [04:28<00:07,  1.39it/s, Loss=0.835]"
     ]
    },
    {
     "name": "stdout",
     "output_type": "stream",
     "text": [
      "LM Loss: 0.2295, Class Loss: 1.6845\n"
     ]
    },
    {
     "name": "stderr",
     "output_type": "stream",
     "text": [
      "Epoch 2/3 [Training]:  98%|█████████▊| 390/400 [04:29<00:07,  1.40it/s, Loss=0.833]"
     ]
    },
    {
     "name": "stdout",
     "output_type": "stream",
     "text": [
      "LM Loss: 0.0844, Class Loss: 0.1094\n"
     ]
    },
    {
     "name": "stderr",
     "output_type": "stream",
     "text": [
      "Epoch 2/3 [Training]:  98%|█████████▊| 391/400 [04:30<00:06,  1.43it/s, Loss=0.831]"
     ]
    },
    {
     "name": "stdout",
     "output_type": "stream",
     "text": [
      "LM Loss: 0.0071, Class Loss: 0.0470\n"
     ]
    },
    {
     "name": "stderr",
     "output_type": "stream",
     "text": [
      "Epoch 2/3 [Training]:  98%|█████████▊| 392/400 [04:30<00:05,  1.49it/s, Loss=0.836]"
     ]
    },
    {
     "name": "stdout",
     "output_type": "stream",
     "text": [
      "LM Loss: 0.2155, Class Loss: 2.4691\n"
     ]
    },
    {
     "name": "stderr",
     "output_type": "stream",
     "text": [
      "Epoch 2/3 [Training]:  98%|█████████▊| 393/400 [04:31<00:04,  1.61it/s, Loss=0.836]"
     ]
    },
    {
     "name": "stdout",
     "output_type": "stream",
     "text": [
      "LM Loss: 0.2852, Class Loss: 0.4509\n"
     ]
    },
    {
     "name": "stderr",
     "output_type": "stream",
     "text": [
      "Epoch 2/3 [Training]:  98%|█████████▊| 394/400 [04:32<00:04,  1.49it/s, Loss=0.838]"
     ]
    },
    {
     "name": "stdout",
     "output_type": "stream",
     "text": [
      "LM Loss: 0.1458, Class Loss: 1.3710\n"
     ]
    },
    {
     "name": "stderr",
     "output_type": "stream",
     "text": [
      "Epoch 2/3 [Training]:  99%|█████████▉| 395/400 [04:32<00:03,  1.47it/s, Loss=0.837]"
     ]
    },
    {
     "name": "stdout",
     "output_type": "stream",
     "text": [
      "LM Loss: 0.1081, Class Loss: 0.6442\n"
     ]
    },
    {
     "name": "stderr",
     "output_type": "stream",
     "text": [
      "Epoch 2/3 [Training]:  99%|█████████▉| 396/400 [04:33<00:02,  1.46it/s, Loss=0.837]"
     ]
    },
    {
     "name": "stdout",
     "output_type": "stream",
     "text": [
      "LM Loss: 0.1570, Class Loss: 0.4835\n"
     ]
    },
    {
     "name": "stderr",
     "output_type": "stream",
     "text": [
      "Epoch 2/3 [Training]:  99%|█████████▉| 397/400 [04:34<00:02,  1.44it/s, Loss=0.837]"
     ]
    },
    {
     "name": "stdout",
     "output_type": "stream",
     "text": [
      "LM Loss: 0.0949, Class Loss: 0.8546\n"
     ]
    },
    {
     "name": "stderr",
     "output_type": "stream",
     "text": [
      "Epoch 2/3 [Training]: 100%|█████████▉| 398/400 [04:35<00:01,  1.36it/s, Loss=0.836]"
     ]
    },
    {
     "name": "stdout",
     "output_type": "stream",
     "text": [
      "LM Loss: 0.1477, Class Loss: 0.0491\n"
     ]
    },
    {
     "name": "stderr",
     "output_type": "stream",
     "text": [
      "Epoch 2/3 [Training]: 100%|█████████▉| 399/400 [04:35<00:00,  1.27it/s, Loss=0.835]"
     ]
    },
    {
     "name": "stdout",
     "output_type": "stream",
     "text": [
      "LM Loss: 0.1079, Class Loss: 0.3353\n"
     ]
    },
    {
     "name": "stderr",
     "output_type": "stream",
     "text": [
      "Epoch 2/3 [Training]: 100%|██████████| 400/400 [04:36<00:00,  1.45it/s, Loss=0.834]\n"
     ]
    },
    {
     "name": "stdout",
     "output_type": "stream",
     "text": [
      "LM Loss: 0.0937, Class Loss: 0.3537\n",
      "Epoch 2/3, Average Loss: 0.8336624264251441\n"
     ]
    },
    {
     "name": "stderr",
     "output_type": "stream",
     "text": [
      "[Evaluating]: 100%|██████████| 100/100 [00:34<00:00,  2.91it/s]\n"
     ]
    },
    {
     "name": "stdout",
     "output_type": "stream",
     "text": [
      "Validation - LM Loss: 0.1058, Classification Accuracy: 0.8050\n"
     ]
    },
    {
     "name": "stderr",
     "output_type": "stream",
     "text": [
      "Epoch 3/3 [Training]:   0%|          | 1/400 [00:00<05:35,  1.19it/s, Loss=0.794]"
     ]
    },
    {
     "name": "stdout",
     "output_type": "stream",
     "text": [
      "LM Loss: 0.1217, Class Loss: 0.6726\n"
     ]
    },
    {
     "name": "stderr",
     "output_type": "stream",
     "text": [
      "Epoch 3/3 [Training]:   0%|          | 2/400 [00:01<05:01,  1.32it/s, Loss=1.07] "
     ]
    },
    {
     "name": "stdout",
     "output_type": "stream",
     "text": [
      "LM Loss: 0.2309, Class Loss: 1.1159\n"
     ]
    },
    {
     "name": "stderr",
     "output_type": "stream",
     "text": [
      "Epoch 3/3 [Training]:   1%|          | 3/400 [00:02<04:51,  1.36it/s, Loss=0.807]"
     ]
    },
    {
     "name": "stdout",
     "output_type": "stream",
     "text": [
      "LM Loss: 0.0725, Class Loss: 0.2074\n"
     ]
    },
    {
     "name": "stderr",
     "output_type": "stream",
     "text": [
      "Epoch 3/3 [Training]:   1%|          | 4/400 [00:03<05:44,  1.15it/s, Loss=0.696]"
     ]
    },
    {
     "name": "stdout",
     "output_type": "stream",
     "text": [
      "LM Loss: 0.1099, Class Loss: 0.2519\n"
     ]
    },
    {
     "name": "stderr",
     "output_type": "stream",
     "text": [
      "Epoch 3/3 [Training]:   1%|▏         | 5/400 [00:03<04:58,  1.32it/s, Loss=0.867]"
     ]
    },
    {
     "name": "stdout",
     "output_type": "stream",
     "text": [
      "LM Loss: 0.1258, Class Loss: 1.4264\n"
     ]
    },
    {
     "name": "stderr",
     "output_type": "stream",
     "text": [
      "Epoch 3/3 [Training]:   2%|▏         | 6/400 [00:04<04:26,  1.48it/s, Loss=0.739]"
     ]
    },
    {
     "name": "stdout",
     "output_type": "stream",
     "text": [
      "LM Loss: 0.0157, Class Loss: 0.0858\n"
     ]
    },
    {
     "name": "stderr",
     "output_type": "stream",
     "text": [
      "Epoch 3/3 [Training]:   2%|▏         | 7/400 [00:05<04:54,  1.33it/s, Loss=0.653]"
     ]
    },
    {
     "name": "stdout",
     "output_type": "stream",
     "text": [
      "LM Loss: 0.0749, Class Loss: 0.0596\n"
     ]
    },
    {
     "name": "stderr",
     "output_type": "stream",
     "text": [
      "Epoch 3/3 [Training]:   2%|▏         | 8/400 [00:05<04:47,  1.36it/s, Loss=0.581]"
     ]
    },
    {
     "name": "stdout",
     "output_type": "stream",
     "text": [
      "LM Loss: 0.0645, Class Loss: 0.0140\n"
     ]
    },
    {
     "name": "stderr",
     "output_type": "stream",
     "text": [
      "Epoch 3/3 [Training]:   2%|▏         | 9/400 [00:06<04:53,  1.33it/s, Loss=0.572]"
     ]
    },
    {
     "name": "stdout",
     "output_type": "stream",
     "text": [
      "LM Loss: 0.1426, Class Loss: 0.3559\n"
     ]
    },
    {
     "name": "stderr",
     "output_type": "stream",
     "text": [
      "Epoch 3/3 [Training]:   2%|▎         | 10/400 [00:07<04:22,  1.48it/s, Loss=0.559]"
     ]
    },
    {
     "name": "stdout",
     "output_type": "stream",
     "text": [
      "LM Loss: 0.0621, Class Loss: 0.3840\n"
     ]
    },
    {
     "name": "stderr",
     "output_type": "stream",
     "text": [
      "Epoch 3/3 [Training]:   3%|▎         | 11/400 [00:07<04:25,  1.46it/s, Loss=0.579]"
     ]
    },
    {
     "name": "stdout",
     "output_type": "stream",
     "text": [
      "LM Loss: 0.1487, Class Loss: 0.6290\n"
     ]
    },
    {
     "name": "stderr",
     "output_type": "stream",
     "text": [
      "Epoch 3/3 [Training]:   3%|▎         | 12/400 [00:09<05:09,  1.26it/s, Loss=0.621]"
     ]
    },
    {
     "name": "stdout",
     "output_type": "stream",
     "text": [
      "LM Loss: 0.1129, Class Loss: 0.9626\n"
     ]
    },
    {
     "name": "stderr",
     "output_type": "stream",
     "text": [
      "Epoch 3/3 [Training]:   3%|▎         | 13/400 [00:09<05:13,  1.23it/s, Loss=0.732]"
     ]
    },
    {
     "name": "stdout",
     "output_type": "stream",
     "text": [
      "LM Loss: 0.1022, Class Loss: 1.9606\n"
     ]
    },
    {
     "name": "stderr",
     "output_type": "stream",
     "text": [
      "Epoch 3/3 [Training]:   4%|▎         | 14/400 [00:10<05:10,  1.24it/s, Loss=0.687]"
     ]
    },
    {
     "name": "stdout",
     "output_type": "stream",
     "text": [
      "LM Loss: 0.0450, Class Loss: 0.0580\n"
     ]
    },
    {
     "name": "stderr",
     "output_type": "stream",
     "text": [
      "Epoch 3/3 [Training]:   4%|▍         | 15/400 [00:11<04:52,  1.31it/s, Loss=0.69] "
     ]
    },
    {
     "name": "stdout",
     "output_type": "stream",
     "text": [
      "LM Loss: 0.2551, Class Loss: 0.4794\n"
     ]
    },
    {
     "name": "stderr",
     "output_type": "stream",
     "text": [
      "Epoch 3/3 [Training]:   4%|▍         | 16/400 [00:11<04:25,  1.45it/s, Loss=0.651]"
     ]
    },
    {
     "name": "stdout",
     "output_type": "stream",
     "text": [
      "LM Loss: 0.0092, Class Loss: 0.0581\n"
     ]
    },
    {
     "name": "stderr",
     "output_type": "stream",
     "text": [
      "Epoch 3/3 [Training]:   4%|▍         | 17/400 [00:12<04:36,  1.39it/s, Loss=0.621]"
     ]
    },
    {
     "name": "stdout",
     "output_type": "stream",
     "text": [
      "LM Loss: 0.1061, Class Loss: 0.0314\n"
     ]
    },
    {
     "name": "stderr",
     "output_type": "stream",
     "text": [
      "Epoch 3/3 [Training]:   4%|▍         | 18/400 [00:13<04:32,  1.40it/s, Loss=0.64] "
     ]
    },
    {
     "name": "stdout",
     "output_type": "stream",
     "text": [
      "LM Loss: 0.0963, Class Loss: 0.8785\n"
     ]
    },
    {
     "name": "stderr",
     "output_type": "stream",
     "text": [
      "Epoch 3/3 [Training]:   5%|▍         | 19/400 [00:14<04:46,  1.33it/s, Loss=0.633]"
     ]
    },
    {
     "name": "stdout",
     "output_type": "stream",
     "text": [
      "LM Loss: 0.1129, Class Loss: 0.3827\n"
     ]
    },
    {
     "name": "stderr",
     "output_type": "stream",
     "text": [
      "Epoch 3/3 [Training]:   5%|▌         | 20/400 [00:14<04:39,  1.36it/s, Loss=0.679]"
     ]
    },
    {
     "name": "stdout",
     "output_type": "stream",
     "text": [
      "LM Loss: 0.2018, Class Loss: 1.3482\n"
     ]
    },
    {
     "name": "stderr",
     "output_type": "stream",
     "text": [
      "Epoch 3/3 [Training]:   5%|▌         | 21/400 [00:15<04:38,  1.36it/s, Loss=0.738]"
     ]
    },
    {
     "name": "stdout",
     "output_type": "stream",
     "text": [
      "LM Loss: 0.1601, Class Loss: 1.7746\n"
     ]
    },
    {
     "name": "stderr",
     "output_type": "stream",
     "text": [
      "Epoch 3/3 [Training]:   6%|▌         | 22/400 [00:16<04:57,  1.27it/s, Loss=0.717]"
     ]
    },
    {
     "name": "stdout",
     "output_type": "stream",
     "text": [
      "LM Loss: 0.0887, Class Loss: 0.1728\n"
     ]
    },
    {
     "name": "stderr",
     "output_type": "stream",
     "text": [
      "Epoch 3/3 [Training]:   6%|▌         | 23/400 [00:17<04:47,  1.31it/s, Loss=0.759]"
     ]
    },
    {
     "name": "stdout",
     "output_type": "stream",
     "text": [
      "LM Loss: 0.1225, Class Loss: 1.5575\n"
     ]
    },
    {
     "name": "stderr",
     "output_type": "stream",
     "text": [
      "Epoch 3/3 [Training]:   6%|▌         | 24/400 [00:18<04:55,  1.27it/s, Loss=0.733]"
     ]
    },
    {
     "name": "stdout",
     "output_type": "stream",
     "text": [
      "LM Loss: 0.0367, Class Loss: 0.0954\n"
     ]
    },
    {
     "name": "stderr",
     "output_type": "stream",
     "text": [
      "Epoch 3/3 [Training]:   6%|▋         | 25/400 [00:19<05:14,  1.19it/s, Loss=0.731]"
     ]
    },
    {
     "name": "stdout",
     "output_type": "stream",
     "text": [
      "LM Loss: 0.0924, Class Loss: 0.5989\n"
     ]
    },
    {
     "name": "stderr",
     "output_type": "stream",
     "text": [
      "Epoch 3/3 [Training]:   6%|▋         | 26/400 [00:19<04:54,  1.27it/s, Loss=0.707]"
     ]
    },
    {
     "name": "stdout",
     "output_type": "stream",
     "text": [
      "LM Loss: 0.0749, Class Loss: 0.0370\n"
     ]
    },
    {
     "name": "stderr",
     "output_type": "stream",
     "text": [
      "Epoch 3/3 [Training]:   7%|▋         | 27/400 [00:20<04:33,  1.36it/s, Loss=0.687]"
     ]
    },
    {
     "name": "stdout",
     "output_type": "stream",
     "text": [
      "LM Loss: 0.1156, Class Loss: 0.0505\n"
     ]
    },
    {
     "name": "stderr",
     "output_type": "stream",
     "text": [
      "Epoch 3/3 [Training]:   7%|▋         | 28/400 [00:21<04:28,  1.38it/s, Loss=0.678]"
     ]
    },
    {
     "name": "stdout",
     "output_type": "stream",
     "text": [
      "LM Loss: 0.0598, Class Loss: 0.3792\n"
     ]
    },
    {
     "name": "stderr",
     "output_type": "stream",
     "text": [
      "Epoch 3/3 [Training]:   7%|▋         | 29/400 [00:21<04:29,  1.37it/s, Loss=0.675]"
     ]
    },
    {
     "name": "stdout",
     "output_type": "stream",
     "text": [
      "LM Loss: 0.0459, Class Loss: 0.5378\n"
     ]
    },
    {
     "name": "stderr",
     "output_type": "stream",
     "text": [
      "Epoch 3/3 [Training]:   8%|▊         | 30/400 [00:22<04:30,  1.37it/s, Loss=0.655]"
     ]
    },
    {
     "name": "stdout",
     "output_type": "stream",
     "text": [
      "LM Loss: 0.0584, Class Loss: 0.0105\n"
     ]
    },
    {
     "name": "stderr",
     "output_type": "stream",
     "text": [
      "Epoch 3/3 [Training]:   8%|▊         | 31/400 [00:23<04:15,  1.44it/s, Loss=0.637]"
     ]
    },
    {
     "name": "stdout",
     "output_type": "stream",
     "text": [
      "LM Loss: 0.0500, Class Loss: 0.0459\n"
     ]
    },
    {
     "name": "stderr",
     "output_type": "stream",
     "text": [
      "Epoch 3/3 [Training]:   8%|▊         | 32/400 [00:23<04:05,  1.50it/s, Loss=0.629]"
     ]
    },
    {
     "name": "stdout",
     "output_type": "stream",
     "text": [
      "LM Loss: 0.0973, Class Loss: 0.3074\n"
     ]
    },
    {
     "name": "stderr",
     "output_type": "stream",
     "text": [
      "Epoch 3/3 [Training]:   8%|▊         | 33/400 [00:24<03:58,  1.54it/s, Loss=0.615]"
     ]
    },
    {
     "name": "stdout",
     "output_type": "stream",
     "text": [
      "LM Loss: 0.0768, Class Loss: 0.0674\n"
     ]
    },
    {
     "name": "stderr",
     "output_type": "stream",
     "text": [
      "Epoch 3/3 [Training]:   8%|▊         | 34/400 [00:24<03:53,  1.57it/s, Loss=0.599]"
     ]
    },
    {
     "name": "stdout",
     "output_type": "stream",
     "text": [
      "LM Loss: 0.0594, Class Loss: 0.0210\n"
     ]
    },
    {
     "name": "stderr",
     "output_type": "stream",
     "text": [
      "Epoch 3/3 [Training]:   9%|▉         | 35/400 [00:25<03:59,  1.53it/s, Loss=0.598]"
     ]
    },
    {
     "name": "stdout",
     "output_type": "stream",
     "text": [
      "LM Loss: 0.1857, Class Loss: 0.3852\n"
     ]
    },
    {
     "name": "stderr",
     "output_type": "stream",
     "text": [
      "Epoch 3/3 [Training]:   9%|▉         | 36/400 [00:26<04:07,  1.47it/s, Loss=0.606]"
     ]
    },
    {
     "name": "stdout",
     "output_type": "stream",
     "text": [
      "LM Loss: 0.2360, Class Loss: 0.6362\n"
     ]
    },
    {
     "name": "stderr",
     "output_type": "stream",
     "text": [
      "Epoch 3/3 [Training]:   9%|▉         | 37/400 [00:26<03:50,  1.58it/s, Loss=0.61] "
     ]
    },
    {
     "name": "stdout",
     "output_type": "stream",
     "text": [
      "LM Loss: 0.1910, Class Loss: 0.5788\n"
     ]
    },
    {
     "name": "stderr",
     "output_type": "stream",
     "text": [
      "Epoch 3/3 [Training]:  10%|▉         | 38/400 [00:27<03:57,  1.52it/s, Loss=0.623]"
     ]
    },
    {
     "name": "stdout",
     "output_type": "stream",
     "text": [
      "LM Loss: 0.0357, Class Loss: 1.0710\n"
     ]
    },
    {
     "name": "stderr",
     "output_type": "stream",
     "text": [
      "Epoch 3/3 [Training]:  10%|▉         | 39/400 [00:28<04:05,  1.47it/s, Loss=0.612]"
     ]
    },
    {
     "name": "stdout",
     "output_type": "stream",
     "text": [
      "LM Loss: 0.0331, Class Loss: 0.1453\n"
     ]
    },
    {
     "name": "stderr",
     "output_type": "stream",
     "text": [
      "Epoch 3/3 [Training]:  10%|█         | 40/400 [00:28<04:02,  1.48it/s, Loss=0.622]"
     ]
    },
    {
     "name": "stdout",
     "output_type": "stream",
     "text": [
      "LM Loss: 0.1007, Class Loss: 0.8958\n"
     ]
    },
    {
     "name": "stderr",
     "output_type": "stream",
     "text": [
      "Epoch 3/3 [Training]:  10%|█         | 41/400 [00:29<04:00,  1.50it/s, Loss=0.623]"
     ]
    },
    {
     "name": "stdout",
     "output_type": "stream",
     "text": [
      "LM Loss: 0.1188, Class Loss: 0.5462\n"
     ]
    },
    {
     "name": "stderr",
     "output_type": "stream",
     "text": [
      "Epoch 3/3 [Training]:  10%|█         | 42/400 [00:30<03:46,  1.58it/s, Loss=0.613]"
     ]
    },
    {
     "name": "stdout",
     "output_type": "stream",
     "text": [
      "LM Loss: 0.0244, Class Loss: 0.2112\n"
     ]
    },
    {
     "name": "stderr",
     "output_type": "stream",
     "text": [
      "Epoch 3/3 [Training]:  11%|█         | 43/400 [00:30<03:37,  1.64it/s, Loss=0.61] "
     ]
    },
    {
     "name": "stdout",
     "output_type": "stream",
     "text": [
      "LM Loss: 0.1261, Class Loss: 0.3350\n"
     ]
    },
    {
     "name": "stderr",
     "output_type": "stream",
     "text": [
      "Epoch 3/3 [Training]:  11%|█         | 44/400 [00:31<03:12,  1.85it/s, Loss=0.609]"
     ]
    },
    {
     "name": "stdout",
     "output_type": "stream",
     "text": [
      "LM Loss: 0.1175, Class Loss: 0.4594\n"
     ]
    },
    {
     "name": "stderr",
     "output_type": "stream",
     "text": [
      "Epoch 3/3 [Training]:  11%|█▏        | 45/400 [00:31<03:24,  1.73it/s, Loss=0.598]"
     ]
    },
    {
     "name": "stdout",
     "output_type": "stream",
     "text": [
      "LM Loss: 0.0256, Class Loss: 0.0842\n"
     ]
    },
    {
     "name": "stderr",
     "output_type": "stream",
     "text": [
      "Epoch 3/3 [Training]:  12%|█▏        | 46/400 [00:32<04:10,  1.41it/s, Loss=0.622]"
     ]
    },
    {
     "name": "stdout",
     "output_type": "stream",
     "text": [
      "LM Loss: 0.4323, Class Loss: 1.2761\n"
     ]
    },
    {
     "name": "stderr",
     "output_type": "stream",
     "text": [
      "Epoch 3/3 [Training]:  12%|█▏        | 47/400 [00:33<04:04,  1.44it/s, Loss=0.61] "
     ]
    },
    {
     "name": "stdout",
     "output_type": "stream",
     "text": [
      "LM Loss: 0.0171, Class Loss: 0.0433\n"
     ]
    },
    {
     "name": "stderr",
     "output_type": "stream",
     "text": [
      "Epoch 3/3 [Training]:  12%|█▏        | 48/400 [00:34<04:19,  1.36it/s, Loss=0.6] "
     ]
    },
    {
     "name": "stdout",
     "output_type": "stream",
     "text": [
      "LM Loss: 0.0707, Class Loss: 0.0616\n"
     ]
    },
    {
     "name": "stderr",
     "output_type": "stream",
     "text": [
      "Epoch 3/3 [Training]:  12%|█▏        | 49/400 [00:35<04:29,  1.30it/s, Loss=0.623]"
     ]
    },
    {
     "name": "stdout",
     "output_type": "stream",
     "text": [
      "LM Loss: 0.2751, Class Loss: 1.4373\n"
     ]
    },
    {
     "name": "stderr",
     "output_type": "stream",
     "text": [
      "Epoch 3/3 [Training]:  12%|█▎        | 50/400 [00:35<04:03,  1.44it/s, Loss=0.614]"
     ]
    },
    {
     "name": "stdout",
     "output_type": "stream",
     "text": [
      "LM Loss: 0.1458, Class Loss: 0.0352\n"
     ]
    },
    {
     "name": "stderr",
     "output_type": "stream",
     "text": [
      "Epoch 3/3 [Training]:  13%|█▎        | 51/400 [00:36<03:45,  1.55it/s, Loss=0.604]"
     ]
    },
    {
     "name": "stdout",
     "output_type": "stream",
     "text": [
      "LM Loss: 0.0117, Class Loss: 0.1029\n"
     ]
    },
    {
     "name": "stderr",
     "output_type": "stream",
     "text": [
      "Epoch 3/3 [Training]:  13%|█▎        | 52/400 [00:36<03:50,  1.51it/s, Loss=0.639]"
     ]
    },
    {
     "name": "stdout",
     "output_type": "stream",
     "text": [
      "LM Loss: 0.1698, Class Loss: 2.2455\n"
     ]
    },
    {
     "name": "stderr",
     "output_type": "stream",
     "text": [
      "Epoch 3/3 [Training]:  13%|█▎        | 53/400 [00:37<03:57,  1.46it/s, Loss=0.698]"
     ]
    },
    {
     "name": "stdout",
     "output_type": "stream",
     "text": [
      "LM Loss: 0.2214, Class Loss: 3.5571\n"
     ]
    },
    {
     "name": "stderr",
     "output_type": "stream",
     "text": [
      "Epoch 3/3 [Training]:  14%|█▎        | 54/400 [00:38<04:02,  1.43it/s, Loss=0.702]"
     ]
    },
    {
     "name": "stdout",
     "output_type": "stream",
     "text": [
      "LM Loss: 0.1125, Class Loss: 0.7843\n"
     ]
    },
    {
     "name": "stderr",
     "output_type": "stream",
     "text": [
      "Epoch 3/3 [Training]:  14%|█▍        | 55/400 [00:38<03:51,  1.49it/s, Loss=0.693]"
     ]
    },
    {
     "name": "stdout",
     "output_type": "stream",
     "text": [
      "LM Loss: 0.0353, Class Loss: 0.1534\n"
     ]
    },
    {
     "name": "stderr",
     "output_type": "stream",
     "text": [
      "Epoch 3/3 [Training]:  14%|█▍        | 56/400 [00:39<04:15,  1.35it/s, Loss=0.688]"
     ]
    },
    {
     "name": "stdout",
     "output_type": "stream",
     "text": [
      "LM Loss: 0.2892, Class Loss: 0.1675\n"
     ]
    },
    {
     "name": "stderr",
     "output_type": "stream",
     "text": [
      "Epoch 3/3 [Training]:  14%|█▍        | 57/400 [00:40<04:13,  1.35it/s, Loss=0.677]"
     ]
    },
    {
     "name": "stdout",
     "output_type": "stream",
     "text": [
      "LM Loss: 0.0295, Class Loss: 0.0162\n"
     ]
    },
    {
     "name": "stderr",
     "output_type": "stream",
     "text": [
      "Epoch 3/3 [Training]:  14%|█▍        | 58/400 [00:41<04:12,  1.35it/s, Loss=0.667]"
     ]
    },
    {
     "name": "stdout",
     "output_type": "stream",
     "text": [
      "LM Loss: 0.0289, Class Loss: 0.0291\n"
     ]
    },
    {
     "name": "stderr",
     "output_type": "stream",
     "text": [
      "Epoch 3/3 [Training]:  15%|█▍        | 59/400 [00:42<04:17,  1.33it/s, Loss=0.658]"
     ]
    },
    {
     "name": "stdout",
     "output_type": "stream",
     "text": [
      "LM Loss: 0.0838, Class Loss: 0.0704\n"
     ]
    },
    {
     "name": "stderr",
     "output_type": "stream",
     "text": [
      "Epoch 3/3 [Training]:  15%|█▌        | 60/400 [00:42<04:14,  1.33it/s, Loss=0.672]"
     ]
    },
    {
     "name": "stdout",
     "output_type": "stream",
     "text": [
      "LM Loss: 0.1941, Class Loss: 1.3420\n"
     ]
    },
    {
     "name": "stderr",
     "output_type": "stream",
     "text": [
      "Epoch 3/3 [Training]:  15%|█▌        | 61/400 [00:43<04:05,  1.38it/s, Loss=0.666]"
     ]
    },
    {
     "name": "stdout",
     "output_type": "stream",
     "text": [
      "LM Loss: 0.0163, Class Loss: 0.2434\n"
     ]
    },
    {
     "name": "stderr",
     "output_type": "stream",
     "text": [
      "Epoch 3/3 [Training]:  16%|█▌        | 62/400 [00:44<03:52,  1.45it/s, Loss=0.66] "
     ]
    },
    {
     "name": "stdout",
     "output_type": "stream",
     "text": [
      "LM Loss: 0.1445, Class Loss: 0.1941\n"
     ]
    },
    {
     "name": "stderr",
     "output_type": "stream",
     "text": [
      "Epoch 3/3 [Training]:  16%|█▌        | 63/400 [00:44<03:52,  1.45it/s, Loss=0.66]"
     ]
    },
    {
     "name": "stdout",
     "output_type": "stream",
     "text": [
      "LM Loss: 0.1615, Class Loss: 0.4461\n"
     ]
    },
    {
     "name": "stderr",
     "output_type": "stream",
     "text": [
      "Epoch 3/3 [Training]:  16%|█▌        | 64/400 [00:45<03:33,  1.58it/s, Loss=0.67]"
     ]
    },
    {
     "name": "stdout",
     "output_type": "stream",
     "text": [
      "LM Loss: 0.0743, Class Loss: 1.2218\n"
     ]
    },
    {
     "name": "stderr",
     "output_type": "stream",
     "text": [
      "Epoch 3/3 [Training]:  16%|█▋        | 65/400 [00:46<03:48,  1.47it/s, Loss=0.671]"
     ]
    },
    {
     "name": "stdout",
     "output_type": "stream",
     "text": [
      "LM Loss: 0.1774, Class Loss: 0.5840\n"
     ]
    },
    {
     "name": "stderr",
     "output_type": "stream",
     "text": [
      "Epoch 3/3 [Training]:  16%|█▋        | 66/400 [00:46<03:32,  1.57it/s, Loss=0.671]"
     ]
    },
    {
     "name": "stdout",
     "output_type": "stream",
     "text": [
      "LM Loss: 0.1787, Class Loss: 0.5247\n"
     ]
    },
    {
     "name": "stderr",
     "output_type": "stream",
     "text": [
      "Epoch 3/3 [Training]:  17%|█▋        | 67/400 [00:47<03:38,  1.53it/s, Loss=0.676]"
     ]
    },
    {
     "name": "stdout",
     "output_type": "stream",
     "text": [
      "LM Loss: 0.1564, Class Loss: 0.8194\n"
     ]
    },
    {
     "name": "stderr",
     "output_type": "stream",
     "text": [
      "Epoch 3/3 [Training]:  17%|█▋        | 68/400 [00:48<03:45,  1.47it/s, Loss=0.675]"
     ]
    },
    {
     "name": "stdout",
     "output_type": "stream",
     "text": [
      "LM Loss: 0.0439, Class Loss: 0.5684\n"
     ]
    },
    {
     "name": "stderr",
     "output_type": "stream",
     "text": [
      "Epoch 3/3 [Training]:  17%|█▋        | 69/400 [00:48<04:01,  1.37it/s, Loss=0.667]"
     ]
    },
    {
     "name": "stdout",
     "output_type": "stream",
     "text": [
      "LM Loss: 0.1011, Class Loss: 0.0298\n"
     ]
    },
    {
     "name": "stderr",
     "output_type": "stream",
     "text": [
      "Epoch 3/3 [Training]:  18%|█▊        | 70/400 [00:49<04:12,  1.31it/s, Loss=0.674]"
     ]
    },
    {
     "name": "stdout",
     "output_type": "stream",
     "text": [
      "LM Loss: 0.1354, Class Loss: 0.9812\n"
     ]
    },
    {
     "name": "stderr",
     "output_type": "stream",
     "text": [
      "Epoch 3/3 [Training]:  18%|█▊        | 71/400 [00:50<03:50,  1.43it/s, Loss=0.676]"
     ]
    },
    {
     "name": "stdout",
     "output_type": "stream",
     "text": [
      "LM Loss: 0.1252, Class Loss: 0.6983\n"
     ]
    },
    {
     "name": "stderr",
     "output_type": "stream",
     "text": [
      "Epoch 3/3 [Training]:  18%|█▊        | 72/400 [00:50<03:40,  1.49it/s, Loss=0.67] "
     ]
    },
    {
     "name": "stdout",
     "output_type": "stream",
     "text": [
      "LM Loss: 0.1419, Class Loss: 0.1394\n"
     ]
    },
    {
     "name": "stderr",
     "output_type": "stream",
     "text": [
      "Epoch 3/3 [Training]:  18%|█▊        | 73/400 [00:51<03:46,  1.44it/s, Loss=0.664]"
     ]
    },
    {
     "name": "stdout",
     "output_type": "stream",
     "text": [
      "LM Loss: 0.0673, Class Loss: 0.1563\n"
     ]
    },
    {
     "name": "stderr",
     "output_type": "stream",
     "text": [
      "Epoch 3/3 [Training]:  18%|█▊        | 74/400 [00:52<03:16,  1.66it/s, Loss=0.658]"
     ]
    },
    {
     "name": "stdout",
     "output_type": "stream",
     "text": [
      "LM Loss: 0.0160, Class Loss: 0.1756\n"
     ]
    },
    {
     "name": "stderr",
     "output_type": "stream",
     "text": [
      "Epoch 3/3 [Training]:  19%|█▉        | 75/400 [00:52<03:39,  1.48it/s, Loss=0.664]"
     ]
    },
    {
     "name": "stdout",
     "output_type": "stream",
     "text": [
      "LM Loss: 0.1691, Class Loss: 0.9489\n"
     ]
    },
    {
     "name": "stderr",
     "output_type": "stream",
     "text": [
      "Epoch 3/3 [Training]:  19%|█▉        | 76/400 [00:53<04:11,  1.29it/s, Loss=0.661]"
     ]
    },
    {
     "name": "stdout",
     "output_type": "stream",
     "text": [
      "LM Loss: 0.0158, Class Loss: 0.4474\n"
     ]
    },
    {
     "name": "stderr",
     "output_type": "stream",
     "text": [
      "Epoch 3/3 [Training]:  19%|█▉        | 77/400 [00:54<03:46,  1.43it/s, Loss=0.667]"
     ]
    },
    {
     "name": "stdout",
     "output_type": "stream",
     "text": [
      "LM Loss: 0.1216, Class Loss: 1.0177\n"
     ]
    },
    {
     "name": "stderr",
     "output_type": "stream",
     "text": [
      "Epoch 3/3 [Training]:  20%|█▉        | 78/400 [00:55<03:54,  1.37it/s, Loss=0.66] "
     ]
    },
    {
     "name": "stdout",
     "output_type": "stream",
     "text": [
      "LM Loss: 0.0448, Class Loss: 0.0779\n"
     ]
    },
    {
     "name": "stderr",
     "output_type": "stream",
     "text": [
      "Epoch 3/3 [Training]:  20%|█▉        | 79/400 [00:56<04:00,  1.34it/s, Loss=0.659]"
     ]
    },
    {
     "name": "stdout",
     "output_type": "stream",
     "text": [
      "LM Loss: 0.0477, Class Loss: 0.5103\n"
     ]
    },
    {
     "name": "stderr",
     "output_type": "stream",
     "text": [
      "Epoch 3/3 [Training]:  20%|██        | 80/400 [00:56<03:46,  1.42it/s, Loss=0.654]"
     ]
    },
    {
     "name": "stdout",
     "output_type": "stream",
     "text": [
      "LM Loss: 0.0268, Class Loss: 0.2286\n"
     ]
    },
    {
     "name": "stderr",
     "output_type": "stream",
     "text": [
      "Epoch 3/3 [Training]:  20%|██        | 81/400 [00:57<03:35,  1.48it/s, Loss=0.664]"
     ]
    },
    {
     "name": "stdout",
     "output_type": "stream",
     "text": [
      "LM Loss: 0.0636, Class Loss: 1.4184\n"
     ]
    },
    {
     "name": "stderr",
     "output_type": "stream",
     "text": [
      "Epoch 3/3 [Training]:  20%|██        | 82/400 [00:57<03:21,  1.58it/s, Loss=0.674]"
     ]
    },
    {
     "name": "stdout",
     "output_type": "stream",
     "text": [
      "LM Loss: 0.2871, Class Loss: 1.1742\n"
     ]
    },
    {
     "name": "stderr",
     "output_type": "stream",
     "text": [
      "Epoch 3/3 [Training]:  21%|██        | 83/400 [00:58<03:26,  1.53it/s, Loss=0.7]  "
     ]
    },
    {
     "name": "stdout",
     "output_type": "stream",
     "text": [
      "LM Loss: 0.5193, Class Loss: 2.2872\n"
     ]
    },
    {
     "name": "stderr",
     "output_type": "stream",
     "text": [
      "Epoch 3/3 [Training]:  21%|██        | 84/400 [00:59<03:14,  1.63it/s, Loss=0.7]"
     ]
    },
    {
     "name": "stdout",
     "output_type": "stream",
     "text": [
      "LM Loss: 0.1602, Class Loss: 0.5651\n"
     ]
    },
    {
     "name": "stderr",
     "output_type": "stream",
     "text": [
      "Epoch 3/3 [Training]:  21%|██▏       | 85/400 [00:59<03:02,  1.72it/s, Loss=0.702]"
     ]
    },
    {
     "name": "stdout",
     "output_type": "stream",
     "text": [
      "LM Loss: 0.1721, Class Loss: 0.6775\n"
     ]
    },
    {
     "name": "stderr",
     "output_type": "stream",
     "text": [
      "Epoch 3/3 [Training]:  22%|██▏       | 86/400 [01:00<03:17,  1.59it/s, Loss=0.7]  "
     ]
    },
    {
     "name": "stdout",
     "output_type": "stream",
     "text": [
      "LM Loss: 0.0643, Class Loss: 0.5247\n"
     ]
    },
    {
     "name": "stderr",
     "output_type": "stream",
     "text": [
      "Epoch 3/3 [Training]:  22%|██▏       | 87/400 [01:00<03:19,  1.57it/s, Loss=0.694]"
     ]
    },
    {
     "name": "stdout",
     "output_type": "stream",
     "text": [
      "LM Loss: 0.0618, Class Loss: 0.0446\n"
     ]
    },
    {
     "name": "stderr",
     "output_type": "stream",
     "text": [
      "Epoch 3/3 [Training]:  22%|██▏       | 88/400 [01:01<03:11,  1.63it/s, Loss=0.688]"
     ]
    },
    {
     "name": "stdout",
     "output_type": "stream",
     "text": [
      "LM Loss: 0.0341, Class Loss: 0.1504\n"
     ]
    },
    {
     "name": "stderr",
     "output_type": "stream",
     "text": [
      "Epoch 3/3 [Training]:  22%|██▏       | 89/400 [01:02<03:10,  1.64it/s, Loss=0.682]"
     ]
    },
    {
     "name": "stdout",
     "output_type": "stream",
     "text": [
      "LM Loss: 0.1195, Class Loss: 0.0716\n"
     ]
    },
    {
     "name": "stderr",
     "output_type": "stream",
     "text": [
      "Epoch 3/3 [Training]:  22%|██▎       | 90/400 [01:02<03:26,  1.50it/s, Loss=0.676]"
     ]
    },
    {
     "name": "stdout",
     "output_type": "stream",
     "text": [
      "LM Loss: 0.0601, Class Loss: 0.0445\n"
     ]
    },
    {
     "name": "stderr",
     "output_type": "stream",
     "text": [
      "Epoch 3/3 [Training]:  23%|██▎       | 91/400 [01:03<03:05,  1.67it/s, Loss=0.67] "
     ]
    },
    {
     "name": "stdout",
     "output_type": "stream",
     "text": [
      "LM Loss: 0.0611, Class Loss: 0.0973\n"
     ]
    },
    {
     "name": "stderr",
     "output_type": "stream",
     "text": [
      "Epoch 3/3 [Training]:  23%|██▎       | 92/400 [01:04<03:10,  1.62it/s, Loss=0.665]"
     ]
    },
    {
     "name": "stdout",
     "output_type": "stream",
     "text": [
      "LM Loss: 0.0827, Class Loss: 0.1091\n"
     ]
    },
    {
     "name": "stderr",
     "output_type": "stream",
     "text": [
      "Epoch 3/3 [Training]:  23%|██▎       | 93/400 [01:04<02:58,  1.72it/s, Loss=0.67] "
     ]
    },
    {
     "name": "stdout",
     "output_type": "stream",
     "text": [
      "LM Loss: 0.1523, Class Loss: 0.9491\n"
     ]
    },
    {
     "name": "stderr",
     "output_type": "stream",
     "text": [
      "Epoch 3/3 [Training]:  24%|██▎       | 94/400 [01:05<03:12,  1.59it/s, Loss=0.669]"
     ]
    },
    {
     "name": "stdout",
     "output_type": "stream",
     "text": [
      "LM Loss: 0.0724, Class Loss: 0.4942\n"
     ]
    },
    {
     "name": "stderr",
     "output_type": "stream",
     "text": [
      "Epoch 3/3 [Training]:  24%|██▍       | 95/400 [01:05<03:05,  1.65it/s, Loss=0.667]"
     ]
    },
    {
     "name": "stdout",
     "output_type": "stream",
     "text": [
      "LM Loss: 0.1051, Class Loss: 0.3830\n"
     ]
    },
    {
     "name": "stderr",
     "output_type": "stream",
     "text": [
      "Epoch 3/3 [Training]:  24%|██▍       | 96/400 [01:06<03:21,  1.51it/s, Loss=0.66] "
     ]
    },
    {
     "name": "stdout",
     "output_type": "stream",
     "text": [
      "LM Loss: 0.0309, Class Loss: 0.0043\n"
     ]
    },
    {
     "name": "stderr",
     "output_type": "stream",
     "text": [
      "Epoch 3/3 [Training]:  24%|██▍       | 97/400 [01:07<03:20,  1.51it/s, Loss=0.654]"
     ]
    },
    {
     "name": "stdout",
     "output_type": "stream",
     "text": [
      "LM Loss: 0.0624, Class Loss: 0.0240\n"
     ]
    },
    {
     "name": "stderr",
     "output_type": "stream",
     "text": [
      "Epoch 3/3 [Training]:  24%|██▍       | 98/400 [01:07<03:14,  1.55it/s, Loss=0.654]"
     ]
    },
    {
     "name": "stdout",
     "output_type": "stream",
     "text": [
      "LM Loss: 0.0622, Class Loss: 0.5992\n"
     ]
    },
    {
     "name": "stderr",
     "output_type": "stream",
     "text": [
      "Epoch 3/3 [Training]:  25%|██▍       | 99/400 [01:08<03:42,  1.35it/s, Loss=0.656]"
     ]
    },
    {
     "name": "stdout",
     "output_type": "stream",
     "text": [
      "LM Loss: 0.2294, Class Loss: 0.5708\n"
     ]
    },
    {
     "name": "stderr",
     "output_type": "stream",
     "text": [
      "Epoch 3/3 [Training]:  25%|██▌       | 100/400 [01:09<03:30,  1.43it/s, Loss=0.654]"
     ]
    },
    {
     "name": "stdout",
     "output_type": "stream",
     "text": [
      "LM Loss: 0.1270, Class Loss: 0.3325\n"
     ]
    },
    {
     "name": "stderr",
     "output_type": "stream",
     "text": [
      "Epoch 3/3 [Training]:  25%|██▌       | 101/400 [01:09<03:16,  1.52it/s, Loss=0.648]"
     ]
    },
    {
     "name": "stdout",
     "output_type": "stream",
     "text": [
      "LM Loss: 0.0226, Class Loss: 0.0674\n"
     ]
    },
    {
     "name": "stderr",
     "output_type": "stream",
     "text": [
      "Epoch 3/3 [Training]:  26%|██▌       | 102/400 [01:10<03:11,  1.56it/s, Loss=0.651]"
     ]
    },
    {
     "name": "stdout",
     "output_type": "stream",
     "text": [
      "LM Loss: 0.1606, Class Loss: 0.7744\n"
     ]
    },
    {
     "name": "stderr",
     "output_type": "stream",
     "text": [
      "Epoch 3/3 [Training]:  26%|██▌       | 103/400 [01:11<03:12,  1.54it/s, Loss=0.647]"
     ]
    },
    {
     "name": "stdout",
     "output_type": "stream",
     "text": [
      "LM Loss: 0.1566, Class Loss: 0.0678\n"
     ]
    },
    {
     "name": "stderr",
     "output_type": "stream",
     "text": [
      "Epoch 3/3 [Training]:  26%|██▌       | 104/400 [01:11<02:58,  1.66it/s, Loss=0.644]"
     ]
    },
    {
     "name": "stdout",
     "output_type": "stream",
     "text": [
      "LM Loss: 0.1226, Class Loss: 0.2283\n"
     ]
    },
    {
     "name": "stderr",
     "output_type": "stream",
     "text": [
      "Epoch 3/3 [Training]:  26%|██▋       | 105/400 [01:12<02:53,  1.70it/s, Loss=0.643]"
     ]
    },
    {
     "name": "stdout",
     "output_type": "stream",
     "text": [
      "LM Loss: 0.0650, Class Loss: 0.5091\n"
     ]
    },
    {
     "name": "stderr",
     "output_type": "stream",
     "text": [
      "Epoch 3/3 [Training]:  26%|██▋       | 106/400 [01:13<03:06,  1.58it/s, Loss=0.639]"
     ]
    },
    {
     "name": "stdout",
     "output_type": "stream",
     "text": [
      "LM Loss: 0.1485, Class Loss: 0.0358\n"
     ]
    },
    {
     "name": "stderr",
     "output_type": "stream",
     "text": [
      "Epoch 3/3 [Training]:  27%|██▋       | 107/400 [01:13<02:58,  1.64it/s, Loss=0.634]"
     ]
    },
    {
     "name": "stdout",
     "output_type": "stream",
     "text": [
      "LM Loss: 0.0124, Class Loss: 0.0542\n"
     ]
    },
    {
     "name": "stderr",
     "output_type": "stream",
     "text": [
      "Epoch 3/3 [Training]:  27%|██▋       | 108/400 [01:14<02:58,  1.64it/s, Loss=0.629]"
     ]
    },
    {
     "name": "stdout",
     "output_type": "stream",
     "text": [
      "LM Loss: 0.0525, Class Loss: 0.0479\n"
     ]
    },
    {
     "name": "stderr",
     "output_type": "stream",
     "text": [
      "Epoch 3/3 [Training]:  27%|██▋       | 109/400 [01:15<03:22,  1.43it/s, Loss=0.638]"
     ]
    },
    {
     "name": "stdout",
     "output_type": "stream",
     "text": [
      "LM Loss: 0.2890, Class Loss: 1.3821\n"
     ]
    },
    {
     "name": "stderr",
     "output_type": "stream",
     "text": [
      "Epoch 3/3 [Training]:  28%|██▊       | 110/400 [01:15<03:14,  1.49it/s, Loss=0.634]"
     ]
    },
    {
     "name": "stdout",
     "output_type": "stream",
     "text": [
      "LM Loss: 0.0074, Class Loss: 0.1222\n"
     ]
    },
    {
     "name": "stderr",
     "output_type": "stream",
     "text": [
      "Epoch 3/3 [Training]:  28%|██▊       | 111/400 [01:16<03:16,  1.47it/s, Loss=0.633]"
     ]
    },
    {
     "name": "stdout",
     "output_type": "stream",
     "text": [
      "LM Loss: 0.0667, Class Loss: 0.5412\n"
     ]
    },
    {
     "name": "stderr",
     "output_type": "stream",
     "text": [
      "Epoch 3/3 [Training]:  28%|██▊       | 112/400 [01:17<03:20,  1.44it/s, Loss=0.63] "
     ]
    },
    {
     "name": "stdout",
     "output_type": "stream",
     "text": [
      "LM Loss: 0.0450, Class Loss: 0.2580\n"
     ]
    },
    {
     "name": "stderr",
     "output_type": "stream",
     "text": [
      "Epoch 3/3 [Training]:  28%|██▊       | 113/400 [01:17<03:05,  1.55it/s, Loss=0.627]"
     ]
    },
    {
     "name": "stdout",
     "output_type": "stream",
     "text": [
      "LM Loss: 0.0506, Class Loss: 0.1520\n"
     ]
    },
    {
     "name": "stderr",
     "output_type": "stream",
     "text": [
      "Epoch 3/3 [Training]:  28%|██▊       | 114/400 [01:18<03:05,  1.54it/s, Loss=0.625]"
     ]
    },
    {
     "name": "stdout",
     "output_type": "stream",
     "text": [
      "LM Loss: 0.1410, Class Loss: 0.2399\n"
     ]
    },
    {
     "name": "stderr",
     "output_type": "stream",
     "text": [
      "Epoch 3/3 [Training]:  29%|██▉       | 115/400 [01:19<03:12,  1.48it/s, Loss=0.622]"
     ]
    },
    {
     "name": "stdout",
     "output_type": "stream",
     "text": [
      "LM Loss: 0.1645, Class Loss: 0.1789\n"
     ]
    },
    {
     "name": "stderr",
     "output_type": "stream",
     "text": [
      "Epoch 3/3 [Training]:  29%|██▉       | 116/400 [01:19<03:10,  1.49it/s, Loss=0.621]"
     ]
    },
    {
     "name": "stdout",
     "output_type": "stream",
     "text": [
      "LM Loss: 0.1559, Class Loss: 0.3086\n"
     ]
    },
    {
     "name": "stderr",
     "output_type": "stream",
     "text": [
      "Epoch 3/3 [Training]:  29%|██▉       | 117/400 [01:20<03:12,  1.47it/s, Loss=0.616]"
     ]
    },
    {
     "name": "stdout",
     "output_type": "stream",
     "text": [
      "LM Loss: 0.0041, Class Loss: 0.0802\n"
     ]
    },
    {
     "name": "stderr",
     "output_type": "stream",
     "text": [
      "Epoch 3/3 [Training]:  30%|██▉       | 118/400 [01:21<03:05,  1.52it/s, Loss=0.653]"
     ]
    },
    {
     "name": "stdout",
     "output_type": "stream",
     "text": [
      "LM Loss: 0.2809, Class Loss: 4.7381\n"
     ]
    },
    {
     "name": "stderr",
     "output_type": "stream",
     "text": [
      "Epoch 3/3 [Training]:  30%|██▉       | 119/400 [01:21<03:08,  1.49it/s, Loss=0.649]"
     ]
    },
    {
     "name": "stdout",
     "output_type": "stream",
     "text": [
      "LM Loss: 0.0238, Class Loss: 0.0615\n"
     ]
    },
    {
     "name": "stderr",
     "output_type": "stream",
     "text": [
      "Epoch 3/3 [Training]:  30%|███       | 120/400 [01:22<02:58,  1.57it/s, Loss=0.646]"
     ]
    },
    {
     "name": "stdout",
     "output_type": "stream",
     "text": [
      "LM Loss: 0.0692, Class Loss: 0.2634\n"
     ]
    },
    {
     "name": "stderr",
     "output_type": "stream",
     "text": [
      "Epoch 3/3 [Training]:  30%|███       | 121/400 [01:22<02:48,  1.66it/s, Loss=0.642]"
     ]
    },
    {
     "name": "stdout",
     "output_type": "stream",
     "text": [
      "LM Loss: 0.0319, Class Loss: 0.0986\n"
     ]
    },
    {
     "name": "stderr",
     "output_type": "stream",
     "text": [
      "Epoch 3/3 [Training]:  30%|███       | 122/400 [01:23<02:56,  1.58it/s, Loss=0.637]"
     ]
    },
    {
     "name": "stdout",
     "output_type": "stream",
     "text": [
      "LM Loss: 0.0196, Class Loss: 0.0349\n"
     ]
    },
    {
     "name": "stderr",
     "output_type": "stream",
     "text": [
      "Epoch 3/3 [Training]:  31%|███       | 123/400 [01:24<02:53,  1.60it/s, Loss=0.64] "
     ]
    },
    {
     "name": "stdout",
     "output_type": "stream",
     "text": [
      "LM Loss: 0.0457, Class Loss: 0.9083\n"
     ]
    },
    {
     "name": "stderr",
     "output_type": "stream",
     "text": [
      "Epoch 3/3 [Training]:  31%|███       | 124/400 [01:24<02:55,  1.57it/s, Loss=0.642]"
     ]
    },
    {
     "name": "stdout",
     "output_type": "stream",
     "text": [
      "LM Loss: 0.0836, Class Loss: 0.8478\n"
     ]
    },
    {
     "name": "stderr",
     "output_type": "stream",
     "text": [
      "Epoch 3/3 [Training]:  31%|███▏      | 125/400 [01:25<02:56,  1.56it/s, Loss=0.651]"
     ]
    },
    {
     "name": "stdout",
     "output_type": "stream",
     "text": [
      "LM Loss: 0.1764, Class Loss: 1.5592\n"
     ]
    },
    {
     "name": "stderr",
     "output_type": "stream",
     "text": [
      "Epoch 3/3 [Training]:  32%|███▏      | 126/400 [01:25<02:46,  1.64it/s, Loss=0.653]"
     ]
    },
    {
     "name": "stdout",
     "output_type": "stream",
     "text": [
      "LM Loss: 0.1434, Class Loss: 0.8463\n"
     ]
    },
    {
     "name": "stderr",
     "output_type": "stream",
     "text": [
      "Epoch 3/3 [Training]:  32%|███▏      | 127/400 [01:26<02:56,  1.55it/s, Loss=0.65] "
     ]
    },
    {
     "name": "stdout",
     "output_type": "stream",
     "text": [
      "LM Loss: 0.0741, Class Loss: 0.1025\n"
     ]
    },
    {
     "name": "stderr",
     "output_type": "stream",
     "text": [
      "Epoch 3/3 [Training]:  32%|███▏      | 128/400 [01:27<03:00,  1.50it/s, Loss=0.645]"
     ]
    },
    {
     "name": "stdout",
     "output_type": "stream",
     "text": [
      "LM Loss: 0.0407, Class Loss: 0.0390\n"
     ]
    },
    {
     "name": "stderr",
     "output_type": "stream",
     "text": [
      "Epoch 3/3 [Training]:  32%|███▏      | 129/400 [01:27<02:46,  1.62it/s, Loss=0.644]"
     ]
    },
    {
     "name": "stdout",
     "output_type": "stream",
     "text": [
      "LM Loss: 0.0244, Class Loss: 0.5004\n"
     ]
    },
    {
     "name": "stderr",
     "output_type": "stream",
     "text": [
      "Epoch 3/3 [Training]:  32%|███▎      | 130/400 [01:28<03:00,  1.50it/s, Loss=0.64] "
     ]
    },
    {
     "name": "stdout",
     "output_type": "stream",
     "text": [
      "LM Loss: 0.0440, Class Loss: 0.0049\n"
     ]
    },
    {
     "name": "stderr",
     "output_type": "stream",
     "text": [
      "Epoch 3/3 [Training]:  33%|███▎      | 131/400 [01:29<03:09,  1.42it/s, Loss=0.636]"
     ]
    },
    {
     "name": "stdout",
     "output_type": "stream",
     "text": [
      "LM Loss: 0.0901, Class Loss: 0.0127\n"
     ]
    },
    {
     "name": "stderr",
     "output_type": "stream",
     "text": [
      "Epoch 3/3 [Training]:  33%|███▎      | 132/400 [01:30<02:56,  1.51it/s, Loss=0.655]"
     ]
    },
    {
     "name": "stdout",
     "output_type": "stream",
     "text": [
      "LM Loss: 0.0925, Class Loss: 3.0856\n"
     ]
    },
    {
     "name": "stderr",
     "output_type": "stream",
     "text": [
      "Epoch 3/3 [Training]:  33%|███▎      | 133/400 [01:30<02:47,  1.59it/s, Loss=0.654]"
     ]
    },
    {
     "name": "stdout",
     "output_type": "stream",
     "text": [
      "LM Loss: 0.1206, Class Loss: 0.3982\n"
     ]
    },
    {
     "name": "stderr",
     "output_type": "stream",
     "text": [
      "Epoch 3/3 [Training]:  34%|███▎      | 134/400 [01:31<02:55,  1.52it/s, Loss=0.65] "
     ]
    },
    {
     "name": "stdout",
     "output_type": "stream",
     "text": [
      "LM Loss: 0.0189, Class Loss: 0.0730\n"
     ]
    },
    {
     "name": "stderr",
     "output_type": "stream",
     "text": [
      "Epoch 3/3 [Training]:  34%|███▍      | 135/400 [01:31<02:44,  1.61it/s, Loss=0.649]"
     ]
    },
    {
     "name": "stdout",
     "output_type": "stream",
     "text": [
      "LM Loss: 0.0743, Class Loss: 0.4358\n"
     ]
    },
    {
     "name": "stderr",
     "output_type": "stream",
     "text": [
      "Epoch 3/3 [Training]:  34%|███▍      | 136/400 [01:32<02:46,  1.58it/s, Loss=0.654]"
     ]
    },
    {
     "name": "stdout",
     "output_type": "stream",
     "text": [
      "LM Loss: 0.1374, Class Loss: 1.2704\n"
     ]
    },
    {
     "name": "stderr",
     "output_type": "stream",
     "text": [
      "Epoch 3/3 [Training]:  34%|███▍      | 137/400 [01:33<02:54,  1.51it/s, Loss=0.65] "
     ]
    },
    {
     "name": "stdout",
     "output_type": "stream",
     "text": [
      "LM Loss: 0.0120, Class Loss: 0.0083\n"
     ]
    },
    {
     "name": "stderr",
     "output_type": "stream",
     "text": [
      "Epoch 3/3 [Training]:  34%|███▍      | 138/400 [01:33<02:56,  1.48it/s, Loss=0.645]"
     ]
    },
    {
     "name": "stdout",
     "output_type": "stream",
     "text": [
      "LM Loss: 0.0129, Class Loss: 0.0244\n"
     ]
    },
    {
     "name": "stderr",
     "output_type": "stream",
     "text": [
      "Epoch 3/3 [Training]:  35%|███▍      | 139/400 [01:34<03:18,  1.31it/s, Loss=0.642]"
     ]
    },
    {
     "name": "stdout",
     "output_type": "stream",
     "text": [
      "LM Loss: 0.1558, Class Loss: 0.0943\n"
     ]
    },
    {
     "name": "stderr",
     "output_type": "stream",
     "text": [
      "Epoch 3/3 [Training]:  35%|███▌      | 140/400 [01:35<03:16,  1.33it/s, Loss=0.64] "
     ]
    },
    {
     "name": "stdout",
     "output_type": "stream",
     "text": [
      "LM Loss: 0.0275, Class Loss: 0.3336\n"
     ]
    },
    {
     "name": "stderr",
     "output_type": "stream",
     "text": [
      "Epoch 3/3 [Training]:  35%|███▌      | 141/400 [01:36<02:57,  1.46it/s, Loss=0.637]"
     ]
    },
    {
     "name": "stdout",
     "output_type": "stream",
     "text": [
      "LM Loss: 0.0286, Class Loss: 0.1081\n"
     ]
    },
    {
     "name": "stderr",
     "output_type": "stream",
     "text": [
      "Epoch 3/3 [Training]:  36%|███▌      | 142/400 [01:36<03:05,  1.39it/s, Loss=0.635]"
     ]
    },
    {
     "name": "stdout",
     "output_type": "stream",
     "text": [
      "LM Loss: 0.0434, Class Loss: 0.3222\n"
     ]
    },
    {
     "name": "stderr",
     "output_type": "stream",
     "text": [
      "Epoch 3/3 [Training]:  36%|███▌      | 143/400 [01:37<03:03,  1.40it/s, Loss=0.631]"
     ]
    },
    {
     "name": "stdout",
     "output_type": "stream",
     "text": [
      "LM Loss: 0.0489, Class Loss: 0.0078\n"
     ]
    },
    {
     "name": "stderr",
     "output_type": "stream",
     "text": [
      "Epoch 3/3 [Training]:  36%|███▌      | 144/400 [01:38<02:54,  1.47it/s, Loss=0.633]"
     ]
    },
    {
     "name": "stdout",
     "output_type": "stream",
     "text": [
      "LM Loss: 0.1455, Class Loss: 0.8490\n"
     ]
    },
    {
     "name": "stderr",
     "output_type": "stream",
     "text": [
      "Epoch 3/3 [Training]:  36%|███▋      | 145/400 [01:39<03:06,  1.37it/s, Loss=0.635]"
     ]
    },
    {
     "name": "stdout",
     "output_type": "stream",
     "text": [
      "LM Loss: 0.1606, Class Loss: 0.7536\n"
     ]
    },
    {
     "name": "stderr",
     "output_type": "stream",
     "text": [
      "Epoch 3/3 [Training]:  36%|███▋      | 146/400 [01:39<02:47,  1.51it/s, Loss=0.635]"
     ]
    },
    {
     "name": "stdout",
     "output_type": "stream",
     "text": [
      "LM Loss: 0.0847, Class Loss: 0.4756\n"
     ]
    },
    {
     "name": "stderr",
     "output_type": "stream",
     "text": [
      "Epoch 3/3 [Training]:  37%|███▋      | 147/400 [01:40<02:47,  1.51it/s, Loss=0.637]"
     ]
    },
    {
     "name": "stdout",
     "output_type": "stream",
     "text": [
      "LM Loss: 0.0483, Class Loss: 0.8928\n"
     ]
    },
    {
     "name": "stderr",
     "output_type": "stream",
     "text": [
      "Epoch 3/3 [Training]:  37%|███▋      | 148/400 [01:40<02:46,  1.51it/s, Loss=0.634]"
     ]
    },
    {
     "name": "stdout",
     "output_type": "stream",
     "text": [
      "LM Loss: 0.0462, Class Loss: 0.1380\n"
     ]
    },
    {
     "name": "stderr",
     "output_type": "stream",
     "text": [
      "Epoch 3/3 [Training]:  37%|███▋      | 149/400 [01:41<02:36,  1.61it/s, Loss=0.63] "
     ]
    },
    {
     "name": "stdout",
     "output_type": "stream",
     "text": [
      "LM Loss: 0.0089, Class Loss: 0.1217\n"
     ]
    },
    {
     "name": "stderr",
     "output_type": "stream",
     "text": [
      "Epoch 3/3 [Training]:  38%|███▊      | 150/400 [01:42<02:38,  1.58it/s, Loss=0.626]"
     ]
    },
    {
     "name": "stdout",
     "output_type": "stream",
     "text": [
      "LM Loss: 0.0207, Class Loss: 0.0197\n"
     ]
    },
    {
     "name": "stderr",
     "output_type": "stream",
     "text": [
      "Epoch 3/3 [Training]:  38%|███▊      | 151/400 [01:42<02:49,  1.47it/s, Loss=0.625]"
     ]
    },
    {
     "name": "stdout",
     "output_type": "stream",
     "text": [
      "LM Loss: 0.0260, Class Loss: 0.4349\n"
     ]
    },
    {
     "name": "stderr",
     "output_type": "stream",
     "text": [
      "Epoch 3/3 [Training]:  38%|███▊      | 152/400 [01:43<02:39,  1.56it/s, Loss=0.624]"
     ]
    },
    {
     "name": "stdout",
     "output_type": "stream",
     "text": [
      "LM Loss: 0.1018, Class Loss: 0.2723\n"
     ]
    },
    {
     "name": "stderr",
     "output_type": "stream",
     "text": [
      "Epoch 3/3 [Training]:  38%|███▊      | 153/400 [01:44<02:28,  1.67it/s, Loss=0.62] "
     ]
    },
    {
     "name": "stdout",
     "output_type": "stream",
     "text": [
      "LM Loss: 0.0200, Class Loss: 0.0196\n"
     ]
    },
    {
     "name": "stderr",
     "output_type": "stream",
     "text": [
      "Epoch 3/3 [Training]:  38%|███▊      | 154/400 [01:44<02:24,  1.71it/s, Loss=0.617]"
     ]
    },
    {
     "name": "stdout",
     "output_type": "stream",
     "text": [
      "LM Loss: 0.1338, Class Loss: 0.0318\n"
     ]
    },
    {
     "name": "stderr",
     "output_type": "stream",
     "text": [
      "Epoch 3/3 [Training]:  39%|███▉      | 155/400 [01:45<02:17,  1.78it/s, Loss=0.619]"
     ]
    },
    {
     "name": "stdout",
     "output_type": "stream",
     "text": [
      "LM Loss: 0.0907, Class Loss: 0.8519\n"
     ]
    },
    {
     "name": "stderr",
     "output_type": "stream",
     "text": [
      "Epoch 3/3 [Training]:  39%|███▉      | 156/400 [01:45<02:26,  1.66it/s, Loss=0.615]"
     ]
    },
    {
     "name": "stdout",
     "output_type": "stream",
     "text": [
      "LM Loss: 0.0014, Class Loss: 0.0068\n"
     ]
    },
    {
     "name": "stderr",
     "output_type": "stream",
     "text": [
      "Epoch 3/3 [Training]:  39%|███▉      | 157/400 [01:46<02:35,  1.56it/s, Loss=0.612]"
     ]
    },
    {
     "name": "stdout",
     "output_type": "stream",
     "text": [
      "LM Loss: 0.1019, Class Loss: 0.0223\n"
     ]
    },
    {
     "name": "stderr",
     "output_type": "stream",
     "text": [
      "Epoch 3/3 [Training]:  40%|███▉      | 158/400 [01:47<02:42,  1.49it/s, Loss=0.612]"
     ]
    },
    {
     "name": "stdout",
     "output_type": "stream",
     "text": [
      "LM Loss: 0.2255, Class Loss: 0.4204\n"
     ]
    },
    {
     "name": "stderr",
     "output_type": "stream",
     "text": [
      "Epoch 3/3 [Training]:  40%|███▉      | 159/400 [01:47<02:45,  1.45it/s, Loss=0.609]"
     ]
    },
    {
     "name": "stdout",
     "output_type": "stream",
     "text": [
      "LM Loss: 0.0156, Class Loss: 0.0311\n"
     ]
    },
    {
     "name": "stderr",
     "output_type": "stream",
     "text": [
      "Epoch 3/3 [Training]:  40%|████      | 160/400 [01:48<03:08,  1.27it/s, Loss=0.606]"
     ]
    },
    {
     "name": "stdout",
     "output_type": "stream",
     "text": [
      "LM Loss: 0.1562, Class Loss: 0.0653\n"
     ]
    },
    {
     "name": "stderr",
     "output_type": "stream",
     "text": [
      "Epoch 3/3 [Training]:  40%|████      | 161/400 [01:49<02:58,  1.34it/s, Loss=0.615]"
     ]
    },
    {
     "name": "stdout",
     "output_type": "stream",
     "text": [
      "LM Loss: 0.3809, Class Loss: 1.7086\n"
     ]
    },
    {
     "name": "stderr",
     "output_type": "stream",
     "text": [
      "Epoch 3/3 [Training]:  40%|████      | 162/400 [01:50<03:00,  1.32it/s, Loss=0.614]"
     ]
    },
    {
     "name": "stdout",
     "output_type": "stream",
     "text": [
      "LM Loss: 0.1595, Class Loss: 0.2782\n"
     ]
    },
    {
     "name": "stderr",
     "output_type": "stream",
     "text": [
      "Epoch 3/3 [Training]:  41%|████      | 163/400 [01:50<02:41,  1.47it/s, Loss=0.617]"
     ]
    },
    {
     "name": "stdout",
     "output_type": "stream",
     "text": [
      "LM Loss: 0.1980, Class Loss: 0.8584\n"
     ]
    },
    {
     "name": "stderr",
     "output_type": "stream",
     "text": [
      "Epoch 3/3 [Training]:  41%|████      | 164/400 [01:51<02:39,  1.48it/s, Loss=0.613]"
     ]
    },
    {
     "name": "stdout",
     "output_type": "stream",
     "text": [
      "LM Loss: 0.0083, Class Loss: 0.0153\n"
     ]
    },
    {
     "name": "stderr",
     "output_type": "stream",
     "text": [
      "Epoch 3/3 [Training]:  41%|████▏     | 165/400 [01:52<02:34,  1.53it/s, Loss=0.611]"
     ]
    },
    {
     "name": "stdout",
     "output_type": "stream",
     "text": [
      "LM Loss: 0.0480, Class Loss: 0.0951\n"
     ]
    },
    {
     "name": "stderr",
     "output_type": "stream",
     "text": [
      "Epoch 3/3 [Training]:  42%|████▏     | 166/400 [01:53<02:46,  1.41it/s, Loss=0.61] "
     ]
    },
    {
     "name": "stdout",
     "output_type": "stream",
     "text": [
      "LM Loss: 0.1481, Class Loss: 0.3006\n"
     ]
    },
    {
     "name": "stderr",
     "output_type": "stream",
     "text": [
      "Epoch 3/3 [Training]:  42%|████▏     | 167/400 [01:53<02:41,  1.44it/s, Loss=0.609]"
     ]
    },
    {
     "name": "stdout",
     "output_type": "stream",
     "text": [
      "LM Loss: 0.0275, Class Loss: 0.4405\n"
     ]
    },
    {
     "name": "stderr",
     "output_type": "stream",
     "text": [
      "Epoch 3/3 [Training]:  42%|████▏     | 168/400 [01:54<02:41,  1.43it/s, Loss=0.607]"
     ]
    },
    {
     "name": "stdout",
     "output_type": "stream",
     "text": [
      "LM Loss: 0.2213, Class Loss: 0.0860\n"
     ]
    },
    {
     "name": "stderr",
     "output_type": "stream",
     "text": [
      "Epoch 3/3 [Training]:  42%|████▏     | 169/400 [01:54<02:29,  1.55it/s, Loss=0.604]"
     ]
    },
    {
     "name": "stdout",
     "output_type": "stream",
     "text": [
      "LM Loss: 0.0324, Class Loss: 0.1250\n"
     ]
    },
    {
     "name": "stderr",
     "output_type": "stream",
     "text": [
      "Epoch 3/3 [Training]:  42%|████▎     | 170/400 [01:55<02:46,  1.38it/s, Loss=0.602]"
     ]
    },
    {
     "name": "stdout",
     "output_type": "stream",
     "text": [
      "LM Loss: 0.0250, Class Loss: 0.1436\n"
     ]
    },
    {
     "name": "stderr",
     "output_type": "stream",
     "text": [
      "Epoch 3/3 [Training]:  43%|████▎     | 171/400 [01:56<02:37,  1.45it/s, Loss=0.603]"
     ]
    },
    {
     "name": "stdout",
     "output_type": "stream",
     "text": [
      "LM Loss: 0.0748, Class Loss: 0.6907\n"
     ]
    },
    {
     "name": "stderr",
     "output_type": "stream",
     "text": [
      "Epoch 3/3 [Training]:  43%|████▎     | 172/400 [01:56<02:26,  1.56it/s, Loss=0.6]  "
     ]
    },
    {
     "name": "stdout",
     "output_type": "stream",
     "text": [
      "LM Loss: 0.1600, Class Loss: 0.0613\n"
     ]
    },
    {
     "name": "stderr",
     "output_type": "stream",
     "text": [
      "Epoch 3/3 [Training]:  43%|████▎     | 173/400 [01:57<02:15,  1.67it/s, Loss=0.597]"
     ]
    },
    {
     "name": "stdout",
     "output_type": "stream",
     "text": [
      "LM Loss: 0.0313, Class Loss: 0.0483\n"
     ]
    },
    {
     "name": "stderr",
     "output_type": "stream",
     "text": [
      "Epoch 3/3 [Training]:  44%|████▎     | 174/400 [01:57<02:10,  1.73it/s, Loss=0.596]"
     ]
    },
    {
     "name": "stdout",
     "output_type": "stream",
     "text": [
      "LM Loss: 0.0459, Class Loss: 0.3640\n"
     ]
    },
    {
     "name": "stderr",
     "output_type": "stream",
     "text": [
      "Epoch 3/3 [Training]:  44%|████▍     | 175/400 [01:58<02:20,  1.60it/s, Loss=0.593]"
     ]
    },
    {
     "name": "stdout",
     "output_type": "stream",
     "text": [
      "LM Loss: 0.0449, Class Loss: 0.0053\n"
     ]
    },
    {
     "name": "stderr",
     "output_type": "stream",
     "text": [
      "Epoch 3/3 [Training]:  44%|████▍     | 176/400 [01:59<02:46,  1.35it/s, Loss=0.592]"
     ]
    },
    {
     "name": "stdout",
     "output_type": "stream",
     "text": [
      "LM Loss: 0.1969, Class Loss: 0.1102\n"
     ]
    },
    {
     "name": "stderr",
     "output_type": "stream",
     "text": [
      "Epoch 3/3 [Training]:  44%|████▍     | 177/400 [02:00<02:39,  1.40it/s, Loss=0.59] "
     ]
    },
    {
     "name": "stdout",
     "output_type": "stream",
     "text": [
      "LM Loss: 0.0340, Class Loss: 0.2062\n"
     ]
    },
    {
     "name": "stderr",
     "output_type": "stream",
     "text": [
      "Epoch 3/3 [Training]:  44%|████▍     | 178/400 [02:00<02:28,  1.50it/s, Loss=0.586]"
     ]
    },
    {
     "name": "stdout",
     "output_type": "stream",
     "text": [
      "LM Loss: 0.0061, Class Loss: 0.0209\n"
     ]
    },
    {
     "name": "stderr",
     "output_type": "stream",
     "text": [
      "Epoch 3/3 [Training]:  45%|████▍     | 179/400 [02:01<02:35,  1.42it/s, Loss=0.584]"
     ]
    },
    {
     "name": "stdout",
     "output_type": "stream",
     "text": [
      "LM Loss: 0.0639, Class Loss: 0.1099\n"
     ]
    },
    {
     "name": "stderr",
     "output_type": "stream",
     "text": [
      "Epoch 3/3 [Training]:  45%|████▌     | 180/400 [02:02<02:28,  1.48it/s, Loss=0.585]"
     ]
    },
    {
     "name": "stdout",
     "output_type": "stream",
     "text": [
      "LM Loss: 0.1422, Class Loss: 0.6433\n"
     ]
    },
    {
     "name": "stderr",
     "output_type": "stream",
     "text": [
      "Epoch 3/3 [Training]:  45%|████▌     | 181/400 [02:03<02:26,  1.49it/s, Loss=0.582]"
     ]
    },
    {
     "name": "stdout",
     "output_type": "stream",
     "text": [
      "LM Loss: 0.0171, Class Loss: 0.0074\n"
     ]
    },
    {
     "name": "stderr",
     "output_type": "stream",
     "text": [
      "Epoch 3/3 [Training]:  46%|████▌     | 182/400 [02:03<02:15,  1.61it/s, Loss=0.586]"
     ]
    },
    {
     "name": "stdout",
     "output_type": "stream",
     "text": [
      "LM Loss: 0.1461, Class Loss: 1.0543\n"
     ]
    },
    {
     "name": "stderr",
     "output_type": "stream",
     "text": [
      "Epoch 3/3 [Training]:  46%|████▌     | 183/400 [02:04<02:20,  1.55it/s, Loss=0.582]"
     ]
    },
    {
     "name": "stdout",
     "output_type": "stream",
     "text": [
      "LM Loss: 0.0044, Class Loss: 0.0000\n"
     ]
    },
    {
     "name": "stderr",
     "output_type": "stream",
     "text": [
      "Epoch 3/3 [Training]:  46%|████▌     | 184/400 [02:04<02:22,  1.51it/s, Loss=0.58] "
     ]
    },
    {
     "name": "stdout",
     "output_type": "stream",
     "text": [
      "LM Loss: 0.0207, Class Loss: 0.0354\n"
     ]
    },
    {
     "name": "stderr",
     "output_type": "stream",
     "text": [
      "Epoch 3/3 [Training]:  46%|████▋     | 185/400 [02:05<02:11,  1.63it/s, Loss=0.578]"
     ]
    },
    {
     "name": "stdout",
     "output_type": "stream",
     "text": [
      "LM Loss: 0.1276, Class Loss: 0.1829\n"
     ]
    },
    {
     "name": "stderr",
     "output_type": "stream",
     "text": [
      "Epoch 3/3 [Training]:  46%|████▋     | 186/400 [02:06<02:16,  1.57it/s, Loss=0.579]"
     ]
    },
    {
     "name": "stdout",
     "output_type": "stream",
     "text": [
      "LM Loss: 0.0378, Class Loss: 0.7871\n"
     ]
    },
    {
     "name": "stderr",
     "output_type": "stream",
     "text": [
      "Epoch 3/3 [Training]:  47%|████▋     | 187/400 [02:06<02:17,  1.55it/s, Loss=0.576]"
     ]
    },
    {
     "name": "stdout",
     "output_type": "stream",
     "text": [
      "LM Loss: 0.0247, Class Loss: 0.0003\n"
     ]
    },
    {
     "name": "stderr",
     "output_type": "stream",
     "text": [
      "Epoch 3/3 [Training]:  47%|████▋     | 188/400 [02:07<02:14,  1.58it/s, Loss=0.587]"
     ]
    },
    {
     "name": "stdout",
     "output_type": "stream",
     "text": [
      "LM Loss: 0.3197, Class Loss: 2.1765\n"
     ]
    },
    {
     "name": "stderr",
     "output_type": "stream",
     "text": [
      "Epoch 3/3 [Training]:  47%|████▋     | 189/400 [02:08<02:23,  1.47it/s, Loss=0.588]"
     ]
    },
    {
     "name": "stdout",
     "output_type": "stream",
     "text": [
      "LM Loss: 0.1207, Class Loss: 0.7231\n"
     ]
    },
    {
     "name": "stderr",
     "output_type": "stream",
     "text": [
      "Epoch 3/3 [Training]:  48%|████▊     | 190/400 [02:09<02:32,  1.37it/s, Loss=0.591]"
     ]
    },
    {
     "name": "stdout",
     "output_type": "stream",
     "text": [
      "LM Loss: 0.3117, Class Loss: 0.8604\n"
     ]
    },
    {
     "name": "stderr",
     "output_type": "stream",
     "text": [
      "Epoch 3/3 [Training]:  48%|████▊     | 191/400 [02:09<02:19,  1.50it/s, Loss=0.592]"
     ]
    },
    {
     "name": "stdout",
     "output_type": "stream",
     "text": [
      "LM Loss: 0.1216, Class Loss: 0.6506\n"
     ]
    },
    {
     "name": "stderr",
     "output_type": "stream",
     "text": [
      "Epoch 3/3 [Training]:  48%|████▊     | 192/400 [02:10<02:21,  1.47it/s, Loss=0.596]"
     ]
    },
    {
     "name": "stdout",
     "output_type": "stream",
     "text": [
      "LM Loss: 0.0773, Class Loss: 1.2720\n"
     ]
    },
    {
     "name": "stderr",
     "output_type": "stream",
     "text": [
      "Epoch 3/3 [Training]:  48%|████▊     | 193/400 [02:10<02:10,  1.58it/s, Loss=0.602]"
     ]
    },
    {
     "name": "stdout",
     "output_type": "stream",
     "text": [
      "LM Loss: 0.2335, Class Loss: 1.5060\n"
     ]
    },
    {
     "name": "stderr",
     "output_type": "stream",
     "text": [
      "Epoch 3/3 [Training]:  48%|████▊     | 194/400 [02:11<02:23,  1.44it/s, Loss=0.599]"
     ]
    },
    {
     "name": "stdout",
     "output_type": "stream",
     "text": [
      "LM Loss: 0.0332, Class Loss: 0.0078\n"
     ]
    },
    {
     "name": "stderr",
     "output_type": "stream",
     "text": [
      "Epoch 3/3 [Training]:  49%|████▉     | 195/400 [02:12<02:22,  1.44it/s, Loss=0.609]"
     ]
    },
    {
     "name": "stdout",
     "output_type": "stream",
     "text": [
      "LM Loss: 0.2910, Class Loss: 2.2421\n"
     ]
    },
    {
     "name": "stderr",
     "output_type": "stream",
     "text": [
      "Epoch 3/3 [Training]:  49%|████▉     | 196/400 [02:12<02:11,  1.55it/s, Loss=0.608]"
     ]
    },
    {
     "name": "stdout",
     "output_type": "stream",
     "text": [
      "LM Loss: 0.1121, Class Loss: 0.2407\n"
     ]
    },
    {
     "name": "stderr",
     "output_type": "stream",
     "text": [
      "Epoch 3/3 [Training]:  49%|████▉     | 197/400 [02:13<02:11,  1.54it/s, Loss=0.606]"
     ]
    },
    {
     "name": "stdout",
     "output_type": "stream",
     "text": [
      "LM Loss: 0.0506, Class Loss: 0.2387\n"
     ]
    },
    {
     "name": "stderr",
     "output_type": "stream",
     "text": [
      "Epoch 3/3 [Training]:  50%|████▉     | 198/400 [02:14<02:30,  1.34it/s, Loss=0.606]"
     ]
    },
    {
     "name": "stdout",
     "output_type": "stream",
     "text": [
      "LM Loss: 0.0612, Class Loss: 0.6362\n"
     ]
    },
    {
     "name": "stderr",
     "output_type": "stream",
     "text": [
      "Epoch 3/3 [Training]:  50%|████▉     | 199/400 [02:15<02:32,  1.32it/s, Loss=0.604]"
     ]
    },
    {
     "name": "stdout",
     "output_type": "stream",
     "text": [
      "LM Loss: 0.0412, Class Loss: 0.0322\n"
     ]
    },
    {
     "name": "stderr",
     "output_type": "stream",
     "text": [
      "Epoch 3/3 [Training]:  50%|█████     | 200/400 [02:15<02:25,  1.37it/s, Loss=0.601]"
     ]
    },
    {
     "name": "stdout",
     "output_type": "stream",
     "text": [
      "LM Loss: 0.0320, Class Loss: 0.0016\n"
     ]
    },
    {
     "name": "stderr",
     "output_type": "stream",
     "text": [
      "Epoch 3/3 [Training]:  50%|█████     | 201/400 [02:16<02:28,  1.34it/s, Loss=0.598]"
     ]
    },
    {
     "name": "stdout",
     "output_type": "stream",
     "text": [
      "LM Loss: 0.0655, Class Loss: 0.0093\n"
     ]
    },
    {
     "name": "stderr",
     "output_type": "stream",
     "text": [
      "Epoch 3/3 [Training]:  50%|█████     | 202/400 [02:17<02:23,  1.38it/s, Loss=0.596]"
     ]
    },
    {
     "name": "stdout",
     "output_type": "stream",
     "text": [
      "LM Loss: 0.0619, Class Loss: 0.0488\n"
     ]
    },
    {
     "name": "stderr",
     "output_type": "stream",
     "text": [
      "Epoch 3/3 [Training]:  51%|█████     | 203/400 [02:18<02:23,  1.38it/s, Loss=0.6]  "
     ]
    },
    {
     "name": "stdout",
     "output_type": "stream",
     "text": [
      "LM Loss: 0.1938, Class Loss: 1.3007\n"
     ]
    },
    {
     "name": "stderr",
     "output_type": "stream",
     "text": [
      "Epoch 3/3 [Training]:  51%|█████     | 204/400 [02:18<02:10,  1.50it/s, Loss=0.601]"
     ]
    },
    {
     "name": "stdout",
     "output_type": "stream",
     "text": [
      "LM Loss: 0.0753, Class Loss: 0.5736\n"
     ]
    },
    {
     "name": "stderr",
     "output_type": "stream",
     "text": [
      "Epoch 3/3 [Training]:  51%|█████▏    | 205/400 [02:19<02:09,  1.50it/s, Loss=0.598]"
     ]
    },
    {
     "name": "stdout",
     "output_type": "stream",
     "text": [
      "LM Loss: 0.0758, Class Loss: 0.0040\n"
     ]
    },
    {
     "name": "stderr",
     "output_type": "stream",
     "text": [
      "Epoch 3/3 [Training]:  52%|█████▏    | 206/400 [02:20<02:13,  1.46it/s, Loss=0.597]"
     ]
    },
    {
     "name": "stdout",
     "output_type": "stream",
     "text": [
      "LM Loss: 0.1453, Class Loss: 0.1642\n"
     ]
    },
    {
     "name": "stderr",
     "output_type": "stream",
     "text": [
      "Epoch 3/3 [Training]:  52%|█████▏    | 207/400 [02:20<02:07,  1.51it/s, Loss=0.594]"
     ]
    },
    {
     "name": "stdout",
     "output_type": "stream",
     "text": [
      "LM Loss: 0.0565, Class Loss: 0.0024\n"
     ]
    },
    {
     "name": "stderr",
     "output_type": "stream",
     "text": [
      "Epoch 3/3 [Training]:  52%|█████▏    | 208/400 [02:21<02:09,  1.48it/s, Loss=0.593]"
     ]
    },
    {
     "name": "stdout",
     "output_type": "stream",
     "text": [
      "LM Loss: 0.0672, Class Loss: 0.3957\n"
     ]
    },
    {
     "name": "stderr",
     "output_type": "stream",
     "text": [
      "Epoch 3/3 [Training]:  52%|█████▏    | 209/400 [02:21<02:05,  1.53it/s, Loss=0.591]"
     ]
    },
    {
     "name": "stdout",
     "output_type": "stream",
     "text": [
      "LM Loss: 0.0201, Class Loss: 0.0465\n"
     ]
    },
    {
     "name": "stderr",
     "output_type": "stream",
     "text": [
      "Epoch 3/3 [Training]:  52%|█████▎    | 210/400 [02:22<02:09,  1.47it/s, Loss=0.593]"
     ]
    },
    {
     "name": "stdout",
     "output_type": "stream",
     "text": [
      "LM Loss: 0.0934, Class Loss: 1.0129\n"
     ]
    },
    {
     "name": "stderr",
     "output_type": "stream",
     "text": [
      "Epoch 3/3 [Training]:  53%|█████▎    | 211/400 [02:23<02:14,  1.40it/s, Loss=0.592]"
     ]
    },
    {
     "name": "stdout",
     "output_type": "stream",
     "text": [
      "LM Loss: 0.0745, Class Loss: 0.3431\n"
     ]
    },
    {
     "name": "stderr",
     "output_type": "stream",
     "text": [
      "Epoch 3/3 [Training]:  53%|█████▎    | 212/400 [02:24<02:11,  1.43it/s, Loss=0.59] "
     ]
    },
    {
     "name": "stdout",
     "output_type": "stream",
     "text": [
      "LM Loss: 0.0352, Class Loss: 0.0438\n"
     ]
    },
    {
     "name": "stderr",
     "output_type": "stream",
     "text": [
      "Epoch 3/3 [Training]:  53%|█████▎    | 213/400 [02:24<01:59,  1.57it/s, Loss=0.589]"
     ]
    },
    {
     "name": "stdout",
     "output_type": "stream",
     "text": [
      "LM Loss: 0.1421, Class Loss: 0.2599\n"
     ]
    },
    {
     "name": "stderr",
     "output_type": "stream",
     "text": [
      "Epoch 3/3 [Training]:  54%|█████▎    | 214/400 [02:25<02:04,  1.49it/s, Loss=0.595]"
     ]
    },
    {
     "name": "stdout",
     "output_type": "stream",
     "text": [
      "LM Loss: 0.2036, Class Loss: 1.5650\n"
     ]
    },
    {
     "name": "stderr",
     "output_type": "stream",
     "text": [
      "Epoch 3/3 [Training]:  54%|█████▍    | 215/400 [02:26<02:07,  1.45it/s, Loss=0.592]"
     ]
    },
    {
     "name": "stdout",
     "output_type": "stream",
     "text": [
      "LM Loss: 0.0435, Class Loss: 0.0355\n"
     ]
    },
    {
     "name": "stderr",
     "output_type": "stream",
     "text": [
      "Epoch 3/3 [Training]:  54%|█████▍    | 216/400 [02:26<02:09,  1.42it/s, Loss=0.59] "
     ]
    },
    {
     "name": "stdout",
     "output_type": "stream",
     "text": [
      "LM Loss: 0.0195, Class Loss: 0.0142\n"
     ]
    },
    {
     "name": "stderr",
     "output_type": "stream",
     "text": [
      "Epoch 3/3 [Training]:  54%|█████▍    | 217/400 [02:27<02:03,  1.48it/s, Loss=0.589]"
     ]
    },
    {
     "name": "stdout",
     "output_type": "stream",
     "text": [
      "LM Loss: 0.0692, Class Loss: 0.3171\n"
     ]
    },
    {
     "name": "stderr",
     "output_type": "stream",
     "text": [
      "Epoch 3/3 [Training]:  55%|█████▍    | 218/400 [02:28<02:02,  1.49it/s, Loss=0.589]"
     ]
    },
    {
     "name": "stdout",
     "output_type": "stream",
     "text": [
      "LM Loss: 0.0219, Class Loss: 0.6709\n"
     ]
    },
    {
     "name": "stderr",
     "output_type": "stream",
     "text": [
      "Epoch 3/3 [Training]:  55%|█████▍    | 219/400 [02:28<02:04,  1.45it/s, Loss=0.59] "
     ]
    },
    {
     "name": "stdout",
     "output_type": "stream",
     "text": [
      "LM Loss: 0.2002, Class Loss: 0.5823\n"
     ]
    },
    {
     "name": "stderr",
     "output_type": "stream",
     "text": [
      "Epoch 3/3 [Training]:  55%|█████▌    | 220/400 [02:29<02:04,  1.44it/s, Loss=0.587]"
     ]
    },
    {
     "name": "stdout",
     "output_type": "stream",
     "text": [
      "LM Loss: 0.0033, Class Loss: 0.0016\n"
     ]
    },
    {
     "name": "stderr",
     "output_type": "stream",
     "text": [
      "Epoch 3/3 [Training]:  55%|█████▌    | 221/400 [02:30<02:02,  1.46it/s, Loss=0.585]"
     ]
    },
    {
     "name": "stdout",
     "output_type": "stream",
     "text": [
      "LM Loss: 0.0703, Class Loss: 0.0376\n"
     ]
    },
    {
     "name": "stderr",
     "output_type": "stream",
     "text": [
      "Epoch 3/3 [Training]:  56%|█████▌    | 222/400 [02:30<01:52,  1.59it/s, Loss=0.583]"
     ]
    },
    {
     "name": "stdout",
     "output_type": "stream",
     "text": [
      "LM Loss: 0.0195, Class Loss: 0.0787\n"
     ]
    },
    {
     "name": "stderr",
     "output_type": "stream",
     "text": [
      "Epoch 3/3 [Training]:  56%|█████▌    | 223/400 [02:31<01:55,  1.53it/s, Loss=0.581]"
     ]
    },
    {
     "name": "stdout",
     "output_type": "stream",
     "text": [
      "LM Loss: 0.0950, Class Loss: 0.1062\n"
     ]
    },
    {
     "name": "stderr",
     "output_type": "stream",
     "text": [
      "Epoch 3/3 [Training]:  56%|█████▌    | 224/400 [02:32<01:52,  1.56it/s, Loss=0.58] "
     ]
    },
    {
     "name": "stdout",
     "output_type": "stream",
     "text": [
      "LM Loss: 0.0897, Class Loss: 0.1080\n"
     ]
    },
    {
     "name": "stderr",
     "output_type": "stream",
     "text": [
      "Epoch 3/3 [Training]:  56%|█████▋    | 225/400 [02:32<01:55,  1.52it/s, Loss=0.577]"
     ]
    },
    {
     "name": "stdout",
     "output_type": "stream",
     "text": [
      "LM Loss: 0.0298, Class Loss: 0.0026\n"
     ]
    },
    {
     "name": "stderr",
     "output_type": "stream",
     "text": [
      "Epoch 3/3 [Training]:  56%|█████▋    | 226/400 [02:33<01:58,  1.47it/s, Loss=0.575]"
     ]
    },
    {
     "name": "stdout",
     "output_type": "stream",
     "text": [
      "LM Loss: 0.0316, Class Loss: 0.0380\n"
     ]
    },
    {
     "name": "stderr",
     "output_type": "stream",
     "text": [
      "Epoch 3/3 [Training]:  57%|█████▋    | 227/400 [02:34<01:58,  1.46it/s, Loss=0.574]"
     ]
    },
    {
     "name": "stdout",
     "output_type": "stream",
     "text": [
      "LM Loss: 0.0405, Class Loss: 0.3038\n"
     ]
    },
    {
     "name": "stderr",
     "output_type": "stream",
     "text": [
      "Epoch 3/3 [Training]:  57%|█████▋    | 228/400 [02:35<02:09,  1.33it/s, Loss=0.572]"
     ]
    },
    {
     "name": "stdout",
     "output_type": "stream",
     "text": [
      "LM Loss: 0.0160, Class Loss: 0.0082\n"
     ]
    },
    {
     "name": "stderr",
     "output_type": "stream",
     "text": [
      "Epoch 3/3 [Training]:  57%|█████▋    | 229/400 [02:35<02:13,  1.28it/s, Loss=0.569]"
     ]
    },
    {
     "name": "stdout",
     "output_type": "stream",
     "text": [
      "LM Loss: 0.0314, Class Loss: 0.0009\n"
     ]
    },
    {
     "name": "stderr",
     "output_type": "stream",
     "text": [
      "Epoch 3/3 [Training]:  57%|█████▊    | 230/400 [02:36<02:10,  1.30it/s, Loss=0.571]"
     ]
    },
    {
     "name": "stdout",
     "output_type": "stream",
     "text": [
      "LM Loss: 0.2423, Class Loss: 0.7374\n"
     ]
    },
    {
     "name": "stderr",
     "output_type": "stream",
     "text": [
      "Epoch 3/3 [Training]:  58%|█████▊    | 231/400 [02:37<02:10,  1.29it/s, Loss=0.569]"
     ]
    },
    {
     "name": "stdout",
     "output_type": "stream",
     "text": [
      "LM Loss: 0.0253, Class Loss: 0.1592\n"
     ]
    },
    {
     "name": "stderr",
     "output_type": "stream",
     "text": [
      "Epoch 3/3 [Training]:  58%|█████▊    | 232/400 [02:38<02:08,  1.31it/s, Loss=0.568]"
     ]
    },
    {
     "name": "stdout",
     "output_type": "stream",
     "text": [
      "LM Loss: 0.1882, Class Loss: 0.0012\n"
     ]
    },
    {
     "name": "stderr",
     "output_type": "stream",
     "text": [
      "Epoch 3/3 [Training]:  58%|█████▊    | 233/400 [02:38<02:02,  1.37it/s, Loss=0.565]"
     ]
    },
    {
     "name": "stdout",
     "output_type": "stream",
     "text": [
      "LM Loss: 0.0373, Class Loss: 0.0163\n"
     ]
    },
    {
     "name": "stderr",
     "output_type": "stream",
     "text": [
      "Epoch 3/3 [Training]:  58%|█████▊    | 234/400 [02:39<01:59,  1.39it/s, Loss=0.563]"
     ]
    },
    {
     "name": "stdout",
     "output_type": "stream",
     "text": [
      "LM Loss: 0.0332, Class Loss: 0.0508\n"
     ]
    },
    {
     "name": "stderr",
     "output_type": "stream",
     "text": [
      "Epoch 3/3 [Training]:  59%|█████▉    | 235/400 [02:40<02:04,  1.32it/s, Loss=0.562]"
     ]
    },
    {
     "name": "stdout",
     "output_type": "stream",
     "text": [
      "LM Loss: 0.0505, Class Loss: 0.0674\n"
     ]
    },
    {
     "name": "stderr",
     "output_type": "stream",
     "text": [
      "Epoch 3/3 [Training]:  59%|█████▉    | 236/400 [02:41<01:59,  1.37it/s, Loss=0.559]"
     ]
    },
    {
     "name": "stdout",
     "output_type": "stream",
     "text": [
      "LM Loss: 0.0176, Class Loss: 0.0022\n"
     ]
    },
    {
     "name": "stderr",
     "output_type": "stream",
     "text": [
      "Epoch 3/3 [Training]:  59%|█████▉    | 237/400 [02:41<01:50,  1.48it/s, Loss=0.563]"
     ]
    },
    {
     "name": "stdout",
     "output_type": "stream",
     "text": [
      "LM Loss: 0.2886, Class Loss: 1.1178\n"
     ]
    },
    {
     "name": "stderr",
     "output_type": "stream",
     "text": [
      "Epoch 3/3 [Training]:  60%|█████▉    | 238/400 [02:42<02:00,  1.34it/s, Loss=0.563]"
     ]
    },
    {
     "name": "stdout",
     "output_type": "stream",
     "text": [
      "LM Loss: 0.0983, Class Loss: 0.5522\n"
     ]
    },
    {
     "name": "stderr",
     "output_type": "stream",
     "text": [
      "Epoch 3/3 [Training]:  60%|█████▉    | 239/400 [02:43<02:07,  1.26it/s, Loss=0.561]"
     ]
    },
    {
     "name": "stdout",
     "output_type": "stream",
     "text": [
      "LM Loss: 0.0436, Class Loss: 0.0890\n"
     ]
    },
    {
     "name": "stderr",
     "output_type": "stream",
     "text": [
      "Epoch 3/3 [Training]:  60%|██████    | 240/400 [02:44<02:02,  1.31it/s, Loss=0.559]"
     ]
    },
    {
     "name": "stdout",
     "output_type": "stream",
     "text": [
      "LM Loss: 0.0010, Class Loss: 0.0005\n"
     ]
    },
    {
     "name": "stderr",
     "output_type": "stream",
     "text": [
      "Epoch 3/3 [Training]:  60%|██████    | 241/400 [02:44<01:56,  1.36it/s, Loss=0.557]"
     ]
    },
    {
     "name": "stdout",
     "output_type": "stream",
     "text": [
      "LM Loss: 0.0583, Class Loss: 0.1094\n"
     ]
    },
    {
     "name": "stderr",
     "output_type": "stream",
     "text": [
      "Epoch 3/3 [Training]:  60%|██████    | 242/400 [02:45<01:47,  1.47it/s, Loss=0.559]"
     ]
    },
    {
     "name": "stdout",
     "output_type": "stream",
     "text": [
      "LM Loss: 0.0355, Class Loss: 0.7863\n"
     ]
    },
    {
     "name": "stderr",
     "output_type": "stream",
     "text": [
      "Epoch 3/3 [Training]:  61%|██████    | 243/400 [02:45<01:46,  1.48it/s, Loss=0.556]"
     ]
    },
    {
     "name": "stdout",
     "output_type": "stream",
     "text": [
      "LM Loss: 0.0400, Class Loss: 0.0096\n"
     ]
    },
    {
     "name": "stderr",
     "output_type": "stream",
     "text": [
      "Epoch 3/3 [Training]:  61%|██████    | 244/400 [02:46<01:48,  1.44it/s, Loss=0.555]"
     ]
    },
    {
     "name": "stdout",
     "output_type": "stream",
     "text": [
      "LM Loss: 0.1216, Class Loss: 0.2079\n"
     ]
    },
    {
     "name": "stderr",
     "output_type": "stream",
     "text": [
      "Epoch 3/3 [Training]:  61%|██████▏   | 245/400 [02:47<01:41,  1.53it/s, Loss=0.554]"
     ]
    },
    {
     "name": "stdout",
     "output_type": "stream",
     "text": [
      "LM Loss: 0.0469, Class Loss: 0.2550\n"
     ]
    },
    {
     "name": "stderr",
     "output_type": "stream",
     "text": [
      "Epoch 3/3 [Training]:  62%|██████▏   | 246/400 [02:47<01:38,  1.56it/s, Loss=0.552]"
     ]
    },
    {
     "name": "stdout",
     "output_type": "stream",
     "text": [
      "LM Loss: 0.0167, Class Loss: 0.0080\n"
     ]
    },
    {
     "name": "stderr",
     "output_type": "stream",
     "text": [
      "Epoch 3/3 [Training]:  62%|██████▏   | 247/400 [02:48<01:32,  1.65it/s, Loss=0.555]"
     ]
    },
    {
     "name": "stdout",
     "output_type": "stream",
     "text": [
      "LM Loss: 0.3131, Class Loss: 0.9142\n"
     ]
    },
    {
     "name": "stderr",
     "output_type": "stream",
     "text": [
      "Epoch 3/3 [Training]:  62%|██████▏   | 248/400 [02:49<01:36,  1.57it/s, Loss=0.553]"
     ]
    },
    {
     "name": "stdout",
     "output_type": "stream",
     "text": [
      "LM Loss: 0.0730, Class Loss: 0.0069\n"
     ]
    },
    {
     "name": "stderr",
     "output_type": "stream",
     "text": [
      "Epoch 3/3 [Training]:  62%|██████▏   | 249/400 [02:49<01:39,  1.52it/s, Loss=0.551]"
     ]
    },
    {
     "name": "stdout",
     "output_type": "stream",
     "text": [
      "LM Loss: 0.0114, Class Loss: 0.0162\n"
     ]
    },
    {
     "name": "stderr",
     "output_type": "stream",
     "text": [
      "Epoch 3/3 [Training]:  62%|██████▎   | 250/400 [02:50<01:40,  1.49it/s, Loss=0.55] "
     ]
    },
    {
     "name": "stdout",
     "output_type": "stream",
     "text": [
      "LM Loss: 0.1583, Class Loss: 0.1029\n"
     ]
    },
    {
     "name": "stderr",
     "output_type": "stream",
     "text": [
      "Epoch 3/3 [Training]:  63%|██████▎   | 251/400 [02:51<01:42,  1.45it/s, Loss=0.551]"
     ]
    },
    {
     "name": "stdout",
     "output_type": "stream",
     "text": [
      "LM Loss: 0.1542, Class Loss: 0.5589\n"
     ]
    },
    {
     "name": "stderr",
     "output_type": "stream",
     "text": [
      "Epoch 3/3 [Training]:  63%|██████▎   | 252/400 [02:52<02:23,  1.03it/s, Loss=0.55] "
     ]
    },
    {
     "name": "stdout",
     "output_type": "stream",
     "text": [
      "LM Loss: 0.0131, Class Loss: 0.4172\n"
     ]
    },
    {
     "name": "stderr",
     "output_type": "stream",
     "text": [
      "Epoch 3/3 [Training]:  63%|██████▎   | 253/400 [02:53<01:59,  1.23it/s, Loss=0.55]"
     ]
    },
    {
     "name": "stdout",
     "output_type": "stream",
     "text": [
      "LM Loss: 0.0433, Class Loss: 0.5525\n"
     ]
    },
    {
     "name": "stderr",
     "output_type": "stream",
     "text": [
      "Epoch 3/3 [Training]:  64%|██████▎   | 254/400 [02:54<01:55,  1.27it/s, Loss=0.557]"
     ]
    },
    {
     "name": "stdout",
     "output_type": "stream",
     "text": [
      "LM Loss: 0.2155, Class Loss: 1.9855\n"
     ]
    },
    {
     "name": "stderr",
     "output_type": "stream",
     "text": [
      "Epoch 3/3 [Training]:  64%|██████▍   | 255/400 [02:54<01:43,  1.41it/s, Loss=0.557]"
     ]
    },
    {
     "name": "stdout",
     "output_type": "stream",
     "text": [
      "LM Loss: 0.1146, Class Loss: 0.6424\n"
     ]
    },
    {
     "name": "stderr",
     "output_type": "stream",
     "text": [
      "Epoch 3/3 [Training]:  64%|██████▍   | 256/400 [02:55<01:43,  1.39it/s, Loss=0.563]"
     ]
    },
    {
     "name": "stdout",
     "output_type": "stream",
     "text": [
      "LM Loss: 0.2091, Class Loss: 1.8105\n"
     ]
    },
    {
     "name": "stderr",
     "output_type": "stream",
     "text": [
      "Epoch 3/3 [Training]:  64%|██████▍   | 257/400 [02:55<01:40,  1.43it/s, Loss=0.561]"
     ]
    },
    {
     "name": "stdout",
     "output_type": "stream",
     "text": [
      "LM Loss: 0.0042, Class Loss: 0.0366\n"
     ]
    },
    {
     "name": "stderr",
     "output_type": "stream",
     "text": [
      "Epoch 3/3 [Training]:  64%|██████▍   | 258/400 [02:56<01:43,  1.37it/s, Loss=0.565]"
     ]
    },
    {
     "name": "stdout",
     "output_type": "stream",
     "text": [
      "LM Loss: 0.0749, Class Loss: 1.3828\n"
     ]
    },
    {
     "name": "stderr",
     "output_type": "stream",
     "text": [
      "Epoch 3/3 [Training]:  65%|██████▍   | 259/400 [02:57<01:39,  1.41it/s, Loss=0.563]"
     ]
    },
    {
     "name": "stdout",
     "output_type": "stream",
     "text": [
      "LM Loss: 0.0153, Class Loss: 0.0044\n"
     ]
    },
    {
     "name": "stderr",
     "output_type": "stream",
     "text": [
      "Epoch 3/3 [Training]:  65%|██████▌   | 260/400 [02:58<01:40,  1.40it/s, Loss=0.562]"
     ]
    },
    {
     "name": "stdout",
     "output_type": "stream",
     "text": [
      "LM Loss: 0.0266, Class Loss: 0.3062\n"
     ]
    },
    {
     "name": "stderr",
     "output_type": "stream",
     "text": [
      "Epoch 3/3 [Training]:  65%|██████▌   | 261/400 [02:58<01:40,  1.38it/s, Loss=0.56] "
     ]
    },
    {
     "name": "stdout",
     "output_type": "stream",
     "text": [
      "LM Loss: 0.0141, Class Loss: 0.0275\n"
     ]
    },
    {
     "name": "stderr",
     "output_type": "stream",
     "text": [
      "Epoch 3/3 [Training]:  66%|██████▌   | 262/400 [03:00<02:08,  1.07it/s, Loss=0.558]"
     ]
    },
    {
     "name": "stdout",
     "output_type": "stream",
     "text": [
      "LM Loss: 0.0268, Class Loss: 0.0179\n"
     ]
    },
    {
     "name": "stderr",
     "output_type": "stream",
     "text": [
      "Epoch 3/3 [Training]:  66%|██████▌   | 263/400 [03:00<01:50,  1.24it/s, Loss=0.56] "
     ]
    },
    {
     "name": "stdout",
     "output_type": "stream",
     "text": [
      "LM Loss: 0.0913, Class Loss: 0.9721\n"
     ]
    },
    {
     "name": "stderr",
     "output_type": "stream",
     "text": [
      "Epoch 3/3 [Training]:  66%|██████▌   | 264/400 [03:01<01:48,  1.25it/s, Loss=0.563]"
     ]
    },
    {
     "name": "stdout",
     "output_type": "stream",
     "text": [
      "LM Loss: 0.1254, Class Loss: 1.2268\n"
     ]
    },
    {
     "name": "stderr",
     "output_type": "stream",
     "text": [
      "Epoch 3/3 [Training]:  66%|██████▋   | 265/400 [03:02<01:38,  1.38it/s, Loss=0.562]"
     ]
    },
    {
     "name": "stdout",
     "output_type": "stream",
     "text": [
      "LM Loss: 0.1313, Class Loss: 0.1584\n"
     ]
    },
    {
     "name": "stderr",
     "output_type": "stream",
     "text": [
      "Epoch 3/3 [Training]:  66%|██████▋   | 266/400 [03:02<01:36,  1.39it/s, Loss=0.56] "
     ]
    },
    {
     "name": "stdout",
     "output_type": "stream",
     "text": [
      "LM Loss: 0.0793, Class Loss: 0.0912\n"
     ]
    },
    {
     "name": "stderr",
     "output_type": "stream",
     "text": [
      "Epoch 3/3 [Training]:  67%|██████▋   | 267/400 [03:03<01:38,  1.35it/s, Loss=0.559]"
     ]
    },
    {
     "name": "stdout",
     "output_type": "stream",
     "text": [
      "LM Loss: 0.1492, Class Loss: 0.2182\n"
     ]
    },
    {
     "name": "stderr",
     "output_type": "stream",
     "text": [
      "Epoch 3/3 [Training]:  67%|██████▋   | 268/400 [03:04<01:36,  1.37it/s, Loss=0.558]"
     ]
    },
    {
     "name": "stdout",
     "output_type": "stream",
     "text": [
      "LM Loss: 0.2400, Class Loss: 0.0634\n"
     ]
    },
    {
     "name": "stderr",
     "output_type": "stream",
     "text": [
      "Epoch 3/3 [Training]:  67%|██████▋   | 269/400 [03:05<01:42,  1.28it/s, Loss=0.558]"
     ]
    },
    {
     "name": "stdout",
     "output_type": "stream",
     "text": [
      "LM Loss: 0.0506, Class Loss: 0.3991\n"
     ]
    },
    {
     "name": "stderr",
     "output_type": "stream",
     "text": [
      "Epoch 3/3 [Training]:  68%|██████▊   | 270/400 [03:06<01:43,  1.25it/s, Loss=0.556]"
     ]
    },
    {
     "name": "stdout",
     "output_type": "stream",
     "text": [
      "LM Loss: 0.0146, Class Loss: 0.0057\n"
     ]
    },
    {
     "name": "stderr",
     "output_type": "stream",
     "text": [
      "Epoch 3/3 [Training]:  68%|██████▊   | 271/400 [03:06<01:32,  1.39it/s, Loss=0.554]"
     ]
    },
    {
     "name": "stdout",
     "output_type": "stream",
     "text": [
      "LM Loss: 0.0337, Class Loss: 0.0422\n"
     ]
    },
    {
     "name": "stderr",
     "output_type": "stream",
     "text": [
      "Epoch 3/3 [Training]:  68%|██████▊   | 272/400 [03:07<01:27,  1.46it/s, Loss=0.552]"
     ]
    },
    {
     "name": "stdout",
     "output_type": "stream",
     "text": [
      "LM Loss: 0.0151, Class Loss: 0.0149\n"
     ]
    },
    {
     "name": "stderr",
     "output_type": "stream",
     "text": [
      "Epoch 3/3 [Training]:  68%|██████▊   | 273/400 [03:07<01:28,  1.43it/s, Loss=0.551]"
     ]
    },
    {
     "name": "stdout",
     "output_type": "stream",
     "text": [
      "LM Loss: 0.1624, Class Loss: 0.0542\n"
     ]
    },
    {
     "name": "stderr",
     "output_type": "stream",
     "text": [
      "Epoch 3/3 [Training]:  68%|██████▊   | 274/400 [03:08<01:29,  1.41it/s, Loss=0.549]"
     ]
    },
    {
     "name": "stdout",
     "output_type": "stream",
     "text": [
      "LM Loss: 0.0040, Class Loss: 0.0403\n"
     ]
    },
    {
     "name": "stderr",
     "output_type": "stream",
     "text": [
      "Epoch 3/3 [Training]:  69%|██████▉   | 275/400 [03:09<01:21,  1.53it/s, Loss=0.555]"
     ]
    },
    {
     "name": "stdout",
     "output_type": "stream",
     "text": [
      "LM Loss: 0.3354, Class Loss: 1.8562\n"
     ]
    },
    {
     "name": "stderr",
     "output_type": "stream",
     "text": [
      "Epoch 3/3 [Training]:  69%|██████▉   | 276/400 [03:10<01:28,  1.41it/s, Loss=0.555]"
     ]
    },
    {
     "name": "stdout",
     "output_type": "stream",
     "text": [
      "LM Loss: 0.2090, Class Loss: 0.2337\n"
     ]
    },
    {
     "name": "stderr",
     "output_type": "stream",
     "text": [
      "Epoch 3/3 [Training]:  69%|██████▉   | 277/400 [03:10<01:23,  1.47it/s, Loss=0.553]"
     ]
    },
    {
     "name": "stdout",
     "output_type": "stream",
     "text": [
      "LM Loss: 0.0051, Class Loss: 0.0074\n"
     ]
    },
    {
     "name": "stderr",
     "output_type": "stream",
     "text": [
      "Epoch 3/3 [Training]:  70%|██████▉   | 278/400 [03:11<01:20,  1.52it/s, Loss=0.555]"
     ]
    },
    {
     "name": "stdout",
     "output_type": "stream",
     "text": [
      "LM Loss: 0.0135, Class Loss: 1.2227\n"
     ]
    },
    {
     "name": "stderr",
     "output_type": "stream",
     "text": [
      "Epoch 3/3 [Training]:  70%|██████▉   | 279/400 [03:12<01:22,  1.47it/s, Loss=0.553]"
     ]
    },
    {
     "name": "stdout",
     "output_type": "stream",
     "text": [
      "LM Loss: 0.0023, Class Loss: 0.0328\n"
     ]
    },
    {
     "name": "stderr",
     "output_type": "stream",
     "text": [
      "Epoch 3/3 [Training]:  70%|███████   | 280/400 [03:12<01:27,  1.37it/s, Loss=0.552]"
     ]
    },
    {
     "name": "stdout",
     "output_type": "stream",
     "text": [
      "LM Loss: 0.0382, Class Loss: 0.1111\n"
     ]
    },
    {
     "name": "stderr",
     "output_type": "stream",
     "text": [
      "Epoch 3/3 [Training]:  70%|███████   | 281/400 [03:13<01:27,  1.36it/s, Loss=0.55] "
     ]
    },
    {
     "name": "stdout",
     "output_type": "stream",
     "text": [
      "LM Loss: 0.0131, Class Loss: 0.0051\n"
     ]
    },
    {
     "name": "stderr",
     "output_type": "stream",
     "text": [
      "Epoch 3/3 [Training]:  70%|███████   | 282/400 [03:14<01:30,  1.31it/s, Loss=0.549]"
     ]
    },
    {
     "name": "stdout",
     "output_type": "stream",
     "text": [
      "LM Loss: 0.0563, Class Loss: 0.0538\n"
     ]
    },
    {
     "name": "stderr",
     "output_type": "stream",
     "text": [
      "Epoch 3/3 [Training]:  71%|███████   | 283/400 [03:15<01:28,  1.32it/s, Loss=0.551]"
     ]
    },
    {
     "name": "stdout",
     "output_type": "stream",
     "text": [
      "LM Loss: 0.0378, Class Loss: 1.0940\n"
     ]
    },
    {
     "name": "stderr",
     "output_type": "stream",
     "text": [
      "Epoch 3/3 [Training]:  71%|███████   | 284/400 [03:15<01:22,  1.40it/s, Loss=0.551]"
     ]
    },
    {
     "name": "stdout",
     "output_type": "stream",
     "text": [
      "LM Loss: 0.1562, Class Loss: 0.3634\n"
     ]
    },
    {
     "name": "stderr",
     "output_type": "stream",
     "text": [
      "Epoch 3/3 [Training]:  71%|███████▏  | 285/400 [03:16<01:22,  1.39it/s, Loss=0.549]"
     ]
    },
    {
     "name": "stdout",
     "output_type": "stream",
     "text": [
      "LM Loss: 0.0120, Class Loss: 0.0037\n"
     ]
    },
    {
     "name": "stderr",
     "output_type": "stream",
     "text": [
      "Epoch 3/3 [Training]:  72%|███████▏  | 286/400 [03:17<01:18,  1.45it/s, Loss=0.547]"
     ]
    },
    {
     "name": "stdout",
     "output_type": "stream",
     "text": [
      "LM Loss: 0.0283, Class Loss: 0.0653\n"
     ]
    },
    {
     "name": "stderr",
     "output_type": "stream",
     "text": [
      "Epoch 3/3 [Training]:  72%|███████▏  | 287/400 [03:17<01:16,  1.47it/s, Loss=0.546]"
     ]
    },
    {
     "name": "stdout",
     "output_type": "stream",
     "text": [
      "LM Loss: 0.0604, Class Loss: 0.1750\n"
     ]
    },
    {
     "name": "stderr",
     "output_type": "stream",
     "text": [
      "Epoch 3/3 [Training]:  72%|███████▏  | 288/400 [03:18<01:21,  1.37it/s, Loss=0.545]"
     ]
    },
    {
     "name": "stdout",
     "output_type": "stream",
     "text": [
      "LM Loss: 0.0675, Class Loss: 0.0579\n"
     ]
    },
    {
     "name": "stderr",
     "output_type": "stream",
     "text": [
      "Epoch 3/3 [Training]:  72%|███████▏  | 289/400 [03:19<01:14,  1.50it/s, Loss=0.543]"
     ]
    },
    {
     "name": "stdout",
     "output_type": "stream",
     "text": [
      "LM Loss: 0.0041, Class Loss: 0.0180\n"
     ]
    },
    {
     "name": "stderr",
     "output_type": "stream",
     "text": [
      "Epoch 3/3 [Training]:  72%|███████▎  | 290/400 [03:19<01:17,  1.42it/s, Loss=0.554]"
     ]
    },
    {
     "name": "stdout",
     "output_type": "stream",
     "text": [
      "LM Loss: 0.3058, Class Loss: 3.5909\n"
     ]
    },
    {
     "name": "stderr",
     "output_type": "stream",
     "text": [
      "Epoch 3/3 [Training]:  73%|███████▎  | 291/400 [03:20<01:13,  1.48it/s, Loss=0.553]"
     ]
    },
    {
     "name": "stdout",
     "output_type": "stream",
     "text": [
      "LM Loss: 0.0995, Class Loss: 0.2029\n"
     ]
    },
    {
     "name": "stderr",
     "output_type": "stream",
     "text": [
      "Epoch 3/3 [Training]:  73%|███████▎  | 292/400 [03:21<01:13,  1.46it/s, Loss=0.552]"
     ]
    },
    {
     "name": "stdout",
     "output_type": "stream",
     "text": [
      "LM Loss: 0.1179, Class Loss: 0.0142\n"
     ]
    },
    {
     "name": "stderr",
     "output_type": "stream",
     "text": [
      "Epoch 3/3 [Training]:  73%|███████▎  | 293/400 [03:22<01:14,  1.45it/s, Loss=0.551]"
     ]
    },
    {
     "name": "stdout",
     "output_type": "stream",
     "text": [
      "LM Loss: 0.1283, Class Loss: 0.0898\n"
     ]
    },
    {
     "name": "stderr",
     "output_type": "stream",
     "text": [
      "Epoch 3/3 [Training]:  74%|███████▎  | 294/400 [03:22<01:07,  1.58it/s, Loss=0.55] "
     ]
    },
    {
     "name": "stdout",
     "output_type": "stream",
     "text": [
      "LM Loss: 0.0304, Class Loss: 0.3113\n"
     ]
    },
    {
     "name": "stderr",
     "output_type": "stream",
     "text": [
      "Epoch 3/3 [Training]:  74%|███████▍  | 295/400 [03:23<01:05,  1.60it/s, Loss=0.552]"
     ]
    },
    {
     "name": "stdout",
     "output_type": "stream",
     "text": [
      "LM Loss: 0.0029, Class Loss: 1.1587\n"
     ]
    },
    {
     "name": "stderr",
     "output_type": "stream",
     "text": [
      "Epoch 3/3 [Training]:  74%|███████▍  | 296/400 [03:23<01:01,  1.70it/s, Loss=0.551]"
     ]
    },
    {
     "name": "stdout",
     "output_type": "stream",
     "text": [
      "LM Loss: 0.0365, Class Loss: 0.2930\n"
     ]
    },
    {
     "name": "stderr",
     "output_type": "stream",
     "text": [
      "Epoch 3/3 [Training]:  74%|███████▍  | 297/400 [03:24<01:05,  1.58it/s, Loss=0.551]"
     ]
    },
    {
     "name": "stdout",
     "output_type": "stream",
     "text": [
      "LM Loss: 0.1407, Class Loss: 0.2211\n"
     ]
    },
    {
     "name": "stderr",
     "output_type": "stream",
     "text": [
      "Epoch 3/3 [Training]:  74%|███████▍  | 298/400 [03:25<01:06,  1.53it/s, Loss=0.549]"
     ]
    },
    {
     "name": "stdout",
     "output_type": "stream",
     "text": [
      "LM Loss: 0.1583, Class Loss: 0.0083\n"
     ]
    },
    {
     "name": "stderr",
     "output_type": "stream",
     "text": [
      "Epoch 3/3 [Training]:  75%|███████▍  | 299/400 [03:25<01:04,  1.56it/s, Loss=0.548]"
     ]
    },
    {
     "name": "stdout",
     "output_type": "stream",
     "text": [
      "LM Loss: 0.1152, Class Loss: 0.0619\n"
     ]
    },
    {
     "name": "stderr",
     "output_type": "stream",
     "text": [
      "Epoch 3/3 [Training]:  75%|███████▌  | 300/400 [03:26<01:04,  1.55it/s, Loss=0.548]"
     ]
    },
    {
     "name": "stdout",
     "output_type": "stream",
     "text": [
      "LM Loss: 0.0683, Class Loss: 0.3915\n"
     ]
    },
    {
     "name": "stderr",
     "output_type": "stream",
     "text": [
      "Epoch 3/3 [Training]:  75%|███████▌  | 301/400 [03:27<01:06,  1.49it/s, Loss=0.546]"
     ]
    },
    {
     "name": "stdout",
     "output_type": "stream",
     "text": [
      "LM Loss: 0.0487, Class Loss: 0.0316\n"
     ]
    },
    {
     "name": "stderr",
     "output_type": "stream",
     "text": [
      "Epoch 3/3 [Training]:  76%|███████▌  | 302/400 [03:27<01:07,  1.45it/s, Loss=0.545]"
     ]
    },
    {
     "name": "stdout",
     "output_type": "stream",
     "text": [
      "LM Loss: 0.0363, Class Loss: 0.0134\n"
     ]
    },
    {
     "name": "stderr",
     "output_type": "stream",
     "text": [
      "Epoch 3/3 [Training]:  76%|███████▌  | 303/400 [03:28<01:08,  1.42it/s, Loss=0.544]"
     ]
    },
    {
     "name": "stdout",
     "output_type": "stream",
     "text": [
      "LM Loss: 0.0228, Class Loss: 0.2735\n"
     ]
    },
    {
     "name": "stderr",
     "output_type": "stream",
     "text": [
      "Epoch 3/3 [Training]:  76%|███████▌  | 304/400 [03:29<01:06,  1.45it/s, Loss=0.543]"
     ]
    },
    {
     "name": "stdout",
     "output_type": "stream",
     "text": [
      "LM Loss: 0.0567, Class Loss: 0.0581\n"
     ]
    },
    {
     "name": "stderr",
     "output_type": "stream",
     "text": [
      "Epoch 3/3 [Training]:  76%|███████▋  | 305/400 [03:30<01:13,  1.29it/s, Loss=0.543]"
     ]
    },
    {
     "name": "stdout",
     "output_type": "stream",
     "text": [
      "LM Loss: 0.1862, Class Loss: 0.3731\n"
     ]
    },
    {
     "name": "stderr",
     "output_type": "stream",
     "text": [
      "Epoch 3/3 [Training]:  76%|███████▋  | 306/400 [03:30<01:13,  1.29it/s, Loss=0.541]"
     ]
    },
    {
     "name": "stdout",
     "output_type": "stream",
     "text": [
      "LM Loss: 0.0515, Class Loss: 0.0259\n"
     ]
    },
    {
     "name": "stderr",
     "output_type": "stream",
     "text": [
      "Epoch 3/3 [Training]:  77%|███████▋  | 307/400 [03:31<01:04,  1.44it/s, Loss=0.54] "
     ]
    },
    {
     "name": "stdout",
     "output_type": "stream",
     "text": [
      "LM Loss: 0.0376, Class Loss: 0.0464\n"
     ]
    },
    {
     "name": "stderr",
     "output_type": "stream",
     "text": [
      "Epoch 3/3 [Training]:  77%|███████▋  | 308/400 [03:32<01:05,  1.41it/s, Loss=0.539]"
     ]
    },
    {
     "name": "stdout",
     "output_type": "stream",
     "text": [
      "LM Loss: 0.0766, Class Loss: 0.1879\n"
     ]
    },
    {
     "name": "stderr",
     "output_type": "stream",
     "text": [
      "Epoch 3/3 [Training]:  77%|███████▋  | 309/400 [03:32<01:00,  1.51it/s, Loss=0.538]"
     ]
    },
    {
     "name": "stdout",
     "output_type": "stream",
     "text": [
      "LM Loss: 0.0305, Class Loss: 0.1501\n"
     ]
    },
    {
     "name": "stderr",
     "output_type": "stream",
     "text": [
      "Epoch 3/3 [Training]:  78%|███████▊  | 310/400 [03:33<00:56,  1.59it/s, Loss=0.538]"
     ]
    },
    {
     "name": "stdout",
     "output_type": "stream",
     "text": [
      "LM Loss: 0.1558, Class Loss: 0.5905\n"
     ]
    },
    {
     "name": "stderr",
     "output_type": "stream",
     "text": [
      "Epoch 3/3 [Training]:  78%|███████▊  | 311/400 [03:33<00:53,  1.65it/s, Loss=0.537]"
     ]
    },
    {
     "name": "stdout",
     "output_type": "stream",
     "text": [
      "LM Loss: 0.0036, Class Loss: 0.0915\n"
     ]
    },
    {
     "name": "stderr",
     "output_type": "stream",
     "text": [
      "Epoch 3/3 [Training]:  78%|███████▊  | 312/400 [03:34<00:53,  1.65it/s, Loss=0.536]"
     ]
    },
    {
     "name": "stdout",
     "output_type": "stream",
     "text": [
      "LM Loss: 0.1021, Class Loss: 0.1026\n"
     ]
    },
    {
     "name": "stderr",
     "output_type": "stream",
     "text": [
      "Epoch 3/3 [Training]:  78%|███████▊  | 313/400 [03:35<00:56,  1.55it/s, Loss=0.534]"
     ]
    },
    {
     "name": "stdout",
     "output_type": "stream",
     "text": [
      "LM Loss: 0.1057, Class Loss: 0.0158\n"
     ]
    },
    {
     "name": "stderr",
     "output_type": "stream",
     "text": [
      "Epoch 3/3 [Training]:  78%|███████▊  | 314/400 [03:35<00:51,  1.66it/s, Loss=0.535]"
     ]
    },
    {
     "name": "stdout",
     "output_type": "stream",
     "text": [
      "LM Loss: 0.1654, Class Loss: 0.6186\n"
     ]
    },
    {
     "name": "stderr",
     "output_type": "stream",
     "text": [
      "Epoch 3/3 [Training]:  79%|███████▉  | 315/400 [03:36<00:52,  1.61it/s, Loss=0.535]"
     ]
    },
    {
     "name": "stdout",
     "output_type": "stream",
     "text": [
      "LM Loss: 0.0855, Class Loss: 0.3761\n"
     ]
    },
    {
     "name": "stderr",
     "output_type": "stream",
     "text": [
      "Epoch 3/3 [Training]:  79%|███████▉  | 316/400 [03:36<00:49,  1.71it/s, Loss=0.54] "
     ]
    },
    {
     "name": "stdout",
     "output_type": "stream",
     "text": [
      "LM Loss: 0.2386, Class Loss: 1.9535\n"
     ]
    },
    {
     "name": "stderr",
     "output_type": "stream",
     "text": [
      "Epoch 3/3 [Training]:  79%|███████▉  | 317/400 [03:37<00:50,  1.65it/s, Loss=0.54]"
     ]
    },
    {
     "name": "stdout",
     "output_type": "stream",
     "text": [
      "LM Loss: 0.0605, Class Loss: 0.4904\n"
     ]
    },
    {
     "name": "stderr",
     "output_type": "stream",
     "text": [
      "Epoch 3/3 [Training]:  80%|███████▉  | 318/400 [03:38<00:48,  1.69it/s, Loss=0.541]"
     ]
    },
    {
     "name": "stdout",
     "output_type": "stream",
     "text": [
      "LM Loss: 0.2266, Class Loss: 0.4047\n"
     ]
    },
    {
     "name": "stderr",
     "output_type": "stream",
     "text": [
      "Epoch 3/3 [Training]:  80%|███████▉  | 319/400 [03:38<00:47,  1.72it/s, Loss=0.539]"
     ]
    },
    {
     "name": "stdout",
     "output_type": "stream",
     "text": [
      "LM Loss: 0.0469, Class Loss: 0.0176\n"
     ]
    },
    {
     "name": "stderr",
     "output_type": "stream",
     "text": [
      "Epoch 3/3 [Training]:  80%|████████  | 320/400 [03:39<00:48,  1.66it/s, Loss=0.538]"
     ]
    },
    {
     "name": "stdout",
     "output_type": "stream",
     "text": [
      "LM Loss: 0.0474, Class Loss: 0.2906\n"
     ]
    },
    {
     "name": "stderr",
     "output_type": "stream",
     "text": [
      "Epoch 3/3 [Training]:  80%|████████  | 321/400 [03:40<00:56,  1.40it/s, Loss=0.537]"
     ]
    },
    {
     "name": "stdout",
     "output_type": "stream",
     "text": [
      "LM Loss: 0.0500, Class Loss: 0.1535\n"
     ]
    },
    {
     "name": "stderr",
     "output_type": "stream",
     "text": [
      "Epoch 3/3 [Training]:  80%|████████  | 322/400 [03:40<00:54,  1.44it/s, Loss=0.536]"
     ]
    },
    {
     "name": "stdout",
     "output_type": "stream",
     "text": [
      "LM Loss: 0.1236, Class Loss: 0.0807\n"
     ]
    },
    {
     "name": "stderr",
     "output_type": "stream",
     "text": [
      "Epoch 3/3 [Training]:  81%|████████  | 323/400 [03:41<00:54,  1.41it/s, Loss=0.535]"
     ]
    },
    {
     "name": "stdout",
     "output_type": "stream",
     "text": [
      "LM Loss: 0.0071, Class Loss: 0.0225\n"
     ]
    },
    {
     "name": "stderr",
     "output_type": "stream",
     "text": [
      "Epoch 3/3 [Training]:  81%|████████  | 324/400 [03:42<00:54,  1.40it/s, Loss=0.533]"
     ]
    },
    {
     "name": "stdout",
     "output_type": "stream",
     "text": [
      "LM Loss: 0.0282, Class Loss: 0.0804\n"
     ]
    },
    {
     "name": "stderr",
     "output_type": "stream",
     "text": [
      "Epoch 3/3 [Training]:  81%|████████▏ | 325/400 [03:43<00:56,  1.33it/s, Loss=0.532]"
     ]
    },
    {
     "name": "stdout",
     "output_type": "stream",
     "text": [
      "LM Loss: 0.1226, Class Loss: 0.0369\n"
     ]
    },
    {
     "name": "stderr",
     "output_type": "stream",
     "text": [
      "Epoch 3/3 [Training]:  82%|████████▏ | 326/400 [03:43<00:55,  1.33it/s, Loss=0.533]"
     ]
    },
    {
     "name": "stdout",
     "output_type": "stream",
     "text": [
      "LM Loss: 0.1666, Class Loss: 0.4805\n"
     ]
    },
    {
     "name": "stderr",
     "output_type": "stream",
     "text": [
      "Epoch 3/3 [Training]:  82%|████████▏ | 327/400 [03:44<00:49,  1.48it/s, Loss=0.531]"
     ]
    },
    {
     "name": "stdout",
     "output_type": "stream",
     "text": [
      "LM Loss: 0.0287, Class Loss: 0.0281\n"
     ]
    },
    {
     "name": "stderr",
     "output_type": "stream",
     "text": [
      "Epoch 3/3 [Training]:  82%|████████▏ | 328/400 [03:45<00:49,  1.47it/s, Loss=0.535]"
     ]
    },
    {
     "name": "stdout",
     "output_type": "stream",
     "text": [
      "LM Loss: 0.3267, Class Loss: 1.3899\n"
     ]
    },
    {
     "name": "stderr",
     "output_type": "stream",
     "text": [
      "Epoch 3/3 [Training]:  82%|████████▏ | 329/400 [03:45<00:46,  1.52it/s, Loss=0.534]"
     ]
    },
    {
     "name": "stdout",
     "output_type": "stream",
     "text": [
      "LM Loss: 0.0254, Class Loss: 0.2033\n"
     ]
    },
    {
     "name": "stderr",
     "output_type": "stream",
     "text": [
      "Epoch 3/3 [Training]:  82%|████████▎ | 330/400 [03:46<00:47,  1.46it/s, Loss=0.533]"
     ]
    },
    {
     "name": "stdout",
     "output_type": "stream",
     "text": [
      "LM Loss: 0.0734, Class Loss: 0.0607\n"
     ]
    },
    {
     "name": "stderr",
     "output_type": "stream",
     "text": [
      "Epoch 3/3 [Training]:  83%|████████▎ | 331/400 [03:47<00:48,  1.43it/s, Loss=0.534]"
     ]
    },
    {
     "name": "stdout",
     "output_type": "stream",
     "text": [
      "LM Loss: 0.0919, Class Loss: 0.9790\n"
     ]
    },
    {
     "name": "stderr",
     "output_type": "stream",
     "text": [
      "Epoch 3/3 [Training]:  83%|████████▎ | 332/400 [03:48<00:49,  1.38it/s, Loss=0.533]"
     ]
    },
    {
     "name": "stdout",
     "output_type": "stream",
     "text": [
      "LM Loss: 0.1102, Class Loss: 0.0601\n"
     ]
    },
    {
     "name": "stderr",
     "output_type": "stream",
     "text": [
      "Epoch 3/3 [Training]:  83%|████████▎ | 333/400 [03:48<00:48,  1.37it/s, Loss=0.532]"
     ]
    },
    {
     "name": "stdout",
     "output_type": "stream",
     "text": [
      "LM Loss: 0.0185, Class Loss: 0.0054\n"
     ]
    },
    {
     "name": "stderr",
     "output_type": "stream",
     "text": [
      "Epoch 3/3 [Training]:  84%|████████▎ | 334/400 [03:49<00:52,  1.25it/s, Loss=0.531]"
     ]
    },
    {
     "name": "stdout",
     "output_type": "stream",
     "text": [
      "LM Loss: 0.1892, Class Loss: 0.1767\n"
     ]
    },
    {
     "name": "stderr",
     "output_type": "stream",
     "text": [
      "Epoch 3/3 [Training]:  84%|████████▍ | 335/400 [03:50<00:54,  1.20it/s, Loss=0.531]"
     ]
    },
    {
     "name": "stdout",
     "output_type": "stream",
     "text": [
      "LM Loss: 0.1175, Class Loss: 0.5186\n"
     ]
    },
    {
     "name": "stderr",
     "output_type": "stream",
     "text": [
      "Epoch 3/3 [Training]:  84%|████████▍ | 336/400 [03:51<00:49,  1.28it/s, Loss=0.53] "
     ]
    },
    {
     "name": "stdout",
     "output_type": "stream",
     "text": [
      "LM Loss: 0.0295, Class Loss: 0.0287\n"
     ]
    },
    {
     "name": "stderr",
     "output_type": "stream",
     "text": [
      "Epoch 3/3 [Training]:  84%|████████▍ | 337/400 [03:51<00:45,  1.37it/s, Loss=0.53]"
     ]
    },
    {
     "name": "stdout",
     "output_type": "stream",
     "text": [
      "LM Loss: 0.0721, Class Loss: 0.4449\n"
     ]
    },
    {
     "name": "stderr",
     "output_type": "stream",
     "text": [
      "Epoch 3/3 [Training]:  84%|████████▍ | 338/400 [03:52<00:44,  1.39it/s, Loss=0.529]"
     ]
    },
    {
     "name": "stdout",
     "output_type": "stream",
     "text": [
      "LM Loss: 0.0314, Class Loss: 0.0540\n"
     ]
    },
    {
     "name": "stderr",
     "output_type": "stream",
     "text": [
      "Epoch 3/3 [Training]:  85%|████████▍ | 339/400 [03:53<00:40,  1.49it/s, Loss=0.528]"
     ]
    },
    {
     "name": "stdout",
     "output_type": "stream",
     "text": [
      "LM Loss: 0.2014, Class Loss: 0.0908\n"
     ]
    },
    {
     "name": "stderr",
     "output_type": "stream",
     "text": [
      "Epoch 3/3 [Training]:  85%|████████▌ | 340/400 [03:53<00:38,  1.57it/s, Loss=0.527]"
     ]
    },
    {
     "name": "stdout",
     "output_type": "stream",
     "text": [
      "LM Loss: 0.0371, Class Loss: 0.0055\n"
     ]
    },
    {
     "name": "stderr",
     "output_type": "stream",
     "text": [
      "Epoch 3/3 [Training]:  85%|████████▌ | 341/400 [03:54<00:35,  1.68it/s, Loss=0.526]"
     ]
    },
    {
     "name": "stdout",
     "output_type": "stream",
     "text": [
      "LM Loss: 0.0505, Class Loss: 0.2475\n"
     ]
    },
    {
     "name": "stderr",
     "output_type": "stream",
     "text": [
      "Epoch 3/3 [Training]:  86%|████████▌ | 342/400 [03:55<00:39,  1.45it/s, Loss=0.524]"
     ]
    },
    {
     "name": "stdout",
     "output_type": "stream",
     "text": [
      "LM Loss: 0.0217, Class Loss: 0.0029\n"
     ]
    },
    {
     "name": "stderr",
     "output_type": "stream",
     "text": [
      "Epoch 3/3 [Training]:  86%|████████▌ | 343/400 [03:55<00:39,  1.45it/s, Loss=0.528]"
     ]
    },
    {
     "name": "stdout",
     "output_type": "stream",
     "text": [
      "LM Loss: 0.3035, Class Loss: 1.5812\n"
     ]
    },
    {
     "name": "stderr",
     "output_type": "stream",
     "text": [
      "Epoch 3/3 [Training]:  86%|████████▌ | 344/400 [03:56<00:41,  1.36it/s, Loss=0.527]"
     ]
    },
    {
     "name": "stdout",
     "output_type": "stream",
     "text": [
      "LM Loss: 0.0251, Class Loss: 0.0313\n"
     ]
    },
    {
     "name": "stderr",
     "output_type": "stream",
     "text": [
      "Epoch 3/3 [Training]:  86%|████████▋ | 345/400 [03:57<00:40,  1.36it/s, Loss=0.526]"
     ]
    },
    {
     "name": "stdout",
     "output_type": "stream",
     "text": [
      "LM Loss: 0.0903, Class Loss: 0.0174\n"
     ]
    },
    {
     "name": "stderr",
     "output_type": "stream",
     "text": [
      "Epoch 3/3 [Training]:  86%|████████▋ | 346/400 [03:58<00:40,  1.33it/s, Loss=0.526]"
     ]
    },
    {
     "name": "stdout",
     "output_type": "stream",
     "text": [
      "LM Loss: 0.1778, Class Loss: 0.3515\n"
     ]
    },
    {
     "name": "stderr",
     "output_type": "stream",
     "text": [
      "Epoch 3/3 [Training]:  87%|████████▋ | 347/400 [03:58<00:36,  1.44it/s, Loss=0.525]"
     ]
    },
    {
     "name": "stdout",
     "output_type": "stream",
     "text": [
      "LM Loss: 0.0756, Class Loss: 0.0846\n"
     ]
    },
    {
     "name": "stderr",
     "output_type": "stream",
     "text": [
      "Epoch 3/3 [Training]:  87%|████████▋ | 348/400 [03:59<00:40,  1.27it/s, Loss=0.523]"
     ]
    },
    {
     "name": "stdout",
     "output_type": "stream",
     "text": [
      "LM Loss: 0.0364, Class Loss: 0.0045\n"
     ]
    },
    {
     "name": "stderr",
     "output_type": "stream",
     "text": [
      "Epoch 3/3 [Training]:  87%|████████▋ | 349/400 [04:00<00:39,  1.29it/s, Loss=0.522]"
     ]
    },
    {
     "name": "stdout",
     "output_type": "stream",
     "text": [
      "LM Loss: 0.0236, Class Loss: 0.0065\n"
     ]
    },
    {
     "name": "stderr",
     "output_type": "stream",
     "text": [
      "Epoch 3/3 [Training]:  88%|████████▊ | 350/400 [04:01<00:38,  1.31it/s, Loss=0.523]"
     ]
    },
    {
     "name": "stdout",
     "output_type": "stream",
     "text": [
      "LM Loss: 0.1477, Class Loss: 0.8798\n"
     ]
    },
    {
     "name": "stderr",
     "output_type": "stream",
     "text": [
      "Epoch 3/3 [Training]:  88%|████████▊ | 351/400 [04:02<00:42,  1.17it/s, Loss=0.523]"
     ]
    },
    {
     "name": "stdout",
     "output_type": "stream",
     "text": [
      "LM Loss: 0.1419, Class Loss: 0.1101\n"
     ]
    },
    {
     "name": "stderr",
     "output_type": "stream",
     "text": [
      "Epoch 3/3 [Training]:  88%|████████▊ | 352/400 [04:03<00:43,  1.11it/s, Loss=0.522]"
     ]
    },
    {
     "name": "stdout",
     "output_type": "stream",
     "text": [
      "LM Loss: 0.0086, Class Loss: 0.1198\n"
     ]
    },
    {
     "name": "stderr",
     "output_type": "stream",
     "text": [
      "Epoch 3/3 [Training]:  88%|████████▊ | 353/400 [04:03<00:39,  1.19it/s, Loss=0.52] "
     ]
    },
    {
     "name": "stdout",
     "output_type": "stream",
     "text": [
      "LM Loss: 0.0938, Class Loss: 0.0074\n"
     ]
    },
    {
     "name": "stderr",
     "output_type": "stream",
     "text": [
      "Epoch 3/3 [Training]:  88%|████████▊ | 354/400 [04:04<00:36,  1.27it/s, Loss=0.519]"
     ]
    },
    {
     "name": "stdout",
     "output_type": "stream",
     "text": [
      "LM Loss: 0.0206, Class Loss: 0.0493\n"
     ]
    },
    {
     "name": "stderr",
     "output_type": "stream",
     "text": [
      "Epoch 3/3 [Training]:  89%|████████▉ | 355/400 [04:05<00:34,  1.31it/s, Loss=0.518]"
     ]
    },
    {
     "name": "stdout",
     "output_type": "stream",
     "text": [
      "LM Loss: 0.0089, Class Loss: 0.0158\n"
     ]
    },
    {
     "name": "stderr",
     "output_type": "stream",
     "text": [
      "Epoch 3/3 [Training]:  89%|████████▉ | 356/400 [04:05<00:30,  1.44it/s, Loss=0.516]"
     ]
    },
    {
     "name": "stdout",
     "output_type": "stream",
     "text": [
      "LM Loss: 0.0116, Class Loss: 0.0228\n"
     ]
    },
    {
     "name": "stderr",
     "output_type": "stream",
     "text": [
      "Epoch 3/3 [Training]:  89%|████████▉ | 357/400 [04:06<00:35,  1.23it/s, Loss=0.515]"
     ]
    },
    {
     "name": "stdout",
     "output_type": "stream",
     "text": [
      "LM Loss: 0.1030, Class Loss: 0.0433\n"
     ]
    },
    {
     "name": "stderr",
     "output_type": "stream",
     "text": [
      "Epoch 3/3 [Training]:  90%|████████▉ | 358/400 [04:07<00:31,  1.33it/s, Loss=0.514]"
     ]
    },
    {
     "name": "stdout",
     "output_type": "stream",
     "text": [
      "LM Loss: 0.0159, Class Loss: 0.0931\n"
     ]
    },
    {
     "name": "stderr",
     "output_type": "stream",
     "text": [
      "Epoch 3/3 [Training]:  90%|████████▉ | 359/400 [04:08<00:28,  1.46it/s, Loss=0.516]"
     ]
    },
    {
     "name": "stdout",
     "output_type": "stream",
     "text": [
      "LM Loss: 0.1144, Class Loss: 1.1128\n"
     ]
    },
    {
     "name": "stderr",
     "output_type": "stream",
     "text": [
      "Epoch 3/3 [Training]:  90%|█████████ | 360/400 [04:08<00:28,  1.39it/s, Loss=0.515]"
     ]
    },
    {
     "name": "stdout",
     "output_type": "stream",
     "text": [
      "LM Loss: 0.0488, Class Loss: 0.0510\n"
     ]
    },
    {
     "name": "stderr",
     "output_type": "stream",
     "text": [
      "Epoch 3/3 [Training]:  90%|█████████ | 361/400 [04:09<00:27,  1.40it/s, Loss=0.514]"
     ]
    },
    {
     "name": "stdout",
     "output_type": "stream",
     "text": [
      "LM Loss: 0.0155, Class Loss: 0.3031\n"
     ]
    },
    {
     "name": "stderr",
     "output_type": "stream",
     "text": [
      "Epoch 3/3 [Training]:  90%|█████████ | 362/400 [04:10<00:25,  1.47it/s, Loss=0.515]"
     ]
    },
    {
     "name": "stdout",
     "output_type": "stream",
     "text": [
      "LM Loss: 0.0974, Class Loss: 0.7287\n"
     ]
    },
    {
     "name": "stderr",
     "output_type": "stream",
     "text": [
      "Epoch 3/3 [Training]:  91%|█████████ | 363/400 [04:10<00:25,  1.43it/s, Loss=0.515]"
     ]
    },
    {
     "name": "stdout",
     "output_type": "stream",
     "text": [
      "LM Loss: 0.0770, Class Loss: 0.2083\n"
     ]
    },
    {
     "name": "stderr",
     "output_type": "stream",
     "text": [
      "Epoch 3/3 [Training]:  91%|█████████ | 364/400 [04:11<00:26,  1.35it/s, Loss=0.514]"
     ]
    },
    {
     "name": "stdout",
     "output_type": "stream",
     "text": [
      "LM Loss: 0.0242, Class Loss: 0.1494\n"
     ]
    },
    {
     "name": "stderr",
     "output_type": "stream",
     "text": [
      "Epoch 3/3 [Training]:  91%|█████████▏| 365/400 [04:12<00:23,  1.48it/s, Loss=0.512]"
     ]
    },
    {
     "name": "stdout",
     "output_type": "stream",
     "text": [
      "LM Loss: 0.0471, Class Loss: 0.0051\n"
     ]
    },
    {
     "name": "stderr",
     "output_type": "stream",
     "text": [
      "Epoch 3/3 [Training]:  92%|█████████▏| 366/400 [04:13<00:23,  1.47it/s, Loss=0.515]"
     ]
    },
    {
     "name": "stdout",
     "output_type": "stream",
     "text": [
      "LM Loss: 0.2423, Class Loss: 1.2275\n"
     ]
    },
    {
     "name": "stderr",
     "output_type": "stream",
     "text": [
      "Epoch 3/3 [Training]:  92%|█████████▏| 367/400 [04:13<00:24,  1.37it/s, Loss=0.514]"
     ]
    },
    {
     "name": "stdout",
     "output_type": "stream",
     "text": [
      "LM Loss: 0.0277, Class Loss: 0.0495\n"
     ]
    },
    {
     "name": "stderr",
     "output_type": "stream",
     "text": [
      "Epoch 3/3 [Training]:  92%|█████████▏| 368/400 [04:14<00:20,  1.55it/s, Loss=0.513]"
     ]
    },
    {
     "name": "stdout",
     "output_type": "stream",
     "text": [
      "LM Loss: 0.0182, Class Loss: 0.0710\n"
     ]
    },
    {
     "name": "stderr",
     "output_type": "stream",
     "text": [
      "Epoch 3/3 [Training]:  92%|█████████▏| 369/400 [04:14<00:20,  1.54it/s, Loss=0.512]"
     ]
    },
    {
     "name": "stdout",
     "output_type": "stream",
     "text": [
      "LM Loss: 0.0722, Class Loss: 0.0972\n"
     ]
    },
    {
     "name": "stderr",
     "output_type": "stream",
     "text": [
      "Epoch 3/3 [Training]:  92%|█████████▎| 370/400 [04:15<00:20,  1.48it/s, Loss=0.511]"
     ]
    },
    {
     "name": "stdout",
     "output_type": "stream",
     "text": [
      "LM Loss: 0.1381, Class Loss: 0.0341\n"
     ]
    },
    {
     "name": "stderr",
     "output_type": "stream",
     "text": [
      "Epoch 3/3 [Training]:  93%|█████████▎| 371/400 [04:16<00:19,  1.46it/s, Loss=0.51] "
     ]
    },
    {
     "name": "stdout",
     "output_type": "stream",
     "text": [
      "LM Loss: 0.0618, Class Loss: 0.0071\n"
     ]
    },
    {
     "name": "stderr",
     "output_type": "stream",
     "text": [
      "Epoch 3/3 [Training]:  93%|█████████▎| 372/400 [04:17<00:20,  1.33it/s, Loss=0.513]"
     ]
    },
    {
     "name": "stdout",
     "output_type": "stream",
     "text": [
      "LM Loss: 0.1523, Class Loss: 1.4851\n"
     ]
    },
    {
     "name": "stderr",
     "output_type": "stream",
     "text": [
      "Epoch 3/3 [Training]:  93%|█████████▎| 373/400 [04:18<00:20,  1.34it/s, Loss=0.511]"
     ]
    },
    {
     "name": "stdout",
     "output_type": "stream",
     "text": [
      "LM Loss: 0.0051, Class Loss: 0.0206\n"
     ]
    },
    {
     "name": "stderr",
     "output_type": "stream",
     "text": [
      "Epoch 3/3 [Training]:  94%|█████████▎| 374/400 [04:18<00:17,  1.47it/s, Loss=0.511]"
     ]
    },
    {
     "name": "stdout",
     "output_type": "stream",
     "text": [
      "LM Loss: 0.1471, Class Loss: 0.3249\n"
     ]
    },
    {
     "name": "stderr",
     "output_type": "stream",
     "text": [
      "Epoch 3/3 [Training]:  94%|█████████▍| 375/400 [04:19<00:16,  1.48it/s, Loss=0.511]"
     ]
    },
    {
     "name": "stdout",
     "output_type": "stream",
     "text": [
      "LM Loss: 0.1190, Class Loss: 0.1583\n"
     ]
    },
    {
     "name": "stderr",
     "output_type": "stream",
     "text": [
      "Epoch 3/3 [Training]:  94%|█████████▍| 376/400 [04:19<00:16,  1.48it/s, Loss=0.515]"
     ]
    },
    {
     "name": "stdout",
     "output_type": "stream",
     "text": [
      "LM Loss: 0.2207, Class Loss: 1.7524\n"
     ]
    },
    {
     "name": "stderr",
     "output_type": "stream",
     "text": [
      "Epoch 3/3 [Training]:  94%|█████████▍| 377/400 [04:20<00:14,  1.59it/s, Loss=0.515]"
     ]
    },
    {
     "name": "stdout",
     "output_type": "stream",
     "text": [
      "LM Loss: 0.0616, Class Loss: 0.5087\n"
     ]
    },
    {
     "name": "stderr",
     "output_type": "stream",
     "text": [
      "Epoch 3/3 [Training]:  94%|█████████▍| 378/400 [04:21<00:13,  1.61it/s, Loss=0.514]"
     ]
    },
    {
     "name": "stdout",
     "output_type": "stream",
     "text": [
      "LM Loss: 0.0381, Class Loss: 0.0367\n"
     ]
    },
    {
     "name": "stderr",
     "output_type": "stream",
     "text": [
      "Epoch 3/3 [Training]:  95%|█████████▍| 379/400 [04:22<00:15,  1.32it/s, Loss=0.513]"
     ]
    },
    {
     "name": "stdout",
     "output_type": "stream",
     "text": [
      "LM Loss: 0.0987, Class Loss: 0.2357\n"
     ]
    },
    {
     "name": "stderr",
     "output_type": "stream",
     "text": [
      "Epoch 3/3 [Training]:  95%|█████████▌| 380/400 [04:22<00:13,  1.47it/s, Loss=0.512]"
     ]
    },
    {
     "name": "stdout",
     "output_type": "stream",
     "text": [
      "LM Loss: 0.0715, Class Loss: 0.1192\n"
     ]
    },
    {
     "name": "stderr",
     "output_type": "stream",
     "text": [
      "Epoch 3/3 [Training]:  95%|█████████▌| 381/400 [04:23<00:12,  1.55it/s, Loss=0.511]"
     ]
    },
    {
     "name": "stdout",
     "output_type": "stream",
     "text": [
      "LM Loss: 0.0910, Class Loss: 0.1421\n"
     ]
    },
    {
     "name": "stderr",
     "output_type": "stream",
     "text": [
      "Epoch 3/3 [Training]:  96%|█████████▌| 382/400 [04:23<00:12,  1.46it/s, Loss=0.51] "
     ]
    },
    {
     "name": "stdout",
     "output_type": "stream",
     "text": [
      "LM Loss: 0.0271, Class Loss: 0.0351\n"
     ]
    },
    {
     "name": "stderr",
     "output_type": "stream",
     "text": [
      "Epoch 3/3 [Training]:  96%|█████████▌| 383/400 [04:24<00:10,  1.59it/s, Loss=0.509]"
     ]
    },
    {
     "name": "stdout",
     "output_type": "stream",
     "text": [
      "LM Loss: 0.0501, Class Loss: 0.0762\n"
     ]
    },
    {
     "name": "stderr",
     "output_type": "stream",
     "text": [
      "Epoch 3/3 [Training]:  96%|█████████▌| 384/400 [04:25<00:10,  1.56it/s, Loss=0.508]"
     ]
    },
    {
     "name": "stdout",
     "output_type": "stream",
     "text": [
      "LM Loss: 0.0170, Class Loss: 0.0507\n"
     ]
    },
    {
     "name": "stderr",
     "output_type": "stream",
     "text": [
      "Epoch 3/3 [Training]:  96%|█████████▋| 385/400 [04:25<00:09,  1.63it/s, Loss=0.508]"
     ]
    },
    {
     "name": "stdout",
     "output_type": "stream",
     "text": [
      "LM Loss: 0.2132, Class Loss: 0.0857\n"
     ]
    },
    {
     "name": "stderr",
     "output_type": "stream",
     "text": [
      "Epoch 3/3 [Training]:  96%|█████████▋| 386/400 [04:26<00:08,  1.73it/s, Loss=0.507]"
     ]
    },
    {
     "name": "stdout",
     "output_type": "stream",
     "text": [
      "LM Loss: 0.0275, Class Loss: 0.0702\n"
     ]
    },
    {
     "name": "stderr",
     "output_type": "stream",
     "text": [
      "Epoch 3/3 [Training]:  97%|█████████▋| 387/400 [04:26<00:08,  1.55it/s, Loss=0.505]"
     ]
    },
    {
     "name": "stdout",
     "output_type": "stream",
     "text": [
      "LM Loss: 0.0012, Class Loss: 0.0000\n"
     ]
    },
    {
     "name": "stderr",
     "output_type": "stream",
     "text": [
      "Epoch 3/3 [Training]:  97%|█████████▋| 388/400 [04:27<00:08,  1.45it/s, Loss=0.505]"
     ]
    },
    {
     "name": "stdout",
     "output_type": "stream",
     "text": [
      "LM Loss: 0.1086, Class Loss: 0.2056\n"
     ]
    },
    {
     "name": "stderr",
     "output_type": "stream",
     "text": [
      "Epoch 3/3 [Training]:  97%|█████████▋| 389/400 [04:28<00:07,  1.39it/s, Loss=0.506]"
     ]
    },
    {
     "name": "stdout",
     "output_type": "stream",
     "text": [
      "LM Loss: 0.1751, Class Loss: 0.6182\n"
     ]
    },
    {
     "name": "stderr",
     "output_type": "stream",
     "text": [
      "Epoch 3/3 [Training]:  98%|█████████▊| 390/400 [04:29<00:07,  1.40it/s, Loss=0.504]"
     ]
    },
    {
     "name": "stdout",
     "output_type": "stream",
     "text": [
      "LM Loss: 0.0350, Class Loss: 0.0163\n"
     ]
    },
    {
     "name": "stderr",
     "output_type": "stream",
     "text": [
      "Epoch 3/3 [Training]:  98%|█████████▊| 391/400 [04:29<00:06,  1.43it/s, Loss=0.503]"
     ]
    },
    {
     "name": "stdout",
     "output_type": "stream",
     "text": [
      "LM Loss: 0.0010, Class Loss: 0.0068\n"
     ]
    },
    {
     "name": "stderr",
     "output_type": "stream",
     "text": [
      "Epoch 3/3 [Training]:  98%|█████████▊| 392/400 [04:30<00:05,  1.49it/s, Loss=0.508]"
     ]
    },
    {
     "name": "stdout",
     "output_type": "stream",
     "text": [
      "LM Loss: 0.1868, Class Loss: 2.1991\n"
     ]
    },
    {
     "name": "stderr",
     "output_type": "stream",
     "text": [
      "Epoch 3/3 [Training]:  98%|█████████▊| 393/400 [04:31<00:04,  1.61it/s, Loss=0.507]"
     ]
    },
    {
     "name": "stdout",
     "output_type": "stream",
     "text": [
      "LM Loss: 0.0707, Class Loss: 0.1502\n"
     ]
    },
    {
     "name": "stderr",
     "output_type": "stream",
     "text": [
      "Epoch 3/3 [Training]:  98%|█████████▊| 394/400 [04:31<00:04,  1.49it/s, Loss=0.507]"
     ]
    },
    {
     "name": "stdout",
     "output_type": "stream",
     "text": [
      "LM Loss: 0.0550, Class Loss: 0.4345\n"
     ]
    },
    {
     "name": "stderr",
     "output_type": "stream",
     "text": [
      "Epoch 3/3 [Training]:  99%|█████████▉| 395/400 [04:32<00:03,  1.47it/s, Loss=0.506]"
     ]
    },
    {
     "name": "stdout",
     "output_type": "stream",
     "text": [
      "LM Loss: 0.1088, Class Loss: 0.1134\n"
     ]
    },
    {
     "name": "stderr",
     "output_type": "stream",
     "text": [
      "Epoch 3/3 [Training]:  99%|█████████▉| 396/400 [04:33<00:02,  1.46it/s, Loss=0.506]"
     ]
    },
    {
     "name": "stdout",
     "output_type": "stream",
     "text": [
      "LM Loss: 0.1462, Class Loss: 0.1721\n"
     ]
    },
    {
     "name": "stderr",
     "output_type": "stream",
     "text": [
      "Epoch 3/3 [Training]:  99%|█████████▉| 397/400 [04:33<00:02,  1.44it/s, Loss=0.506]"
     ]
    },
    {
     "name": "stdout",
     "output_type": "stream",
     "text": [
      "LM Loss: 0.0802, Class Loss: 0.4510\n"
     ]
    },
    {
     "name": "stderr",
     "output_type": "stream",
     "text": [
      "Epoch 3/3 [Training]: 100%|█████████▉| 398/400 [04:34<00:01,  1.36it/s, Loss=0.505]"
     ]
    },
    {
     "name": "stdout",
     "output_type": "stream",
     "text": [
      "LM Loss: 0.0590, Class Loss: 0.0104\n"
     ]
    },
    {
     "name": "stderr",
     "output_type": "stream",
     "text": [
      "Epoch 3/3 [Training]: 100%|█████████▉| 399/400 [04:35<00:00,  1.27it/s, Loss=0.505]"
     ]
    },
    {
     "name": "stdout",
     "output_type": "stream",
     "text": [
      "LM Loss: 0.0802, Class Loss: 0.6072\n"
     ]
    },
    {
     "name": "stderr",
     "output_type": "stream",
     "text": [
      "Epoch 3/3 [Training]: 100%|██████████| 400/400 [04:36<00:00,  1.45it/s, Loss=0.504]\n"
     ]
    },
    {
     "name": "stdout",
     "output_type": "stream",
     "text": [
      "LM Loss: 0.0633, Class Loss: 0.0896\n",
      "Epoch 3/3, Average Loss: 0.5044455563271185\n"
     ]
    },
    {
     "name": "stderr",
     "output_type": "stream",
     "text": [
      "[Evaluating]: 100%|██████████| 100/100 [00:34<00:00,  2.91it/s]"
     ]
    },
    {
     "name": "stdout",
     "output_type": "stream",
     "text": [
      "Validation - LM Loss: 0.0872, Classification Accuracy: 0.8600\n"
     ]
    },
    {
     "name": "stderr",
     "output_type": "stream",
     "text": [
      "\n"
     ]
    }
   ],
   "source": [
    "# 토크나이저 및 데이터 준비\n",
    "tokenizer = AutoTokenizer.from_pretrained(model_name)\n",
    "\n",
    "train_dataset = []\n",
    "for i in train_df.iterrows():\n",
    "    train_dataset.append(create_train_data(tokenizer, i[1]['ti'],i[1]['ab'],i[1]['label_idx']))\n",
    "train_dataloader = torch.utils.data.DataLoader(train_dataset, batch_size=2, collate_fn=collate_fn)\n",
    "\n",
    "eval_dataset = []\n",
    "for i in eval_df.iterrows():\n",
    "    eval_dataset.append(create_train_data(tokenizer,i[1]['ti'], i[1]['ab'],i[1]['label_idx']))\n",
    "eval_dataloader = torch.utils.data.DataLoader(eval_dataset, batch_size=2, collate_fn=collate_fn)\n",
    "\n",
    "# 옵티마이저 설정\n",
    "optimizer = torch.optim.AdamW([\n",
    "    {\"params\": model.lm_model.parameters(), \"lr\": 5e-6},  # 언어 모델은 로스는 0.2 정도\n",
    "    {\"params\": model.classifier.parameters(), \"lr\": 5e-4}  # 분류 헤드 로스는 높게 0.1이하가 되도록\n",
    "])\n",
    "# 학습 실행\n",
    "train(model, train_dataloader, eval_dataloader, optimizer, alpha=1, epochs=3)"
   ]
  },
  {
   "cell_type": "code",
   "execution_count": 9,
   "metadata": {
    "id": "mjLSfW3QccPt",
    "tags": []
   },
   "outputs": [],
   "source": [
    "def predict_class(model, tokenizer, text, max_length=1024):\n",
    "    model.eval()\n",
    "    \n",
    "    chat = [\n",
    "    {\"role\": \"system\", \"content\":\"You are an AI that generates classification labels for patents. Read the text and classify them correctly. Let's Think Step by Step.\"},\n",
    "    {\"role\": \"user\", \"content\": f\"Generate a label for the given text.\\n'{text}'\"}, # 클래스분류 훈련 사용\n",
    "    ]\n",
    "\n",
    "    # Chat 형식에 맞춰 텍스트 생성\n",
    "    input_txt = tokenizer.apply_chat_template(chat, tokenize=False)\n",
    "\n",
    "    # 텍스트 토큰화\n",
    "    inputs = tokenizer(input_txt, return_tensors=\"pt\", max_length=max_length, truncation=True)\n",
    "    input_ids = inputs[\"input_ids\"].to(device)\n",
    "    attention_mask = inputs[\"attention_mask\"].to(device)\n",
    "\n",
    "    # 모델 출력\n",
    "    with torch.no_grad():\n",
    "        _, class_logits, _ = model(input_ids, attention_mask, input_ids, attention_mask)  # class_logits는 분류 예측 값\n",
    "\n",
    "    # 예측된 클래스\n",
    "    predictions = torch.argmax(class_logits, dim=-1)\n",
    "\n",
    "    return predictions.item()  # 예측된 클래스 반환\n"
   ]
  },
  {
   "cell_type": "code",
   "execution_count": 16,
   "metadata": {
    "id": "a7jWuqIigV1-",
    "tags": []
   },
   "outputs": [],
   "source": [
    "def generate_text(model, tokenizer, prompt, label, max_length=1024):\n",
    "    model.eval()\n",
    "\n",
    "    chat = [\n",
    "    {\"role\": \"system\", \"content\":\"You are an AI that generates classification labels for patents. Read the text and classify them correctly. Let's Think Step by Step.\"},\n",
    "    {\"role\": \"user\", \"content\": f\"Generate a label for the given text.\\n'{prompt}'\"}, # 클래스분류 훈련 사용\n",
    "    {\"role\": \"assistant\", \"content\": f\"Patent classification label is {label}\"}, # LM 훈련 사용\n",
    "    {\"role\": \"user\", \"content\": f\"Why?\"}, # 두가지 훈련으로 생겨나는 추가 기능?\n",
    "    ]\n",
    "\n",
    "\n",
    "    # Chat 형식에 맞춰 토큰화\n",
    "    inputs = tokenizer.apply_chat_template(chat, add_generation_prompt=True, return_tensors=\"pt\")\n",
    "    input_ids = inputs.to(device)\n",
    "\n",
    "    # 텍스트 생성\n",
    "    with torch.no_grad():\n",
    "        generated_ids = model.lm_model.generate(\n",
    "            input_ids,\n",
    "            max_length=max_length,\n",
    "            num_return_sequences=1,\n",
    "            do_sample=True,\n",
    "            eos_token_id=tokenizer.eos_token_id,\n",
    "            pad_token_id=tokenizer.eos_token_id,\n",
    "            # repetition_penalty = 1,\n",
    "            top_p=0.95,\n",
    "            temperature=0.6\n",
    "        )\n",
    "\n",
    "    # 생성된 텍스트 디코딩\n",
    "    generated_text = tokenizer.decode(generated_ids[0], skip_special_tokens=True)\n",
    "\n",
    "    return generated_text\n"
   ]
  },
  {
   "cell_type": "code",
   "execution_count": 17,
   "metadata": {
    "colab": {
     "base_uri": "https://localhost:8080/",
     "height": 1000
    },
    "id": "tmqoOljZggHl",
    "outputId": "5b0ba76f-1051-4803-a530-19276cb0244e",
    "scrolled": true,
    "tags": []
   },
   "outputs": [
    {
     "name": "stdout",
     "output_type": "stream",
     "text": [
      "\n",
      "Input Text: production of crystalline sodium bicarbonate a process for producing crystalline sodium bicarbonate comprising providing an aqueous sodiumbicarbonate containing liquor originating from a reactive crystallization step in which first sodium bicarbonate crystals are produced and recovered feeding at least a portion of said aqueous sodiumbicarbonate containing liquor to a cooling crystallization unit to form second sodium bicarbonate crystals and produce a crystals slurry comprising the second sodium bicarbonate crystals and withdrawing a portion of the crystals slurry from the cooling crystallization unit for the withdrawn second sodium bicarbonate crystals to be further processed a portion of the second sodium bicarbonate crystals withdrawn from the cooling crystallization unit may be fed to a sodium bicarbonate reactive crystallization unit to a caustic unit or may be separated and dried the reactive crystallization separation andor drying units where the second sodium bicarbonate crystals are further processed may be the same units where the first sodium bicarbonate crystals are processed'\n",
      "\n",
      "Predicted Class: 2\n",
      "\n",
      "True Class: 2\n",
      "\n",
      "Generated Text: \n",
      "\n",
      "The text describes a process for producing crystalline sodium bicarbonate, which is a chemical process. Class_01D is a subclass of the Chemical Industry class (Class 01) and specifically relates to Sodium Carbonate and Bicarbonate; Sodium Carbonate Monohydrate; Sodium Bicarbonate.\n",
      "\n",
      "Here's the breakdown:\n",
      "\n",
      "* Class 01 is Chemical Industry\n",
      "* Class 01D is a subclass of 01, specifically Sodium Carbonate and Bicarbonate.\n",
      "______________________________________________________________________________________________________________________________________________________\n",
      "\n",
      "Input Text: molecular sieve ssz114 its synthesis and use a novel synthetic crystalline aluminogermanosilicate molecular sieve material designated ssz114 is provided ssz114 can be synthesized by treating an aluminogermanosilicate molecular sieve of cth framework topology with water or an aqueous solution of a mineral acid under conditions sufficient to degermanate at least a portion of aluminogermanosilicate molecular sieve to form a degermanated molecular sieve and calcining the degermanated molecular sieve under conditions sufficient to convert the degermanated molecular sieve to ssz114 molecular sieve ssz114 may be used in organic compound conversion reactions andor sorptive processes'\n",
      "\n",
      "Predicted Class: 0\n",
      "\n",
      "True Class: 0\n",
      "\n",
      "Generated Text: \n",
      "\n",
      "The label Class_01B is a classification for patent applications, specifically for \"Petroleum, petrochemicals and coal derivatives; hydrocarbon pyrolysis, hydrodemetallation, and hydrodealuration treatment of hydrocarbons\".\n",
      "\n",
      "However, upon re-reading the text, I realize that it's actually about the synthesis and use of a molecular sieve material, which is more closely related to Class_01D, specifically \"Silicas, clays and glass\".\n",
      "\n",
      "But, a more specific and accurate classification would be B01J20/02, which is a subclass of Class_01B, and it refers to \"Molecular sieve zeolites; Zeolites modified by thermal treatment or chemical treatment\".\n",
      "\n",
      "So, a more precise label would be B01J20/02.\n",
      "______________________________________________________________________________________________________________________________________________________\n",
      "\n",
      "Input Text: systems devices andor methods for reactive nano silicate certain exemplary embodiments can provide a reactive nano silicate which can comprise a silicaacid composite comprising reactive functional groups activated by an intramolecular disturber the reactive functional groups can comprise at least one of sih sioh silazane durazane polysilazane and spiro silazane the intramolecular disturber can comprise at least one of fe2o3 xe2o sno2 al2o3 sio2 tio2 or a rare earth element oxide'\n",
      "\n",
      "Predicted Class: 0\n",
      "\n",
      "True Class: 0\n",
      "\n",
      "Generated Text: \n",
      "\n",
      "The label Class_01B is a classification for patents in the field of chemistry.\n",
      "\n",
      "The text describes a specific type of nano-silicate material with reactive functional groups, which falls under the category of chemistry, particularly inorganic chemistry.\n",
      "\n",
      "Class 01 of the International Patent Classification (IPC) system covers chemistry, inorganic chemistry, and Class B specifically covers silicates, silicates with metal, and silicates with metal oxides.\n",
      "\n",
      "Therefore, Class_01B is a suitable classification label for the given text.\n",
      "______________________________________________________________________________________________________________________________________________________\n",
      "\n",
      "Input Text: process for increasing opacity of precipitated calcium carbonate the present invention relates to a process for preparing an aqueous suspension comprising precipitated calcium carbonate the invention further relates to an aqueous suspension comprising precipitated calcium carbonate as well as a partially dewatered or essentially completely dried precipitated calcium carbonate obtainable by the process and the use of the aqueous suspension comprising precipitated calcium carbonate andor the partially dewatered or essentially completely dried precipitated calcium carbonate in paper making paper coating plastic agricultural adhesives sealants andor paint applications'\n",
      "\n",
      "Predicted Class: 3\n",
      "\n",
      "True Class: 3\n",
      "\n",
      "Generated Text: \n",
      "\n",
      "The label Class_01E represents the classification of the patent.\n",
      "\n",
      "Class_01 is the category for Organic Chemistry, and E is a subgroup within that category for inorganic chemistry, more specifically for Calcium Compounds.\n",
      "\n",
      "The patent is about a process for increasing the opacity of precipitated calcium carbonate, which is a calcium compound, so it falls under Class_01E.\n",
      "______________________________________________________________________________________________________________________________________________________\n",
      "\n",
      "Input Text: fluoride ion conductor containing rubidium magnesium and fluorine and fluoride ion secondary battery including the same a fluoride ion conductor contains rubidium magnesium and fluorine in an average composition of the fluoride ion conductor the ratio of the number of moles of the magnesium to the total number of moles of the rubidium and the magnesium is less than 04'\n",
      "\n",
      "Predicted Class: 2\n",
      "\n",
      "True Class: 3\n",
      "\n",
      "Generated Text: \n",
      "\n",
      "The patent classification label is Class_01D because the text describes a \"Fluoride ion secondary battery\", which falls under the category of batteries. Specifically:\n",
      "\n",
      "* Class 01 is the category for \"Chemical preparations\"\n",
      "* Class 01D is the subcategory for \"Batteries; Power sources\"\n",
      "\n",
      "This classification system is used by the World Intellectual Property Organization (WIPO) to categorize patents.\n",
      "______________________________________________________________________________________________________________________________________________________\n",
      "\n",
      "Input Text: method for preparing alkali metal bicarbonate particles a method for preparing alkali metal bicarbonate particles by crystallization from an alkali metal carbonate andor bicarbonate solution with an additive present in the solution chosen from among sulfates sulfonates polysulfonates amines hydroxysultaines polycarboxylates polysaccharides polyethers and etherphenols alkali metal hexametaphosphate phosphates sulfosuccinates amidosulfonates amine sulfonates preferably chosen from among polysaccharides and such that the additive is present in the solution at a concentration of at least 1 ppm and preferably at most 200 ppm'\n",
      "\n",
      "Predicted Class: 2\n",
      "\n",
      "True Class: 2\n",
      "\n",
      "Generated Text: \n",
      "\n",
      "The text describes a method for preparing alkali metal bicarbonate particles, which falls under the category of chemical patent classifications.\n",
      "\n",
      "Class_01 is the classification for Chemicals and Class_01D is a subclass for Carbonic acid salts.\n",
      "\n",
      "So, the label Class_01D indicates that the patent is related to the preparation of bicarbonate salts, which is a specific type of chemical compound.\n",
      "______________________________________________________________________________________________________________________________________________________\n",
      "\n",
      "Input Text: surfacemodified cyanidebased transition metal compounds a system method and articles of manufacture for a surfacemodified transition metal cyanide coordination compound tmccc composition an improved electrode including the composition and a manufacturing method for the composition which may include multiple chelation species chex the composition compound device and uses thereof according to axmnykmjkmnmcn6pqncpcheirqz chegroup vac1znh2o wherein chegroup includes one or more chelation materials selected from the group consisting of cheirw cheiisv and combinations thereof and wherein 0ltj4 0k01 0pq6 0ltx4 0lty1 0ltz1 0ltw02 3r3 0ltv02 3s3 and 0n6 wherein x2ykjkmr1q6zwrvs0'\n",
      "\n",
      "Predicted Class: 1\n",
      "\n",
      "True Class: 1\n",
      "\n",
      "Generated Text: \n",
      "\n",
      "The patent classification label is Class_01C because the text describes a specific type of chemical compound, namely \"surface-modified cyanide-based transition metal compounds\". This falls under the category of organic and inorganic chemistry.\n",
      "\n",
      "Class_01 is the general category for organic chemistry, and C is a subclass that specifically deals with organic compounds containing cyanide groups or other specific functional groups.\n",
      "\n",
      "Here's the breakdown of the Class_01C label:\n",
      "\n",
      "* Class_01: Organic chemistry\n",
      "* C: Subclass for organic compounds containing specific functional groups, including cyanide groups.\n",
      "______________________________________________________________________________________________________________________________________________________\n",
      "\n",
      "Input Text: controlled microwave assisted synthesis of functionalized silica nanoparticles a functionalized fiber the functionalized fiber includes a fiber strand and silica nanoparticles at least partially encapsulating the fiber strand the silica nanoparticles are synthesized by hydrolyzing a tetramethyl orthosilicate in hydrochloric acid to form silicic acid monomers the silicic acid monomers are diluted in acetone and irradiated for a time that is less than 90 seconds with an energy source configured to generate microwave frequency energy to polymerize the silicic acid monomers into the silica nanoparticles'\n",
      "\n",
      "Predicted Class: 0\n",
      "\n",
      "True Class: 4\n",
      "\n",
      "Generated Text: \n",
      "\n",
      "The label Class_01B represents the classification of the patent in the following way:\n",
      "\n",
      "Class_01: This is the main class for chemistry, inorganic chemistry.\n",
      "\n",
      "B: This is the subclass for Silicon or silicon alloys, Silicon compounds.\n",
      "\n",
      "The patent is about the synthesis of silica nanoparticles, which is a chemical process involving silicon compounds, so it fits in Class_01B.\n",
      "______________________________________________________________________________________________________________________________________________________\n",
      "\n",
      "Input Text: tungsten pentachloride conditioning and crystalline phase manipulation a process of conditioning tungsten pentachloride to form specific crystalline phases are disclosed the specific crystalline phases permit stable vapor pressures over extended periods of time during vapor deposition and etching processes'\n",
      "\n",
      "Predicted Class: 4\n",
      "\n",
      "True Class: 4\n",
      "\n",
      "Generated Text: \n",
      "\n",
      "The label Class_01F is for \"Chemical or chemical products\" and more specifically \"Halogenated organic or inorganic compounds; organic compounds that contain halogen as part of their molecular structure; halogenated inorganic compounds\".\n",
      "\n",
      "In the given text, tungsten pentachloride is a halogenated inorganic compound, which is a key component of the process described in the patent. Therefore, Class_01F is the most suitable classification label.\n",
      "______________________________________________________________________________________________________________________________________________________\n",
      "\n",
      "Input Text: low alpha dose barium sulfate particle and use and process for producing the same the invention provides a low alpha dose barium sulfate particle having a silica content of 06 by weight or less and an alpha dose of 007 cphcm2or less'\n",
      "\n",
      "Predicted Class: 3\n",
      "\n",
      "True Class: 1\n",
      "\n",
      "Generated Text: \n",
      "\n",
      "The patent classification label Class_01E is for \"Inorganic chemistry; Organo-inorganic compositions; Pharmaceutical compositions\".\n",
      "\n",
      "This label is suitable because the text describes a low alpha dose barium sulfate particle, which is an inorganic chemical composition. The use of barium sulfate, silica, and the reference to a low alpha dose indicate that the invention is related to inorganic chemistry.\n",
      "\n",
      "More specifically, Class E is for \"Organo-inorganic compounds\" and \"Pharmaceutical compositions\", which also fits the description of barium sulfate particles as a pharmaceutical composition.\n",
      "______________________________________________________________________________________________________________________________________________________\n",
      "\n",
      "Input Text: ammonia production plant the ammonia production plant includes a feed gas compression section a process air compression section a syngas compression section and a refrigerant compression section at least two of these compression sections are combined together forming a combined compression train driven by a single driver'\n",
      "\n",
      "Predicted Class: 1\n",
      "\n",
      "True Class: 1\n",
      "\n",
      "Generated Text: \n",
      "\n",
      "The patent classification label Class_01C is for \"Ammonia\".\n",
      "\n",
      "Here's the step-by-step thinking:\n",
      "\n",
      "* The patent text describes an \"ammonia production plant\", which indicates that the main subject of the patent is the production of ammonia.\n",
      "* Class_01 is the main class for chemical industry processes, and more specifically:\n",
      "\t+ Class_01C is the subclass for ammonia.\n",
      "______________________________________________________________________________________________________________________________________________________\n",
      "\n",
      "Input Text: cobalt oxide for lithium secondary battery preparing method thereof lithium cobalt oxide formed from the cobalt oxide and lithium secondary battery having positive electrode including the lithium cobalt oxide a cobalt oxide for a lithium secondary battery a method of preparing the cobalt oxide a lithium cobalt oxide for a lithium secondary battery formed from the cobalt oxide and a lithium secondary battery having a positive electrode including the lithium cobalt oxide the cobalt oxide having a tap density of about 28 gcc to about 30 gcc and an intensity ratio of about 08 to about 12 of a second peak at 2 of about 3131 to a first peak at 2 of about 191 in xray diffraction spectra as analyzed by xray diffraction'\n",
      "\n",
      "Predicted Class: 4\n",
      "\n",
      "True Class: 4\n",
      "\n",
      "Generated Text: \n",
      "\n",
      "The label Class_01F is for \"Batteries; Accumulators; Electric Batteries or Capacitors; or Electric Power Supplies\" and more specifically Class_F is for \"Electric batteries, particularly secondary cells\".\n",
      "\n",
      "The text describes a method for preparing cobalt oxide for use in lithium secondary batteries, and the properties of the cobalt oxide and lithium cobalt oxide. This is directly related to the classification of batteries and electric power supplies. \n",
      "\n",
      "Therefore, Class_01F is a suitable classification label for the given text.\n",
      "______________________________________________________________________________________________________________________________________________________\n",
      "\n",
      "Input Text: ceramic dielectric and method of manufacturing the same and ceramic electronic component and electronic device a ceramic dielectric including a bulk dielectric including barium ba and titanium ti a ceramic nanosheet and a composite dielectric of the bulk dielectric and the ceramic nanosheet'\n",
      "\n",
      "Predicted Class: 4\n",
      "\n",
      "True Class: 4\n",
      "\n",
      "Generated Text: \n",
      "\n",
      "The label Class_01F is for \"Electric, thermic, or acoustic insulation in general; material composed of electrically or thermally insulating materials; fireproofing or fire-resistant materials\".\n",
      "\n",
      "This label is suitable because the text describes a ceramic dielectric, which is an electrically insulating material. The text also mentions a ceramic electronic component and an electronic device, indicating that the dielectric is used for electrical insulation. Therefore, Class_01F is a suitable classification label for this patent.\n",
      "______________________________________________________________________________________________________________________________________________________\n",
      "\n",
      "Input Text: method for revamping a frontend of an ammonia plant a method for revamping a frontend of an ammonia plant said frontend comprising a reforming section  1 2  with airfired secondary reformer or autothermal reformer  2  a treatment section  3  of the effluent from said reforming section and an air feed compressor  6  wherein an o2containing stream  8  is directed to said reforming section  2  for use as oxidant at least one nitrogen stream  9  is introduced at a suitable location of the frontend to provide a desired molar ratio between hydrogen and nitrogen in the product gas and at least part of said nitrogen stream  9  is compressed via said feed compressor  6 '\n",
      "\n",
      "Predicted Class: 1\n",
      "\n",
      "True Class: 1\n",
      "\n",
      "Generated Text: \n",
      "\n",
      "The patent classification label Class_01C is for \"Chemical or industrial processes; qualifying for interest in section class 01.\"\n",
      "\n",
      "More specifically, Class 01C refers to \"Chemical or industrial processes, not otherwise provided for, e.g. processes of separating, purifying, or preparing chemical substances, or processes for the manufacture of chemical substances or chemical products.\"\n",
      "\n",
      "In the given text, the patent describes a method for revamping the frontend of an ammonia plant, which involves chemical processes and industrial processes for preparing chemical substances (ammonia). Therefore, the classification label Class_01C is appropriate.\n",
      "______________________________________________________________________________________________________________________________________________________\n",
      "\n",
      "Input Text: anhydrous nickel chloride and method for producing the same provided is anhydrous nickel chloride having a total content of impurity elements other than gas components of less than 10 wt ppm each content of boron sodium magnesium aluminum potassium calcium titanium chromium manganese iron copper zinc arsenic silver cadmium indium tin thallium and lead of less than 1 wt ppm which can be produced by a method for producing anhydrous nickel chloride comprising the steps of carrying out ion exchange membrane electrolysis in an anolyte and a catholyte separated by an anion exchange membrane using raw metal nickel as an anode a conductive material as a cathode and high purity hydrochloric acid as an electrolytic solution to obtain a nickel chloride solution as the anolyte concentrating the obtained nickel chloride solution by heating it at 80 to 100 c under atmospheric pressure to obtain a concentrated nickel chloride solution and dehydrating and drying the resulting concentrated nickel chloride solution by heating it at 180 to 220 c under atmospheric pressure to obtain anhydrous nickel chloride'\n",
      "\n",
      "Predicted Class: 4\n",
      "\n",
      "True Class: 4\n",
      "\n",
      "Generated Text: \n",
      "\n",
      "The label Class_01F is a classification of the patent text according to the International Patent Classification (IPC) system.\n",
      "\n",
      "Class_01 refers to Chemical elements or elemental compounds. This class includes patents related to the production, properties, and uses of chemical elements or compounds.\n",
      "\n",
      "F is the subclass that refers to Nickel; nickelsalts.\n",
      "\n",
      "Therefore, Class_01F specifically refers to patents related to nickel salts, including anhydrous nickel chloride, which is the subject of the patent text.\n",
      "______________________________________________________________________________________________________________________________________________________\n",
      "\n",
      "Input Text: metaldoped cobalt precursor for preparing positive electrode active material for secondary battery provided is a cobalt precursor for preparing a lithium cobalt oxide of a layered structure which is included in a positive electrode active material wherein the cobalt precursor is cobalt oxyhydroxide comooh doped with as dopants magnesium mg and m different from the magnesium'\n",
      "\n",
      "Predicted Class: 4\n",
      "\n",
      "True Class: 4\n",
      "\n",
      "Generated Text: \n",
      "\n",
      "The patent classification label Class_01F is for \"Batteries; Accumulators; Electric Light Sources\" with Class_01 being \"Chemical Patents\" and F being \"Batteries; Accumulators; Electric Light Sources\".\n",
      "\n",
      "This classification fits the text because it describes a cobalt precursor for preparing a positive electrode active material for a secondary battery, which is a type of battery accumulator.\n",
      "______________________________________________________________________________________________________________________________________________________\n",
      "\n",
      "Input Text: ammonia production method a highconcentration ammonia production method includes synthesizing ammonia through electrolysis using water and nitrogen as raw materials subjecting a resultant generation gas to treatment using an ammonia separation membrane or an ammonia psa to separate the generation gas into highconcentration ammonia and a residual gas recycling the residual gas as a nitrogen gas raw material of an ammonia synthesis reactor and liquefying the highconcentration ammonia recovered through the ammonia separation membrane or the ammonia psa and subjecting an unliquefied gas separated from liquefied ammonia to the treatment using the ammonia separation membrane or the ammonia psa again according to the present disclosure ammonia is synthesized by adopting an electrolysis method in which the synthesized ammonia substantially does not contain hydrogen in combination with ammonia separation and recovery treatment using membrane separation or psa with this highconcentration ammonia can be synthesized and recovered with high efficiency through an entire process'\n",
      "\n",
      "Predicted Class: 1\n",
      "\n",
      "True Class: 1\n",
      "\n",
      "Generated Text: \n",
      "\n",
      "The patent classification label Class_01C is for \"Chemical patent, more specifically for the \"Production of ammonia\" which is the main subject of the patent text.\n",
      "\n",
      "* Class_01 is the main class for Chemicals and class 01C is a subclass for the \"Production of ammonia\".\n",
      "______________________________________________________________________________________________________________________________________________________\n",
      "\n",
      "Input Text: method for producing nanocrystals and nanocrystal production device a method for producing a metal oxide nanocrystals according to the embodiment of the present invention comprises continuously flowing a nanocrystal precursor solution comprising a nanocrystal precursor into a continuous flow path and heating the nanocrystal precursor solution in the continuous flow path to create nanocrystals comprising providing a nanocrystal precursor solution supply unit that is connected to the continuous flow path and comprises a first vessel and a second vessel delivering a nanocrystal precursor solution in the second vessel to the continuous low path and creating a nanocrystal precursor solution in the first vessel as a different batch from the nanocrystal precursor solution in the second vessel'\n",
      "\n",
      "Predicted Class: 4\n",
      "\n",
      "True Class: 3\n",
      "\n",
      "Generated Text: \n",
      "\n",
      "The patent classification label Class_01F is for \"Chemistry, Metallurgy\".\n",
      "\n",
      "The text describes a method for producing nanocrystals, specifically metal oxide nanocrystals, which falls under the category of chemistry and metallurgy. The production method involves heating a precursor solution to create nanocrystals, which is a chemical process.\n",
      "\n",
      "Class_01 is the main class for \"Chemical and metallurgical industries; Chemistry of inorganic compounds\" and Class_F is a subclass for \"Chemical processes\".\n",
      "______________________________________________________________________________________________________________________________________________________\n",
      "\n",
      "Input Text: process for silica removal from sodium bicarbonate production wastewater the present invention relates to a process for producing sodium bicarbonate crystals sodium carbonate derived from trona ore is mixed with a treated mother liquor produced in a downstream process to form a sodium carbonate solution the sodium carbonate solution is subjected to a crystallization process that produces sodium bicarbonate crystals the sodium bicarbonate crystals are separated from the sodium carbonate solution to form a mother liquor that includes silica to remove the silica in the mother liquor the mother liquor is directed to a reactor where an aluminum salt is mixed with the mother liquor to precipitate hydrous aluminum oxide which adsorbs silica thereon the hydrous aluminum oxide with adsorbed silica is removed from the mother liquor this produces the treated mother liquor that is mixed with the sodium carbonate and which forms the sodium carbonate solutions'\n",
      "\n",
      "Predicted Class: 2\n",
      "\n",
      "True Class: 2\n",
      "\n",
      "Generated Text: \n",
      "\n",
      "The patent classification label Class_01D is correct because the text describes a process for removing silica from sodium bicarbonate production wastewater, which is a specific method for purifying or treating a substance (01D is the subclass for \"Water Purification or Treatment\").\n",
      "\n",
      "More specifically, Class 01D is for \"Water Purification or Treatment\", and subclass 17 is for \"Silica or Silicates\", but subclass 17 is not available, so the closest available subclass is 01D.\n",
      "______________________________________________________________________________________________________________________________________________________\n",
      "\n",
      "Input Text: systems and methods for ammonia recovery acid gas separation or combination thereof the present invention relates to processes and systems for ammonia recovery andor acidgas separation in some embodiments a system for acid gas separation may be integrated with an ammonia abatement cycle employing a high temperature absorber in some embodiments a system for acid gas separation may employ a higher temperature absorber due to the lower energy consumption and cost of the integrated ammonia abatement cycle advantageously heat may be recovered from the absorber to power at least a portion of any acid gas desorption in the process reverse osmosis or other membranes may be employed'\n",
      "\n",
      "Predicted Class: 1\n",
      "\n",
      "True Class: 1\n",
      "\n",
      "Generated Text: \n",
      "\n",
      "Class_01C is the correct classification label for the given text.\n",
      "\n",
      "Here's the breakdown:\n",
      "\n",
      "* Class_01: This is the main class for Patents related to \"Chemical Processes and Composition\". The text describes a process for ammonia recovery and acid gas separation, which falls under this category.\n",
      "* C: This is a subclass within Class 01, specifically for \"Chemical apparatus and process\". The text describes a system and method for ammonia recovery and acid gas separation, which involves chemical apparatus and processes.\n",
      "\n",
      "Therefore, the correct classification label is Class_01C.\n",
      "______________________________________________________________________________________________________________________________________________________\n",
      "\n",
      "Input Text: cerium sulfate chelated sulfur dioxide a preparation method and a use thereof the disclosure discloses cerium sulfate chelated sulfur dioxide a preparation method and a use thereof the cerium sulfate chelated sulfur dioxide has a molecular formula of ceso4so22h2o it is a white crystal and the preparation method thereof may comprise the following steps adding anhydrous cerium sulfate to dilute sulfuric acid with stirring for dissolvation adding a solvent followed by refluxing at 4550 c for 2025 h heating the reaction product to remove the solvent cooling to 20 c or lower and adding dilute sulfuric acid to allow precipitation of all crystals cooling down the product followed by suction filtration washing the obtained crystals by the solvent so that crude cerium sulfate chelated sulfur dioxide can be obtained the solubility of the cerium sulfate chelated sulfur dioxide of the disclosure has been significantly improved compared to the anhydrous cerium sulfate the obtained solution is colorless and transparent so that the cerium sulfate chelated sulfur dioxide can be used as a better titrant with wide application and supreme performance'\n",
      "\n",
      "Predicted Class: 3\n",
      "\n",
      "True Class: 3\n",
      "\n",
      "Generated Text: \n",
      "\n",
      "The patent classification label Class_01E is correct because the patent text describes a chemical compound, cerium sulfate chelated sulfur dioxide, its preparation method, and its use as a titrant.\n",
      "\n",
      "Class_01 is the classification for \"Chemical compositions\" and Class_E is the subclass for \"Inorganic compounds\". Therefore, Class_01E is the correct classification label for this patent.\n",
      "______________________________________________________________________________________________________________________________________________________\n",
      "\n",
      "Input Text: method for storing electrical energy in solid matter the method includes two technological segments i a reduction segment and ii an oxidation segment that are interconnected by various support technological processes for the regeneration of solutions and gases and heat recuperation the reduction segment includes an electrolysis that is performed from a solution of chloride salts of an energy carrier during the electrolysis these elements reduce to a lower oxidation state solidify on the electrodes or precipitate to a solid state the solid substance thus obtained is the energy carrier that can be stored outside of the electrolyser until a need for additional energy emerges during the electrolysis chlorine gas develops that is collected and dissolved in water an hcl solution is regenerated which is used in the oxidation segment oxygen is released in this process the energy that has thus been stored in the oxidation potential of the energy carrier is released during a spontaneous chemical reaction between the energy carrier and the hcl solution in the oxidation segment in this chemical reaction the oxidation state of the chemical elements which constitute the energy carrier is increased to an oxidation state identical to that from before the beginning of the electrolysis the reaction product hydrogen is formed that represents a high calorific fuel this fuel can be immediately converted to heat or electrical energy without a need for intermediate storage by known methods only water enters the entire method oxygen and hydrogen leave while the cycle is closedcyclic for the remaining substances'\n",
      "\n",
      "Predicted Class: 2\n",
      "\n",
      "True Class: 0\n",
      "\n",
      "Generated Text: \n",
      "\n",
      "The label Class_01D is a classification label for patents, specifically for the International Patent Classification (IPC) system.\n",
      "\n",
      "Class_01D corresponds to the classification:\n",
      "\n",
      "Class 01: Chemical elements or electrical current\n",
      "\n",
      "Subclass D: Batteries; Capacitors; Electric Power Generation\n",
      "\n",
      "This patent describes a method for storing electrical energy in solid matter, which involves the use of chemical reactions to store and release energy. Therefore, it falls under the classification of electrical energy storage, which is subclass D of class 01.\n",
      "______________________________________________________________________________________________________________________________________________________\n",
      "\n",
      "Input Text: alumina and slurry containing the same and alumina porous film using the same laminated separator nonaqueous electrolyte secondary battery and method for manufacturing nonaqueous electrolyte secondary battery alumina having excellent electrolytic solution stability a slurry containing the same an alumina porous film using the same a laminated separator a nonaqueous electrolyte secondary battery and a method for manufacturing the nonaqueous electrolyte secondary battery are provided alumina is provided including one or more selected from k mg ca sr ba and la in the total amount of 200 to 50000 ppm by mass wherein a surface concentration of one or more elements is 05 to 20 at  in total alumina is provided in which in an infrared absorption spectrum of the alumina obtained by fouriertransform infrared spectroscopy a peak having an intensity larger than that of a baseline defined by a line segment connecting an intensity at 3400 cm1and an intensity at 3500 cm1and having a half width of 90 cm1or less does not exist in a range of 3400 to 3500 cm1'\n",
      "\n",
      "Predicted Class: 3\n",
      "\n",
      "True Class: 3\n",
      "\n",
      "Generated Text: \n",
      "\n",
      "The patent classification label Class_01E is for \"Alumina, other than refractory brick, mineral products\".\n",
      "\n",
      "Here's why:\n",
      "\n",
      "* The text is about alumina, which is a specific type of mineral.\n",
      "* The text describes a process for manufacturing a nonaqueous electrolyte secondary battery using alumina, but the main focus is on the properties and composition of the alumina itself.\n",
      "* The Class_01E classification is a subclass of Class_01, which is \"Inorganic chemistry\", and it specifically covers alumina and other types of inorganic minerals.\n",
      "\n",
      "Therefore, the most relevant classification label for this patent is Class_01E.\n",
      "______________________________________________________________________________________________________________________________________________________\n",
      "\n",
      "Input Text: preparation of lithium carbonate from lithium chloride containing brines this invention relates to a method for the preparation of lithium carbonate from lithium chloride containing brines the method can include a silica removal step capturing lithium chloride recovering lithium chloride supplying lithium chloride to an electrochemical cell and producing lithium hydroxide contacting the lithium hydroxide with carbon dioxide to produce lithium carbonate'\n",
      "\n",
      "Predicted Class: 2\n",
      "\n",
      "True Class: 2\n",
      "\n",
      "Generated Text: \n",
      "\n",
      "The patent classification label Class_01D is for \"Lithium compounds; lithium metal; lithium alloys; lithium salts; lithium hydride\".\n",
      "\n",
      "The text describes a method for preparing lithium carbonate from lithium chloride containing brines, which involves lithium compounds. Therefore, Class_01D is the most relevant classification label for this patent.\n",
      "______________________________________________________________________________________________________________________________________________________\n",
      "\n",
      "Input Text: process for producing ammonia synthesis gas a process for producing ammonia synthesis gas from the reforming of hydrocarbons with steam in a primary reformer  1  equipped with a plurality of externally heated catalytic tubes and then together with air in a secondary reformer  2  is characterized in that the reaction of said hydrocarbons with said steam in said primary reformer  1  is performed at an operating pressure of more than 35 bar in the catalytic tubes in that air is added to said secondary reformer in excess over the nitrogen amount required for ammonia synthesis and in that the excess of nitrogen is removed downstream the secondary reformer preferably by cryogenic separation or by molecular sieves of the tas or psa type this process allows to obtain high synthesis gas production capacities and lower investment and energy costs'\n",
      "\n",
      "Predicted Class: 1\n",
      "\n",
      "True Class: 1\n",
      "\n",
      "Generated Text: \n",
      "\n",
      "The label Class_01C represents a classification for chemical patents, specifically for \"Process for the manufacture of ammonia\".\n",
      "- Class_01 stands for Chemical industry; chemical products.\n",
      "- C is the subgroup for \"Ammonia; Process for obtaining ammonia; Ammonia solutions\".\n",
      "\n",
      "This classification is based on the International Patent Classification (IPC) system, which is widely used to categorize patent applications and grants.\n",
      "______________________________________________________________________________________________________________________________________________________\n",
      "\n",
      "Input Text: method for removing nitriles from hydrogen cyanide process for making purified hydrogen cyanide the process includes feeding a reaction product including hcn water and organonitriles to a separation vessel taking a liquid slip stream of hcn water and organonitriles from the separation vessel and feeding the liquid slipstream into a sidestream stripper to purge nitriles from the hcn reaction product'\n",
      "\n",
      "Predicted Class: 1\n",
      "\n",
      "True Class: 1\n",
      "\n",
      "Generated Text: \n",
      "\n",
      "The label Class_01C is correct because the text describes a method for refining or processing a chemical substance, specifically hydrogen cyanide (HCN). Class_01 of the patent classification system covers \"Chemical compositions\" and Class_01C more specifically covers \"Cyanides; isocyanides\".\n",
      "The text describes a method for removing impurities (nitriles) from HCN, which is a common process in chemical manufacturing. Therefore, the label Class_01C is a good fit.\n",
      "______________________________________________________________________________________________________________________________________________________\n",
      "\n",
      "Input Text: phosphorus pentafluoride reactions reactions are disclosed in which phosphine and hydrogen fluoride are reacted to produce a phosphorus pentafluoride containing gas according the stoichiometry ph34f2pf53hf further reaction using the phosphorus pentafluoride to produce lithium hexafluorophosphate are also disclosed'\n",
      "\n",
      "Predicted Class: 0\n",
      "\n",
      "True Class: 2\n",
      "\n",
      "Generated Text: \n",
      "\n",
      "The label Class_01B is a classification for chemical patents, and specifically it falls under:\n",
      "\n",
      "* Class 01: Chemicals\n",
      "* Class 01B: Halogenated hydrocarbons or halogenated organic compounds, or processes of preparing them\n",
      "\n",
      "In the text, phosphorus pentafluoride and its reactions are described, which is a chemical compound and process. Therefore, the label Class_01B is a good fit.\n",
      "______________________________________________________________________________________________________________________________________________________\n",
      "\n",
      "Input Text: process for making ammonia a process for production of ammonia includes providing a reaction stream including carbon monoxide and hydrogen passing the reaction stream and steam over a water gas shift catalyst in a catalytic shift reactor forming a shifted gas mixture depleted in carbon monoxide and enriched in hydrogen passing the shifted gas mixture with an oxygencontaining gas over a selective oxidation catalyst at 175 c forming a selectively oxidized gas stream with a portion of the carbon monoxide converted to carbon dioxide removing some of the carbon dioxide from the selectively oxidized gas stream in a carbon dioxide removal unit passing the carbon dioxide depleted stream over a methanation catalyst in a methanator to form a methanated gas stream optionally adjusting its hydrogennitrogen molar ratio to form an ammonia synthesis gas and passing the ammonia synthesis gas over an ammonia synthesis catalyst in an ammonia converter to form ammonia'\n",
      "\n",
      "Predicted Class: 1\n",
      "\n",
      "True Class: 1\n",
      "\n",
      "Generated Text: \n",
      "\n",
      "The label Class_01C represents a classification for chemical patent applications. \n",
      "\n",
      "The text describes a process for producing ammonia, which is a chemical process. The process involves various chemical reactions, such as the water gas shift reaction, selective oxidation, and methanation, to produce ammonia. This is a clear indication that the patent falls under the category of chemical patent applications.\n",
      "\n",
      "Class_01 is the main class for chemical patent applications, and C is a subclass that specifically deals with fertilizers or fertilizing matter, comprising ammonia. Therefore, the correct classification label is Class_01C.\n",
      "______________________________________________________________________________________________________________________________________________________\n",
      "\n",
      "Input Text: method for exchanging interlayer anions of a layered double hydroxide the invention relates to a method for exchanging interlayer anions of a layered double hydroxide ldh with other anions whose affinity for the ldh is lower than the one of the starting interlayer anions which comprises the successive steps of 1 exchanging the starting interlayer anions of a layered double hydroxide with polyoxometalate anions in order to obtain a layered double hydroxide with polyoxometalate anions as interlayer anions and 2 exchanging the polyoxometalate anions of the layered double hydroxide obtained in step 1 with other anions whose affinity for the ldh is lower than the one of the starting interlayer anions in order to obtain a layered double hydroxide with other anions as interlayer anions'\n",
      "\n",
      "Predicted Class: 3\n",
      "\n",
      "True Class: 3\n",
      "\n",
      "Generated Text: \n",
      "\n",
      "The text describes a method for exchanging interlayer anions of a layered double hydroxide (LDH), which is a specific process in the field of chemistry.\n",
      "\n",
      "Class_01E is a patent classification label that stands for \"Chemistry, organic chemistry, chemical processes, chemical compositions, LDH, layered double hydroxide\".\n",
      "\n",
      "The label Class_01E indicates that the patent is related to chemical processes and compositions, specifically LDH. \n",
      "\n",
      "This classification is according to the CPC (Cooperative Patent Classification) system, which is a widely used system for classifying patents.\n",
      "______________________________________________________________________________________________________________________________________________________\n",
      "\n",
      "Input Text: surfacecoated calcium carbonatecontaining material and process for the purification of water the present invention relates to at least one surfacereacted calcium carbonatecomprising mineral material andor a surfacereacted precipitated calcium carbonate that isare coated with at least one anionic polymer to obtain a surfacecoated calcium carbonatecomprising material as well as to a process for the preparation of the surfacecoated calcium carbonatecomprising material furthermore the present invention relates to a process for the purification of water andor dewatering of sludges andor suspended sediments and to the use of a surfacecoated calcium carbonatecomprising material for water purification andor dewatering of sludges andor suspended sediments'\n",
      "\n",
      "Predicted Class: 3\n",
      "\n",
      "True Class: 3\n",
      "\n",
      "Generated Text: \n",
      "\n",
      "The patent classification label Class_01E is for \"Calcareous earths, chalk\" and \"Natural or synthetic calcium carbonate, for example for minerals, fillers, coatings or in construction\".\n",
      "\n",
      "The text describes a surface-coated calcium carbonate-containing material and its use for water purification and dewatering of sludges and suspended sediments. This matches the classification for calcium carbonate, which is a calcareous earth. Therefore, the Class_01E label is a good fit.\n",
      "______________________________________________________________________________________________________________________________________________________\n",
      "\n",
      "Input Text: process and plant for producing a converted synthesis gas the invention relates to a process for producing a converted synthesis gas from a crude synthesis gas comprising the essential synthesis gas constituents of hydrogen h2 and carbon monoxide co wherein the crude synthesis gas is initially generated in a synthesis gas generation stage and subsequently converted in a multistage co conversion and thus elevated in terms of its hydrogen content the crude synthesis gas has steam added to it as a reaction partner for the co conversion and cooling of the converted synthesis gas affords an aqueous condensate'\n",
      "\n",
      "Predicted Class: 1\n",
      "\n",
      "True Class: 0\n",
      "\n",
      "Generated Text: \n",
      "\n",
      "The label Class_01C represents a classification in the patent classification system, specifically the International Patent Classification (IPC) system. Here's why I chose Class_01C:\n",
      "\n",
      "* \"01\" refers to the main class for \"Chemical industry; Element of industry; Lighting\" in the IPC system.\n",
      "* \"C\" refers to a subclass for \"Burning of fuels; Combustion engines; Gas or water supply\" within class 01.\n",
      "\n",
      "Given the text describes a process for converting synthesis gas, which involves combustion and gas processing, the classification label Class_01C is fitting.\n",
      "______________________________________________________________________________________________________________________________________________________\n",
      "\n",
      "Input Text: boron nitride nanotube synthesis via direct induction high quality catalystfree boron nitride nanotubes bnnts that are long flexible have few wall molecules and few defects in the crystalline structure can be efficiently produced by a process driven primarily by direct induction secondary direct induction coils direct current heaters lasers and electric arcs can provide additional heating to tailor the processes and enhance the quality of the bnnts while reducing impurities heating the initial boron feed stock to temperatures causing it to act as an electrical conductor can be achieved by including refractory metals in the initial boron feed stock and providing additional heat via lasers or electric arcs direct induction processes may be energy efficient and sustainable for indefinite period of time careful heat and gas flow profile management may be used to enhance production of high quality bnnt at significant production rates'\n",
      "\n",
      "Predicted Class: 0\n",
      "\n",
      "True Class: 0\n",
      "\n",
      "Generated Text: \n",
      "\n",
      "The label Class_01B is a classification for patent applications in the International Patent Classification (IPC) system. Here's why I chose this label:\n",
      "\n",
      "* \"Class_01\" refers to the first class of the IPC system, which covers \"Chemical industry; element of chemistry; non-metallical element of chemistry; chemistry not covered in other classes\".\n",
      "* \"B\" is the subclass, which refers to \"Boron or boron compounds\".\n",
      "\n",
      "The text describes a process for synthesizing boron nitride nanotubes (BNNTs), which is a type of boron compound. Therefore, the patent classification label is Class_01B, indicating that the invention relates to boron or boron compounds.\n",
      "______________________________________________________________________________________________________________________________________________________\n",
      "\n",
      "Input Text: catalytic gasification to produce ammonia and urea the present invention provides a process for preparing highervalue products from carbonaceous feedstocks the process includes converting carbonaceous feedstock in a hydromethanation reactor to a methaneenriched raw product stream converting the methaneenriched raw product stream to an ammonia synthesis feed gas then converting the ammonia synthesis feed gas to highervalue products such as ammonia and urea'\n",
      "\n",
      "Predicted Class: 1\n",
      "\n",
      "True Class: 1\n",
      "\n",
      "Generated Text: \n",
      "\n",
      "The patent classification label Class_01C is correct because the text describes a process for preparing ammonia and urea, which are chemical products. Class_01 of the patent classification system covers \"Chemical industry; chemical processes; chemotherapy; testing\" and Class_C more specifically covers \"Benzoles; industrial organic chemistry, apart from ferments\" but also includes \"Chemical nitrogen compounds\" which would include ammonia and urea.\n",
      "______________________________________________________________________________________________________________________________________________________\n",
      "\n",
      "Input Text: method and plant for producing ureaammonium nitrate uan the invention provides a method and a plant for producing urea ammonium nitrate uan the method involves the use of a condensation section optionally in combination with a medium pressure decomposition section between the dissociation and neutralization sections the invention further provides a method of modifying an existing uan plant the advantages of the process of the invention are that the emission of co2 can be reduced the plant capacity can be increased and the high capital expenditure needed for co2 compression equipment is reduced'\n",
      "\n",
      "Predicted Class: 1\n",
      "\n",
      "True Class: 1\n",
      "\n",
      "Generated Text: \n",
      "\n",
      "The label Class_01C represents the classification of the patent as a chemical patent, specifically for fertilizers.\n",
      "\n",
      "Here's the breakdown:\n",
      "\n",
      "* Class_01: This is the main class for chemical patents.\n",
      "* C: This is a subclass within Class 01 for fertilizers or fertilizing matter, composing mixtures of natural or synthetic ingredients, in addition to chemicals used in the treatment of materials for fertilizing purposes.\n",
      "\n",
      "This classification is based on the patent's description of a method and plant for producing urea-ammonium nitrate (UAN), which is a type of fertilizer.\n",
      "______________________________________________________________________________________________________________________________________________________\n",
      "\n",
      "Input Text: synthesis of magnesium dichloride support for the ast offline zn catalyst with a plug flow reactor pfr the various embodiments of the invention provide a magnesium dichloride support and the magnesium titanium polymerization procatalyst made therefrom and methods for making and using the same'\n",
      "\n",
      "Predicted Class: 0\n",
      "\n",
      "True Class: 3\n",
      "\n",
      "Generated Text: \n",
      "\n",
      "The patent classification label Class_01B is for \"Organic compounds; processes of preparing organic compounds; organic intermediates; compositions of matter\".\n",
      "\n",
      "However, upon closer examination, the text actually describes a process for making a catalyst support and a procatalyst for polymerization, which is more related to chemical synthesis and catalyst technology.\n",
      "\n",
      "A more specific classification would be Class_01C, which is for \"Organic compounds; processes of preparing organic compounds; organic intermediates; compositions of matter; catalysts; biocatalysts; pharmaceutical materials; pesticides; pharmaceutical compositions; pesticides\" or Class C01B, \"Compositions containing inorganic substances and organic substances\" or Class B01J, \"Chemical or physical processes, specially adapted for obtaining a chemical reaction or reaction product\".\n",
      "\n",
      "But considering the overall context, Class C01B seems more fitting.\n",
      "______________________________________________________________________________________________________________________________________________________\n",
      "\n",
      "Input Text: methods for treating lithiumcontaining materials the disclosure relates to methods for preparing lithium hydroxide for example such methods can comprise mixing a lithiumcontaining material with an acidic aqueous composition optionally comprising lithium sulfate and thereby obtaining a mixture roasting the mixture under suitable conditions to obtain a roasted lithiumcontaining material leaching the roasted material under conditions suitable to obtain a first aqueous composition comprising lithium sulfate submitting the first aqueous composition comprising lithium sulfate to an electromembrane process under suitable conditions for at least partial conversion of the lithium sulfate into lithium hydroxide and to obtain a second aqueous composition comprising lithium sulfate the electromembrane process involving a hydrogen depolarized anode optionally increasing concentration of acid in the second aqueous composition and using the second aqueous composition comprising lithium sulfate as the acidic aqueous composition optionally comprising lithium sulfate for mixing with the lithiumcontaining material and to obtain the mixture'\n",
      "\n",
      "Predicted Class: 2\n",
      "\n",
      "True Class: 2\n",
      "\n",
      "Generated Text: \n",
      "\n",
      "The patent classification label Class_01D is for \"Lithium, lithium compounds, and lithium alloys; lithium hydride\".\n",
      "\n",
      "This label matches the text because the text is about methods for treating lithium-containing materials, specifically to obtain lithium hydroxide, lithium sulfate, and other lithium compounds. The text mentions lithium-containing materials, lithium hydroxide, lithium sulfate, and lithium compounds, which are all related to the Class_01D classification.\n",
      "______________________________________________________________________________________________________________________________________________________\n",
      "\n",
      "Input Text: dry process for preparing a surfacemodified alkaline earth metal carbonatecontaining material the present invention relates to a process to modify at least part of the surface of an earth alkaline metal carbonatecontaining material in a dry blending process as well as to a mineral product obtainable by the inventive process and uses thereof'\n",
      "\n",
      "Predicted Class: 3\n",
      "\n",
      "True Class: 3\n",
      "\n",
      "Generated Text: \n",
      "\n",
      "The patent classification label Class_01E is for \"Pates; Compositions of alkaline earth metals\".\n",
      "\n",
      "The text describes a process for modifying the surface of an alkaline earth metal carbonate-containing material, which falls under this category. The mention of \"alkaline earth metal carbonate\" specifically points to this class.\n",
      "______________________________________________________________________________________________________________________________________________________\n",
      "\n",
      "Input Text: methods and compositions for bauxite beneficiation disclosed herein are methods and compositions for increasing the alumina content of a bauxite ore prior to alumina extraction by an extractive process such as the bayer process by adding a beneficiation agent to an aqueous ore slurry then applying a gravitational force to separate or partition the slurry into a beneficiary and a gangue a number of quantifiable benefits are observed these include increased alumina content and reduced silica content in the beneficiary solids as compared to the starting ore these benefits are in excess of those observed by preextraction gravitational separation of ore slurries without the addition of a beneficiation agent beneficiation agents include dadmac polymers and combinations of dadmac polymers with dextrans the beneficiary is collected and applied to an extractive process such as the bayer process'\n",
      "\n",
      "Predicted Class: 3\n",
      "\n",
      "True Class: 3\n",
      "\n",
      "Generated Text: \n",
      "\n",
      "The label Class_01E is a classification of the patent's technology as \"Mineral processing or beneficiation: Aluminum ores, bauxite\" according to the United States Patent and Trademark Office (USPTO) classification system.\n",
      "\n",
      "Here's the step-by-step thinking:\n",
      "\n",
      "* The patent describes methods and compositions for bauxite beneficiation, which involves processing aluminum ores.\n",
      "* The specific process mentioned is increasing the alumina content of bauxite ore prior to alumina extraction, which is a key step in aluminum production.\n",
      "* The classification system groups patents related to mineral processing and beneficiation, and Class 01 is the main category for mineral processing.\n",
      "* Subclass E is a more specific subclass within Class 01 that deals with aluminum ores, bauxite, and related processes.\n",
      "\n",
      "Therefore, the classification label Class_01E accurately reflects the patent's technology and scope.\n",
      "______________________________________________________________________________________________________________________________________________________\n",
      "\n",
      "Input Text: method and apparatus for producing highpurity synthetic magnetite by oxidizing metal waste the invention relates to a method for producing magnetite with a purity of no less than 90 and higher than 98 by oxidation of pulverized wustite iron oxide at temperatures ranging from 200 c to 800 c with the addition of water in liquid or steam form in countercurrent or concurrently in an externally heated reaction chamber with a controlled atmosphere the amount of water used to oxidize the wustite being 60 to 500 ml per kilogram of wustite the grains of wustite powder are injected into the reaction chamber having a size no greater than 100 m for optimal reaction'\n",
      "\n",
      "Predicted Class: 4\n",
      "\n",
      "True Class: 4\n",
      "\n",
      "Generated Text: \n",
      "\n",
      "The label Class_01F is a classification for patents, specifically:\n",
      "\n",
      "* Class_01: indicates that the patent is in the category of \"Chemical industry; Metallurgy\"\n",
      "* F: indicates that the patent is more specifically in the category of \"Magnetic materials; Magnetism; Electromagnetism; Electromagnetic devices; Electromagnetic induction\"\n",
      "\n",
      "This classification is based on the text describing a method and apparatus for producing high-purity synthetic magnetite, which is a type of magnetic material.\n",
      "______________________________________________________________________________________________________________________________________________________\n",
      "\n",
      "Input Text: ammonia converter comprising a tubular inner wall a vertical ammonia converter with radial flow catalyst beds includes a recipient having an outer shell equipped with a dual duct inner tubular wall to route effluents in upward and downward directions the tubular wall made of vertical tubes with gastight walls arranged in a circle on an outer periphery of an inner wall of the shell open at their ends to route effluent to be treated in the upward direction from an injection chamber in a lower part of the shell to a distribution chamber in an upper part of the shell which tubes are contiguous to a filtering media over a height of a catalyst bed the filtering media open at an upper end to pass a downwardflowing effluent and closed at a lower end to route and distribute the effluent through their effluentpermeable face towards the catalyst bed retained on an outer face by the filtering media'\n",
      "\n",
      "Predicted Class: 1\n",
      "\n",
      "True Class: 1\n",
      "\n",
      "Generated Text: \n",
      "\n",
      "The patent classification label is Class_01C because the text describes a chemical or industrial process, specifically an ammonia converter, which falls under the category of Chemical industry processes.\n",
      "\n",
      "Class_01 is the subclass for Chemical industry; processes, and Class_01C is the sub-subclass for Catalytic processes, which includes the use of catalysts to facilitate chemical reactions, such as the ammonia converter described in the text.\n",
      "______________________________________________________________________________________________________________________________________________________\n",
      "\n",
      "Input Text: systems and methods for ammonia purification systems and methods for ammonia purification in the nh3 purification and liquefaction stage of a conventional twocolumn sour water stripping system using an adsorbent bed'\n",
      "\n",
      "Predicted Class: 1\n",
      "\n",
      "True Class: 1\n",
      "\n",
      "Generated Text: \n",
      "\n",
      "The label Class_01C is a classification of the patent text as a chemical patent, specifically related to the purification of ammonia (NH3).\n",
      "\n",
      "Here's the breakdown:\n",
      "\n",
      "* Class_01: This is the main class for chemical patents, covering a wide range of chemical processes and compositions.\n",
      "* C: This is a subclass within Class_01, specifically related to \"Sugars; Sugar Multiples; Hydroxy Compounds; Compounds Containing Ammonia or Sulfur or Nitrogen\" and more specifically \"Ammonia; Ammonium Salts; Ammonium Halides; Ammonium Oxides; Ammonium Hydroxides\".\n",
      "\n",
      "So, the label Class_01C indicates that the patent text is related to a chemical process or composition, specifically ammonia purification.\n",
      "______________________________________________________________________________________________________________________________________________________\n",
      "\n",
      "Input Text: high purity tungsten pentachloride and method for synthesizing same the purpose of the present invention is to safely synthesize high purity tungsten pentachloride at a higher yield and at a higher purity than in prior art this method for producing tungsten pentachloride includes a step of mixing a reducing agent selected from the group consisting of bi hg sb ti al p and as with tungsten hexachloride uniformly in an inert atmosphere with a molar ratio of the tungsten hexachloride to the reducing agent being 2810 to 3210 to obtain a mixture a step of heating the mixture of the reducing agent and the tungsten hexachloride to 80 to 210 c at 13 pa or lower and reducing the same a step of heating the reduced product of the mixture of the reducing agent and the tungsten hexachloride to 120 to 290 c at 66 pa or lower and vacuum distilling the same to remove impurities and a step of heating the reduced product from which impurities have been removed by the vacuum distillation to 140 to 350 c at 13 pa or lower and purifying the same by sublimation to obtain the tungsten pentachloride'\n",
      "\n",
      "Predicted Class: 4\n",
      "\n",
      "True Class: 4\n",
      "\n",
      "Generated Text: \n",
      "\n",
      "The label Class_01F is a classification for patents in the WIPO (World Intellectual Property Organization) classification system, specifically for chemical patent classifications.\n",
      "\n",
      "Class_01 is the main class for chemical patent classifications, and F is the subclass for halogen or halogen-containing compounds.\n",
      "\n",
      "The patent text describes a method for synthesizing tungsten pentachloride, which is a specific chemical compound containing chlorine. Therefore, it falls under the Class_01F subclass for chemical compounds.\n",
      "\n",
      "More specifically, Class_01F is for \"Halides of nonmetals, other than hydrogen halides; halides of metalloids; halides of halogens\". Tungsten pentachloride is a halide of a nonmetal (tungsten), so it fits within this subclass.\n",
      "______________________________________________________________________________________________________________________________________________________\n",
      "\n",
      "Input Text: licontaining silicon oxide powder and production method thereof there is produced a licontaining silicon oxide powder containing a crystallized lithium silicate that is mostly waterinsoluble li2si2o5 and containing little crystalline si this object is attained through the mixing of a lower silicon oxide powder represented by a compositional formula siox 05ltxlt15 with a powdered lithium source that involves grinding of the powdered lithium source controlling a median diameter d1 of the lower silicon oxide powder and a median diameter d2 of the powdered lithium source so as to fulfill 005d2d12 and calcining the mixed powder at 300 c or higher and 800 c or lower'\n",
      "\n",
      "Predicted Class: 2\n",
      "\n",
      "True Class: 0\n",
      "\n",
      "Generated Text: \n",
      "\n",
      "The patent classification label Class_01D is for \"Silicon\".\n",
      "\n",
      "The text is about a lithium-containing silicon oxide powder and its production method, which involves silicon oxide and lithium. Therefore, it falls under the category of silicon.\n",
      "______________________________________________________________________________________________________________________________________________________\n",
      "\n",
      "Input Text: method of producing hydrogen through laser ablation the process describes the capability of solidstate metals to oxidize in water to produce hydrogen when stimulated by laser the solidstate metals with an adherent surface layer of the oxide component is introduced into water or another suitable oxidizer the metaloxidizer reaction to form hydrogen is initiated and maintained by a laser periodicallycontinually ablating the metal the energy pulse duration and wavelength of the laser may be tailored to control the rate of reaction of the source material with the oxidizer and thereby control the rate of formation of hydrogen application of energy produced by such method may include powering large scale commercial and residential energy companies providing sustainable and continuous fuel for intergalactic missions providing an alternative fuel sources for onboard hydrogenpowered vehicles and smaller scale applications such as emergency generators'\n",
      "\n",
      "Predicted Class: 4\n",
      "\n",
      "True Class: 0\n",
      "\n",
      "Generated Text: \n",
      "\n",
      "The label Class_01F is a classification for patent applications. Here's why I chose it:\n",
      "\n",
      "* Class_01: This is the main class for patents related to Chemistry, Inorganic Chemistry. Since the patent text is about a method of producing hydrogen through a chemical reaction (oxidation of metal in water), it falls under Class_01.\n",
      "* F: This is a subclass within Class_01, specifically for patents related to Chemical Processes. The text describes a chemical process (laser ablation) to produce hydrogen, so the subclass F is a good fit.\n",
      "\n",
      "Therefore, Class_01F is a suitable classification label for this patent text.\n",
      "______________________________________________________________________________________________________________________________________________________\n",
      "\n",
      "Input Text: ceria composite particle dispersion method for producing same and polishing abrasive grain dispersion comprising ceria composite particle dispersion a ceria composite particle dispersion has ceria composite particles having an average particle size of 50 to 350 nm and having the features described below each ceria composite particle has a mother particle a ceriumcontaining silica layer on the surface thereof and child particles dispersed inside the ceriumcontaining silica layer the mother particles being amorphous silicabased and the child particles being crystalline ceriabased the child particles have a coefficient of variation cv value in a particle size distribution of 14 to 40 the ceria composite particles have a mass ratio of silica to ceria of 10011316 only the crystal phase of ceria is detected when the ceria composite particles are subjected to xray diffraction the average crystallite size of the crystalline ceria measured by subjecting the ceria composite particles to xray diffraction is 10 to 25 nm'\n",
      "\n",
      "Predicted Class: 3\n",
      "\n",
      "True Class: 3\n",
      "\n",
      "Generated Text: \n",
      "\n",
      "The patent classification label Class_01E is for \"Compositions: ceramic, e.g., thixotropic gels, ceramic- metal composite, CERAMIC-METAL-X, etc.\"\n",
      "\n",
      "This label is suitable because the text describes a method for producing ceria composite particles, which are a type of ceramic composition. The ceria composite particles have a specific structure, with cerium-containing silica layers and child particles dispersed inside, and have a particular crystal phase and crystallite size. Therefore, the classification label Class_01E accurately reflects the subject matter of the patent.\n",
      "______________________________________________________________________________________________________________________________________________________\n",
      "\n",
      "Input Text: aluminumcoated nickel cobalt containing composite hydroxide and method for manufacturing same cathode active material for nonaqueous electrolyte secondary battery and method for manufacturing same and nonaqueous electrolyte secondary battery provided is a cathode active material for a nonaqueous electrolyte secondary battery that improves the cycling characteristic and hightemperature storability without impairing the chargedischarge capacity and the output characteristics a nickel cobalt containing composite hydroxide is obtained by using a batch type crystallization method in which a raw material aqueous solution that includes ni co and mg is supplied in an inert atmosphere to a reaction aqueous solution that is controlled so that the temperature is within the range 45 c to 55 c the ph value is within the range 108 to 118 at a reference liquid temperature of 25 c and the ammoniumion concentration is within the range 8 gl to 12 gl an alcoated composite hydroxide that is expressed by the general formula ni1xyzcoxalymgzoh2 where 005x020 001y006 and 001z003 is obtained by mixing a slurry that includes the nickel cobalt containing composite hydroxide with a coating aqueous solution that includes al to form a mixed aqueous solution and coating the secondary particles with a coating film that includes al or an al compound a cathode active material that is configured so that component elements that include al are uniformly dispersed in the secondary particles is synthesized using the alcoated composite hydroxide as a precursor'\n",
      "\n",
      "Predicted Class: 4\n",
      "\n",
      "True Class: 4\n",
      "\n",
      "Generated Text: \n",
      "\n",
      "The label Class_01F is a classification for a patent, where:\n",
      "\n",
      "* Class_01 refers to \"Metal founding, Metal metallurgy\" which is the general category for this patent, as it involves the production and composition of a metal-based material (aluminum-coated nickel cobalt composite hydroxide).\n",
      "* F is the sub-class, which refers to \"Electrolytic metallurgy; Metal powder metallurgy\" specifically, as the patent involves the electrolytic production of a metal material and its application in a battery.\n",
      "\n",
      "This classification label is according to the United States Patent Classification (USPC) system.\n",
      "______________________________________________________________________________________________________________________________________________________\n",
      "\n",
      "Input Text: carbon nanotube field emitter and preparation method thereof a method for making a carbon nanotube field emitter is provided a carbon nanotube film is dealed with a carbon nanotube film in a circumstance with a temperature ranged from 1400 to 1800 c and a pressure ranged from 40 to 60 mpa to form at least one first carbon nanotube structure the at least one first carbon nanotube structure is heated to graphitize the at least one first carbon nanotube structure to form at least one second carbon nanotube structure at least two electrodes is welded to fix one end of the at least one second carbon nanotube structure between adjacent two electrodes to form a field emission preparation body the field emission preparation body has a emission end the emission end is bonded to form a carbon nanotube field emitter'\n",
      "\n",
      "Predicted Class: 0\n",
      "\n",
      "True Class: 0\n",
      "\n",
      "Generated Text: \n",
      "\n",
      "The patent classification label is Class_01B because the text describes a method for creating a carbon nanotube field emitter, which is a specific type of electron emitter. This falls under the category of Chemistry (Class 01) and more specifically, the subclass B relates to Catalysis; Colloid Systems; Electrically Conductive Materials; Special Nonmetallic Elements or Metallic Elements Not Active as Such.\n",
      "\n",
      "01B is the subclass for \"Electrically conductive materials\" which includes materials and processes related to the production of materials with electrical conductivity, such as carbon nanotubes.\n",
      "______________________________________________________________________________________________________________________________________________________\n",
      "\n",
      "Input Text: composition comprising optically and electronically active phosphorene a composition includes a fewlayer phosphorene nanomaterial comprising at least one of mono bi and nlayer phosphorene nanosheets where n is an integer selected from 3 to 6 deoxygenated water and at least one amphiphilic surface active component'\n",
      "\n",
      "Predicted Class: 0\n",
      "\n",
      "True Class: 0\n",
      "\n",
      "Generated Text: \n",
      "\n",
      "The label Class_01B is for \"Organic chemistry; processes only\" and more specifically \"B - Organophosphorus compounds\".\n",
      "\n",
      "The text mentions \"phosphorene\", which is an organophosphorus compound, and the composition includes a few-layer phosphorene nanomaterial, indicating that the patent is related to the composition and properties of phosphorene, which is an organophosphorus compound. \n",
      "\n",
      "Therefore, Class_01B is a suitable label for this patent text.\n",
      "______________________________________________________________________________________________________________________________________________________\n",
      "\n",
      "Input Text: phosphor containing ce a phosphor contains a crystal phase having a chemical composition cexm3xy611z m is one or more elements selected from the group consisting of sc y la pr nd sm eu gd tb dy ho er tm yb and lu  contains si in an amount of 50 mol  or more of a total mol of   further contains al  contains n in an amount of 80 mol  or more n of a total mol of  x satisfies 0ltx06 y satisfies 0y10 z satisfies 0z10'\n",
      "\n",
      "Predicted Class: 3\n",
      "\n",
      "True Class: 3\n",
      "\n",
      "Generated Text: \n",
      "\n",
      "The text describes a specific type of phosphor material, which is a type of inorganic compound used in various applications such as lighting, displays, and cathode ray tubes.\n",
      "\n",
      "Class_01E is a patent classification label that falls under the broader class of \"Inorganic Chemistry\", specifically for \"Compounds of Phosphorus, Phosphorus Halides, and Phosphorus Halohydrides\".\n",
      "\n",
      "The label \"01E\" is a subclassification of the main class \"01\" (Inorganic Chemistry), and \"E\" specifically refers to \"Compounds of Phosphorus, Phosphorus Halides, and Phosphorus Halohydrides\".\n",
      "______________________________________________________________________________________________________________________________________________________\n",
      "\n",
      "Input Text: positive electrode active material for nonaqueous secondary batteries method for producing same and nonaqueous electrolyte secondary battery using positive electrode active material provided are a positive electrode active material for nonagueous secondary batteries the material having a narrow particlesize distribution and a monodisperse property and being capable of increasing a battery capacity an industrial production method thereof and a nonaqueous secondary battery using the positive electrode active material and having excellent electrical characteristics the positive electrode active material is represented by a general formula li1unixcoymnzmto2 wherein 005u095 xyzt1 0x05 0y05 05zlt08 0t01 and m is an additive element and at least one element selected from mg ca al ti v cr zr nb mo and w has an average particle diameter of 3 to 12 um and has d90d10average particle diameter an index indicating a scale of particlesize distribution of 060 or less'\n",
      "\n",
      "Predicted Class: 2\n",
      "\n",
      "True Class: 2\n",
      "\n",
      "Generated Text: \n",
      "\n",
      "The text describes a \"positive electrode active material for nonaqueous secondary batteries\", which is a specific type of chemical compound used in battery technology. This indicates that the patent is related to batteries and electrochemistry.\n",
      "\n",
      "Class_01D is a valid patent classification label that corresponds to \"Electric Batteries, Electrochemical Engines or Motors, or Electrophoresis; Processes for the Electrolysis of Water; Electric Resistance Heaters; Multiplex Networks of Insulated Live Conductors\".\n",
      "\n",
      "More specifically, subclass D is related to \"Batteries: Details not covered in a Single Other Subclass\".\n",
      "\n",
      "Therefore, Class_01D is a suitable classification label for this patent.\n",
      "______________________________________________________________________________________________________________________________________________________\n",
      "\n",
      "Input Text: selective lithium recovery as lithium carbonate from natural brines embodiments relate to methods systems and apparatus tor generating lithium from brine the brine is heated in a first vessel to greater than 260 c and co2 gas is injected mixing with the brine such that the co2p is greater than 18 gatm the brine is held at greater than 18 gatm for longer than 20 minutes so that any impurities precipitate as solids leaving only lithium ions and chlorine ions the brine is moved to a second vessel screening out solid precipitates leaving a brine containing only chlorine and lithium co2 gas is injected and mixed with the brine at 260 c so that the co2p is greater than 200 gatm the brine is held at greater than 200 gatm for longer than 20 minutes suppressing the chlorine as dissolved ions while lithium precipitates out as lithium carbonate the lithium carbonate precipitate is removed from the brine solution'\n",
      "\n",
      "Predicted Class: 2\n",
      "\n",
      "True Class: 2\n",
      "\n",
      "Generated Text: \n",
      "\n",
      "The patent classification label is Class_01D because the text describes a process for extracting and recovering lithium from natural brines, specifically converting lithium into lithium carbonate.\n",
      "\n",
      "* Class_01 is the category for Chemistry, inorganic chemistry, and more specifically:\n",
      "* D is the subclass for Lithium compounds, Lithium chemistry, and more specifically:\n",
      "* D is not further subclassified in this case, as the text does not describe a specific lithium compound or process beyond lithium carbonate.\n",
      "\n",
      "So, Class_01D is the correct classification label for this patent text.\n",
      "______________________________________________________________________________________________________________________________________________________\n",
      "\n",
      "Input Text: method for producing stannous sulfide a method for producing stannous sulfide the method including 1 heating a tincontaining material to 200600 c and mixing sulfur with the tincontaining material heated to yield a product and 2 distilling the product in a vacuum furnace at a pressure of 1500 pascal'\n",
      "\n",
      "Predicted Class: 4\n",
      "\n",
      "True Class: 4\n",
      "\n",
      "Generated Text: \n",
      "\n",
      "The patent classification label is Class_01F because the text describes a method for producing a chemical compound, specifically stannous sulfide. Class 01 of the International Patent Classification (IPC) system covers \"Chemical industry; element of chemistry; hazardous or dangerous products\" and Class F specifically covers \"Lighting, Heating, Cooking; Refrigeration; Drying, Physical or Chemical Processes; Yields\". However, Class 01F is more specific to \"Chemical or physical processes, hydrolysis, dehydrogenation, etc.\" but also to \"Compounds of nonmetals with carbon or nonmetals; Compounds of metals with nonmetals\".\n",
      "______________________________________________________________________________________________________________________________________________________\n",
      "\n",
      "Input Text: carbon nanotube composite and carbon nanotube wire a carbon nanotube composite includes a carbon nanotube bundle including a plurality of carbon nanotubes that are bundled each of the plurality of carbon nanotubes having a singlewalled or multiwalled structure and a group of elements of other type introduced in an aligned manner into a gap portion between the plurality of carbon nanotubes in the carbon nanotube bundle a ratio of the number of carbon nanotubes having a doublewalled or triplewalled structure to the number of the plurality of carbon nanotubes is greater than or equal to 50 and othertype element bonded bodies constituting the group of elements of other type are arranged in line along a longitudinal direction of the carbon nanotubes'\n",
      "\n",
      "Predicted Class: 0\n",
      "\n",
      "True Class: 0\n",
      "\n",
      "Generated Text: \n",
      "\n",
      "The label Class_01B is a classification of the patent label. Here's a breakdown of why I chose this label:\n",
      "\n",
      "* Class_01: This is the main class label for \"Chemical compositions\" in the patent classification system. Carbon nanotubes and the composite material described in the text are a type of chemical composition.\n",
      "* B: This is a subclass label that further specifies the type of chemical composition. In this case, B is for \"Compositions: electrical conductors\". Carbon nanotubes are known for their electrical conductivity, and the composite material described in the text is likely to have electrical conductivity properties.\n",
      "\n",
      "Therefore, the label Class_01B indicates that the patent is related to a chemical composition (carbon nanotube composite) with electrical conductivity properties.\n",
      "______________________________________________________________________________________________________________________________________________________\n",
      "\n",
      "Input Text: inorganic material composition and utilities thereof inorganic particulate compositions containing inorganic particles associated with a copolymer of a hydrophilic monomer and a hydrophobic monomer associated with the inorganic particles are provided the particulate composition satisfies at least one of the following properties a bet surface area of the inorganic particles is greater than 8 m2g a hegman value of the inorganic particles is 75 microns or less and a rate of water loss from the composition upon drying from a moisture level greater than 2 wt  is at least 30 greater than a composition having a corresponding content of a polyacrylate polymer associated with the particles a method to prepare the composition and formulations for inks paints coatings and filled polymeric articles containing the inorganic particulate composition are also provided'\n",
      "\n",
      "Predicted Class: 3\n",
      "\n",
      "True Class: 3\n",
      "\n",
      "Generated Text: \n",
      "\n",
      "The patent classification label Class_01E is for \"Inorganic chemistry; Organo-inorganic compounds\" specifically for \"Inorganic pigments, dyes, or toners; preparations therefore\".\n",
      "\n",
      "This classification fits the text because it describes an inorganic material composition, specifically an inorganic particulate composition, which is likely to be used as a pigment or filler in various applications such as inks, paints, coatings, and polymeric articles. The text mentions properties of the inorganic particles, such as surface area and Hegman value, which are relevant to their use as pigments or fillers.\n",
      "______________________________________________________________________________________________________________________________________________________\n",
      "\n",
      "Input Text: process for obtaining lithium from aluminosilicates and intermediate compounds process for obtaining lithium compounds and intermediate compounds comprising the following steps a contacting aluminosilicate particles for example spodumene with at least one fluorine compound for example hf naf or others b stirring the mixture increasing the temperature until reaching an appropriate temperature c carrying out at least a precipitation and filtration process of the mixture of step b and d recovering the lithium compound the process may comprise using hf at a concentration between 5 and 30 vv or naf at a concentration between 5 and 30 wv a solidliquid ratio of step a between 09 and 144 wv a particle size of between 29 and 200 m the final lithium product of the process may be lithium carbonate or lithium fluoride'\n",
      "\n",
      "Predicted Class: 2\n",
      "\n",
      "True Class: 2\n",
      "\n",
      "Generated Text: \n",
      "\n",
      "The label Class_01D represents the classification of the patent in the International Patent Classification (IPC) system.\n",
      "\n",
      "Class_01D specifically refers to:\n",
      "\n",
      "* Class_01: Chemical industry; light industry; Air and water; General methods of purification or separation\n",
      "* D: Alkali metals; Alkaline-earth metals; Lantern mantles\n",
      "\n",
      "Since the patent text describes a process for obtaining lithium from aluminosilicates, which involves chemical reactions and the extraction of lithium, a light metal, the classification label Class_01D is appropriate.\n",
      "______________________________________________________________________________________________________________________________________________________\n",
      "\n",
      "Input Text: axialradial flow converter in a cooled axialradial flow converter in which process gas passes from an outer annulus via a catalyst bed to an inner center tube the catalyst bed is divided into identical modules stacked on top of each other the process gas reaches the catalyst through openings facing the outer annulus passes axially down the catalyst bed of each module leaves the module through collectors in the bottom thereof and flows to the center tube the catalyst bed is cooled by cooling panels in which the process gas is preheated to the reaction temperature while at the same time the heat of reaction is partly removed from the catalyst bed the converter is especially suitable as ammonia converter'\n",
      "\n",
      "Predicted Class: 1\n",
      "\n",
      "True Class: 1\n",
      "\n",
      "Generated Text: \n",
      "\n",
      "The patent classification label is Class_01C because the text describes a chemical or industrial process, specifically a method for converting process gas, likely for the production of ammonia. Class 01 of the patent classification system covers \"Chemical compositions\" and Class C is a subclass that covers \"Processes for the production of chemical substances\".\n",
      "\n",
      "More specifically, Class 01C is for \"Processes for the production of chemical substances or reactions, not provided for in class 01B\".\n",
      "______________________________________________________________________________________________________________________________________________________\n",
      "\n",
      "Input Text: production of amorphous calcium carbonate the present invention relates to a process for preparing amorphous calcium carbonate the amorphous calcium carbonate obtainable by the process its use as well as a product comprising the amorphous calcium carbonate and the use of a spray dryer for the preparation of amorphous calcium carbonate'\n",
      "\n",
      "Predicted Class: 3\n",
      "\n",
      "True Class: 3\n",
      "\n",
      "Generated Text: \n",
      "\n",
      "The label Class_01E corresponds to the classification \"Calcium compounds; Calcium hydroxide; Calcium carbonate\".\n",
      "\n",
      "Here's the step-by-step reasoning:\n",
      "\n",
      "* The text mentions \"amorphous calcium carbonate\", which is a specific compound.\n",
      "* Class 01 of the International Patent Classification (IPC) system covers \"Organic chemistry; Elementary organic compounds; Organic compounds not elsewhere provided for\".\n",
      "\t+ Subclass E, 01E, is a more specific subclass that covers \"Calcium compounds; Calcium hydroxide; Calcium carbonate\".\n",
      "* Therefore, the correct classification label is Class_01E.\n",
      "______________________________________________________________________________________________________________________________________________________\n",
      "\n",
      "Input Text: methods and compositions to prevent caking of sodium chloride and prevent transition metal stains anticaking agents for inhibiting or preventing caking of inorganic salt granules are provided the anticaking agents comprise a coordination complex of iron and a salt anion of an organic acid wherein the salt anion is selected from the group consisting of malate polyacrylate diphosphonate and mixtures thereof freeflowing solid salt compositions resistant to caking are also described herein along with methods of melting ice andor snow on a surface or inhibiting the accumulation or formation of ice andor snow on a surface and methods of preventing or inhibiting caking of solid inorganic salt granules'\n",
      "\n",
      "Predicted Class: 2\n",
      "\n",
      "True Class: 2\n",
      "\n",
      "Generated Text: \n",
      "\n",
      "The patent classification label Class_01D is for \"Preservation of food or foodstuffs, in general; Food treatment, not covered by subclasses 021-031 or 033-041\".\n",
      "\n",
      "However, in this case, the label is more specifically Class_01D005, which is for \"Preservatives for inorganic salts\".\n",
      "\n",
      "But, a more specific and accurate classification label would be Class_01D003, which is for \"Preservatives for salt\".\n",
      "\n",
      "However, Class_01D is not the best fit for this patent, as it is more related to chemistry and materials science.\n",
      "\n",
      "A more accurate classification label would be Class_C01B, which is for \"Sodium compounds\" or more specifically Class_C01B23, which is for \"Sodium chloride\".\n",
      "\n",
      "But, the best fit for this patent is Class_B01F, which is for \"Compositions: coating or plastic adhesives for metals; other compositions of metals\".\n",
      "\n",
      "And more specifically Class_B01F17, which is for \"Compositions for preventing caking of salts\".\n",
      "\n",
      "However, the most accurate classification label for this patent is Class_B01F17/00 in combination with Class_C01B23/00, which is for \"Compositions for preventing caking of salts; sodium chloride\".\n",
      "\n",
      "But, Class_B01F17/00 in combination with Class C01B23/00 is not the most specific classification label for this patent.\n",
      "\n",
      "A more specific classification label for this patent is Class B01F17/00 in combination with Class C01B23/00, and Class B01F17/02, which is for \"Iron compounds\".\n",
      "\n",
      "So the best classification label for this patent is Class_B01F17/00 in combination with Class C01B23/00, and Class B01F17/02.\n",
      "______________________________________________________________________________________________________________________________________________________\n",
      "\n",
      "Input Text: iron oxide powder for brake friction material provided is an iron oxide powder for a brake friction material which can be suitably used in a brake friction material that is less likely to cause problems regarding brake squealing and that provides superior braking performance the iron oxide powder for a brake friction material according to the present invention is characterized by having an average particle size of 40 m or more and a saturation magnetization of 20 emug or less the iron oxide powder preferably has a pore volume of 10180 mm3g the iron oxide powder also preferably has a bet specific surface area of 005120 m2g'\n",
      "\n",
      "Predicted Class: 3\n",
      "\n",
      "True Class: 4\n",
      "\n",
      "Generated Text: \n",
      "\n",
      "The patent classification label is Class_01E because the text describes a specific type of iron oxide powder for use in brake friction material, which falls under the category of chemicals and materials.\n",
      "\n",
      "* Class 01 is the subclass for Organic Chemistry, Inorganic Chemistry, and Nuclear Physics, which includes materials and chemicals.\n",
      "* The E subclass is more specific, referring to Iron and Steel, and Ferro-alloys, which includes iron oxide and its applications.\n",
      "______________________________________________________________________________________________________________________________________________________\n",
      "\n",
      "Input Text: apparatus and process for the production of soda ash a device and process for the separate removal of oppositely charged ions from electrolyte solutions and recombining them to form new chemical compositions the invention provides the ability to create multiple ion flow channels and then form new chemical compositions therefrom the process is accomplished by selectively combining oppositely charged ions of choice from different electrolyte solutions via the capacitive behavior of high electrical capacitance electrodes confined in insulated containers industrial plants employing the inventive process can have the flexibility to produce needed industrial chemical compounds such as soda ash caustic soda hydrochloric acid and chlorine gas based on market demand and can be located near points of consumption to significantly reduce transportation costs'\n",
      "\n",
      "Predicted Class: 2\n",
      "\n",
      "True Class: 2\n",
      "\n",
      "Generated Text: \n",
      "\n",
      "The label Class_01D corresponds to the classification of the patent.\n",
      "\n",
      "Class_01 is the category for Chemicals and Class_D01 is the subclass for Caustic soda; Sodium hydroxide; Soda ash (sodium carbonate).\n",
      "\n",
      "The text describes an apparatus and process for producing soda ash, as well as other chemical compounds, so the classification label Class_01D is appropriate.\n",
      "______________________________________________________________________________________________________________________________________________________\n",
      "\n",
      "Input Text: double perovskite the present invention relates to a semiconductor device comprising a semiconducting material wherein the semiconducting material comprises a compound comprising i one or more first monocations a ii one or more second monocations bi iii one or more trications biii and iv one or more halide anions x the invention also relates to a process for producing a semiconductor device comprising said semiconducting material also described is a compound comprising i one or more first monocations a ii one or more second monocations bi selected from cu ag and au iii one or more trications biii and iv one or more halide anions x'\n",
      "\n",
      "Predicted Class: 4\n",
      "\n",
      "True Class: 4\n",
      "\n",
      "Generated Text: \n",
      "\n",
      "The patent classification label is Class_01F because the text describes a semiconductor device and a process for producing it, which falls under the category of electrical and electronic patents.\n",
      "\n",
      "Class_01 is the main class for chemical and metallurgical patents, but more specifically, Class_01F is a subclass within Class_01 that covers semiconductor devices and processes.\n",
      "______________________________________________________________________________________________________________________________________________________\n",
      "\n",
      "Input Text: method for manufacturing lithium hydroxide and lithium carbonate and device therefor the present invention relates to a method for manufacturing lithium hydroxide and lithium carbonate and a device therefor the present invention provides a method for manufacturing lithium hydroxide comprising a step of dissolving lithium phosphate in an acid a step of preparing a monovalent ion selectivetype electrodialysis device disposed in the order of a cathode cell containing a cathode separator a monovalent anion selectivetype dialysis membrane for selectively permeating a monovalent anion a monovalent cation selectivetype dialysis membrane for selectively permeating a monovalent cation and an anode cell containing an anode separator injecting the lithium phosphate dissolved in the acid between the anode separator of the anode cell and the monovalent cation selectivetype dialysis membrane and between the cathode separator of the cathode cell and the monovalent anion selectivetype dialysis membrane respectively and injecting water between the monovalent cation selectivetype dialysis membrane and the monovalent anion selectivetype dialysis membrane a step of obtaining an aqueous lithium chloride solution and at the same time obtaining a phosphoric acid aqueous solution formed as a byproduct by applying an electric current to the monovalent ion selectivetype electrodialysis device and a step of converting the obtained aqueous lithium chloride solution into an aqueous lithium hydroxide solution'\n",
      "\n",
      "Predicted Class: 2\n",
      "\n",
      "True Class: 2\n",
      "\n",
      "Generated Text: \n",
      "\n",
      "The label is Class_01D because the text describes a method and device for manufacturing lithium hydroxide and lithium carbonate, which falls under the category of chemical patent classifications.\n",
      "\n",
      "Class_01 is the main class for chemical patent classifications, and D is the subclass for Lithium compounds. \n",
      "\n",
      "So, the classification label Class_01D indicates that the patent is related to lithium compounds, specifically lithium hydroxide and lithium carbonate.\n",
      "______________________________________________________________________________________________________________________________________________________\n",
      "\n",
      "Input Text: methods for producing graphene from coal a method of preparing graphene from coal can include thermally processing raw coal and after the coal has been at least partially cooled from thermal processing forming reduced graphene oxide from the coal'\n",
      "\n",
      "Predicted Class: 0\n",
      "\n",
      "True Class: 0\n",
      "\n",
      "Generated Text: \n",
      "\n",
      "The patent classification label Class_01B is for \"Graphene and Nanotubes; Carbon Material, Except Graphite\".\n",
      "\n",
      "This label is a good fit because the text describes methods for producing graphene from coal, which is a specific type of carbon material. The text does not mention graphite, nanotubes, or any other type of carbon material, so Class_01B is a specific and relevant label.\n",
      "______________________________________________________________________________________________________________________________________________________\n",
      "\n",
      "Input Text: apparatus and method for generating nitric oxide in controlled and accurate amounts a nitric oxide generator generates nitric oxide from a mixture of nitrogen and oxygen such as air treated by a pulsating electrical discharge the desired concentration of nitric oxide is obtained by controlling at least one of a frequency of the pulsating electrical discharge and duration of each electrical discharge pulse'\n",
      "\n",
      "Predicted Class: 1\n",
      "\n",
      "True Class: 0\n",
      "\n",
      "Generated Text: \n",
      "\n",
      "The patent classification label Class_01C is for \"Preparations for medical, dental, or toilet purposes\" but more specifically 01C23 is for \"Nitrites, nitrates\".\n",
      "\n",
      "However, a more accurate classification would be Class_01A, specifically 01A23, which is for \"Nitric oxide\".\n",
      "\n",
      "But considering the apparatus and method described in the text, a more suitable classification would be Class_01A/01C, specifically 01A23/01C23, but since the patent office uses a single number classification, and 01A23 is more specific, the label Class_01A23 is more accurate.\n",
      "______________________________________________________________________________________________________________________________________________________\n",
      "\n",
      "Input Text: metal ii phosphate powders lithium metal phosphate powders for liion battery and methods for manufacturing the same metal ii phosphate powders lithium metal phosphate powders for a liion battery and methods for manufacturing the same are provided the lithium metal phosphate powders are represented by the following formula ii life1amapo4 ii wherein m comprises at least one metal selected from the group consisting of mn co ni cu cr v mo ti zn zr tc ru rh pd ag cd pt au al ga in be mg ca sr b and nb 05lta1 the lithium metal phosphate powders are composed of plural flake powders and a length of each of the flake powders is ranged from 50 nm to 10 m'\n",
      "\n",
      "Predicted Class: 2\n",
      "\n",
      "True Class: 0\n",
      "\n",
      "Generated Text: \n",
      "\n",
      "The label Class_01D is a classification for Lithium-ion batteries and battery components.\n",
      "\n",
      "Here's the breakdown:\n",
      "\n",
      "* Class_01: Chemicals and Chemical Processes\n",
      "* D: Batteries; Accumulators; Electric Batteries (secondary cells)\n",
      "\n",
      "The text describes metal and lithium metal phosphate powders for use in Li-ion batteries, which is a specific application of battery technology. Therefore, the classification label Class_01D is appropriate.\n",
      "______________________________________________________________________________________________________________________________________________________\n",
      "\n",
      "Input Text: electrode materials for rechargeable battery a positive electrode is disclosed for a nonaqueous electrolyte lithium rechargeable cell or battery the electrode comprises a lithium containing material of the formula naylixnizmn1zzmzod wherein m is a metal cation xygt1 0ltzlt05 0zlt05 yx1 is less than d and the value of d depends on the proportions and average oxidation states of the metallic elements li na mn ni and m if present such that the combined positive charge of the metallic elements is balanced by the number of oxygen anions d the inventive material preferably has a spinel or spinellike component in its structure the value of y preferably is less than about 02 and m comprises one or more metal cations selected preferably from one or more monovalent divalent trivalent or tetravalent cations such as mg2 co2 co3 b3 ga3 fe2 fe3 al3 and ti4 the electrode material can be synthesized using an ionexchange reaction with a lithium salt in an organicbased solvent to partially replace sodium ions of a precursor material with lithium ions'\n",
      "\n",
      "Predicted Class: 2\n",
      "\n",
      "True Class: 2\n",
      "\n",
      "Generated Text: \n",
      "\n",
      "The text describes a new material for a positive electrode in a lithium rechargeable battery, specifically a lithium-containing material with a particular chemical formula and structure. This is a development in the field of electrochemistry and battery technology.\n",
      "\n",
      "Class_01D is a valid classification label for this text because it falls under the category of:\n",
      "\n",
      "01 - Class 01: Chemicals; Elemental or Compound Materials (Patent classification)\n",
      "\n",
      "D - Electrolytic Chemistry; Metal-Depositing Chemistry (sub-classification)\n",
      "\n",
      "This classification label indicates that the patent is related to the development of new chemical materials, specifically in the field of electrochemistry and battery technology.\n",
      "______________________________________________________________________________________________________________________________________________________\n",
      "\n",
      "Input Text: integrated process and plant for production of urea and uas ureaammonium sulphate mixtures an integrated process for production of urea and ureaammonium sulphate uas comprises a urea synthesis step carried out in a urea synthesis reactor a recovery and concentration step wherein a urea solution produced in the urea synthesis step is progressively concentrated in at least one recovery section and in a concentration section recovering unreacted ammonia and carbon dioxide and water from said urea solution a step of producing ammonium sulphate by reaction of sulphuric acid and ammonia in an ammonium sulphate production apparatus a step of mixing said ammonium sulphate with concentrated urea coming from the concentration section to produce a uas mixture in the ammonium sulphate production step at least a part of the ammonia is provided by at least one offgas containing ammonia and recovered from the recovery and concentration step'\n",
      "\n",
      "Predicted Class: 1\n",
      "\n",
      "True Class: 1\n",
      "\n",
      "Generated Text: \n",
      "\n",
      "The patent classification label is Class_01C because the text describes a process for producing urea and urea-ammonium sulphate (UAS) mixtures, which falls under the category of chemical technology.\n",
      "\n",
      "* \"01\" refers to the class for Chemical Technology, which includes processes and technology for producing chemicals.\n",
      "* \"C\" refers to the subclass for Fertilizers or Fertilizing or Liminaling Compositions, which includes patents related to the production and composition of fertilizers, such as urea and UAS.\n",
      "______________________________________________________________________________________________________________________________________________________\n",
      "\n",
      "Input Text: cuprous oxide particle method of producing the same photosintering composition method of forming conductive film using the same and paste of cuprous oxide particles provided is a photosintering composition including cuprous oxide particles containing at least one additive element selected from the group consisting of tin manganese vanadium cerium and silver and a solvent it is preferable that the cuprous oxide particle contain 1 ppm to 30000 ppm of tin as the additive element it is also preferable that the photosintering composition contain 3 by mass to 80 by mass of the cuprous oxide particles and 20 by mass to 97 by mass of the solvent'\n",
      "\n",
      "Predicted Class: 4\n",
      "\n",
      "True Class: 4\n",
      "\n",
      "Generated Text: \n",
      "\n",
      "The label Class_01F is for \"Electrical and scientific apparatus, including microscopes and projectors, and parts thereof; photographic apparatus and photographic process; photographic plates and film, photographic chemicals, and photographic paper\".\n",
      "\n",
      "This patent describes a photosintering composition and a method of forming a conductive film using cuprous oxide particles, which involves a process related to electrical and scientific apparatus, specifically photographic apparatus. Therefore, the classification label Class_01F is appropriate.\n",
      "______________________________________________________________________________________________________________________________________________________\n",
      "\n",
      "Input Text: process for producing lithiated transition metal oxides provided are processes for the formation of electrochemically active materials such as lithiated transition metal oxides that solve prior issues with throughput and calcination the processes include forming precursor materials into agglomerates prior to calcination the use of the agglomerates improves gas flow into and out of the materials thereby improving calcination results electrochemical properties of the resulting materials and allows for use of high temperature kilns not previously suitable for such materials thereby lowering production costs'\n",
      "\n",
      "Predicted Class: 2\n",
      "\n",
      "True Class: 2\n",
      "\n",
      "Generated Text: \n",
      "\n",
      "The label Class_01D is a classification for Lithium batteries and lithium battery components. The text describes a process for producing lithiated transition metal oxides, which is a material used in lithium batteries.\n",
      "\n",
      "Here's a breakdown of the classification:\n",
      "\n",
      "* Class_01: Chemicals and Chemical Processes\n",
      "* D: Lithium batteries; lithium battery components\n",
      "\n",
      "This classification is consistent with the International Patent Classification (IPC) system, which is widely used for patent classification.\n",
      "______________________________________________________________________________________________________________________________________________________\n",
      "\n",
      "Input Text: methods for chargetitrating particle assembly and structures produced therefrom methods to fabricate tightly packed arrays of nanoparticles are disclosed without relying on organic ligands or a substrate in some variations a method of assembling particles into an array comprises dispersing particles in a liquid solution introducing a triggerable phcontrol substance capable of generating an acid or a base and triggering the phcontrol substance to generate an acid or a base within the liquid solution thereby titrating the ph during ph titration the particlesurface charge magnitude is reduced causing the particles to assemble into a particle array other variations provide a device for assembling particles into particle arrays comprising a dropletgenerating microfluidic region a firstfluid inlet port a secondfluid inlet port a reaction microfluidic region disposed in fluid communication with the dropletgenerating microfluidic region and a trigger source configured to trigger generation of an acid or a base from at least one phcontrol substance contained within the reaction microfluidic region'\n",
      "\n",
      "Predicted Class: 3\n",
      "\n",
      "True Class: 3\n",
      "\n",
      "Generated Text: \n",
      "\n",
      "The label Class_01E is for \"Chemistry, assistive technologies, biotechnology, nanotechnology\".\n",
      "\n",
      "This patent text is related to methods and devices for assembling nanoparticles into arrays, which involves chemistry and nanotechnology. Specifically, it describes a process for titrating the pH of a solution to assemble nanoparticles, which is a chemical process. Therefore, Class_01E is the most relevant classification label.\n",
      "______________________________________________________________________________________________________________________________________________________\n",
      "\n",
      "Input Text: process for the synthesis of ammonia process for the synthesis of ammonia comprising the steps of reforming of a hydrocarbon feedstock into a raw product gas purification of said raw product gas obtaining a makeup synthesis gas conversion of said synthesis gas into ammonia said purification includes shift conversion of carbon monoxide into carbon dioxide and the reforming process requires a heat input which is at least partially recovered from at least one of said step of shift conversion which is carried out with a peak temperature of at least 450 c and said step of conversion into ammonia'\n",
      "\n",
      "Predicted Class: 1\n",
      "\n",
      "True Class: 1\n",
      "\n",
      "Generated Text: \n",
      "\n",
      "The label Class_01C represents a classification for Chemical patent, more specifically \"Natural air and ammonia\".\n",
      "\n",
      "- \"Class_01\" refers to the main class for Chemicals.\n",
      "- \"C\" specifies the subclass for \"Natural air and ammonia\", which includes ammonia synthesis processes.\n",
      "______________________________________________________________________________________________________________________________________________________\n",
      "\n",
      "Input Text: production of calcium carbonate via solidstate calcium hydroxide particles and carbon dioxide and associated systems and methods methods and systems for producing calcium carbonate from calcium hydroxide and carbon dioxide are disclosed herein in some embodiments a method for producing calcium carbonate comprises i providing a first plurality of particles comprising solidstate calcium hydroxide and ii introducing a gas stream comprising carbon dioxide to the first plurality of particles to produce a second plurality of particles comprising calcium carbonate individual ones of the first plurality of particles can include a specific surface area of at least 20 m2g and a free moisture content of from 2 to 20 the second plurality of particles comprising calcium carbonate are not produced via precipitation'\n",
      "\n",
      "Predicted Class: 3\n",
      "\n",
      "True Class: 3\n",
      "\n",
      "Generated Text: \n",
      "\n",
      "The label Class_01E is a classification for chemical patent applications. Here's a breakdown of why I chose this label:\n",
      "\n",
      "* Class_01: This is the main class for chemical patent applications.\n",
      "* E: This is a subclass within Class 01 for inorganic chemistry, specifically calcium compounds and abCarbonates.\n",
      "\n",
      "The patent application describes a process for producing calcium carbonate, which is a specific type of inorganic chemical compound. Therefore, the classification label Class_01E is a good fit.\n",
      "______________________________________________________________________________________________________________________________________________________\n",
      "\n",
      "Input Text: mixed transition metal tungstate a unique crystalline mixed transition metal tungstate material has been developed material may be sulfided to generate metal sulfides which are used as a catalyst in a conversion process such as hydroprocessing the hydroprocessing may include hydrodenitrification hydrodesulfurization hydrodemetallation hydrodesilication hydrodearomatization hydroisomerization hydrotreating hydrofining and hydrocracking'\n",
      "\n",
      "Predicted Class: 4\n",
      "\n",
      "True Class: 4\n",
      "\n",
      "Generated Text: \n",
      "\n",
      "The label Class_01F is classified as the patent is about a mixed transition metal tungstate material, which is a specific type of chemical compound. This falls under the category of inorganic chemistry.\n",
      "\n",
      "Class_01 is the subclass for Inorganic Chemistry, and F is the main subclass for Catalysis; Precursors; Doping materials.\n",
      "\n",
      "So, Class_01F is a good fit for this patent, as it describes a material that can be used as a catalyst in various hydroprocessing reactions.\n",
      "______________________________________________________________________________________________________________________________________________________\n",
      "\n",
      "Input Text: method for the management of phosphogypsum a method for the management of phosphogypsum consists in that a reactor  2  is charged with apatite andor phosphorite phosphogypsum and with an aqueous or ammoniacal solution of ammonium carbonate andor bicarbonate from a prereactor  1  at 1 014 ratio of phosphogypsum to the aqueous or ammoniacal solution of ammonium carbonate andor bicarbonate the entire contents are stirred at 10 c to 200 c for at least 2 minutes co2 being released in the course of the process is directed to the prereactor  1  and the postreaction mixture is directed to a filter  3  to obtain an aqueous ammonium sulphate solution whereas the precipitate from the filter  3  is heattreated followed by dissolving it in nitric acid in a reactor  5  and the resultant suspension is filtered through a filter  6  to obtain an aqueous calcium nitrate solution and co2 being released in the reactor  5  is recirculated to the prereactor  1  wherein co2 is reacted with ammonia in an aqueous solution to obtain the aqueous or ammoniacal solution of carbonate andor bicarbonate which is directed to the reactor  2  with the process for obtaining the aqueous or ammoniacal solution of ammonium carbonate andor bicarbonate being conducted until the ph 712 of the solution is reached'\n",
      "\n",
      "Predicted Class: 1\n",
      "\n",
      "True Class: 1\n",
      "\n",
      "Generated Text: \n",
      "\n",
      "The patent classification label is Class_01C because the text describes a method for managing phosphogypsum, which is a by-product of the phosphate fertilizer industry. The method involves a chemical process to recover useful compounds such as ammonium sulphate and calcium nitrate from phosphogypsum.\n",
      "\n",
      "Class_01C is a subclass of Class_01, which is the class for \"Chemical industry; technology for its special purposes\". More specifically, Class_01C is the subclass for \"Fertilizers; fertilizers from phosphorus; fertilizers from nitrogenous materials\".\n",
      "\n",
      "The label Class_01C indicates that the patent is related to a chemical process or technology for the production or treatment of fertilizers, which is in line with the description of the method for managing phosphogypsum.\n",
      "______________________________________________________________________________________________________________________________________________________\n",
      "\n",
      "Input Text: method for producing lithium carbonate from lowlithium brine by separating magnesium and enriching lithium the present invention discloses a method for producing lithium carbonate from a lowlithium brine by separating magnesium and enriching lithium a saltlake brine is used as a raw material and is converted into halide salts through dehydration by evaporation and separation by crystallization the halide salts are directly extracted using trialkyl phosphate or a mixture of trialkyl phosphate and monohydric alcohol and an organic extraction phase as well as remaining halide salts are obtained after solidliquid separation reverse extraction is performed on the organic extraction phase to obtain a lithiumrich solution with a low magnesiumtolithium ratio and lithium carbonate is obtained after concentration and removal of magnesium by alkalization the used solidliquid extraction method is simple with no coextraction agent used and a solute distribution driving force is strong unaffected by phase equilibrium of the brine extraction agent the mass ratio of magnesiumtolithium significantly decreases in the extraction phase'\n",
      "\n",
      "Predicted Class: 2\n",
      "\n",
      "True Class: 2\n",
      "\n",
      "Generated Text: \n",
      "\n",
      "The patent classification label is Class_01D because the text describes a method for producing lithium carbonate, which falls under the category of chemistry, specifically the extraction and processing of lithium from its ores or brines.\n",
      "\n",
      "Class_01 is the subclass for Chemistry, and more specifically:\n",
      "\n",
      "* D is the main subclass for Light Metals, their alloys and ammonium compounds\n",
      "* D10 is the subclass for Lithium\n",
      "* D10B is the subclass for Lithium salts\n",
      "* D10B 3/00 is the subclass for Lithium carbonate\n",
      "\n",
      "So, Class_01D10B3/00 is a more specific classification, but Class_01D is sufficient to indicate that the patent is related to lithium and its chemistry.\n",
      "______________________________________________________________________________________________________________________________________________________\n",
      "\n",
      "Input Text: methods and equipment to make lithium hydroxide monohydrate from lithium salts embodiments of the invention relate to methods and equipment to make lithium hydroxide from lithium salts'\n",
      "\n",
      "Predicted Class: 2\n",
      "\n",
      "True Class: 2\n",
      "\n",
      "Generated Text: \n",
      "\n",
      "Class_01D is the correct classification label for the given text.\n",
      "\n",
      "Here's the breakdown:\n",
      "\n",
      "* Class_01: This is the main class for chemistry, inorganic chemistry, and organic chemistry.\n",
      "* D: This is a subclass for lithium compounds, which is a specific type of inorganic chemistry.\n",
      "\n",
      "So, Class_01D specifically refers to lithium compounds, making it the correct classification label for the given text, which is about making lithium hydroxide monohydrate from lithium salts.\n",
      "______________________________________________________________________________________________________________________________________________________\n",
      "\n",
      "Input Text: synthesis of metal oxynitrides using flame spray pyrolysis the present disclosure is directed to methods for producing metal oxynitrides using flame synthesis embodiments of the disclosure may provide advantages over prior synthesis techniques by reducing synthesis time additionally methods and systems disclosed herein may achieve better incorporation of nitrogen atoms into the oxide structure due in part to the higher homogeneity of flame made particles and ability to control the reaction environment'\n",
      "\n",
      "Predicted Class: 4\n",
      "\n",
      "True Class: 0\n",
      "\n",
      "Generated Text: \n",
      "\n",
      "The label Class_01F is a classification for patent documents related to \"General metal-to-metal bonding or joining; Metal welding\".\n",
      "\n",
      "However, in this case, the text is actually about the synthesis of metal oxynitrides, which is a specific process in materials science.\n",
      "\n",
      "A more accurate classification would be Class_C01B, which is for \"Inorganic compounds; Organic compounds\" specifically \"Compounds of nonmetals with carbon or other nonmetals\" or Class B32, which is for \"Cooking; Food or foodstuffs\" specifically \"Materials for foodstuffs; Composition thereof; Foodstuffs obtained by means of micro-organisms; Process therefor\" but in subclass B32B, materials or compositions for making speciality papers or paperboard, the oxynitrides can be used in such papers.\n",
      "\n",
      "However, the closest and most accurate classification would be Class C01P, which is for \"Process for the treatment of materials, in general\" specifically \"Process for the treatment of non-metals, of metal oxides or of metal salts\".\n",
      "\n",
      "But the best fit is Class C01F, which is for \"Inorganic compounds; Organometallic compounds; Metal carbonyls\" specifically \"Compounds of nonmetals with metal oxides\".\n",
      "______________________________________________________________________________________________________________________________________________________\n",
      "\n",
      "Input Text: method of manufacturing semiconductor material from mayenite a method of preparation of semiconductor material the method includes adding an organic substance containing a benzene ring and dodecacalcium heptaaluminate 12cao7al2o3 or c12a7 to a test tube and sealing the test tube heating the test tube to a temperature of 200300 c and holding the temperature for 1 to 3 hours and continuously heating the test tube to a temperature of 9001300 c and holding the temperature for 10120 hours'\n",
      "\n",
      "Predicted Class: 3\n",
      "\n",
      "True Class: 3\n",
      "\n",
      "Generated Text: \n",
      "\n",
      "Class_01E is a valid patent classification label for this text.\n",
      "\n",
      "Here's the reasoning:\n",
      "\n",
      "* Class_01 is the category for Chemistry\n",
      "* E is the subgroup for Organic chemistry\n",
      "* The text describes a method of manufacturing semiconductor material using an organic substance and a compound (Mayenite), which involves chemical reactions and processing of organic and inorganic materials.\n",
      "* Therefore, Class_01E (Organic chemistry) is a suitable classification label for this patent.\n",
      "______________________________________________________________________________________________________________________________________________________\n",
      "\n",
      "Input Text: process for producing sodium sulphate from phosphogypsum the present invention relates to a process for producing sodium sulphate from phosphogypsum comprising a step  101  of lixiviation of phosphogypsum by means of a basic solution so as to obtain a sodium sulphate solution s containing metal impurities said basic solution comprising a chelating agent suitable for forming complexes with at least one part of said metal impurities at least one first step  103 104  of filtration of the sodium sulphate solution by a nanofiltration membrane nf 1  nf 2  so as to form a concentrate c 1  c 2  containing said complexes and a permeate p 1  p 2  a step  105  of evaporation of the permeate p 1  p 2  so as to form anhydrous sodium sulphate'\n",
      "\n",
      "Predicted Class: 2\n",
      "\n",
      "True Class: 2\n",
      "\n",
      "Generated Text: \n",
      "\n",
      "The patent classification label Class_01D is for \"Sodium sulphate\".\n",
      "\n",
      "Here's the step-by-step reasoning:\n",
      "\n",
      "* Class_01 is the category for \"Chemical industry; Light industry; Chemistry; Chemical engineering\".\n",
      "* D is the subcategory for \"Sodium sulphate; Sodium sulphite; Sodium thiosulphate; Sodium bisulphite\".\n",
      "\n",
      "The patent text describes a process for producing sodium sulphate, so it falls under this category.\n",
      "______________________________________________________________________________________________________________________________________________________\n",
      "\n",
      "Input Text: method of producing highpurity lithium carbonate and barium sulfate from discarded lithium secondary batteries disclosed is a method of producing highpurity lithium carbonate and barium sulfate from discarded lithium secondary batteries including a first process for producing highpurity lithium phosphate from a discarded battery and a second process for producing lithium sulfate from the lithium phosphate and producing lithium carbonate and barium sulfate from the lithium sulfate the second process has steps of a producing a liquid mixture of lithium phosphate and sulfuric acid b obtaining lithium sulfate by condensing the liquid mixture c dissolving the lithium sulfate in water or a sodium hydroxide aqueous solution depositing phosphoric acid as lithium phosphate and performing solidliquid separation d depositing lithium carbonate and performing solidliquid separation to obtain lithium carbonate e finely grinding the lithium carbonate and classifying the particles f controlling a particle size and shape by dissolving edges of particles or minute particles g performing solidliquid separation and h depositing barium sulfate'\n",
      "\n",
      "Predicted Class: 2\n",
      "\n",
      "True Class: 2\n",
      "\n",
      "Generated Text: \n",
      "\n",
      "The label Class_01D is a classification for patents, specifically within the International Patent Classification (IPC) system. Here's why I chose this label:\n",
      "\n",
      "* \"Class_01\" refers to the main category of \"Chemical industry; Light industry; Chemistry of impure substances; Chemistry of natural compounds\" in the IPC system.\n",
      "* The \"D\" is a subcategory within Class_01, specifically referring to \"Alkali metal or alkaline-earth metals; Alkaline earth metals; Lithium\".\n",
      "\n",
      "The patent text describes a method for producing high-purity lithium carbonate and barium sulfate from discarded lithium secondary batteries, which involves chemical processes and the use of lithium and other alkali/alkaline earth metals. Therefore, the classification label Class_01D accurately reflects the subject matter of the patent.\n",
      "______________________________________________________________________________________________________________________________________________________\n",
      "\n",
      "Input Text: liquid hydrogen storage material disclosed is a liquid hydrogen storage material and more particularly a hydrogen storage material which contains mphenyltoluene m2 3 and undergoes reversible dehydrogenationhydrogenation reactions or contains a binary eutectic mixture or a ternary eutectic mixture of mphenyltoluene m2 3 4'\n",
      "\n",
      "Predicted Class: 0\n",
      "\n",
      "True Class: 0\n",
      "\n",
      "Generated Text: \n",
      "\n",
      "The label is Class_01B because the text describes a \"liquid hydrogen storage material\", which falls under the category of chemical patents, specifically hydrogen storage. Class 01 of the International Patent Classification (IPC) system covers \"Chemical industry; element of chemistry; non-medicinal chemical products\".\n",
      "\n",
      "Within Class 01, B is the subclass for \"Petroleum, petrochemicals and hydrocarbons; hydrocarbon synthesis\". The patent is specifically about hydrogen storage, which is related to hydrocarbons, so B is the most relevant subclass.\n",
      "______________________________________________________________________________________________________________________________________________________\n",
      "\n",
      "Input Text: process for making ammonia an ammoniaproducing system comprises a reactor that catalytically converts nitrogen and hydrogen feed gases to ammonia to form a reaction mixture of the ammonia unreacted nitrogen gas and unreacted hydrogen gas a feed system feeds the nitrogen and hydrogen gases to the reactor at a reaction pressure of from about 9 to about 100 atmospheres a reactor control system controls the temperature during conversion of the nitrogen and hydrogen to ammonia by maintaining a reaction temperature of from about 330 c to about 550 c an absorbent selectively absorbs at least a portion of the ammonia from the reaction mixture and an absorbent control system controls one or both of a temperature and pressure at the absorbent during selective absorption of the ammonia from the reaction mixture a recycle line downstream of the absorbent recycles the unreacted nitrogen and unreacted hydrogen to the reactor'\n",
      "\n",
      "Predicted Class: 1\n",
      "\n",
      "True Class: 1\n",
      "\n",
      "Generated Text: \n",
      "\n",
      "The patent classification label is Class_01C because the text describes a process for producing ammonia, which falls under the category of chemical patent classifications.\n",
      "\n",
      "Class_01 is the subclass for Chemical Patent Classifications, and more specifically:\n",
      "\n",
      "C is the main group for \"Adaptive processing; non-electronic, e.g. chemical or biological binding agents, catalysts, elastic fibers\"\n",
      "\n",
      "This classification is a good fit because the text describes a process for catalytically converting nitrogen and hydrogen to ammonia, which involves a chemical reaction and the use of a catalyst.\n",
      "______________________________________________________________________________________________________________________________________________________\n",
      "\n",
      "Input Text: oxycombustion systems and methods with thermally integrated ammonia synthesis oxycombustion systems and oxycombustion methods include thermally integrated ammonia synthesis the oxycombustion systems may include an air separation unit that separates air into an oxygen stream and a nitrogen stream an ammonia synthesis unit synthesizes ammonia from a hydrogen feed and the nitrogen stream to form a crude ammonia stream an ammonia separation unit condenses the crude ammonia stream and separates the ammonia from any unreacted nitrogen and hydrogen to form a purified ammonia stream an oxycombustion reactor combusts a fuel from a fuel feed stream in the presence of the oxygen stream from the air separation unit to generate hot water or steam at least one thermal integration may be present in the oxycombustion systems and may be chosen from a reactor thermal linkage of the ammonia synthesis unit with the oxycombustion reactor a separator thermal linkage of the air separation unit with the ammonia separation unit or both'\n",
      "\n",
      "Predicted Class: 1\n",
      "\n",
      "True Class: 1\n",
      "\n",
      "Generated Text: \n",
      "\n",
      "The patent classification label Class_01C is for \"Chemical patent classifications\" more specifically \"Oxycombustion systems and methods with thermally integrated ammonia synthesis\" falls under chemical patent classification.\n",
      "\n",
      "The oxycombustion system described in the text involves the synthesis of ammonia, which is a chemical process. Therefore, the correct classification is Class_01C, which is a subclass of Class_01 for chemical patent classifications.\n",
      "______________________________________________________________________________________________________________________________________________________\n",
      "\n",
      "Input Text: ferroelectric particles controlled by functional coatings a method for synthesizing ferroelectric nanoparticles comprises introducing solutions of bano32 1 mmol in 5 ml of deionized water naoh 125 mmol in 5 ml of deionized water tiiv nbutoxide 1 mmol in 5 ml of 1butanol 25 ml of oleic acid and 5 ml of 1butanol into a teflonlined autoclave vessel heating the vessel to 135 c for 18 h resulting in barium titanate nanoparticles and ballmilling the barium titanate nanoparticles in a solution of oleic acid and heptane to create a colloidal suspension of nanoparticles the weight ratio of barium titanateoleic acidheptane is 1120 the ballmilling step may further comprise introducing a slurry comprising 01 g of synthesized batio3 nanocubes 01 g of oleic acid and 15 ml of heptane into a ballmill crucible filled with 2 mm zro2 balls subjecting the slurry to rotation at 500 rpm for 5 hours converting the resulting nanoparticle suspension to a powder using anhydrous ethanol with sequential washingdrying at ambient temperature'\n",
      "\n",
      "Predicted Class: 4\n",
      "\n",
      "True Class: 4\n",
      "\n",
      "Generated Text: \n",
      "\n",
      "The label Class_01F is classified as follows:\n",
      "\n",
      "- Class_01 stands for \"Chemical industry; light industry; manufacture of human beautiful articles or materials\". This is because the text describes a method for synthesizing ferroelectric nanoparticles, specifically barium titanate, which is a chemical process.\n",
      "\n",
      "- F stands for \"Solid state chemistry or technology\". This is because the text describes a method for synthesizing a specific type of solid material, ferroelectric nanoparticles.\n",
      "______________________________________________________________________________________________________________________________________________________\n",
      "\n",
      "Input Text: green pigment an inorganic green pigment includes a material with spinel structure of the general formula selected from the following formulas a a1xb1xc3xyd2xb1x2yni3yo8 wherein 005x09 and 005y05 and wherein x2y1 b a1xb1xc3xyd2xyb1xyni2yo8 wherein 005x05 and 005y05 c a1xb1xc3x4yd2xb1xynbyo8 wherein 005x05 and 005y02 d a1xb1xc3xd2x2yb1xynbyo8 wherein 005x09 and 005y02 and wherein xy and e a1xb1xc3x3yd2xb1xnb2yniyo8 wherein 005x09 and 005y02 wherein a is at least one element selected from co zn ca mg and cu wherein b is at least one element selected from li and na wherein c is at least one element selected from ti mn sn and ge and wherein d is at least one element selected from cr b fe mn and al'\n",
      "\n",
      "Predicted Class: 4\n",
      "\n",
      "True Class: 4\n",
      "\n",
      "Generated Text: \n",
      "\n",
      "The text describes a green pigment with a specific chemical structure, which is a new and specific compound. This falls under the category of \"Chemical compositions\", specifically pigments.\n",
      "\n",
      "Class_01F is the patent classification label for \"Basic organic chemistry\", but since the pigment is inorganic, it's more specific to Class_01F8, which is \"Inorganic pigments\", but since it's more specific to the composition of the pigment, it's Class_01F8 is not accurate.\n",
      "\n",
      "A more accurate classification would be Class C09D, which is \"Pigments: pigments derived from inorganic pigments\" or Class C09D11/00, which is \"Inorganic pigments, i.e. pigments of inorganic compounds\". However, since the pigment is a specific compound, it's more accurate to say Class C09D11/00 is not accurate.\n",
      "\n",
      "A more accurate classification would be Class C09D11/74, which is \"Inorganic pigments, i.e. pigments of inorganic compounds, of spinels\" or Class C09D11/74B, which is \"Inorganic pigments, i.e. pigments of inorganic compounds, of spinels, of iron or manganese compounds\" but since the pigment is not of iron or manganese compounds, it's more accurate to say Class C09D11/74B is not accurate.\n",
      "\n",
      "A more accurate classification would be Class C09D11/74 is not accurate, but Class C09D11/74A is, which is \"Inorganic pigments, i.e. pigments of inorganic compounds, of spinels, of other inorganic compounds\". \n",
      "\n",
      "However, the most accurate classification is Class C09D11/74A01, which is \"Inorganic pigments, i.e. pigments of inorganic compounds, of spinels, of other inorganic compounds, characterised by the spinel structure\" but since the patent classification label is Class_01F, I will stick with that, but if I had to choose a more accurate classification, it would be Class C09D11/74A01.\n",
      "______________________________________________________________________________________________________________________________________________________\n",
      "\n",
      "Input Text: method for preparing solid lithium salt from lithium solution an embodiment of the present invention provides a method for preparing a solid lithium salt from a lithium solution including the steps of preparing a mixture in which a phosphoruscontaining material is added to a lithium solution in step 1 adding a basic solution to the prepared mixture to adjust the ph in step 2 making the phadjusted mixture react by raising its temperature and filtering to recover lithium phosphate in step 3 preparing an acid lithium solution in which distilled water and acid are added to the recovered lithium phosphate in step 4 and recovering a solid lithium salt by evaporative concentration of the acid lithium solution in step 5'\n",
      "\n",
      "Predicted Class: 2\n",
      "\n",
      "True Class: 2\n",
      "\n",
      "Generated Text: \n",
      "\n",
      "The label Class_01D is a classification for patents in the field of chemistry, specifically for lithium salts.\n",
      "\n",
      "Here's the breakdown:\n",
      "\n",
      "* Class_01: This is the main class for patents related to chemistry.\n",
      "* D: This is a subclass within Class_01 for lithium and lithium compounds, including lithium salts.\n",
      "\n",
      "So, the label Class_01D indicates that the patent is related to the preparation of a lithium salt, which is a specific type of chemical compound.\n",
      "______________________________________________________________________________________________________________________________________________________\n",
      "\n",
      "Input Text: concentrated photoactive neutral titanium dioxide sol the present disclosure relates to methods of preparing sols of titanium dioxide nanoparticles that are photoactive neutral and in a substantially concentrated form the methods particularly provide for concentrated sols in light of washing and dewatering under low cation concentrations and utilizing rapid peptizing through addition of the filter case to the peptizing agent concentrated acid may be utilized to maintain high tio2 concentration while still avoiding precipitation of the colloidal tio2 concentrated photoactive neutral titanium dioxide sols are also provided as well as compositions thereof and photoactive coatings formed therewith'\n",
      "\n",
      "Predicted Class: 4\n",
      "\n",
      "True Class: 4\n",
      "\n",
      "Generated Text: \n",
      "\n",
      "The patent classification label Class_01F is for \"Titanium and titanium alloys; Titanium dioxide; Process for the preparation of titanium dioxide\".\n",
      "\n",
      "This label is a good fit for the text because it mentions titanium dioxide (TiO2) as the main subject, and the text describes a method for preparing concentrated photoactive neutral titanium dioxide sols. The text also mentions the use of titanium dioxide nanoparticles, which further supports this classification.\n",
      "______________________________________________________________________________________________________________________________________________________\n",
      "\n",
      "Input Text: method for storage or transportation of graphene oxide the present disclosure relates to a method for storage or transportation of graphene oxide the method for storage or transportation of graphene oxide comprises the steps of carrying out wet spinning of a graphene oxide spinning solution to a coagulating bath to obtain graphene oxide pellets drying the obtained graphene oxide pellets storing or transporting the dried graphene oxide pellets and redispersing the stored or transported graphene oxide pellets'\n",
      "\n",
      "Predicted Class: 0\n",
      "\n",
      "True Class: 0\n",
      "\n",
      "Generated Text: \n",
      "\n",
      "The label Class_01B represents the classification of the patent as follows:\n",
      "\n",
      "Class_01: Class 01 is the category for Chemicals and chemical processes. Graphene oxide is a chemical substance, and the patent is related to its storage and transportation, which involves chemical processes.\n",
      "\n",
      "B: The subclass B is more specific, which is \"Coatings: Physical properties of coating; Coating by sintering; Coating by vapor deposition or by application of flame or by electrolytic or electrophoretic application; Coating with liquid hands or with plastic material.\" \n",
      "\n",
      "However, in this case, the subclass B is more related to the fact that the patent is about the physical properties and handling of graphene oxide pellets, which can be considered as a coating or a powder.\n",
      "\n",
      "But a more accurate classification would be Class_01D, which is \"Fine particulate material (including powders, granules, fibers, etc.) related to carbon\". This classification is more specific to the material being handled in the patent, which is graphene oxide.\n",
      "______________________________________________________________________________________________________________________________________________________\n",
      "\n",
      "Input Text: preparation of a metastable tetragonal zirconia aerogel the present application discloses a process for the preparation of metastable tetragonal zirconia in the form of an aerogel material said material being capable of undergoing martensitic phase transformation to monoclinic zirconia the application also discloses composite materials such as dental filling materials having included therein an aerogel material'\n",
      "\n",
      "Predicted Class: 4\n",
      "\n",
      "True Class: 4\n",
      "\n",
      "Generated Text: \n",
      "\n",
      "The patent classification label Class_01F is for \"Zirconium; Zirconium compounds; hafnium compounds\".\n",
      "\n",
      "This label matches the text because it mentions \"zirconia\", which is a compound of zirconium. The text is also about a process for preparing zirconia, specifically a metastable tetragonal zirconia aerogel. Therefore, Class_01F is the most relevant label for this patent.\n",
      "______________________________________________________________________________________________________________________________________________________\n",
      "\n",
      "Input Text: ammonia synthesis using a catalytic nitrogenselective membrane the invention relates to a metallic membrane for nitrogen separation the method of making the membrane and methods of using the membrane the invention also relates to a metallic membrane for disassociation of nitrogen and subsequent reaction with hydrogen to produce ammonia at moderate conditions compared to a conventional haberbosch process'\n",
      "\n",
      "Predicted Class: 1\n",
      "\n",
      "True Class: 1\n",
      "\n",
      "Generated Text: \n",
      "\n",
      "The patent classification label is Class_01C because the text describes a process for producing ammonia (NH3), which is a chemical compound. Class_01 is the classification for \"Chemical industry; light industry\" in the International Patent Classification (IPC) system, and 03 is the subclass for \"Ammonia\".\n",
      "\n",
      "So, Class_01C specifically refers to the production of ammonia.\n",
      "______________________________________________________________________________________________________________________________________________________\n",
      "\n",
      "Input Text: afxstructure zeolite crystal and synthesis method thereof a zeolite crystal has an afx structure and a hexagonal plate shape ratio of a maximum feret diameter l 1  in a plan view with respect to a plate thickness in a side view is greater than or equal to 2'\n",
      "\n",
      "Predicted Class: 0\n",
      "\n",
      "True Class: 0\n",
      "\n",
      "Generated Text: \n",
      "\n",
      "The patent classification label is Class_01B because the text describes a specific type of crystal structure (AFX structure) and a method of synthesis, which falls under the category of \"Crystallography\" and \"Materials Science\".\n",
      "\n",
      "In the International Patent Classification (IPC) system, Class 01 refers to \"Chemical industry; element of chemistry; non-metallical element of general use of substances not otherwise provided for\".\n",
      "\n",
      "More specifically, subclass B refers to \"Crystallography, metaphysics of crystals, electrically insulating crystals, zeolites, and minerals\".\n",
      "\n",
      "Therefore, the classification label is Class_01B.\n",
      "______________________________________________________________________________________________________________________________________________________\n",
      "\n",
      "Input Text: method for producing metal oxide nanocrystals method for producing multielement oxide nanocrystals and metal oxide nanocrystals a method for producing metal oxide nanocrystals according to the embodiment of the present invention includes continuously flowing into a continuous flow path one or a plurality of nanocrystal precursor solutions each comprising one or more nanocrystal precursors dissolved in a nonpolar solvent directing a segmenting gas into the continuous flow path to create a segmented reaction flow flowing the segmented reaction flow into a thermal processor heating the segmented reaction flow in the thermal processor to create a product flow and collecting metal oxide nanocrystals from the product flow'\n",
      "\n",
      "Predicted Class: 4\n",
      "\n",
      "True Class: 3\n",
      "\n",
      "Generated Text: \n",
      "\n",
      "The patent classification label is Class_01F because the text describes a method for producing metal oxide nanocrystals, which falls under the category of chemical patent classifications.\n",
      "\n",
      "Class 01 is the class for Inorganic Chemistry, and more specifically, Class 01F is the subclass for Coating metal oxide or metal on substrate with inorganic material; Products and processes of general interest obtained from inorganic chemistry.\n",
      "\n",
      "This classification is based on the US Patent Classification System.\n",
      "______________________________________________________________________________________________________________________________________________________\n",
      "\n",
      "Input Text: process for potash recovery from biomethanated spent wash with concomitant environmental remediation of effluent molasses based alcohol distilleries generate highly contaminated dark coloured and foul smelling effluent biomethanated spent wash bmsw also known as post methanated effluent while the prevailing practices for treatment of alcohol distillery effluents operate on the premises of liability management high potassium content of spent wash ca 2 wv in bmsw offers an opportunity for its utilisation in production of potash fertilizersa major agricultural input the present invention provides process for potash recovery from bmsw with concomitant environmental remediation of effluent the process involves pretreatment of bmsw followed by potash recovery through selective precipitation technique to produce potash fertilizers and activated carbon while generating a relatively benign effluent gt80 remediation it may further be possible for the alcohol distilleries to achieve zld status by incorporating commercially practiced water recovery techniques viz multiple effect evaporationnanofiltrationreverse osmosis etc for downstream processing of the process effluent'\n",
      "\n",
      "Predicted Class: 2\n",
      "\n",
      "True Class: 2\n",
      "\n",
      "Generated Text: \n",
      "\n",
      "Class_01D is the correct classification label for the given patent text.\n",
      "\n",
      "Here's the breakdown:\n",
      "\n",
      "* Class_01: This is the main class for Patents related to Chemistry, inorganic chemistry, and fertilizers.\n",
      "* D: This is the sub-class for Fertilizers and Fertilizer-like products, including potash fertilizers, which is the main product of the patented process.\n",
      "\n",
      "So, Class_01D specifically refers to Patents related to fertilizers, including potash fertilizers, which is the main focus of the patented process described in the text.\n",
      "______________________________________________________________________________________________________________________________________________________\n",
      "\n",
      "Input Text: purification of hydrogen an apparatus and method for purifying a raw hydrogen gas stream of chloramines and chlorine is provided the explosive chloramines compounds can be effectively captured by the carbon adsorbent without accumulating on the carbon surface rather the chloramines are converted via decomposition into nonexplosive products with catalytic effect of the carbon material chlorine reacts with impregnated reducing agent on the carbon surface to form the solid products which can be adsorbed on the carbon surface the purified hydrogen gas contains little to no trace of chloramines and chlorine impurities thereby making the hydrogen gas suitable for liquid hydrogen production'\n",
      "\n",
      "Predicted Class: 1\n",
      "\n",
      "True Class: 0\n",
      "\n",
      "Generated Text: \n",
      "\n",
      "The patent classification label is Class_01C because the text describes a method and apparatus for purifying hydrogen gas, which falls under the category of hydrogen technology.\n",
      "\n",
      "Class_01 is the category for Chemicals and Class_01C is the subclass for Hydrogen, specifically related to the production, treatment, or purification of hydrogen.\n",
      "\n",
      "This classification is according to the United States Patent and Trademark Office (USPTO) classification system.\n",
      "______________________________________________________________________________________________________________________________________________________\n",
      "\n",
      "Input Text: multichamber hypochlorous acid dispenser the invention provides a skin disinfectant for treating skin with eczema preventing bacterial proliferation and removing biofilm compositions of the invention include hypochlorous acid acetic acid water and one or more additives or excipients the formulation process removes metal ions reduces ionic strength controls ph and reduces exposure to air thus improving stability and lengthening shelflife'\n",
      "\n",
      "Predicted Class: 0\n",
      "\n",
      "True Class: 0\n",
      "\n",
      "Generated Text: \n",
      "\n",
      "The label Class_01B corresponds to a classification in the International Patent Classification (IPC) system, which is widely used for patent classification.\n",
      "\n",
      "Class_01B specifically refers to \"Preparations for medical, dental, or toilet purposes\" and more broadly to \"Preparations for medical, dental or toilet purposes; dressings and bandages; devices for bandaging; disinfectants\" in the subclass.\n",
      "\n",
      "In the given text, the invention is related to a \"skin disinfectant\" for treating eczema, which falls under the category of \"Preparations for medical, dental, or toilet purposes\". Therefore, the correct classification label is Class_01B.\n",
      "______________________________________________________________________________________________________________________________________________________\n",
      "\n",
      "Input Text: method for preparing nickelmanganeselithiumcobalt sulfate and tricobalt tetraoxide from battery wastes a method for preparing nickelmanganeselithiumcobalt sulfate and tricobalt tetraoxide from battery wastes adopts the following process dissolving battery wastes with acid removing iron and aluminum removing calcium magnesium and copper carrying extraction separation and carrying out evaporative crystallization to prepare nickel sulfate manganese sulfate lithium sulfate cobalt sulfate orand tricobalt tetraoxide by using the method multiple metal elements such as nickel manganese lithium and cobalt can be simultaneously recovered from the battery wastes the recovered products are high in purity and can reach battery grade batterygrade tricobalt tetraoxide can also be directly produced the method is simple in process low in energy consumption and free in exhaust gas pollution and can realize zero release of wastewater'\n",
      "\n",
      "Predicted Class: 4\n",
      "\n",
      "True Class: 4\n",
      "\n",
      "Generated Text: \n",
      "\n",
      "The label is Class_01F because the text describes a method for preparing a specific chemical compound (nickel-manganese-lithium-cobalt sulfate and tricobalt tetraoxide) from battery wastes. This falls under the category of chemical patent classifications.\n",
      "\n",
      "Class_01 is the general classification for chemical patents, and F is a subclassification for rare earth metals, radioactive substances, metals, or metalloids, or processes tomaking them. Since the patent involves the recovery of nickel, manganese, lithium, and cobalt, which are all metals, Class_01F is the most appropriate classification.\n",
      "______________________________________________________________________________________________________________________________________________________\n",
      "\n",
      "Input Text: lanthanide fluoride twodimensional porous nanosheets and preparation method and applications thereof the present application provides a method for preparing lanthanide fluoride twodimensional porous nanosheets and belongs to the field of novel materials in the present application mixing a watersoluble lanthanide metal salt and an aqueous solution of sodium acetate in a nitrogen atmosphere to obtain a mixed solution and adding an aqueous solution of fluorinecontaining salt to the mixed solution obtained for precipitation reaction to produce lanthanide fluoride twodimensional porous nanosheets in the preparation process provided by the present application no additional surfactant or template agent needs to be added the pollution of the surfactant to the surface of the prepared material is avoided and the tedious aftertreatment steps to template agent are reduced accordingly the largescale production can be realized and the lanthanide fluoride twodimensional porous nanosheets constructed by nanoparticles are prepared in large scale by one step moreover no other organic solvents are required and the pollution to the environment during the preparation process is avoided'\n",
      "\n",
      "Predicted Class: 3\n",
      "\n",
      "True Class: 3\n",
      "\n",
      "Generated Text: \n",
      "\n",
      "The patent classification label is Class_01E because the text describes a method for preparing a new material, lanthanide fluoride two-dimensional porous nanosheets, which falls under the category of chemistry.\n",
      "\n",
      "Class_01 is the category for Chemistry, and E is a subgroup within Class_01 that specifically covers Organic chemistry, and more broadly, Chemical elements or Compounds.\n",
      "\n",
      "However, since the text specifically mentions lanthanide fluoride, which is an inorganic compound, the more specific subclass is Class_01J, which covers Inorganic chemistry.\n",
      "\n",
      "So, a more precise classification label would be Class_01J.\n",
      "______________________________________________________________________________________________________________________________________________________\n",
      "\n",
      "Input Text: highly homogenous zeolite precursors the invention provides methods and compositions for precursors and for the synthesis of zeolites the invention makes use of intimately homogeneous precursors which avoid the formation of a difficult to work with gel stage in zeolite formation this allows for the synthesis of zeolite in a much shorter period of time and with much lower amounts of structure directing agents'\n",
      "\n",
      "Predicted Class: 0\n",
      "\n",
      "True Class: 0\n",
      "\n",
      "Generated Text: \n",
      "\n",
      "The patent classification label Class_01B is for \"Organic compounds; processes for the preparation of organic compounds\" but more specifically Class B01 is for \"Physical or chemical processes or apparatus in general; not otherwise provided for\" and subclass B01B is for \"Zeolites; zeolite composites; zeolite-like materials; their intercalation compounds; processes for their manufacture, or for their modification\".\n",
      "\n",
      "The text describes a method for synthesizing zeolites, specifically using highly homogenous precursors to reduce the formation of a gel stage and shorten the synthesis time. This is a process for the manufacture of zeolites, which falls under Class B01B.\n",
      "______________________________________________________________________________________________________________________________________________________\n",
      "\n",
      "Input Text: aqueous solution containing aluminum ions lactate ions and phosphate ions and a method for their production the invention relates to an aqueous solution containing aluminum ions characterized in that the solution contains aluminum ions in a proportion of 0515 converted if necessary to al3 based on the total mass of the solution as well as anions of lactic acid lactate ions and of phosphoric acid phosphate ions and has the theoretical composition al3ac3h5o3xasmyah2po4zaoh3axamyaza wherein s is the anion of an acid with the charge m x is a value in the range of 0528 y is a value in the range of 015 and z is a value in the range of 00115'\n",
      "\n",
      "Predicted Class: 3\n",
      "\n",
      "True Class: 0\n",
      "\n",
      "Generated Text: \n",
      "\n",
      "The text describes a specific aqueous solution containing aluminum ions, lactate ions, and phosphate ions, and a method for producing it.\n",
      "\n",
      "Class_01E is a valid USPC (United States Patent Classification) classification for \"Aluminum compounds\" and more specifically \"Aluminum salts of organic or inorganic acids\".\n",
      "\n",
      "This classification matches the description of the patent, which is focused on aluminum ions and their salts (lactate and phosphate ions) in an aqueous solution.\n",
      "______________________________________________________________________________________________________________________________________________________\n",
      "\n",
      "Input Text: filmforming material a filmforming material of the present invention contains an oxyfluoride of yttrium represented by yoxfy x and y are numbers satisfying 0ltx and xlty and yf3 wherein a ratio i2i1 of a peak height i2 of the 020 plane of yf3 to a peak height i1 of the main peak of yoxfy as analyzed by xrd is from 0005 to 100 it is preferable that a ratio i4i1 of a peak height i4 of the main peak of y2o3 to the peak height i1 of the main peak of yoxfy as analyzed by xrd is 001 or less'\n",
      "\n",
      "Predicted Class: 3\n",
      "\n",
      "True Class: 3\n",
      "\n",
      "Generated Text: \n",
      "\n",
      "The text describes a specific composition of a film-forming material, mentioning oxyfluoride of yttrium and its crystalline structure as analyzed by XRD (X-ray Diffraction). This is a very specific and technical description, which is characteristic of patent claims in the field of materials science.\n",
      "\n",
      "Class_01E is the patent classification label for \"Chemical compositions, e.g. oxyfluorides; Compositions of yttrium\".\n",
      "\n",
      "Here's the breakdown:\n",
      "\n",
      "* Class_01 is the main class for \"Chemical compositions\"\n",
      "* E is the subclass for \"Oxyfluorides; Compositions of yttrium\"\n",
      "______________________________________________________________________________________________________________________________________________________\n",
      "\n",
      "Input Text: synthetic multifaceted halogenated functionalized fullerenes engineered for microbicidal effects employing controlled contact for safe therapeutic and environmental utility the present invention relates to a bioactive or realtime and pathogen killing material comprised of a carbon nanostructure preferably a fullerene but including other functionalized carbonbased nanostructures that possess potent broadspectrum antimicrobial properties the present invention relates to the utilization of functionalized carbon nanostructures as a bioactive antimicrobial substance that is incorporated into a material including a textile fabric solution salve or cream the preferred embodiment of the present invention is fullerene derivatives that are chemically functionalized on the cage with a halogen element the present invention pertains to a material that is suitable for barrier garments accessory garments shoe covers masks facial visors etc textiles bed sheets blankets towels personal clothing gowns surgical drapes curtains drapes pads etc filtration matrices for use in hemodialysis hemofiltration etc or aerosolized solutions sprays liquids salves or creams the present invention further relates to a production method thereof'\n",
      "\n",
      "Predicted Class: 0\n",
      "\n",
      "True Class: 0\n",
      "\n",
      "Generated Text: \n",
      "\n",
      "The patent classification label Class_01B is for \"Peptides'.\n",
      "However, this doesn't seem to be the correct classification for the given text.\n",
      "\n",
      "A more suitable classification would be Class C08 (Organic compounds) -> C08J (Halogenated organic compounds) -> C08J7 (Fullerenes).\n",
      "\n",
      "But, the most relevant classification would be Class A01P (Preparing or treating biological materials) -> A01P7 (Preparing or treating materials for medical, dental, or toilet purposes).\n",
      "\n",
      "However, the best classification for the given text would be Class A01P7 (Preparing or treating materials for medical, dental, or toilet purposes) -> A61M (Preparations for medical, dental, or toilet purposes) -> A61M31 (Antimicrobial preparations).\n",
      "\n",
      "The final classification label is A61M31.\n",
      "______________________________________________________________________________________________________________________________________________________\n",
      "\n",
      "Input Text: electrode material for lithium ion secondary battery electrode material granulated body for lithium ion secondary battery electrode for lithium ion secondary battery and lithium ion secondary battery an electrode material for a lithium ion secondary battery of the present invention is an electrode material for a lithium ion secondary battery including an electrode active material and a carbonaceous film that coats a surface of the electrode active material in which a hydroxy group and a group which is at least one selected from a carboxyl group a nitro group and a sulfo group have been introduced to an outermost surface of the carbonaceous film a ratio of a total count number of the group which is at least one selected from the carboxyl group the nitro group and the sulfo group to a count number of the hydroxy group is 0001 or more and 10000 or less when a surface of the carbonaceous film is analyzed through timeofflight secondary ion mass spectrometry to obtain the ratio a coating ratio of the carbonaceous film is set to 40 or more and 90 or less and the carbonaceous film has at least one throughhole per 100 square nanometers'\n",
      "\n",
      "Predicted Class: 2\n",
      "\n",
      "True Class: 0\n",
      "\n",
      "Generated Text: \n",
      "\n",
      "The label Class_01D is a classification for a Lithium-ion battery, which is a specific type of battery. Here's a breakdown of the label:\n",
      "\n",
      "* Class_01: This is the main class for Batteries, which includes all types of batteries.\n",
      "* D: This is a subclass for Electrochemical batteries with an electrochemical cell, which includes Lithium-ion batteries.\n",
      "\n",
      "The text describes an electrode material for a Lithium-ion secondary battery, which is a key component of a Lithium-ion battery. Therefore, the classification label Class_01D is a good fit.\n",
      "______________________________________________________________________________________________________________________________________________________\n",
      "\n",
      "Input Text: magnesium sulfate granulates based on synthetic magnesium sulphate magnesium sulfate granulates contain at least 90 wt  synthetic magnesium sulphate hydrate with respect to the total mass of the magnesium sulphate granulate and have a dry loss of less than 2 wt  determined by drying of the granulate for 2 hours at 105 c and 1 bar further a method is used for producing said magnesium sulfate granulates and to their use in ureacontaining fertilizer compositions'\n",
      "\n",
      "Predicted Class: 3\n",
      "\n",
      "True Class: 3\n",
      "\n",
      "Generated Text: \n",
      "\n",
      "The label Class_01E represents the classification of the patent in the following way:\n",
      "\n",
      "Class_01: This is the main class for Patents in Chemistry, inorganic chemistry, and organic chemistry.\n",
      "\n",
      "E: This is a subclass that specifically deals with Fertilizers, in this case, magnesium sulfate granulates used in urea-containing fertilizer compositions.\n",
      "______________________________________________________________________________________________________________________________________________________\n",
      "\n",
      "Input Text: upgrade of yttrium in a mixed rare earth stream using iminodiacetic acid functionalized resin disclosed herein are methods techniques and processes for enhancing the purity of a mixed rare earth solution in one embodiment the rare earth mixture may include lanthanum cerium praseodymium neodymium promethium samarium europium gadolinium terbium dysprosium holmium erbium thulium ytterbium lutetium scandium andor yttrium in one embodiment the resin is a chelating resin that interacts poorly with one or more rare earth elements in one embodiment a rare earth is selectively excluded for example lanthanum sometimes considered a transition metal cerium praseodymium neodymium promethium samarium europium gadolinium terbium dysprosium holmium erbium thulium ytterbium lutetium scandium andor yttrium in one embodiment yttrium is selectively excluded from the column'\n",
      "\n",
      "Predicted Class: 3\n",
      "\n",
      "True Class: 3\n",
      "\n",
      "Generated Text: \n",
      "\n",
      "The label Class_01E is a classification for patent applications related to Chemistry, specifically rare earth metal chemistry.\n",
      "\n",
      "Here's the breakdown:\n",
      "\n",
      "* Class_01: Chemistry\n",
      "* E: Subclass for rare earth metals and alloys\n",
      "\n",
      "This classification label indicates that the patent application is related to the chemistry of rare earth metals, including their extraction, purification, and processing.\n",
      "______________________________________________________________________________________________________________________________________________________\n",
      "\n",
      "Input Text: methods for the production of potassium sulphate from potassiumcontaining ores at high ambient temperatures a method for the production of potassium sulphate comprising contacting an aqueous potassium and sulphatecontaining composition with magnesium chloride mgcl2 thereby obtaining a composition comprising kainite optionally concentrating the kainite from the composition reacting the kainite with magnesium sulphate mgso4 and potassium sulphate k2so4 so as to convert the kainite into leonite k2so4mgso44h2o optionally contacting the leonite with water to remove excess mgso4 and contacting the leonite with water so as to leach the mgso4 contained in the leonite and to at least substantially selectively precipitate potassium sulphate k2so4 the method can be operated at higher temperatures in particular at temperatures above 35 c and does not require a cooling step at 20 to 25 c the method produces potassium sulphate with a low amount of chloride'\n",
      "\n",
      "Predicted Class: 2\n",
      "\n",
      "True Class: 2\n",
      "\n",
      "Generated Text: \n",
      "\n",
      "The label Class_01D represents the classification of the patent in the following categories:\n",
      "\n",
      "Class_01: Chemistry\n",
      "\n",
      "D: Alkali metal or alkaline-earth metals; rare-earth metals; nonmetals; carbonization; hydrides.\n",
      "\n",
      "This label is appropriate because the patent text describes a method for producing potassium sulphate, which is a chemical process involving the use of potassium-containing ores and magnesium chloride. The process involves chemical reactions and the production of a specific chemical compound, potassium sulphate. Therefore, the classification label Class_01D is a good fit.\n",
      "______________________________________________________________________________________________________________________________________________________\n",
      "\n",
      "Input Text: ceriumbased abrasive material and process for producing same a ceriumbased abrasive that achieves a high polishing rate and suppresses the occurrence of surface defects such as scratches and pits and the deposition of the abrasive particles on the polished surface in surface polishing of glass substrates or the like at low cost with a high production efficiency the ceriumbased abrasive includes a cubic composite rare earth oxide and a composite rare earth oxyfluoride containing 950 to 995 mass  of total rare earth elements in terms of oxides containing 545 to 950 mass  of cerium in terms of oxide 45 to 450 mass  of lanthanum in terms of oxide and 05 to 20 mass  of neodymium in terms of oxide relative to the total rare earth elements in terms of oxides containing 05 to 40 mass  of fluorine atoms and containing 0001 to 050 mass  of sodium atoms relative to the total rare earth elements in terms of oxides'\n",
      "\n",
      "Predicted Class: 3\n",
      "\n",
      "True Class: 3\n",
      "\n",
      "Generated Text: \n",
      "\n",
      "The label Class_01E is a classification for patent labels, where \"01\" stands for \"Chemical industry; Metallurgy\" and the letter \"E\" stands for a more specific subclassification.\n",
      "\n",
      "The text describes a cerium-based abrasive material and its production process, which falls under the category of chemical industry and metallurgy. The specific composition of the cerium-based abrasive, including the rare earth elements and their proportions, further refines the classification to subclass E, which typically covers inorganic chemistry, including abrasives and polishing agents.\n",
      "\n",
      "So, Class_01E is a fitting classification for the given patent text.\n",
      "______________________________________________________________________________________________________________________________________________________\n",
      "\n",
      "Input Text: method for preparing amorphous geh under high pressure the present invention provides a preparation method of amorphous geh and belongs to the field of preparation technologies of amorphous geh the preparation method provided in the present invention includes the following step sealing crystalline geh a pressure calibration object and a pressure transmitting medium in a cavity of a diamond anvil cell and adjusting pressure in the cavity to obtain amorphous geh in the present invention pressure is applied to the geh in the sealed diamond anvil cell to implement amorphization of the geh at room temperature in this way impurities can hardly be found in the preparation method and pure amorphous geh can be obtained in addition the method provided in the present invention has simple operations and good repeatability'\n",
      "\n",
      "Predicted Class: 3\n",
      "\n",
      "True Class: 0\n",
      "\n",
      "Generated Text: \n",
      "\n",
      "The label Class_01E is a classification for patents, specifically in the International Patent Classification (IPC) system. Here's why I chose it:\n",
      "\n",
      "* \"Class_01\" refers to the main category of \"Chemical industry; Light industry; Physics applied to chemistry; As far as the means of production are concerned\". This is because the patent text describes a method for preparing a chemical substance, amorphous GeH.\n",
      "* \"E\" is a subclass within Class 01, specifically referring to \"Chemical processes\". This is because the patent text describes a method for preparing a chemical substance through a specific chemical process, namely high-pressure amorphization.\n",
      "\n",
      "So, Class_01E is a fitting classification for this patent, as it indicates that the patent is related to a chemical process for preparing a specific chemical substance.\n",
      "______________________________________________________________________________________________________________________________________________________\n",
      "\n",
      "Input Text: nutrient recovery systems and methods methods systems and apparatuses for anaerobic digestion of waste fibrous material and the recovery of nutrients are provided methods systems and apparatuses disclosed herein provide mechanisms to release dissolved gases from anaerobic digester effluent methods systems and apparatuses disclosed herein can recover one or more nutrients from anaerobic digested effluent using a range of temperatures aeration rates aeration times ph ranges and settling times'\n",
      "\n",
      "Predicted Class: 3\n",
      "\n",
      "True Class: 1\n",
      "\n",
      "Generated Text: \n",
      "\n",
      "The label Class_01E is a classification for patent applications related to \"Environmental or Ecological Science/Technique; Conservation and Resources Utilization; Wildlife Protection/Conservation, etc.\"\n",
      "\n",
      "In this case, the text describes systems and methods for anaerobic digestion of waste fibrous material and the recovery of nutrients, which falls under the category of environmental or ecological science/technique, specifically waste management and resource recovery.\n",
      "\n",
      "The specific subclass 01E likely refers to a more specific subcategory within Class 01, such as \"Resource, Wildlife Conservation and Utilization\" or \"Ecological Science/Technique: Conservation and Resources Utilization\".\n",
      "______________________________________________________________________________________________________________________________________________________\n",
      "\n",
      "Input Text: method of producing highplurality lithium carbonate by controlling particle size particle size distribution and particle shape disclosed is a method of producing highpurity lithium carbonate from lowpurity crude lithium carbonate the method includes a producing crude lithium carbonate slurry by mixing crude lithium carbonate having a polycrystalline state and a size of 20 to 200 m with water b carbonating and dissolving the crude lithium carbonate slurry c performing primary solidliquid separation to obtain a filtrate d adding soluble barium salts to the filtrate to deposit barium sulfate e performing secondary solidliquid separation for the filtrate containing the deposited barium sulfate to obtain a filtrate f mixing lithium carbonate seed crystals with the filtrate obtained from the secondary solidliquid separation and precipitating lithium carbonate dissolved in the filtrate on surfaces of the lithium carbonate seed crystals to produce highpurity lithium carbonate slurry containing highpurity lithium carbonate by controlling a particle size and g carbonating the highpurity lithium carbonate slurry to produce highpurity lithium carbonate'\n",
      "\n",
      "Predicted Class: 2\n",
      "\n",
      "True Class: 2\n",
      "\n",
      "Generated Text: \n",
      "\n",
      "The text describes a method for producing high-purity lithium carbonate, which is a chemical process. Class_01D is a subclass of Class 01, which covers chemical patent applications. Specifically, Class 01D covers lithium compounds, and the text fits within this category as it describes a process for producing lithium carbonate.\n",
      "______________________________________________________________________________________________________________________________________________________\n",
      "\n",
      "Input Text: spinel particles method for producing same and composition and molding including spinel particles spinel has conventionally been used as mentioned above in applications such as gems catalyst carriers adsorbents photocatalysts optical materials and heatresistant insulating materials and is not expected to be used in an application of an inorganic filler having thermal conductive properties accordingly an object of the present invention is to provide spinel particles having excellent thermal conductive properties a spinel particle having spinel containing a magnesium atom an aluminum atom and an oxygen atom and molybdenum being existed on the surface of andor in the inside of the spinel wherein the crystallite diameter of the spinel at the 311 plane is 100 nm or more'\n",
      "\n",
      "Predicted Class: 4\n",
      "\n",
      "True Class: 3\n",
      "\n",
      "Generated Text: \n",
      "\n",
      "The label Class_01F is for \"Hard Ceramic Materials, i.e. Materials Produced by Sintering Inorganic Ceramics, Other Than Silicates, e.g. Alumina, Zirconia; Ceramic Component Is An Article of Manufacture or an Intermediate Product of the Class 501/12, 501/13, 501/136, 501/137, 501/138, 501/139, 501/140, 501/141, 501/142, 501/143, 501/144, 501/145, 501/146, 501/147, 501/148, 501/149, 501/150, 501/151, 501/152, 501/153, 501/154, 501/155, 501/156, 501/157, 501/158, 501/159, 501/160, 501/161, 501/162, 501/163, 501/164, 501/165, 501/166, 501/167, 501/168, 501/169, 501/170, 501/171, 501/172, 501/173, 501/174, 501/175, 501/176, 501/177, 501/178, 501/179, 501/180, 501/181, 501/182, 501/183, 501/184, 501/185, 501/186, 501/187, 501/188, 501/189, 501/190, 501/191, 501/192, 501/193, 501/194, 501/195, 501/196, 501/197, 501/198, 501/199, 501/200, 501/201, 501/202, 501/203, 501/204, 501/205, 501/206, 501/207, 501/208, 501/209, 501/210, 501/211, 501/212, 501/213, 501/214, 501/215, 501/216, 501/217, 501/218, 501/219, 501/220, 501/221, 501/222, 501/223, 501/224, 501/225, 501/226, 501/227, 501/228, 501/229, 501/230, 501/231, 501/232, 501/233, 501/234, 501/235, 501/236, 501/237, 501/238, 501/239, 501/240, 501/241, 501/242, 501/243, 501/244, 501/245, 501/246, 501/247, 501/248, 501/249, 501/250, 501/251, 501/252, 501/253, 501/254, 501/255, 501/256, 501/257, 501/258, 501/259, 501/260, 501/261, 501/262, 501/263, 501/264, 501/265, 501/266, 501/267, 501/268, 501/269, 501/270, 501/271, 501/272, 501/273, 501/274, 501/275, 501/276, 501/277, 501/278, 501/279, 501/280, 501/281, 501/282, 501/283\n",
      "______________________________________________________________________________________________________________________________________________________\n",
      "\n",
      "Input Text: metal oxide and synthesis of lithium ion battery the present application relates to a metal oxide and synthesis of a lithium ion battery specifically the present application selects a cobalt oxide compound which uses co3o4 as a main body as a precursor of lithium cobalt oxide and anion doping is performed in particles of co3o4 to obtain a doped precursor for lithium cobalt oxide the general formula of the precursor can be expressed as co3o1ymy4 where about 0ltyltabout 02 and wherein the anion m comprises at least one of f p s cl n as se br te i or at the lithium ion battery with a cathode made of lithium cobalt oxide material prepared by using the precursor presents good cycle stability in a high voltage chargedischarge environment'\n",
      "\n",
      "Predicted Class: 4\n",
      "\n",
      "True Class: 4\n",
      "\n",
      "Generated Text: \n",
      "\n",
      "The patent classification label is Class_01F because the text describes a specific material (metal oxide) and its application in the synthesis of a lithium ion battery, which is a type of battery.\n",
      "\n",
      "* Class_01 refers to Chemistry, inorganic chemistry, and more specifically, Class_01F refers to Lithium compounds, Lithium metal, Lithium ions.\n",
      "\n",
      "This classification is according to the United States Patent and Trademark Office (USPTO) patent classification system.\n",
      "______________________________________________________________________________________________________________________________________________________\n",
      "\n",
      "Input Text: method of producing zeolite film provided is a method of producing a zeolite film continuously and efficiently the method of forming zeolite on a surface of a support is characterized in that the method includes a first step of attaching zeolite fine crystals to a surface of a support a second step of preparing synthetic gel for growing the fine crystals a third step of putting the support and the synthetic gel into a continuous reactor and performing hydrothermal synthesis and a fourth step of cleaning the support on which zeolite has been hydrothermally synthesized and in the third step the temperature pressure and flow of the synthetic gel in the continuous reactor is adjusted the support is moved being immersed in the synthetic gel the reaction time of the hydrothermal synthesis is adjusted by adjusting the time from when the support enters the continuous reactor to when the support exits the continuous reactor'\n",
      "\n",
      "Predicted Class: 0\n",
      "\n",
      "True Class: 0\n",
      "\n",
      "Generated Text: \n",
      "\n",
      "The label Class_01B represents a classification for zeolite film production, which falls under the category of \"Petroleum, petrochemical, and natural gas\" in the International Patent Classification (IPC) system.\n",
      "\n",
      "Class_01 is the main class for chemical industry; petroleum, petrochemicals, natural rubber (including synthetic rubber), and cokes.\n",
      "\n",
      "B is the subclass for petroleum, petrochemical and natural gas. \n",
      "\n",
      "Therefore, Class_01B is a suitable classification for the given text, which describes a method of producing a zeolite film.\n",
      "______________________________________________________________________________________________________________________________________________________\n",
      "\n",
      "Input Text: method for producing nanomagnetite the application relates to a method for preparing magnetite comprising steps of a reaction at a temperature of 100 to 500 c of a material containing wstite with water in order to obtain a solid comprising magnetite and then b recovery of the magnetite in the form of particles wherein more than 25 by weight are of nanometric size'\n",
      "\n",
      "Predicted Class: 4\n",
      "\n",
      "True Class: 4\n",
      "\n",
      "Generated Text: \n",
      "\n",
      "The label Class_01F is a classification for patents in the International Patent Classification (IPC) system. Here's the breakdown:\n",
      "\n",
      "* Class_01: This is the main class for patents related to Chemistry, inorganic chemistry.\n",
      "* F: This is a subclass within Class_01, specifically for magnetism, magnetic materials, and magnetism-related processes.\n",
      "\n",
      "So, the label Class_01F indicates that the patent is related to a method for preparing magnetic materials, specifically magnetite, which is a type of iron oxide with magnetic properties.\n",
      "______________________________________________________________________________________________________________________________________________________\n",
      "\n",
      "Input Text: precipitated alumina and method of preparation a process for producing alumina the process having a seeding phase and a precipitation phase during the seeding phase a seed mixture is produced by adding an aluminium salt to an aqueous solution and then adding an alkaline metal aluminate to the mixture while maintaining the seed mixture at generally neutral ph the precipitation phase produces precipitated alumina by simultaneously adding aluminium salt and alkaline metal aluminate to the seed mixture while maintaining a ph from 69 to 78 the recovered precipitated alumina has at least one preferably all the following characteristics i a crystallite size of 3342 ang in the 120 diagonal plane using xrd ii a crystallite dspacing 020 of between 630659 ang iii a high porosity with an average pore diameter of 115166 ang iv a relatively low bulk density of 250350 kgm3 v a surface area after calcination for 24 hours at 1100 c of 6080 m2g and vi a pore volume after calcination for one hour at 1000 c 0811 m3g'\n",
      "\n",
      "Predicted Class: 3\n",
      "\n",
      "True Class: 3\n",
      "\n",
      "Generated Text: \n",
      "\n",
      "The label Class_01E represents the classification of the patent in the International Patent Classification (IPC) system.\n",
      "\n",
      "Class_01E specifically refers to \"Alumina, other than refractory alumina'.\n",
      "This classification is appropriate because the text describes a process for producing alumina, which is a specific type of aluminum oxide compound.\n",
      "______________________________________________________________________________________________________________________________________________________\n",
      "\n",
      "Input Text: synthesis of ammonia an ammonia synthesis apparatus has a piston arranged to reciprocate within a cylinder a piston rod arranged to drive the piston in a reciprocal motion within the cylinder an inlet valve linking a supply of nitrogen and hydrogen to the interior of the cylinder an outlet valve allowing exhaust of ammonia from the cylinder and a drive mechanism providing drive to the piston rod'\n",
      "\n",
      "Predicted Class: 1\n",
      "\n",
      "True Class: 1\n",
      "\n",
      "Generated Text: \n",
      "\n",
      "The label Class_01C represents a classification in the patent classification system for \"Chemical Patent Classification\".\n",
      "\n",
      "01C specifically refers to \"Ammonia\" which is a subclass of chemical synthesis, indicating that the patent is related to the synthesis of ammonia. \n",
      "\n",
      "This classification is in accordance with the International Patent Classification (IPC) system, which is widely used to categorize patent applications and grants.\n",
      "______________________________________________________________________________________________________________________________________________________\n",
      "\n",
      "Input Text: alumina and method for producing automotive catalyst using same an alumina having a multimodal particle size distribution wherein at least one of the particle sizes giving local maximum values in the particle size distribution is less than 10 m and wherein the alumina comprises 1 to 5 wt  of at least one of la and ba'\n",
      "\n",
      "Predicted Class: 3\n",
      "\n",
      "True Class: 3\n",
      "\n",
      "Generated Text: \n",
      "\n",
      "The label Class_01E is a classification for patents, and it stands for:\n",
      "\n",
      "* Class_01: Chemistry\n",
      "* E: Catalysis; Bieningering; Ceramic Processes; Contacts Under Electron Beam Irradiation; Electrolytic or Electrophoretic Processes; Liquification of Materials; Materials For Thermostating and Cryostating\n",
      "\n",
      "This label fits the text because it describes a method for producing alumina, which is a chemical process, and an automotive catalyst, which involves catalysis.\n",
      "______________________________________________________________________________________________________________________________________________________\n",
      "\n",
      "Input Text: electrothermochemical li cycling for nh3 synthesis from n2 and h2o an electrothermochemical cycling system for producing ammonia is provided that includes a reaction chamber having a metal compound input port an anode suitable for oxidation in contact with the metal compound and configured for oxidation of hydroxide ions to water and oxygen a cathode suitable for plating in contact with the metal compound and configured to electrolyze the metal compound to metal a voltage source connecting the cathode and anode a nitrogen port to the reaction chamber that combines nitrogen with the electrolyzed metal on the cathode to form a metalnitrogen compound proximal to the nitrogen input an atomic hydrogen port to the reaction chamber that combines with the metalnitrogen compound to form ammonia and an ammonia output port from the reaction chamber where a metal compound input port inputs the metal compound to the reaction chamber according to a depletion rate of the metal compound in the reaction chamber'\n",
      "\n",
      "Predicted Class: 1\n",
      "\n",
      "True Class: 1\n",
      "\n",
      "Generated Text: \n",
      "\n",
      "The label Class_01C is a classification of the patent document. Here's why:\n",
      "\n",
      "* Class_01 refers to the main category of the patent, which is \"Chemical Processes or Compositions\". This is because the patent describes a process for producing ammonia (NH3) through electrothermochemical cycling.\n",
      "* C is the subclass, which is a more specific category within the main class. In this case, Class C is \"Electrolytic Composition of Matter or Process\". This is because the patent describes an electrochemical process for producing ammonia.\n",
      "\n",
      "So, the full classification label Class_01C indicates that the patent is related to a chemical process (Class 01) that involves electrolysis (subclass C).\n",
      "______________________________________________________________________________________________________________________________________________________\n",
      "\n",
      "Input Text: method apparatus and system for manufacture of a cyanide a method for producing a cyanide including the steps of supplying a hydrocarbon and nitrogen source to an onsite plasma reactor and removing cyanide synthesised inside the onsite plasma reactor to thereby produce the cyanide is disclosed also disclosed is a method which includes a monitor for monitoring the cyanide requirement of an onsite cyanide utilising system and supplying the hydrocarbon and nitrogen source in accordance with the cyanide requirement additionally a method for recovering refining purifying or treating a metal including the steps of monitoring a cyanide requirement of the method and supplying to the method in a just in time sequence a cyanide synthesised onsite to thereby recover refine purify or treat the metal is disclosed'\n",
      "\n",
      "Predicted Class: 1\n",
      "\n",
      "True Class: 1\n",
      "\n",
      "Generated Text: \n",
      "\n",
      "The patent classification label Class_01C is for \"Chemical or elemental nitrogen, Cyanides, Isocyanides\".\n",
      "\n",
      "This classification matches the text, which describes a method for producing cyanide and using it to recover, refine, or treat a metal. The text specifically mentions cyanide as the product being synthesized and used, which aligns with the Class_01C classification.\n",
      "______________________________________________________________________________________________________________________________________________________\n",
      "\n",
      "Input Text: process for producing crystallized metal sulfates a process for generating a metal sulfate that involves crystallizing a metal sulfate from an aqueous solution to form a crystallized metal sulfate in a mother liquor with uncrystallized metal sulfate remaining in the mother liquor separating the crystallized metal sulfate from the mother liquor basifying a portion of the mother liquor to convert the uncrystallized metal sulfate to a basic metal salt and using the basic metal salt upstream of crystallizing the metal sulfate so crystallized the generated metal sulfate may be batterygrade or electroplatinggrade'\n",
      "\n",
      "Predicted Class: 2\n",
      "\n",
      "True Class: 4\n",
      "\n",
      "Generated Text: \n",
      "\n",
      "The label Class_01D is a classification for a patent related to Chemistry, specifically \"Chemical processes or compositions other than food or synthetic resins; Chemistry not limited to a particular commodity, e.g., chemistry of air, water, fuels and related products, chemistry of metal and nonmetal halides; insulating nonmetallic compositions\".\n",
      "\n",
      "In the given text, the process is related to producing crystallized metal sulfates, which falls under chemical processes and compositions. Therefore, Class_01D is the most relevant label for this patent.\n",
      "______________________________________________________________________________________________________________________________________________________\n",
      "\n",
      "Input Text: process for making molecular sieves a method of synthesising a molecular sieve of ddr framework type the method comprises preparing a synthesis mixture capable of forming a molecular sieve of ddr framework type said synthesis mixture comprising water a silicon source optionally a source of a trivalent element x optionally a source of a pentavalent element z optionally a source of hydroxide ions optionally a source of a metal cation m a structure directing agent and seed crystals having a framework type selected from cha and lev said synthesis mixture being substantially free from fluoride ions heating said synthesis mixture under static crystallization conditions for a time sufficient to form crystals of said molecular sieve of ddr framework type said crystallization conditions including a temperature of from 100 c to 220 c and recovering said crystals of the molecular sieve of ddr framework type from the synthesis mixture'\n",
      "\n",
      "Predicted Class: 0\n",
      "\n",
      "True Class: 0\n",
      "\n",
      "Generated Text: \n",
      "\n",
      "The patent classification label Class_01B is for \"Organic compounds; processes for the preparation of compounds or of organic products by reactions involving the use of specific organic compounds as reagents\".\n",
      "\n",
      "However, this label doesn't perfectly fit the description of the patent.\n",
      "\n",
      "A more suitable label would be Class C01B33/00, which is for \"Molecular sieves; Processes for their preparation\".\n",
      "\n",
      "This label is a subclass of Class C01B, which is for \"Inorganic compounds; Organic compounds; Biocides; Pharmaceutical and perfume materials; Polymers; Dyes; Antiseptics; Exploitation of geothermal energy; Combustion of fuel\".\n",
      "\n",
      "The description of the patent is about a process for making molecular sieves, which is a specific type of inorganic compound.\n",
      "______________________________________________________________________________________________________________________________________________________\n",
      "\n",
      "Input Text: process and system to capture ammonia from a purge gas of a urea plant a process and system for removing ammonia from ammoniacontaining purge gas of a urea plant the process comprising contacting said ammoniacontaining purge gas with carbon dioxide at a low temperature reaction of ammonia to form crystals of ammonium salts in a multiphase stream and removal of the solid ammonium salts from the multiphase stream'\n",
      "\n",
      "Predicted Class: 1\n",
      "\n",
      "True Class: 1\n",
      "\n",
      "Generated Text: \n",
      "\n",
      "The label Class_01C is a classification of the patent text as a chemical patent, specifically related to nitrogen compounds.\n",
      "\n",
      "Here's the step-by-step reasoning:\n",
      "\n",
      "* Class_01 is the main class for chemical patents.\n",
      "* 03 is the subclass for nitrogen compounds.\n",
      "* C is the sub-subclass for ammonia, which is a specific nitrogen compound.\n",
      "\n",
      "This classification label indicates that the patent text is related to the production, processing, or manipulation of ammonia or ammonia-containing compounds.\n",
      "______________________________________________________________________________________________________________________________________________________\n",
      "\n",
      "Input Text: process for the recovery of sodium sulfate a process for the recovery of sodium sulfate from water in particular from water deriving from a silica manufacturing process'\n",
      "\n",
      "Predicted Class: 2\n",
      "\n",
      "True Class: 2\n",
      "\n",
      "Generated Text: \n",
      "\n",
      "The label Class_01D is a classification for chemical patent processes. \n",
      "\n",
      "Sodium sulfate is a chemical compound, and the text describes a process for recovering it. This falls under the category of chemical patent processes, specifically Class_01 which covers organic chemistry, and Class_01D which covers chemical processes or treatments.\n",
      "______________________________________________________________________________________________________________________________________________________\n",
      "\n",
      "Input Text: paraaminobenzoic acid sensitized terbium doped laf3 nanoparticles for detection of explosive nitro compounds the patent relates to para amino benzoic acid paba sensitized terbium tb3 doped spherical laf3 nanoparticles used for detection of nitro group containing compounds using the terbium tb3 doped spherical laf3 nanoparticles sensitized by para amino benzoic acid paba'\n",
      "\n",
      "Predicted Class: 4\n",
      "\n",
      "True Class: 3\n",
      "\n",
      "Generated Text: \n",
      "\n",
      "The patent classification label Class_01F is correct because the patent text describes a specific composition and method for detecting explosive nitro compounds, which falls under the category of explosive detection.\n",
      "\n",
      "Here's a breakdown of the classification:\n",
      "\n",
      "* Class_01: Chemistry\n",
      "* F: Explosive substances; processes for their preparation; or for their application in industry; explosive compositions\n",
      "\n",
      "The text specifically mentions \"explosive nitro compounds\" and describes a method for detecting them, which aligns with the Class_01F classification.\n",
      "______________________________________________________________________________________________________________________________________________________\n",
      "\n",
      "Input Text: method for producing calcium sulphate hemihydrate with unique properties the present invention relates to a new method for producing a calcium sulphate hemihydrate with unique properties for use for therapeutic applications in the cosmetic or pharmaceutical industry calcium sulphate hemihydrate is a biocompatible and biodegradable inorganic substance and thus suitable as a carrier in pharmaceutical compositions eg a controlled release composition containing at least one pharmaceutically active ingredient'\n",
      "\n",
      "Predicted Class: 3\n",
      "\n",
      "True Class: 3\n",
      "\n",
      "Generated Text: \n",
      "\n",
      "Class_01E is a valid Class 01E patent classification label. Here's why:\n",
      "\n",
      "* Class 01 is the category for Inorganic Chemistry, which is relevant because the patent text mentions calcium sulphate hemihydrate, an inorganic substance.\n",
      "* Class 01E is a more specific subclass within Class 01, which is reserved for Calcium compounds. Since the patent text is about calcium sulphate hemihydrate, this subclass is a perfect fit.\n",
      "______________________________________________________________________________________________________________________________________________________\n",
      "\n",
      "Input Text: grapheneceramic composite membrane for hydrogen separation membranes a hydrogen permeation membrane is provided that can include a carbonbased material c and a ceramic material bzcyt mixed together the carbonbased material can include graphene graphite carbon nanotubes or a combination thereof the ceramic material can have the formula bazr1xyzcexyytzo3 where 0x05 0y05 0z05 xyzgt0 005 and t is yb sc ti nb ta mo mn fe co ni cu zn ga in or a combination thereof in addition the bzyct can be present in the cbzcyt mixture in an amount ranging from about 40 by volume to about 80 by volume further a method of forming such a membrane is also provided a method is also provided for extracting hydrogen from a feed stream'\n",
      "\n",
      "Predicted Class: 0\n",
      "\n",
      "True Class: 0\n",
      "\n",
      "Generated Text: \n",
      "\n",
      "The label Class_01B is a classification for patents in the field of Chemistry and Materials Science.\n",
      "\n",
      "Here's a breakdown of the label:\n",
      "\n",
      "* Class_01: This is the main class for patents related to Chemistry.\n",
      "* B: This is a subclass within Class_01, specifically for patents related to Organic Chemistry, and more specifically, for materials such as nanomaterials, composites, and ceramics.\n",
      "\n",
      "Given the text, which describes a graphene-ceramic composite membrane for hydrogen separation, this classification label is fitting because it involves:\n",
      "\n",
      "1. Chemistry (Class_01)\n",
      "2. A specific type of material (composite membrane) that involves organic chemistry (subclass B)\n",
      "______________________________________________________________________________________________________________________________________________________\n",
      "\n",
      "Input Text: method for making battery electrodes a method for making a battery electrode is provided a carbon nanotube material is provided the carbon nanotube material is placed into a furnace containing carbon dioxide the furnace is heated to a temperature about 800 c to about 950 c and the carbon nanotube material is oxidized the oxidized carbon nanotube material is dispersed in a first solution to form a carbon nanotube suspension an active material is ultrasonically dispersed in a second organic solvent to form an active material dispersion the carbon nanotube suspension is mixed with the active material dispersion to form a second solution the second solution is stirred by ultrasonic means and dried after filtering'\n",
      "\n",
      "Predicted Class: 0\n",
      "\n",
      "True Class: 0\n",
      "\n",
      "Generated Text: \n",
      "\n",
      "The label Class_01B stands for \"Chemistry: Electrical Current Production, Treatment, and Management; Batteries; Electrochemistry\".\n",
      "\n",
      "This label is appropriate because the text describes a method for making battery electrodes, which is a process related to battery production and electrochemistry. The text specifically mentions making a battery electrode, using a carbon nanotube material, and oxidizing it, which are all relevant to battery electrode production. Therefore, Class_01B is a suitable classification label for this patent.\n",
      "______________________________________________________________________________________________________________________________________________________\n",
      "\n",
      "Input Text: method of making mesoporous zirconiumbased mixed oxides mesoporous zirconiumbased mixed oxides and a method of making the same comprises injecting a polyvalent metalcontaining solution into an electrolyte solution to form a mother liquor forming a precipitate aging the precipitate in the mother liquor to form the mixed oxides washing the mixed oxides with an aqueous medium drying and collecting the mixed oxides the ph of the electrolyte solution exceeds the isoelectric point for zirconiumbased mixed oxides the mixed oxides exhibit a single particle size distribution improved ce02 reducibility in the presence of rhodium a decrease in surface area after calcination 8001100 c that is not more than 55 and a tetragonalcubic structure after calcination after calcination at 1100 c for 10 hours in air the mixed oxides exhibit a surface area gt25 m2g a pore volume gt020 cm3g an average pore size gt30 nm and an average crystallite size between 815 nm'\n",
      "\n",
      "Predicted Class: 4\n",
      "\n",
      "True Class: 4\n",
      "\n",
      "Generated Text: \n",
      "\n",
      "The patent classification label Class_01F is for \"Zirconium\".\n",
      "This label is appropriate because the text discusses \"zirconium-based mixed oxides\" and a method of making them, indicating that zirconium is the main chemical element involved.\n",
      "______________________________________________________________________________________________________________________________________________________\n",
      "\n",
      "Input Text: hydrogen cogas when using aluminum iodide as an ion source material an ion implantation system is provided having an ion source configured to form an ion beam from aluminum iodide a beamline assembly selectively transports the ion beam to an end station configured to accept the ion beam for implantation of aluminum ions into a workpiece an arc chamber forms a plasma from the aluminum iodide where arc current from a power supply is configured to dissociate aluminum ions from the aluminum iodide one or more extraction electrodes extract the ion beam from the arc chamber a hydrogen cogas source further introduces a hydrogen cogas to react residual aluminum iodide and iodide where the reacted residual aluminum iodide and iodide is evacuated from the system'\n",
      "\n",
      "Predicted Class: 3\n",
      "\n",
      "True Class: 3\n",
      "\n",
      "Generated Text: \n",
      "\n",
      "The patent classification label Class_01E is correct because the text describes a process for hydrogen cogas (catalytic gas generation) using aluminum iodide, which falls under the category of chemical patent classifications.\n",
      "\n",
      "Class_01 is the main class for chemical patent applications, and Class_01E is a subclass that specifically deals with \"Catalysis\" or \"Catalytic processes\", which includes the generation of gases through catalytic reactions.\n",
      "\n",
      "So, the label Class_01E accurately classifies the patent application as a chemical process for generating hydrogen gas using a catalyst.\n",
      "______________________________________________________________________________________________________________________________________________________\n",
      "\n",
      "Input Text: synthetic caustic composition an aqueous caustic composition comprising a caustic component an additive adapted to provide an extended buffering effect to the caustic composition when such is exposed to an acid and water methods of using such compositions are also disclosed'\n",
      "\n",
      "Predicted Class: 2\n",
      "\n",
      "True Class: 2\n",
      "\n",
      "Generated Text: \n",
      "\n",
      "The patent classification label Class_01D is for \"Caoustic soda; Soda ash; Potash; Hydrated lime; Quicklime; Slaked lime; Calcium oxide\".\n",
      "\n",
      "The text describes a \"caustic composition\" and a \"caustic component\", which suggests that the patent is related to the production or use of caustic soda or other caustic materials. Therefore, Class_01D is the most relevant classification label.\n",
      "______________________________________________________________________________________________________________________________________________________\n",
      "\n",
      "Input Text: method for manufacturing aerogel in a method for manufacturing an aerogel an acid is added to a first aqueous highmolarratio silicate solution that includes silica particles having a mean particle diameter of from 1 nm to 10 nm and that is alkaline to produce a gel the gel is subjected to a dehydration condensation to obtain a hydrogel the hydrogel is converted into a hydrophobized gel then the hydrophobized gel is dried according to the method an aerogel having a pore volume of from 300 ccg to 10 ccg a mean pore diameter of from 10 nm to 68 nm and a specific surface area of from 200 m2g to 475 m2g can be prepared'\n",
      "\n",
      "Predicted Class: 0\n",
      "\n",
      "True Class: 0\n",
      "\n",
      "Generated Text: \n",
      "\n",
      "The label Class_01B is a classification for patents in the field of Chemistry, specifically for \"Silicates, Silicates with the silica content of more than 50% by weight, Silica and compounds thereof\".\n",
      "\n",
      "The text describes a method for manufacturing an aerogel, which involves using a high-molar-ratio silicate solution as a precursor, and the resulting product has properties related to silica (such as specific surface area and pore volume). Therefore, the patent falls under the category of silica-related chemistry, which is why I classified it as Class_01B.\n",
      "______________________________________________________________________________________________________________________________________________________\n",
      "\n",
      "Input Text: methods of degrading organic pollutants and preventing or treating microbe using bi2s3cds particles methods of synthesizing bi2s3cds particles in the form of spheres as well as properties of these bi2s3cds particles are described methods of photocatalytic degradation of organic pollutants employing these bi2s3cds particles and methods of preventing or reducing microbial growth on a surface by applying these bi2s3cds particles in the form of a solution or an antimicrobial product onto the surface are also specified'\n",
      "\n",
      "Predicted Class: 4\n",
      "\n",
      "True Class: 4\n",
      "\n",
      "Generated Text: \n",
      "\n",
      "The patent classification label Class_01F is for \"Biological materials, biochemicals, biotechnology\".\n",
      "\n",
      "This label fits the description of the patent text, which discusses:\n",
      "\n",
      "* Bi2S3CDs particles for degrading organic pollutants and preventing or treating microbes (biological applications)\n",
      "* Synthesizing and properties of these particles (biotechnology)\n",
      "* Photocatalytic degradation of organic pollutants and preventing microbial growth (biological and biochemical applications)\n",
      "\n",
      "So, Class_01F is a suitable label for this patent text.\n",
      "______________________________________________________________________________________________________________________________________________________\n",
      "\n",
      "Input Text: removal of gaseous nh3 from an nh3 reactor product stream the present invention is directed to the removal of ammonia from an ammonia reactor product stream systems and methods of the present invention enable ammonia to be synthesized and removed using a broader range of process conditions than are possible with current industrial practices in particular the systems and methods enable the use of higher temperatures lower pressures and higher reactant flows'\n",
      "\n",
      "Predicted Class: 1\n",
      "\n",
      "True Class: 1\n",
      "\n",
      "Generated Text: \n",
      "\n",
      "The patent classification label Class_01C is for \"Preparation of ammonia\".\n",
      "This label is a subset of Class_01, which is \"Chemical processes or electrochemical processes; compositions therefor; non-metallise semiconductor materials, products or processes\".\n",
      "\n",
      "The text describes a process for removing ammonia from an ammonia reactor product stream, and also mentions the synthesis of ammonia, which is the key component in the classification.\n",
      "______________________________________________________________________________________________________________________________________________________\n",
      "\n",
      "Input Text: method and arrangement for recovery of salt a method for recovery of salts comprises providing  210  of an initial aqueous solution comprising ions of na k cl and optionally ca or a material which when brought in contact with water forms an initial aqueous solution comprising ions of na k cl and optionally ca the start material is treated  230  into an enriched aqueous solution having a concentration of cacl2 of at least 15 by weight the treatment  230  comprises at least one of reduction of water content and addition of ca the treatment  230  generates a solid mix of na cl and kcl the solid mix of nacl and kcl is separated  235  from the enriched aqueous solution giving a depleted aqueous solution comprising ions of ca and cl as main dissolved substances an arrangement for recovery of salts is also disclosed'\n",
      "\n",
      "Predicted Class: 2\n",
      "\n",
      "True Class: 2\n",
      "\n",
      "Generated Text: \n",
      "\n",
      "The patent classification label Class_01D is for \"Preparation of salts or salts of acids\".\n",
      "\n",
      "The text describes a method for recovering salt, specifically calcium chloride (CaCl2), from an initial aqueous solution containing sodium, potassium, and chloride ions. The method involves treating the solution to generate a solid mixture of sodium chloride (NaCl) and potassium chloride (KCl), which are then separated from the solution.\n",
      "\n",
      "This process falls under the category of salt preparation, which is why Class_01D is the correct classification label.\n",
      "______________________________________________________________________________________________________________________________________________________\n",
      "\n",
      "Input Text: wet surface treatment of surfacemodified calcium carbonate the present invention relates to a process for the surface treatment of a surfacemodified calcium carbonate a surfacetreated calcium carbonate obtained by the process as well as the use of the surfacetreated calcium carbonate in a polymer composition in paper making paper coatings agricultural applications paints adhesives sealants construction applications pharma applications andor cosmetic applications or for crosslinking of rubber in sheet moulding compounds in bulk moulding compounds in crosslinkable polyolefin system formulations preferably for pipes and cables in crosslinkable polyvinyl chloride in unsaturated polyesters and in alkyd resins and the use of the surfacetreated calcium carbonate and a curing agent for crosslinking of crosslinkable compounds'\n",
      "\n",
      "Predicted Class: 3\n",
      "\n",
      "True Class: 3\n",
      "\n",
      "Generated Text: \n",
      "\n",
      "The patent classification label Class_01E is for \"Chemical composition; Material\" specifically \"Calcium carbonate\".\n",
      "The patent text describes a process for surface treatment of surface-modified calcium carbonate and its use in various applications, which relates to the chemical composition and material properties of calcium carbonate.\n",
      "______________________________________________________________________________________________________________________________________________________\n",
      "\n",
      "Input Text: installation and process for the preparation of hydrogen cyanide present invention relates to a process and an installation  100  for the preparation of hydrogen cyanide by the andrussow process and more precisely for improving the conditions of mixing the reactant gases before feeding the andrussow type reactor  60  in order to improve safety to avoid any risk of explosion and to produce hcn in safe and efficient manner the installation is configured in such a manner that oxygen is premixed with air with a ratio comprised between 2095 and 325 by volume preferably between 25 and 305 by volume methane containing gas and ammonia are simultaneously added in the premixture of oxygenenriched air in such a manner that the volumic ratio of methane to ammonia is comprised between 135 and 102 depending on the content of oxygen into air said obtained reactant gases mixture having a temperature comprised between 80 c and 120 c preferably between 95 c and 115 c for feeding the andrussow type reactor  60 '\n",
      "\n",
      "Predicted Class: 1\n",
      "\n",
      "True Class: 1\n",
      "\n",
      "Generated Text: \n",
      "\n",
      "The patent classification label is Class_01C because the text describes a process for the preparation of hydrogen cyanide, which falls under the category of chemical patent classifications (Class 01).\n",
      "\n",
      "More specifically, Class_01C is the subclass for \"Carbonic acid derivatives; cyano compounds\" which includes hydrogen cyanide.\n",
      "______________________________________________________________________________________________________________________________________________________\n",
      "\n",
      "Input Text: magnesium oxidecontaining spinel powder and method for producing same provided is a magnesium oxidecontaining spinel powder capable of producing a ceramic sintered body having high strength and excellent strength stability in the magnesium oxidecontaining spinel powder a 50 particle diameter d50 is 030 to 1000 m a ratio d90d50d50d10 of a difference between a 90 particle diameter d90 and the 50 particle diameter d50 and a difference between the 50 particle diameter d50 and a 10 particle diameter d10 is 10 to 50 and a composition ratio of mg and al in terms of an oxide equivalent content is 50 to 90 by weight of mgo and 10 to 50 by weight of al2o3'\n",
      "\n",
      "Predicted Class: 3\n",
      "\n",
      "True Class: 3\n",
      "\n",
      "Generated Text: \n",
      "\n",
      "The text describes a specific type of powder (magnesium oxide-containing spinel powder) and a method for producing it, which is used to create a ceramic sintered body with high strength and stability.\n",
      "\n",
      "Class_01E is a suitable label because it falls under Class 01 of the Patent Classification system, which covers \"Chemical compositions\". More specifically, Class 01E is \"Chemical compositions derived from magnesium or magnesium compounds\".\n",
      "\n",
      "This label accurately reflects the content of the text, which is focused on a specific chemical composition (magnesium oxide-containing spinel powder) and its properties.\n",
      "______________________________________________________________________________________________________________________________________________________\n",
      "\n",
      "Input Text: preparation method of trifluoroamine oxide the present invention relates to a preparation method of trifluoroamine oxide comprising the steps of producing an intermediate product by reacting nitrogen trifluoride and nitrous oxide in the presence of a reaction catalyst and producing trifluoroamine oxide by reacting the intermediate product with sodium fluoride in vacuum condition up to 100 mmhg'\n",
      "\n",
      "Predicted Class: 1\n",
      "\n",
      "True Class: 0\n",
      "\n",
      "Generated Text: \n",
      "\n",
      "The label Class_01C is a classification from the International Patent Classification (IPC) system, which is a widely used system for categorizing patents.\n",
      "\n",
      "Class_01C specifically refers to:\n",
      "\n",
      "* Class_01: Chemical industry; light industry; Air or gas Enrichment; Metallurgy\n",
      "* 01C: Dinitro- or trinitro-compounds; Process for the preparation of nitro-compounds or of salts thereof; Electrolytic or electrophoretic preparation of salts\n",
      "\n",
      "This classification label is appropriate because the text describes a method for preparing trifluoroamine oxide, which involves chemical reactions and the use of nitrogen trifluoride and nitrous oxide. Therefore, it falls under the category of chemical industry and the specific subclass of nitro-compounds.\n",
      "______________________________________________________________________________________________________________________________________________________\n",
      "\n",
      "Input Text: systems to make lithium hydroxide monohydrate from lithium salts embodiments of the invention relate to systems methods and equipment to make lithium hydroxide from lithium salts'\n",
      "\n",
      "Predicted Class: 2\n",
      "\n",
      "True Class: 2\n",
      "\n",
      "Generated Text: \n",
      "\n",
      "The patent classification label Class_01D is for \"Lithium compounds; lithium metal, lithium alloys, or lithium metal halides\".\n",
      "\n",
      "The text mentions \"lithium hydroxide monohydrate from lithium salts\" and \"lithium hydroxide from lithium salts\", which indicates that the patent is related to the production or processing of lithium compounds, specifically lithium hydroxide. Therefore, Class_01D is a suitable classification label.\n",
      "______________________________________________________________________________________________________________________________________________________\n",
      "\n",
      "Input Text: process for the ammonia production process and plant for the synthesis of ammonia from a hydrocarbon feedstock comprising primary reforming with steam and airfired secondary reforming wherein primary reforming is performed at a temperature and pressure of at least 790 c and 50 bar and secondary reforming is carried out substantially in absence of excess air the so obtained makeup synthesis gas having a h2 to n2 molar ratio in the range 25 to 3'\n",
      "\n",
      "Predicted Class: 1\n",
      "\n",
      "True Class: 1\n",
      "\n",
      "Generated Text: \n",
      "\n",
      "The patent classification label is Class_01C because the text describes a process for producing ammonia (NH3) from a hydrocarbon feedstock, which falls under the category of chemical patent classifications.\n",
      "\n",
      "Class_01 is the subclass for Chemical Patent Inventions, and C is a subclass within Class_01 that specifically deals with Fertilizers, Nitrogenous compounds, and Organic chemistry.\n",
      "\n",
      "More specifically, the subclass C is further broken down into:\n",
      "\n",
      "C01B: Inorganic nitrogen compounds\n",
      "C01C: Ammonia\n",
      "\n",
      "So, the classification label Class_01C accurately reflects the content of the text, which describes a process for ammonia production.\n",
      "______________________________________________________________________________________________________________________________________________________\n",
      "\n",
      "Input Text: metal doped cerium oxide compositions the present invention concerns a process for the production of metal doped cerium compositions comprising a cerium oxide and a metal oxide by precipitation the invention also concerns metal doped cerium compositions providing high crystallites size and exhibiting high thermal stabilities which may be used as a catalytic support or for polishing applications'\n",
      "\n",
      "Predicted Class: 4\n",
      "\n",
      "True Class: 3\n",
      "\n",
      "Generated Text: \n",
      "\n",
      "The patent classification label Class_01F is for \"Coatings; Lubrication; and Contact Materials\".\n",
      "\n",
      "The text describes a metal doped cerium oxide composition that can be used as a catalytic support or for polishing applications. This suggests that the composition can be used to produce a coating or a material for contact or lubrication purposes. Therefore, Class_01F is the most suitable label.\n",
      "______________________________________________________________________________________________________________________________________________________\n",
      "\n",
      "Input Text: vanadium oxide for infrared coatings and methods thereof the present invention relates to vanadium oxide and methods of controlling reaction processes for making such materials eg powders in particular embodiments the method includes control of oxygen partial pressure in order to kinetically control the oxidation species of the crystalline vanadium oxide material other methods uses systems protocols and coatings are also described'\n",
      "\n",
      "Predicted Class: 4\n",
      "\n",
      "True Class: 4\n",
      "\n",
      "Generated Text: \n",
      "\n",
      "The patent classification label Class_01F is for \"Coatings, in general; Coating compositions, in general; Coating compositions, not otherwise provided for\".\n",
      "\n",
      "This label fits the description in the patent text, which mentions \"infrared coatings\" and describes methods and materials for making vanadium oxide coatings.\n",
      "______________________________________________________________________________________________________________________________________________________\n",
      "\n",
      "Input Text: oxide semiconductor composition manufacturing method thereof thin film transistor and display apparatus an oxide semiconductor composition for use in thin film transistors includes indium oxide zinc oxide and an oxide including a doping element of scandium such as scandium oxide a molar percentage of the indium oxide can be larger than approximately 50 the oxide semiconductor composition can have a formula of in2sc2zno7 manufacturing of the oxide semiconductor composition can include mixing indium oxide powder scandium oxide powder and zinc oxide powder to thereby obtain an oxide shaped object and sintering the oxide shaped object to form the oxide semiconductor composition a thinfilm transistor for use in a semiconductor device such as a display apparatus can include the oxide semiconductor composition and can thereby have improved mobility of the oxide semiconductor due to the reduced oxygen vacancy therein'\n",
      "\n",
      "Predicted Class: 4\n",
      "\n",
      "True Class: 4\n",
      "\n",
      "Generated Text: \n",
      "\n",
      "The label Class_01F is a classification for patents in the International Patent Classification (IPC) system. Here's why I chose it:\n",
      "\n",
      "* Class_01: This is the main class for chemical patents, which includes patents related to organic chemistry, inorganic chemistry, and chemical processes.\n",
      "* F: This is a sub-class within Class_01, specifically for \"organic chemistry, forest products, soap science; waves, animal oils and fats; waxes (classifying agencies only)\".\n",
      "\n",
      "However, a more specific and accurate classification for this patent would be Class_01J, which is for \"Chemical compounds classified with reference to their organic composition; Cations bonded to carbon or other carbon analogues; oxides, hydrogen halides and halides (classifying agencies only)\".\n",
      "\n",
      "But, the most accurate classification would be Class_H01L, which is for \"Electronics; Electricity\" and more specifically H01L39/00 for \"Electrical circuits and devices, in which the circuit elements, such as resistors, transistors, diodes or display devices, are realised with semiconductor substances\".\n",
      "\n",
      "So, Class_H01L39/00 would be a more accurate classification for this patent, which is related to the oxide semiconductor composition for thin film transistors and display apparatus.\n",
      "______________________________________________________________________________________________________________________________________________________\n",
      "\n",
      "Input Text: regeneration of etch solutions containing trivalent manganese in acid media a method of regenerating an etch solution comprising a metastable complex of manganeseiii ions in a strong acid is described in which at least a portion of the manganeseiii ions in the metastable complex have been destabilized causing them to disproportionate into manganese dioxide and manganeseii ions the method includes the steps of i adding an effective amount of a reducing agent to the solution ii allowing the reducing agent to react with the solution to cause manganese dioxide to dissolve and iii applying an electrical current to regenerate manganeseiii ions in the solution'\n",
      "\n",
      "Predicted Class: 2\n",
      "\n",
      "True Class: 4\n",
      "\n",
      "Generated Text: \n",
      "\n",
      "The label Class_01D corresponds to \"Chemical patenting\" and more specifically \"Etching compositions or processes\".\n",
      "\n",
      "Here's the breakdown:\n",
      "\n",
      "* Class_01: Chemical industry; light industry; manufacturing processes\n",
      "* D: Textiles; paper\n",
      "* D01: Compositions therefor; processes therefor; compositions specially adapted for printed circuits or semiconductors\n",
      "* D01D: Etching compositions or processes\n",
      "\n",
      "This classification label makes sense because the text describes a method for regenerating etch solutions, which is a process used in the etching of printed circuits or semiconductors.\n",
      "______________________________________________________________________________________________________________________________________________________\n",
      "\n",
      "Input Text: systems and methods for basic gas recovery acid gas separation or combination thereof the present invention relates to processes and systems for basic gas eg ammonia recovery andor acidgas separation in some embodiments a system for acid gas separation may be integrated with an ammonia abatement cycle employing a high temperature absorber in some embodiments a system for acid gas separation may employ a higher temperature absorber due to the lower energy consumption and cost of the integrated ammonia abatement cycle advantageously heat may be recovered from the absorber to power at least a portion of any acid gas desorption in the process reverse osmosis or other membranes may be employed'\n",
      "\n",
      "Predicted Class: 1\n",
      "\n",
      "True Class: 1\n",
      "\n",
      "Generated Text: \n",
      "\n",
      "The patent classification label is Class_01C because the text describes a process for chemical or oil-related technology, specifically acid gas separation and ammonia recovery, which falls under the category of \"Class 01: Chemicals; Coatings; Drugs; Foods\".\n",
      "More specifically, Class 01C refers to \"Acidic or basic treatment of chemical substances, with the aid of water, ice or snow\". This class covers processes for treating chemical substances with acids or bases, which is relevant to the acid gas separation and ammonia recovery processes described in the text.\n",
      "______________________________________________________________________________________________________________________________________________________\n",
      "\n",
      "Input Text: systems and methods of producing potassium sulfate systems and methods of producing potassium sulfate can involve converting a mixed salts feed stream into a conversion end slurry in a conversion unit the mixed salts feed comprising at least one potassiumcontaining salt at least one chloridecontaining salt at least one magnesiumcontaining salt and at least one sulfatecontaining salt and the conversion end slurry comprising schoenite separating conversion end slurry into a conversion end solids stream and a conversion brine leaching the conversion end solids stream in a crystallization unit to produce a potassium sulfate product stream comprising potassium sulfate and a crystallizer mother liquor comprising magnesium sulfate and potassium sulfate collecting heat generated in the conversion unit by a heat pump and providing at least a portion of the heat collected to the crystallization unit to regulate a temperature of the potassium sulfate product stream and the crystallizer mother liquor stream contained in the crystallization unit'\n",
      "\n",
      "Predicted Class: 2\n",
      "\n",
      "True Class: 2\n",
      "\n",
      "Generated Text: \n",
      "\n",
      "The patent classification label Class_01D is for \"Potassic salts\".\n",
      "\n",
      "The text describes a process for producing potassium sulfate, which is a type of potassic salt. The classification label Class_01D specifically covers \"Potassic salts, e.g., potassium chloride, potassium sulfate, etc.\".\n",
      "\n",
      "This label is a good fit because the text is focused on a method for producing potassium sulfate, which is a key aspect of potassic salts.\n",
      "______________________________________________________________________________________________________________________________________________________\n",
      "\n",
      "Input Text: oxygen generator and method of controlling the oxygen production rate of an oxygen generator an oxygen generator has a composition for generating oxygen and an acidic compound andor a basic compound the composition for generating oxygen includes an oxygen source an ionic liquid a metal oxide compound andor a metal salt and optionally a basic compound the oxygen source is a peroxide compound the ionic liquid is in the liquid state at least in a temperature range from 10 c to 50 c the metal oxide compound is an oxide of a single metal or of two or more different metals selected from the metals of groups 2 to 14 of the periodic table of the elements the metal salt has a single metal or two or more different metals and an organic andor an inorganic anion there is also described a method for controlling the oxygen production rate of the oxygen generator and a device for generating oxygen in a controlled manner'\n",
      "\n",
      "Predicted Class: 2\n",
      "\n",
      "True Class: 0\n",
      "\n",
      "Generated Text: \n",
      "\n",
      "The label Class_01D represents the category of \"oxygen generators\" in the classification system for patents.\n",
      "\n",
      "Here's the breakdown:\n",
      "\n",
      "* Class_01: This is the main category for \"Chemical Patent Class\" which includes all patents related to chemistry.\n",
      "* D: This is a subcategory under Class_01 for \"Textiles: Combes, Nonwovens, and Oxygen-Producing Compositions\", but more specifically in this context, it relates to \"Oxygen-producing compositions\" and \"Oxygen generators\".\n",
      "\n",
      "So, the label Class_01D accurately classifies the patent as related to oxygen generators, which is a type of chemical process for producing oxygen.\n",
      "______________________________________________________________________________________________________________________________________________________\n",
      "\n",
      "Input Text: process for making horizontallyaligned epoxy graphene material a method includes depositing graphene into a hardener mixing the hardener and the graphene to produce a homogeneous composite mixture adding a resin material to the composite mixture to produce an epoxy graphene material coating a structure with the epoxy graphene material aligning the graphene sheets in the inplane orientation and curing the epoxy graphene material'\n",
      "\n",
      "Predicted Class: 0\n",
      "\n",
      "True Class: 0\n",
      "\n",
      "Generated Text: \n",
      "\n",
      "The label Class_01B is a classification from the patent classification system, specifically the International Patent Classification (IPC) system. Here's why I chose it:\n",
      "\n",
      "* \"Class_01\" refers to the main class for \"Chemical industry; Light industry; Building materials\" in the IPC system.\n",
      "* The subclass \"B\" specifically refers to \"Compositions: Coating compositions, Binders; Paints; Polishes\" within the chemical industry.\n",
      "\n",
      "Given that the text describes a process for making an epoxy graphene material coating, which is a type of composite material used for coating structures, the classification label Class_01B is a fitting choice. It accurately reflects the chemical nature of the material and its intended use as a coating.\n",
      "______________________________________________________________________________________________________________________________________________________\n",
      "\n",
      "Input Text: method for enhancing sodium bicarbonate flowability a process for producing crystalline sodium bicarbonate comprising feeding dried sodium bicarbonate solids with a mass flow rate to a fluid bed cooling unit wherein said cooling unit comprises at least one cooling element through which flows a cooling fluid flowing a fluidization gas stream in the fluid bed cooling unit to fluidize the dried sodium bicarbonate solids in order for the dried sodium bicarbonate solids to be in thermal contact with the at least one cooling element withdrawing a sodium bicarbonate product from the fluid bed cooling unit and adjusting the temperature of the cooling fluid flowing through the at least one cooling element in order for the sodium bicarbonate product to have an outlet temperature of 95 f or less preferably less than 90 f when being withdrawn from the fluid bed cooling unit'\n",
      "\n",
      "Predicted Class: 2\n",
      "\n",
      "True Class: 2\n",
      "\n",
      "Generated Text: \n",
      "\n",
      "The patent classification label Class_01D is for \"Chemical preparations for specific use as propellants, smoking mixtures, feed incendiary mixtures, insecticides, etc; substances for use as preservatives or as the like in the treatment of materials\".\n",
      "\n",
      "However, a more specific and accurate classification would be Class_01A or Class_01N, which are for \"Sodium bicarbonate\" or \"Carbonates; bicarbonates of alkali metals\", respectively.\n",
      "\n",
      "But considering the text is about a process for producing crystalline sodium bicarbonate, the most accurate classification would be Class_01N.\n",
      "______________________________________________________________________________________________________________________________________________________\n",
      "\n",
      "Input Text: method for producing potassium sulfate from potassium chloride and sulfuric acid a process is provided for producing potassium sulfate from potassium chloride and sulfuric acid the process entails mixing potassium chloride with the water to form a potassium chloride slurry which is mixed with recycled sulfuric acid to form a k ct so42 acid mixture this mixture is subjected to a crystallization process that produces potassium sulfate crystals and a hydrochloric acidwater vapor the hydrochloric acid is separated from the hydrochloric acidwater vapor to form a hydrochloric acid solution'\n",
      "\n",
      "Predicted Class: 2\n",
      "\n",
      "True Class: 2\n",
      "\n",
      "Generated Text: \n",
      "\n",
      "The label Class_01D represents the classification of the patent.\n",
      "\n",
      "Class_01 refers to the category of \"Chemical Processes or Compositions\" in the patent classification system.\n",
      "\n",
      "D refers to the subcategory of \"Chemical Synthesis\" within Class_01.\n",
      "\n",
      "Therefore, Class_01D specifically refers to \"Chemical synthesis, e.g.,zeolites; C01B/25.001; K01D 1/03; K01D 1/02; K01D 3/02; K01D 3/375; K01D 5/32; K01D 7/02; K01D 7/345; K01D 9/02; K01D 9/346; K01P 7/181; K01P 7/20; K01P 7/22; K01P 7/231; K01P 7/232; K01P 7/233; K01P 7/234; K01P 7/235; K01P 7/236; K01P 7/237; K01P 7/238; K01P 7/239; K01P 7/240; K01P 7/241; K01P 7/242; K01P 7/243; K01P 7/244; K01P 7/245; K01P 7/246; K01P 7/247; K01P 7/248; K01P 7/249; K01P 7/25; K01P 7/26; K01P 7/27; K01P 7/28; K01P 7/29; K01P 7/30; K01P 7/31; K01P 7/32; K01P 7/33; K01P 7/34; K01P 7/35; K01P 7/36; K01P 7/37; K01P 7/38; K01P 7/39; K01P 7/40; K01P 7/41; K01P 7/42; K01P 7/43; K01P 7/44; K01P 7/45; K01P 7/46; K01P 7/47; K01P 7/48; K01P 7/49; K01P 7/50; K01P 7/51; K01P 7/52; K01P 7/53; K01P 7/54; K01P 7/55; K01P 7/56; K01P 7/57; K01P 7/58; K01P 7/59; K01P 7/60; K01P 7/61; K01P 7/62; K01P 7/63; K01P 7/64; K01P 7/65; K01P 7/66; K01P 7/67; K01P 7/68; K01P 7/69; K01P 7/70; K01P 7/71; K01P 7/72; K01P 7/73; K01P 7/74; K01P 7/75; K01P 7/76; K01P 7/77; K01P 7/78; K01P 7/79; K01P 7/80; K01P 7/81; K01P 7/82; K01P 7/83; K01P 7/84; K01P 7/85; K01P 7/86; K01P 7/87; K01P 7/88; K01P 7\n",
      "______________________________________________________________________________________________________________________________________________________\n",
      "\n",
      "Input Text: method for preparing lithium carbonate from lithium iron phosphate battery scraps and lithium carbonate thereof the present disclosure provides a method for preparing lithium carbonate from lithium iron phosphate battery scraps and lithium carbonate thereof and relates to a method for preparing lithium carbonate from lithium iron phosphate battery scraps and a lithium carbonate product thereof the method specifically includes the following steps performing oxidative acidolysis on a lithium iron phosphate material thickening lithium solution adding alkali to remove iron and precipitating lithium carbonate thereby obtaining a filter cake which is a lithium carbonate product lithium may be directly extracted by utilizing the lithium iron phosphate battery scraps a technical problem in the prior art that lithium iron phosphate battery wastes cannot be effectively decomposed and recycled is solved the method has the characteristics of simple process high lithium yield and low production cost'\n",
      "\n",
      "Predicted Class: 2\n",
      "\n",
      "True Class: 2\n",
      "\n",
      "Generated Text: \n",
      "\n",
      "The label Class_01D represents a classification for lithium and lithium compounds, which is relevant to the text. The text discusses the preparation of lithium carbonate from lithium iron phosphate battery scraps, which involves lithium compounds. Therefore, Class_01D is an appropriate classification label.\n",
      "______________________________________________________________________________________________________________________________________________________\n",
      "\n",
      "Input Text: method of producing a sodium ironiihexacyanoferrateii material the present invention relates to a method of producing a sodium ironiihexacyanoferrateii na2xfefecn6mh2o where x is lt04 material commonly referred to as prussian white the method comprises the steps of acid decomposition of na4fecn610h2o to a powder of na2xfefecn6mh2o drying and enriching the sodium content in the na2xfefecn6mh2o powder by mixing the powder with a saturated or supersaturated solution of a reducing agent containing sodium in dry solvent under an inert gas the steps of acid decomposition and enriching the sodium content are performed under nonhydrothermal conditions'\n",
      "\n",
      "Predicted Class: 2\n",
      "\n",
      "True Class: 4\n",
      "\n",
      "Generated Text: \n",
      "\n",
      "The label Class_01D represents a classification for \"Chemistry, Metallurgy; Treatment of Materials\".\n",
      "\n",
      "In this patent, the text describes a method of producing a specific type of material (sodium iron(II) hexacyanoferrate(II)) through a chemical process involving acid decomposition and sodium enrichment. This process falls under the category of chemistry and materials treatment, which is why Class_01D is the correct label.\n",
      "______________________________________________________________________________________________________________________________________________________\n",
      "\n",
      "Input Text: process for producing a metal oxide powder a process for producing a metal oxide powder comprising providing a precursor solution or dispersion containing a metal complex spraying the precursor solution on to a heated substrate in the presence of water thereby depositing material on the substrate drying the deposited material and removing the deposited material from the substrate to produce the metal oxide powder'\n",
      "\n",
      "Predicted Class: 4\n",
      "\n",
      "True Class: 4\n",
      "\n",
      "Generated Text: \n",
      "\n",
      "The label Class_01F is for \"Metal oxide enzymes; Processes for the preparation of metal oxides\".\n",
      "\n",
      "This classification fits the text because it describes a process for producing a metal oxide powder. The text specifically mentions producing a metal oxide powder through a series of steps, including drying and removing the deposited material from the substrate. This matches the classification for metal oxides and processes for their preparation.\n",
      "______________________________________________________________________________________________________________________________________________________\n",
      "\n",
      "Input Text: processes for preparing lithium carbonate there are provided methods for preparing lithium carbonate for example such methods can comprise reacting an aqueous composition comprising lithium hydroxide with co2 by sparging the co2 the said composition thereby obtaining a precipitate comprising the lithium carbonate the methods can also comprise inserting at least a portion of the precipitate into a clarifier and obtaining a supernatant comprising lithium bicarbonate and a solid comprising the lithium carbonate separating the solid from the supernatant and heating the supernatant at a desired temperature so as to at least partially convert the lithium bicarbonate into lithium carbonate'\n",
      "\n",
      "Predicted Class: 2\n",
      "\n",
      "True Class: 2\n",
      "\n",
      "Generated Text: \n",
      "\n",
      "Class_01D is the correct classification label for the given text. Here's why:\n",
      "\n",
      "* Class_01 refers to Inorganic chemistry; Organometallic chemistry\n",
      "* D specifically refers to Carbonates; Bisulfites; Sulfites; Thiosulfites; Sulfites and thiosulfites inorganic salts\n",
      "\n",
      "The text is about a process for preparing lithium carbonate, which is an inorganic compound. Therefore, Class_01D is the most relevant and specific classification label for this patent.\n",
      "______________________________________________________________________________________________________________________________________________________\n",
      "\n",
      "Input Text: zeolite seed crystal method of producing zeolite seed crystal method of producing zeolite membrane complex and separation method a seed crystal is a crystal of zeolite that is to be deposited on a support when producing a zeolite membrane complex that includes the support and a zeolite membrane formed on the support a volumecumulative particle size distribution of the seed crystal measured by a laser diffraction scattering method has a coefficient of variation of 05 or less and a kurtosis of 5 or less use of these seed crystals improves the bonding of zeolite crystals when producing the zeolite membrane as a result a dense zeolite membrane can be formed'\n",
      "\n",
      "Predicted Class: 0\n",
      "\n",
      "True Class: 0\n",
      "\n",
      "Generated Text: \n",
      "\n",
      "The label Class_01B refers to a classification of the patent application as a \"Preparation of inorganic compounds\" specifically \"Zeolites\".\n",
      "\n",
      "Here's the step-by-step thinking:\n",
      "\n",
      "* Class_01 is the main class for \"Chemical industry; light industry; manufacturing industry\".\n",
      "* 01B is a subclass within Class_01, specifically for \"Preparation of inorganic compounds; production of inorganic compounds\".\n",
      "* Within 01B, zeolites are a specific type of inorganic compound, so the more specific subclass 01B is used.\n",
      "______________________________________________________________________________________________________________________________________________________\n",
      "\n",
      "Input Text: utilization of pollutants from internal combustion engines nitrogen oxides formed in combustion engines are recycled such that the nitrogen oxides can be utilized for producing liquid or solid chemicals the nitrogen oxides are recycled by a method including an adsorber material adsorbing nitrogen oxides from an exhaustgas stream of the combustion engine removing the adsorber material laden with nitrogen oxides desorbing the adsorbed nitrogen oxides from the adsorber material and converting the nitrogen oxides desorbed from the adsorber material into liquid or solid nitrogencontaining compounds'\n",
      "\n",
      "Predicted Class: 1\n",
      "\n",
      "True Class: 0\n",
      "\n",
      "Generated Text: \n",
      "\n",
      "The label is Class_01C because the text describes a process related to the treatment and control of pollutants and emissions from internal combustion engines, which falls under the category of chemical processes.\n",
      "\n",
      "* Class_01 refers to Chemical industry; chemical products.\n",
      "* More specifically, Class_C refers to the treatment of gases, i.e., processes for purifying, recovering, or disposing of gases, including liquefaction, solidification, and gasification.\n",
      "______________________________________________________________________________________________________________________________________________________\n",
      "\n",
      "Input Text: surfacemodified cyanidebased transition metal compounds a system method and articles of manufacture for a surfacemodified transition metal cyanide coordination compound tmccc composition an improved electrode including the composition and a manufacturing method for the composition which may include multiple chelation species chex the composition compound device and uses thereof according to axmnykmjkmnmcn6pqncpcheirqz chegroup vac1znh2o wherein chegroup includes one or more chelation materials selected from the group consisting of cheirw cheiisv and combinations thereof and wherein 0ltj4 0k01 0pq6 0ltx4 0lty1 0ltz1 0ltw02 3r3 0ltv02 3s3 and 0n6 wherein x2ykjkmr1q6zwrvs0'\n",
      "\n",
      "Predicted Class: 1\n",
      "\n",
      "True Class: 1\n",
      "\n",
      "Generated Text: \n",
      "\n",
      "The text describes a specific type of chemical compound, its composition, and its uses, particularly in relation to electrode materials. This is a clear indication of a chemical or material science invention.\n",
      "\n",
      "Class_01 is the Class for Inorganic Chemistry, and more specifically, Class_01C is a subclass for Cyanides, isocyanides, nitriles, nitrides.\n",
      "\n",
      "So, the classification label is Class_01C for Inorganic Chemistry, specifically Cyanides.\n",
      "______________________________________________________________________________________________________________________________________________________\n",
      "\n",
      "Input Text: method for producing ironbased oxide magnetic particle powder a method for making ironbased oxide magnetic particle powders having particular peak intensity and diffraction intensities comprising neutralizing an aqueous solution containing a trivalent iron ion alone or with a substituting metal m a step of adding hydroxycarboxylic acid to the neutralized solution to create a second solution including the hydroxycarboxylic acid d another neutralizing step for the second solution a coating step of silicon oxide coating iron oxyhydroxide with or without the substituted metal element found in the second neutralized solution and heating the coated iron oxyhydroxide with or without the substituted metal element to form a silicon oxide coated iron oxide with or without the substituted metal element after the second neutralization step there is no water washing as a result the molar ratio dfem is between 0125 and 10 and the silicon oxide coating can be uniform and the formation reaction of the hydroxide is not retarded'\n",
      "\n",
      "Predicted Class: 4\n",
      "\n",
      "True Class: 4\n",
      "\n",
      "Generated Text: \n",
      "\n",
      "The patent classification label Class_01F is for \"Basic organic chemistry, peptide or protein chemistry; nucleic acid chemistry; chemically useful compositions\".\n",
      "\n",
      "However, the text actually describes a method for producing iron-based oxide magnetic particle powder, which is related to inorganic chemistry and materials science.\n",
      "\n",
      "A more suitable classification label would be Class_C01D, which is for \"Inorganic chemistry: pigments, dyes, paints, coatings, inorganic pigments; fillers; slurry; inorganic pigments, inorganic dyes; inorganic paint; inorganic coatings\".\n",
      "\n",
      "Alternatively, Class_C01B, which is for \"Inorganic chemistry: pigments, inorganic pigments; fillers; slurry; inorganic pigments, inorganic dyes; inorganic paint; inorganic coatings: pigments, dyes, or surface treating agents, inorganic\" could also be a good fit.\n",
      "\n",
      "Class_Y10S, which is for \"Chemical apparatus and process vessels: powder metallurgy\" could also be a good fit.\n",
      "______________________________________________________________________________________________________________________________________________________\n",
      "\n",
      "Input Text: method for processing magnesium chloride solutions and method for manufacturing carboxylic acids magnesium chloride solutions including providing aqueous magnesium chloride solution with magnesium chloride concentration of 1030 wt  to concentration step where water is evaporated resulting in concentrated magnesium chloride solution with magnesium chloride concentration of 3050 wt  wherein concentration step is carried out in one or more stages wherein at least one of the stages is conducted at elevated pressure withdrawing concentrated magnesium chloride solution from concentration step and providing it to thermohydrolysis reactor of at least 300 c withdrawing mgo from thermohydrolysis reactor in solid form and withdrawing a hcl containing gas stream of at least 300 c from thermohydrolysis reactor providing the hclcontaining gas stream of at least 300 c to cooling step where hclcontaining gas stream is contacted with cooling liquid withdrawing hclcontaining gas stream below 150 c from cooling step circulating cooling liquid through heat exchanger where energy is transferred to heating liquid which circulates from heat exchanger to concentration step'\n",
      "\n",
      "Predicted Class: 3\n",
      "\n",
      "True Class: 3\n",
      "\n",
      "Generated Text: \n",
      "\n",
      "The label Class_01E is a classification for patents in the field of chemistry. \n",
      "\n",
      "Here's the step-by-step thinking:\n",
      "\n",
      "* The text describes a method for processing magnesium chloride solutions and manufacturing carboxylic acids magnesium chloride solutions.\n",
      "* This is a chemical process, involving the concentration of magnesium chloride solutions, thermohydrolysis, and the production of a HCl-containing gas stream.\n",
      "* The process involves the use of chemical reactions and the manipulation of chemical compounds, which is characteristic of Class_01, \"Organic Chemistry\".\n",
      "* Within Class_01, the subclass E refers to \"Organic Chemistry: Compounds Containing Halogen, Attached Directly To Carbon, Which Is Attached Directly To Halogen, Which May Be Attached To Additional Halogen\".\n",
      "* While this subclass is a bit specific, the general process of chemical reactions and compound manipulation fits within the broader scope of Class_01E.\n",
      "______________________________________________________________________________________________________________________________________________________\n",
      "\n",
      "Input Text: methods for production of carbon and hydrogen from natural gas and other hydrocarbons a method for producing elemental carbon and hydrogen gas directly from a hydrocarbon for example natural gas or methane using a chemical reaction or series of reactions in an aspect other materials involved such as for example elemental magnesium remain unchanged and function as a catalyst'\n",
      "\n",
      "Predicted Class: 0\n",
      "\n",
      "True Class: 0\n",
      "\n",
      "Generated Text: \n",
      "\n",
      "Class_01B is the correct classification label for the given text. Here's why:\n",
      "\n",
      "* Class_01 is the main class for \"Chemical Patent Class\" according to the patent classification system.\n",
      "* B is the subclass for \"Lighting, Heating, Cooking\" but more specifically in Class_01 it refers to \"Use of energy from chemical reactions or from combustion, use of fuels, use of natural gas; Lighting, Heating, Cooking by the use or release of chemicals, fuels or natural gas\".\n",
      "* The text is about a method for producing carbon and hydrogen from natural gas and other hydrocarbons, which involves a chemical reaction, so it falls under Class_01B.\n",
      "______________________________________________________________________________________________________________________________________________________\n",
      "\n",
      "Input Text: ammonia storage structure and associated systems the disclosure relates to an ammonia storage structure in particular for the selective catalytic reduction of nitrogen oxides in the exhaust gases of combustion vehicles where the structure includes at least one element for storing a gas such as ammonia in the form of a porous matrix with which an irrigating device the storage element are associated the disclosure also relates to an ammonia storage and removal system of a vehicle that includes a storage chamber receiving such a storage structure a selective catalytic reduction system for internal combustion engine exhaust gases including such an ammonia storage system and to a module for feeding ammonia into the exhaust gases and finally to a monolithic porous matrix for storing a gas where the matrix contains the irrigation device in the interior thereof in order to promote the sorptiondesorption of the gas in the matrix'\n",
      "\n",
      "Predicted Class: 1\n",
      "\n",
      "True Class: 1\n",
      "\n",
      "Generated Text: \n",
      "\n",
      "The patent classification label Class_01C is for \"Chemical patent classification\" specifically \"Ammonia\".\n",
      "\n",
      "Here's the breakdown:\n",
      "\n",
      "* Class_01 is the main class for Chemicals\n",
      "* 01C is the subclass for specific chemicals, where 01C refers to \"Ammonia\" specifically.\n",
      "\n",
      "This classification indicates that the patent is related to the chemical properties, production, or use of ammonia.\n",
      "______________________________________________________________________________________________________________________________________________________\n",
      "\n",
      "Input Text: ferrous modified selenium sol for inhibiting accumulation of cadmium and arsenic in rice and preparation method and application thereof a ferrous modified selenium sol for inhibiting accumulation of cadmium and arsenic in rice and the preparation method and application thereof are disclosed the method includes dissolving an ironcontaining compound and a seleniumcontaining compound into water adding a reductant to the solution and stirring until no more precipitation is generated then adding carbonate continuing to stir until no more precipitation is generated and then filtering taking the precipitation and washing to obtain the precipitation of the selenium element and ferrous carbonate adding an emulsifier to a citric acid buffer solution to obtain an emulsified citric acid buffer solution adding the precipitation of the selenium element and ferrous carbonate to the emulsified citric acid buffer solution to obtain a sol system and evaporating to concentrate the sol system and adjusting the ph to 4585 to obtain a ferrous modified selenium sol for inhibiting the accumulation of cadmium and arsenic in rice'\n",
      "\n",
      "Predicted Class: 4\n",
      "\n",
      "True Class: 4\n",
      "\n",
      "Generated Text: \n",
      "\n",
      "The patent classification label is Class_01F because the text describes a method for inhibiting the accumulation of cadmium and arsenic in rice using a ferrous modified selenium sol. This falls under the category of \"Pesticides, agricultural chemicals, or pest repellents\" which is Class 01 of the patent classification system.\n",
      "\n",
      "More specifically, the use of selenium to inhibit the accumulation of toxic heavy metals in rice is a type of agricultural chemical, and the method for preparing the ferrous modified selenium sol is a specific type of process for making such a chemical. Therefore, the Class_01F label is appropriate.\n",
      "______________________________________________________________________________________________________________________________________________________\n",
      "\n",
      "Input Text: process for making highpurity aluminum oxide a method comprises reacting an aluminum feedstock with an acid in the presence of water to provide an aluminum salt solution comprising an aluminum salt in water wherein the aluminum salt comprises a reaction product of the acid and aluminum and spray roasting the aluminum salt solution at a temperature of at least about 450 c to provide an aluminum oxide powder wherein the spray roasting is performed in a furnace lined with a refractory comprising alumina that is at least about 992 purity alumina and wherein the aluminum oxide powder is 992 pure aluminum oxide or greater'\n",
      "\n",
      "Predicted Class: 3\n",
      "\n",
      "True Class: 3\n",
      "\n",
      "Generated Text: \n",
      "\n",
      "The label Class_01E represents the classification of the patent text as a process for the manufacture of inorganic chemicals, specifically aluminum oxide.\n",
      "\n",
      "Here's the breakdown:\n",
      "\n",
      "* Class_01: This is the main class for chemical industry patents, covering a wide range of chemical processes and products.\n",
      "* E: This is a subclass within Class_01, specifically for processes of preparing inorganic chemicals.\n",
      "______________________________________________________________________________________________________________________________________________________\n",
      "\n",
      "Input Text: method of making zinc oxide nanoparticles using red sand the method of producing zinc oxide nanoparticles zno nps using red sand includes mixing red sand with water to form an aqueous suspension of red sand removing the supernatant from the suspension centrifuging the supernatant and retaining a second supernatant from the centrifuged suspension dissolving a solution of zinc nitrate in the second supernatant to form a precursor solution and adding 1m naoh dropwise to the precursor solution to precipitate the zinc oxide nanoparticles the precipitate may be washed dried and calcined to provide the red sand synthesized zno nps the red sand synthesized zno nps have photocatalytic activity and can be used for example to degrade organic dyes in aqueous environments'\n",
      "\n",
      "Predicted Class: 4\n",
      "\n",
      "True Class: 4\n",
      "\n",
      "Generated Text: \n",
      "\n",
      "The label Class_01F is for \"Zinc compounds; Organic compounds of zinc\".\n",
      "\n",
      "The patent text describes a method for producing zinc oxide (ZnO) nanoparticles, which is a compound of zinc. Therefore, it falls under Class_01F.\n",
      "______________________________________________________________________________________________________________________________________________________\n",
      "\n",
      "Input Text: method for preparing transparent freestanding titanium dioxide nanotube array film the present invention provides a method for preparing a transparent freestanding titanium dioxide nanotube array film in the method with the titanium foil as a substrate the titanium dioxide nanotube array film is obtained by anode oxidation on the surface of the titanium foil upon high temperature annealing the titanium dioxide nanotube array film naturally falls off to obtain the transparent freestanding titanium dioxide nanotube array film the method according to the present invention features simple operations saves time and cost with the method a completely strippable titanium dioxide nanotube array film may be prepared and in addition morphology of the titanium dioxide nanotube is not damaged the freestanding and complete titanium dioxide nanotube array film facilitates transfer and posttreatment has the feature of transparency and may be in favor of the applications to the studies such as photocatalysis and the like'\n",
      "\n",
      "Predicted Class: 4\n",
      "\n",
      "True Class: 4\n",
      "\n",
      "Generated Text: \n",
      "\n",
      "The patent classification label is Class_01F because the text describes a method for preparing a transparent freestanding titanium dioxide nanotube array film, which falls under the category of \"Titanium dioxide nanotube array film preparation\".\n",
      "\n",
      "Class_01 is the classification for Chemicals and Class_F is the subclass for Coatings, Films, and Similar Compositions.\n",
      "\n",
      "More specifically, Class_01F is \"Titanium dioxide\" which is a subclass of Class_01.\n",
      "______________________________________________________________________________________________________________________________________________________\n",
      "\n",
      "Input Text: manufacturing system of electronicgrade ammonia solution a manufacturing system of an electronicgrade ammonia solution comprises a mixing tank to mix an unsaturated ammonia aqueous solution and alkali to obtain a mixing solution a stripping unit disposes downstream the mixing tank and comprises a heat exchanger to heat the mixing solution and a stripping column to mix a nitrogen gas and the heated mixing solution to obtain a mixing gas a first absorption unit disposes downstream the stripping unit and comprises a first condensation unit to cool down the mixing gas and a first absorption column to mix a saturated ammonia aqueous solution and the cooled mixing gas to obtain a purge gas and a second absorption unit disposes downstream the first absorption unit and comprises a second condensation unit to cool down a di water and a second absorption column to mix the cooled di water and the purge gas to obtain electronicgrade ammonia solution'\n",
      "\n",
      "Predicted Class: 1\n",
      "\n",
      "True Class: 1\n",
      "\n",
      "Generated Text: \n",
      "\n",
      "The patent classification label is Class_01C because the text describes a process for manufacturing a chemical product, specifically electronic-grade ammonia solution, which falls under the category of \"Chemical industry; Treatment of materials whereby they acquire special properties\" (Class 01 of the International Patent Classification).\n",
      "\n",
      "More specifically, subclass C (01C) is related to \"Ammonia\", which is a subclass of Class 01. This subclass covers patents related to the production, purification, and use of ammonia. Therefore, the classification label Class_01C accurately reflects the content of the text.\n",
      "______________________________________________________________________________________________________________________________________________________\n",
      "\n",
      "Input Text: nh3 synthesis configuration for largescale installations a method and device for producing ammonia from a syngas in a heterogeneous gas catalysis process in at least two reaction devices connected in series each reaction device includes at least two catalyst beds through which the syngas is conducted and in which an at least partial conversion of the syngas into the product gas is carried out at least one first heat exchanger is provided in the first reaction device and the fresh syngas is preheated in the first heat exchanger the syngas exiting the first catalyst bed and which includes the product and nonconverted reactants is cooled before entering the second catalyst bed according to an embodiment of the invention the preheating process is carried out in a first heat exchanger arranged between the first and the second catalyst bed thus synthesis conversion can be increased without substantially increasing the process gas quantity'\n",
      "\n",
      "Predicted Class: 1\n",
      "\n",
      "True Class: 1\n",
      "\n",
      "Generated Text: \n",
      "\n",
      "The patent classification label Class_01C is for \"Preparation of ammonia\".\n",
      "\n",
      "Here's the step-by-step thinking:\n",
      "\n",
      "* The patent text talks about a method and device for producing ammonia (NH3).\n",
      "* The process described is a heterogeneous gas catalysis process for synthesizing ammonia from syngas.\n",
      "* The text specifically mentions \"ammonia from a syngas\" and \"conversion of the syngas into the product gas\" which is ammonia.\n",
      "* Therefore, the patent classification label related to the production of ammonia is Class_01C.\n",
      "______________________________________________________________________________________________________________________________________________________\n",
      "\n",
      "Input Text: method of manufacturing a positive electrode active material for lithium secondary batteries provided is a new method for producing a positive electrode active material for lithium secondary batteries by which even in the case of washing a spinel type lithium transition metal oxide with water or the like the service life characteristics can be further enhanced and the concentration of magnetic substances can be effectively reduced suggested is a method for producing a positive electrode active material for lithium secondary batteries the method including a water washing step of bringing a powder of a spinel type lithium transition metal oxide into contact with a polar solvent and thereby washing the powder and a drying step of subsequently drying the powder by heating the powder to 300 c to 700 c in an atmosphere containing oxygen'\n",
      "\n",
      "Predicted Class: 2\n",
      "\n",
      "True Class: 2\n",
      "\n",
      "Generated Text: \n",
      "\n",
      "The label Class_01D represents batteries and is the correct classification for the given patent text. This is because the patent text specifically mentions \"lithium secondary batteries\" and describes a method for producing a positive electrode active material for such batteries.\n",
      "______________________________________________________________________________________________________________________________________________________\n",
      "\n",
      "Input Text: efficient method for decontaminating waste gases and waste water containing cyanide in a method for producing alkali metal cyanides the invention relates to a method for producing alkali metal cyanides as solids comprising the steps i an absorption step in the form of the absorption of hydrogen cyanide from a syngas containing hydrogen cyanide in an aqueous alkali metal hydroxide solution ii a preparation step for the waste gases containing cyanide that have accumulated in step i iii a crystallization step in the form of the introduction of the alkali metal cyanide solution into an evaporative crystallizer iv a condensation step for the vapour containing cyanide that has accumulated in step iii to obtain a vapour condensate containing cyanide v a recirculation step in which the vapour condensate containing cyanide that has been obtained in step iv is used as an aqueous liquid in step ii'\n",
      "\n",
      "Predicted Class: 1\n",
      "\n",
      "True Class: 1\n",
      "\n",
      "Generated Text: \n",
      "\n",
      "The label Class_01C represents the patent classification for \"Chemical patent, Inorganic chemistry, Cyanides\".\n",
      "\n",
      "Here's the step-by-step classification:\n",
      "\n",
      "* Class_01: Chemical industry; element of chemistry (patent classification for chemical patents)\n",
      "* 01C: Inorganic chemistry (more specific subclass for inorganic chemistry)\n",
      "* Cyanides: This is a more specific subclass within 01C, indicating that the patent is related to cyanides.\n",
      "\n",
      "So, the label Class_01C accurately represents the patent's classification as a chemical patent related to inorganic chemistry, specifically cyanides.\n",
      "______________________________________________________________________________________________________________________________________________________\n",
      "\n",
      "Input Text: friction material composition friction material and friction member provided is a friction material composition that can increase the coefficient of friction and the wear resistance reduce the compressive deformation rate and improve the yield upon hot forming even when being free of copper component or having a small content of copper component the friction material composition contains titanate compound powder made of nonfibrous titanate compound particles barium sulfate powder and a thermosetting resin wherein the titanate compound powder has an alkali metal ion dissolution rate of 150 by mass or less the barium sulfate powder has a volumebased 50 cumulative particle diameter d50 of 01 m to 200 m and a content of copper component is 05 by mass or less in terms of copper element in a total amount of 100 by mass of the friction material composition'\n",
      "\n",
      "Predicted Class: 3\n",
      "\n",
      "True Class: 4\n",
      "\n",
      "Generated Text: \n",
      "\n",
      "The patent classification label Class_01E is for \"Friction gearings; Gearings for engines or motors; Gearings for machinery\" but more specifically Class_E is for \"Friction products, e.g., friction materials\".\n",
      "\n",
      "The text is describing a composition for a friction material, which is used in applications such as brake pads or clutch facings. The details about the composition, including the specific materials and their characteristics, support this classification.\n",
      "\n",
      "So, the correct classification is 01E, which is a subclass of 01 for \"Machine Element or Mechanism; Engine\" and more specifically for \"Friction products\".\n",
      "______________________________________________________________________________________________________________________________________________________\n",
      "\n",
      "Input Text: surfacemodified cyanidebased transition metal compounds a system method and articles of manufacture for a surfacemodified transition metal cyanide coordination compound tmccc composition an improved electrode including the composition and a manufacturing method for the composition which may include multiple chelation species chex the composition compound device and uses thereof according to axmnykmjkmnmcn6pqncpcheirqzchegroup vac1znh2o wherein chegroup includes one or more chelation materials selected from the group consisting of cheirw cheiisv and combinations thereof and wherein 0ltj4 0k01 0pq6 0ltx4 0lty1 0ltz1 0ltw02 3r3 0ltv02 3s3 and 0n6 wherein x2ykjkmr1q6zwrvs0'\n",
      "\n",
      "Predicted Class: 1\n",
      "\n",
      "True Class: 1\n",
      "\n",
      "Generated Text: \n",
      "\n",
      "The text describes a specific type of chemical compound, a \"surface-modified transition metal cyanide coordination compound\" and its applications. This suggests that the patent is related to chemistry, specifically the synthesis and properties of coordination compounds.\n",
      "\n",
      "Class_01 is the classification for chemical inventions, and C is a subclass for organic compounds, but more specifically, the compounds described in the text are inorganic coordination compounds, so a more precise classification would be Class 01C, which is for Inorganic chemistry, specifically coordination compounds and compounds of metals.\n",
      "______________________________________________________________________________________________________________________________________________________\n",
      "\n",
      "Input Text: supported metal material supported metal catalyst and ammonia synthesis method using the same the present invention provides a supported metal catalyst a method for synthesizing ammonia using said catalyst and a supported metal material in which a transition metal is supported on a support wherein the support is a metal hydride represented by general formula 1 xhn    1 and in general formula 1 x represents at least one selected from the group consisting of atoms from groups 2 and 3 and lanthanoid atoms and n is in a range of 2ltnlt3'\n",
      "\n",
      "Predicted Class: 1\n",
      "\n",
      "True Class: 1\n",
      "\n",
      "Generated Text: \n",
      "\n",
      "The patent classification label is Class_01C because the text describes a method for synthesizing ammonia, which falls under the category of chemical patent classifications. Specifically:\n",
      "\n",
      "* Class 01 refers to Chemical Patents, which covers a wide range of chemical inventions, including methods for synthesizing chemicals.\n",
      "* Class 01C refers to a more specific subclassification within chemical patents, which covers Ammonia and Ammonium Salts. This subclassification is relevant because the text describes a method for synthesizing ammonia using a supported metal catalyst.\n",
      "______________________________________________________________________________________________________________________________________________________\n",
      "\n",
      "Input Text: process for the joint production of sodium carbonate and sodium bicarbonate process for the joint production of sodium carbonate and sodium bicarbonate crystals according to which a solid powder derived from sodium sesquicarbonate having a mean particle diameter comprised between 01 and 10 mm is dissolved in water the resulting water solution is introduced into a crystallizer wherein a first water suspension comprising sodium carbonate crystals is produced the first water suspension is subjected to a separation in order to produce crystals comprising sodium carbonate on the one hand which are valorized and a mother liquor on the other hand and a part of the mother liquor is taken out of the crystallizer and put into contact in a gas liquid contactor with a gas comprising carbon dioxide in order to produce a second water suspension comprising sodium bicarbonate crystals which are separated and valorized a reagent powder comprising sodium bicarbonate crystals made by such process'\n",
      "\n",
      "Predicted Class: 2\n",
      "\n",
      "True Class: 2\n",
      "\n",
      "Generated Text: \n",
      "\n",
      "The label Class_01D is a classification for patents, specifically for the class \"Chemical industry; Light industry; Elementary organic chemistry; Sugar industry or molecular biology\".\n",
      "\n",
      "Here's why I chose this label:\n",
      "\n",
      "* The text describes a process for producing sodium carbonate and sodium bicarbonate, which are chemicals.\n",
      "* The process involves dissolving a solid powder in water, crystallization, and separation of crystals, which are all chemical processes.\n",
      "* The text also mentions the production of a reagent powder comprising sodium bicarbonate crystals, which is a chemical product.\n",
      "\n",
      "Therefore, the classification label Class_01D is a good fit for this patent text.\n",
      "______________________________________________________________________________________________________________________________________________________\n",
      "\n",
      "Input Text: functionalized carbon nanotubes and methods provided herein are methods off functionalizing a carbon nanotube functionalized carbon nanotubes methods of forming a suspension and methods of forming a sensor the methods may include contacting one or more carbon nanotubes with a dienophile in the presence of a supercritical fluid to form one or more functionalized carbon nanotubes the one or more functionalized carbon nanotubes may have a degree of functionalization of about 1 to about 5'\n",
      "\n",
      "Predicted Class: 0\n",
      "\n",
      "True Class: 0\n",
      "\n",
      "Generated Text: \n",
      "\n",
      "The patent classification label Class_01B is for \"Chemical technology; industry; Safety security measures\".\n",
      "\n",
      "This label is suitable because the text describes a method for functionalizing carbon nanotubes using a chemical reaction (contacting carbon nanotubes with a dienophile in the presence of a supercritical fluid), which falls under the category of chemical technology and industry.\n",
      "______________________________________________________________________________________________________________________________________________________\n",
      "\n",
      "Input Text: reactor for preparing hydrogen cyanide by the andrussow process equipment comprising said reactor and process using such an equipment the present invention relates to a reactor  201  for preparing hydrogen cyanide by the andrussow process to an equipment  200  comprising said reactor and to a process for preparing hydrogen cyanide by the andrussow process the reactor  201  comprising at least one gas inlet i for reactant gases mixture a catalyst  203  a porous support for the catalyst  204  a porous sub support  205 206  and at least one outlet p 8  for the reaction products according to the invention said reactor has a cone frustum shaped metallic casing  210  and comprises inside the metallic casing a gas distributor  202  located between the gas inlet and the catalyst said distributor comprising at least one cone frustum element d 1     dn having an upper base directed towards the gas inlet i'\n",
      "\n",
      "Predicted Class: 1\n",
      "\n",
      "True Class: 1\n",
      "\n",
      "Generated Text: \n",
      "\n",
      "The text describes a specific type of equipment and process for preparing hydrogen cyanide, which is a chemical reaction. This suggests that the patent is related to chemistry, specifically to the field of organic chemistry and chemical reactors.\n",
      "\n",
      "Class_01 is the classification for Chemicals and Class_01C is a more specific subclass for Organic Chemistry, and more specifically for Cyanides, isocyanides. This is why I chose Class_01C.\n",
      "______________________________________________________________________________________________________________________________________________________\n",
      "\n",
      "Input Text: compositions of metal oxide semiconductor nanomaterials the present invention provides composition comprising a metal oxide semiconductor nanomaterial'\n",
      "\n",
      "Predicted Class: 4\n",
      "\n",
      "True Class: 4\n",
      "\n",
      "Generated Text: \n",
      "\n",
      "The text describes a \"composition of metal oxide semiconductor nanomaterials\", which is a specific type of material. In the patent classification system, Class_01 relates to organic chemistry, and more specifically, Class_01F relates to \"Organic compounds not elsewhere provided for; Compositions of organic compounds\".\n",
      "\n",
      "However, since the text specifically mentions \"metal oxide semiconductor nanomaterials\", it's more related to inorganic materials. In that case, Class_01F is not the best fit.\n",
      "\n",
      "A more suitable classification would be Class_B82M, which relates to \"Nanotechnology: Design, structure, or composition of nanowires, nanoparticles, nanocrystals, or nanolayers; Nanoparticles or nanocrystals made or modified for specific properties\".\n",
      " \n",
      "So, the correct classification label is Class_B82M.\n",
      "______________________________________________________________________________________________________________________________________________________\n",
      "\n",
      "Input Text: method of making an inorganic platinum compound provided is a method of making an inorganic platinum compound the method includes the steps of step a providing a platinum material and a halogencontaining oxidizing agent and step b treating the platinum material with the halogencontaining oxidizing agent in a hydrochloric acid aqueous solution to obtain the inorganic platinum compound including chloroplatinic acid or chloroplatinate salt wherein the halogencontaining oxidizing agent excludes chlorine gas the method of making an inorganic platinum compound is simple safe timeeffective costeffective and environmentfriendly and has the advantage of high yield'\n",
      "\n",
      "Predicted Class: 4\n",
      "\n",
      "True Class: 4\n",
      "\n",
      "Generated Text: \n",
      "\n",
      "The label Class_01F is a classification for patents. Here's why I chose it:\n",
      "\n",
      "* \"Class_01\" refers to the main classification for chemical patents. Platinum is a chemical element, and the patent text describes a method of making an inorganic platinum compound, so Class_01 is a good fit.\n",
      "* \"F\" is a subclassification within Class_01, specifically for platinum and its compounds. It's a more specific category that matches the subject matter of the patent text.\n",
      "\n",
      "So, Class_01F is a suitable classification label for this patent text.\n",
      "______________________________________________________________________________________________________________________________________________________\n",
      "\n",
      "Input Text: method for obtaining calcium aluminates from nonsaline aluminum slags the present invention relates to a method for obtaining calcium aluminates for metallurgical use from nonsaline aluminum slags by means of reactive grinding and thermal treatment'\n",
      "\n",
      "Predicted Class: 3\n",
      "\n",
      "True Class: 3\n",
      "\n",
      "Generated Text: \n",
      "\n",
      "The label Class_01E is for \"Calcium compounds, calcium aluminate, etc.\" and \"Metallurgy, calcination\".\n",
      "\n",
      "The text describes a method for obtaining calcium aluminates, which is a specific type of calcium compound. Additionally, the text mentions metallurgical use, indicating that the calcium aluminates will be used in a metallurgical process, such as calcination.\n",
      "\n",
      "Therefore, Class_01E is a suitable classification label for this patent.\n",
      "______________________________________________________________________________________________________________________________________________________\n",
      "\n",
      "Input Text: tritertbutyl aluminum reactants for vapor deposition aluminum al hydrocarbon precursor compositions are provided that can be used for vapor deposition of transition metal carbide thin films for example aluminumdoped transition metal carbide thin films such as aldoped titanium carbide thin films in some embodiments the precursor compositions comprise one or more isomers of tritertbutyl aluminum ttba in some embodiments the precursor compositions comprise at least 50 of isomer 1 of ttba at least 50 of isomer 2 of ttba or at least 20 of a combination of isomer 1 and isomer 2 where isomer 1 has the formula altertbu2isobu and isomer 2 has the formula altertbuisobu2 a container containing a precursor composition comprising at least 50 of isomer 1 or isomer 2 or at least 20 of a combination of isomer 1 and 2 of ttba can be attached to a vapor deposition reactor and used to deposit transition metal carbide thin films such as aldoped titanium carbide thin films by atomic layer deposition or chemical vapor deposition'\n",
      "\n",
      "Predicted Class: 0\n",
      "\n",
      "True Class: 0\n",
      "\n",
      "Generated Text: \n",
      "\n",
      "The label Class_01B is a classification label for patents, and it stands for:\n",
      "\n",
      "* Class_01: \"Metal Alloys or Metallic Compositions\"\n",
      "* B: \"Aluminum or Aluminum-Based Alloys\"\n",
      "\n",
      "This label is assigned because the text describes aluminum-based precursor compositions for depositing aluminum-doped transition metal carbide thin films, which suggests the use of aluminum in a metal alloy or composition.\n",
      "______________________________________________________________________________________________________________________________________________________\n",
      "\n",
      "Input Text: basic oxygen furnace slag treatment method a basic oxygen furnace slag treatment method includes the steps of mixing basic oxygen furnace slag with an active aqueous solution and then keeping the mixture thus obtained under an enclosed environment for reaction and then employing a solidliquid separation procedure to separate solid phase from liquid phase since basic oxygen furnace slag has strong alkaline the method of the invention overcomes the problem that directly discharging basic oxygen furnace slag will cause environmental pollutions the basic oxygen furnace slag treatment method avoids a secondary pollution and can turn waste into treasure bringing a number of economic benefits'\n",
      "\n",
      "Predicted Class: 3\n",
      "\n",
      "True Class: 3\n",
      "\n",
      "Generated Text: \n",
      "\n",
      "The patent classification label is Class_01E because the text describes a method of treating or processing a material, specifically Basic Oxygen Furnace Slag. \n",
      "\n",
      "Class 01 in the patent classification system covers \"Metal Treatment\" and more specifically, Class 01E covers \"Treatment of metals with chemicals\". This is the most relevant category for the described Basic Oxygen Furnace Slag treatment method.\n",
      "______________________________________________________________________________________________________________________________________________________\n",
      "\n",
      "Input Text: preparation of nanosized cubic lithium lanthanum zirconate fast ion conductor via facile polymerchelate combustion route nanosized cubic lithium lanthanum zirconate is synthesized by forming a solution including an organic compound and compounds of lithium lanthanum and zirconium drying the solution to yield a solid and heating the solid in the presence of oxygen to pyrolyze the organic compound to yield a product comprising nanosized cubic lithium lanthanum zirconate'\n",
      "\n",
      "Predicted Class: 4\n",
      "\n",
      "True Class: 4\n",
      "\n",
      "Generated Text: \n",
      "\n",
      "The label Class_01F is classified as the patent deals with the preparation of nanosized cubic lithium lanthanum zirconate, which is a type of fast ion conductor.\n",
      "\n",
      "* Class_01 refers to Chemical industry; technical gases; fuels; lubricants; fuels; lighter fuels, water; metal treatment; rust proofing.\n",
      "* F refers to Rare metals, their metallic compounds with carbon (boron, silicon, titanium, zirconium, vanadium, niobium and tantalum), and alloys thereof.\n",
      "\n",
      "This classification is according to the United States Patent and Trademark Office (USPTO) patent classification system.\n",
      "______________________________________________________________________________________________________________________________________________________\n",
      "\n",
      "Input Text: process for preparing an izm2 zeolite in the presence of a nitrogenous organic structuring agent in hydroxide form and of an alkali metal chloride in fluorinated or nonfluorinated medium the invention relates to a process for preparing an izm2 zeolite comprising at least i mixing in aqueous medium of at least one source of at least one tetravalent element x xo2 at least one source of at least one trivalent element y2o3 16bismethylpiperidiniumhexane dihydroxide at least one source of at least one alkali metal m of valency n chosen from alkali metal chlorides n being an integer greater than or equal to 1 m being chosen from lithium potassium sodium and caesium and the mixture of at least two of these metals and optionally in the presence of a source of at least one fluoride anion bf the mixture having a specific molar composition to obtain a homogeneous precursor gel ii hydrothermal treatment of said precursor gel'\n",
      "\n",
      "Predicted Class: 0\n",
      "\n",
      "True Class: 0\n",
      "\n",
      "Generated Text: \n",
      "\n",
      "The patent classification label is Class_01B because the text describes a process for preparing a specific type of zeolite (IZM-2 zeolite), which falls under the category of \"organic compounds; processes for their preparation\" (Class 01).\n",
      "\n",
      "More specifically, Class B within Class 01 refers to \"Compounds containing carbon and hydrogen, including sugars, and other compounds of carbon and hydrogen not provided for in classes 01C-01G\".\n",
      "\n",
      "Therefore, Class_01B is the correct patent classification label for the given text.\n",
      "______________________________________________________________________________________________________________________________________________________\n",
      "\n",
      "Input Text: method for increasing the capacity of an ammonia plant a method for treatment of process condensate  1  in an ammonia plant wherein the ammonia plant comprises a frontend section producing a makeup gas and a synthesis section where the makeup gas is reacted to ammonia and said process condensate  1  is collected from one or more equipment of the ammonia plant and is an aqueous solution comprising ammonia carbon dioxide and methanol said method comprises stripping said process condensate with lowpressure steam  4  obtaining a vapour phase  5  comprising ammonia carbon dioxide and methanol stripped from the process condensate condensing said vapour phase obtaining a solution  11  enriched of ammonia and methanol reintroducing a first portion  12  of said solution to said stripping environment recycling a second portion  13  of said solution to said ammonia plant'\n",
      "\n",
      "Predicted Class: 1\n",
      "\n",
      "True Class: 1\n",
      "\n",
      "Generated Text: \n",
      "\n",
      "The patent classification label is Class_01C because the text describes a method for increasing the capacity of an ammonia plant, which falls under the category of chemical patent classifications.\n",
      "\n",
      "Class_01 is the main class for chemical patent applications, and C is a subclass that specifically deals with fertilizers or fertilizing matters, nitrogenous fertilizers, or ammonia.\n",
      "\n",
      "This classification is based on the International Patent Classification (IPC) system, which is widely used to categorize patent applications by technology or industry.\n",
      "______________________________________________________________________________________________________________________________________________________\n",
      "\n",
      "Input Text: method for producing calcium sulfate a method for preparing calcium sulphate comprising a production of dcp by the attack of a source of phosphate by an acid a digestion of the isolated dcp by the sulphuric acid under conditions giving rise to the formation of a first slurry of gypsum suspended in an acidic aqueous phase having a content of free so3 equal to or less than 15 and a content of free p2o5 a conversion of at least part of said first slurry by heating to a temperature greater than 80 c and potentially by adding sulphuric acid with solubilisation of the gypsum crystals and recrystallisation of the solubilised calcium sulphate in a second slurry of calcium sulphate hemihydrate crystals suspended in an aqueous phase basedon phosphoric acid wherein the content of free so3 is less than 10 by weight and a separation between said aqueous phase and a filter cake based on particularly pure calcium sulphate hemihydrate'\n",
      "\n",
      "Predicted Class: 3\n",
      "\n",
      "True Class: 3\n",
      "\n",
      "Generated Text: \n",
      "\n",
      "The patent classification label Class_01E is for \"Calcium sulfate\".\n",
      "\n",
      "The text describes a method for producing calcium sulfate, specifically a process for preparing calcium sulfate (gypsum) through the digestion of dicalcium phosphate (DCP) with sulfuric acid and the subsequent recrystallization of the resulting calcium sulfate hemihydrate.\n",
      "\n",
      "This falls under Class 01 of the International Patent Classification (IPC) system, which covers \"Organic chemistry; farm products\". More specifically, Class 01E refers to \"Sulfur compounds; sulfur acids; sulfites; sulphinic acids; sulfonic acids\".\n",
      "\n",
      "So, the classification label Class_01E accurately reflects the subject matter of the patent, which is the production of calcium sulfate.\n",
      "______________________________________________________________________________________________________________________________________________________\n",
      "\n",
      "Input Text: gel with high dispersibility and method for preparing same a novel alumina gel is described having an elevated dispersibility index and in particular a dispersibility index greater than 70 a crystallite size between 1 and 35 nm and a sulphur content between 0001 and 2 by weight and a sodium content between 0001 and 2 by weight the weight percentages being expressed in relation to the total mass of alumina gel the present invention also discloses the method for preparing said gel comprising at least one step of precipitating at least one aluminium salt at least one step of heating the suspension obtained and a final heat treatment step for forming the alumina gel'\n",
      "\n",
      "Predicted Class: 3\n",
      "\n",
      "True Class: 3\n",
      "\n",
      "Generated Text: \n",
      "\n",
      "The patent classification label Class_01E is for \"Alumina, other than refractory alumina'.\n",
      "\n",
      "The text describes a novel alumina gel, its properties, and a method for preparing it. Therefore, it falls under the category of alumina, which is a type of aluminum oxide. The Class_01E label is a sub-classification under Class_01, which is \"Alumina, Silicates, and Silicates of Aluminum\" in the F01 (International Patent Classification system).\n",
      "______________________________________________________________________________________________________________________________________________________\n",
      "\n",
      "Input Text: alumina powder an alumina powder containing a hydroxycarboxylic acid and an alkaline component contains amorphous alumina pseudoboehmite or boehmite and satisfies all of 1 to 4 1 a colloidal dispersion a with 25 by mass of al2o3 consisting of the alumina powder and distilled water is free from precipitate and has a light transmittance of at least 80 measured at a wavelength of 500 nm and an optical path length of 10 mm 2 a colloidal dispersion b with 15 by mass of al2o3 consisting of the alumina powder and distilled water is free from precipitate 3 the dispersions a and b have a ph in a range of 5 to 8 4 a colloidal dispersion c with 25 by mass of al2o3 consisting of the alumina powder and methanol is free from precipitate and has a light transmittance of at least 80 measured under the above condition'\n",
      "\n",
      "Predicted Class: 3\n",
      "\n",
      "True Class: 3\n",
      "\n",
      "Generated Text: \n",
      "\n",
      "The text describes a specific type of alumina powder and its properties when dispersed in water or methanol. This is a very specific and technical description, and it falls under the category of inorganic chemistry.\n",
      "\n",
      "Class_01E is a subclass of Class 01, which is the patent class for Inorganic Chemistry. More specifically, Class_01E is for \"Alumina, Aluminum Oxide\" which matches the description in the text.\n",
      "______________________________________________________________________________________________________________________________________________________\n",
      "\n",
      "Input Text: system and process for recovery of lithium from a geothermal brine this invention relates generally to a system and process for recovery of select minerals and lithium from a geothermal brine the system and process are configured for the sequential recovery of zinc manganese and lithium from a salton sea known geothermal resource area brine the system and process includes 1 an impurity removal circuit then 2 a continuous countercurrent ion exchange ccix circuit for selectively recovering lithium chloride from the brine flow and concentrating it using a ccix unit and then 3 a lithium chloride conversion circuit for converting lithium chloride to lithium carbonate or lithium hydroxide product'\n",
      "\n",
      "Predicted Class: 2\n",
      "\n",
      "True Class: 2\n",
      "\n",
      "Generated Text: \n",
      "\n",
      "Class_01D is the correct classification label for the given text. Here's why:\n",
      "\n",
      "* Class_01 refers to \"Chemical Processes or Compositions\" which is the main category for the patent.\n",
      "* D refers to the specific subclass \"Lightning, Electrochemistry, Thermal Processes; Non-electric Heating; Material Drying\" which is a more specific category within Class_01.\n",
      "* However, a more specific subclass within Class_01D is \" Electrolysis; Electrolytic Enrichment of Metals; Electrolysis of Salts\" which seems to be more relevant for the patent text.\n",
      "* Alternatively, Class_01D01/42 \" Recovery of lithium from brine\" is also a possible classification.\n",
      "\n",
      "But, the most suitable classification seems to be Class_01J which refers to \"Chemical Processes or Compositions\" and subclass J is \" Chemical Processes Class mean\" which is a more general subclass, but it can also include \"Lithium recovery\" as a subclass, hence Class_01J30/02 \"Lithium recovery from brine\" seems to be the most suitable classification.\n",
      "______________________________________________________________________________________________________________________________________________________\n",
      "\n",
      "Input Text: method for preparing industrial grade lithium carbonate from crude lithium fluoride and lithium carbonate product a method for preparing industrial grade lithium carbonate from crude lithium fluoride includes the following steps a pulping by stirring crude lithium fluoride into a pulp and adding an acid to prepare a crude lithium fluoride pulplike material b double decomposition by adding the lithium fluoride pulplike material obtained in the step a into a boiling calcium chloride solution and then adding an alkaline substance to obtain a lithium chloride solution c lithium carbonate precipitation by heating the lithium chloride solution obtained in the step b adding a carbonate solution according to the mass of lithium in the lithium chloride solution stirring at a constant temperature and filtering wherein the filter cake is a lithium carbonate product the lithium fluoride is decomposed at one time in a lowacidity environment fluoride ions are removed and a double decomposition reaction is used to decompose the lithium fluoride into lithium ions and calcium fluoride precipitates'\n",
      "\n",
      "Predicted Class: 2\n",
      "\n",
      "True Class: 2\n",
      "\n",
      "Generated Text: \n",
      "\n",
      "The patent classification label is Class_01D because the text describes a method for preparing a chemical compound, specifically lithium carbonate, which falls under the category of chemistry.\n",
      "\n",
      "* Class_01 is the category for Chemistry, in particular, organic chemistry.\n",
      "* D is the subcategory for Lithium compounds, which is a specific type of inorganic chemistry.\n",
      "\n",
      "So, Class_01D is the correct classification label for the given patent text.\n",
      "______________________________________________________________________________________________________________________________________________________\n",
      "\n",
      "Input Text: conversion of metal carbonate into metal chloride a method for producing metal chloride mxclx includes reacting metal carbonate in solid form using phosgene diphosgene andor triphosgene to form metal chloride mxclx wherein the metal m is selected from the group containing alkali metals alkaline earth metals al and zn li and mg or li for example and x corresponds to the valency of the metal cations an apparatus for performing such method is also disclosed'\n",
      "\n",
      "Predicted Class: 2\n",
      "\n",
      "True Class: 2\n",
      "\n",
      "Generated Text: \n",
      "\n",
      "The patent classification label Class_01D is correct because the text describes a method of producing a chemical compound, specifically metal chloride. Class_01 of the International Patent Classification (IPC) system covers organic chemistry, and more specifically, Class_01D covers chlorinated organic compounds.\n",
      "______________________________________________________________________________________________________________________________________________________\n",
      "\n",
      "Input Text: systems and methods of producing potassium sulfate systems and methods of producing potassium sulfate can involve converting a mixed salts feed stream into a conversion end slurry in a conversion unit the mixed salts feed comprising at least one potassiumcontaining salt at least one chloridecontaining salt at least one magnesiumcontaining salt and at least one sulfatecontaining salt and the conversion end slurry comprising schoenite separating conversion end slurry into a conversion end solids stream and a conversion brine leaching the conversion end solids stream in a crystallization unit to produce a potassium sulfate product stream comprising potassium sulfate and a crystallizer mother liquor comprising magnesium sulfate and potassium sulfate collecting heat generated in the conversion unit by a heat pump and providing at least a portion of the heat collected to the crystallization unit to regulate a temperature of the potassium sulfate product stream and the crystallizer mother liquor stream contained in the crystallization unit'\n",
      "\n",
      "Predicted Class: 2\n",
      "\n",
      "True Class: 2\n",
      "\n",
      "Generated Text: \n",
      "\n",
      "The text describes a process for producing potassium sulfate, which is a chemical process. Therefore, the label should indicate that the patent is related to chemistry.\n",
      "\n",
      "Class_01 is the general label for chemistry patents, and D is a subclass that specifically refers to chemical production, more specifically, organic and inorganic compounds.\n",
      "\n",
      "So, Class_01D is the correct label for this patent, indicating that it's a patent related to the production of a specific inorganic compound, potassium sulfate.\n",
      "______________________________________________________________________________________________________________________________________________________\n",
      "\n",
      "Input Text: composite method for producing composite ammonia synthesis catalyst and ammonia synthesis method an ammonia synthesis catalyst having high activity is obtained by having a twodimensional electride compound having a lamellar crystal structure such as ca2n support a transition metal however since the twodimensional electride compound is unstable the stability of the catalyst is low in addition in cases where a twodimensional electride compound is used as a catalyst support it is difficult to shape the catalyst depending on reactions since the twodimensional electride compound has poor processability a composite which includes a transition metal a support and a metal amide compound wherein the support is a metal oxide or a carbonaceous support and the metal amide compound is a metal amide compound represented by general formula 1 mnh2x 1 in general formula 1 m represents at least one metal atom selected from the group consisting of li na k be mg ca sr ba and eu and x represents the valence of m'\n",
      "\n",
      "Predicted Class: 1\n",
      "\n",
      "True Class: 1\n",
      "\n",
      "Generated Text: \n",
      "\n",
      "The label Class_01C represents the classification of the patent in the following way:\n",
      "\n",
      "Class_01: Chemistry\n",
      "\n",
      "Subclass_C: Catalysis\n",
      "\n",
      "This is because the text describes a method for producing a catalyst and improving its activity, which is a key aspect of catalysis.\n",
      "______________________________________________________________________________________________________________________________________________________\n",
      "\n",
      "Input Text: ultra fine milk of lime composition a composition of milk of lime comprising particles of slaked lime suspended in an aqueous phase characterised in that said particles of slaked lime have a particle size described by a particle size distribution profile that is narrow and monomodal and the method of production thereof'\n",
      "\n",
      "Predicted Class: 3\n",
      "\n",
      "True Class: 3\n",
      "\n",
      "Generated Text: \n",
      "\n",
      "The label Class_01E is a classification for patents in the International Patent Classification (IPC) system.\n",
      "\n",
      "Class_01E specifically refers to \"Chemical compositions obtained by reacting lime or limestone with an acid\".\n",
      "\n",
      "In the given text, the subject is an \"ultra-fine milk of lime composition\", which is a chemical composition obtained by reacting slaked lime with water (an acid). Therefore, Class_01E is a suitable classification label for this patent.\n",
      "______________________________________________________________________________________________________________________________________________________\n",
      "\n",
      "Input Text: polycrystalline metal oxides with enriched grain boundaries provided are electrochemically active secondary particles that provide excellent capacity and improved cycle life the particles are characterized by selectively enriched grain boundaries where the grain boundaries are enriched with al and co the enrichment with al reduces impedance generation during cycling thereby improving capacity and cycle life also provided are methods of forming electrochemically active materials as well as electrodes and electrochemical cells employing the secondary particles'\n",
      "\n",
      "Predicted Class: 4\n",
      "\n",
      "True Class: 4\n",
      "\n",
      "Generated Text: \n",
      "\n",
      "The label Class_01F is correct because the text describes a new material (polycrystalline metal oxides) and its application in electrochemical cells, which is a type of battery.\n",
      "\n",
      "Class_01 is the classification for \"Chemical compounds, mixtures, and reactions\" and more specifically:\n",
      "\n",
      "F is the subclass for \"Electrochemical engineering; electrode processes; electrolysers; electrolytic cells; electrochemical cells; electrodes; electrolytes; materials therefor; processes therefor; electrolytic reduction of metals; electrolytic oxidation of metals\".\n",
      "\n",
      "So, Class_01F is the correct label as it pertains to the electrochemical properties and applications of the new material described in the text.\n",
      "______________________________________________________________________________________________________________________________________________________\n",
      "\n",
      "Input Text: methods of producing carbon nanoparticles a method of producing carbon nanoparticles comprising milling carbonized date palm fronds to produce a milled powder dispersing the milled powder in a liquid to form a suspension sonicating the suspension to form the carbon nanoparticles and collecting the carbon nanoparticles is provided'\n",
      "\n",
      "Predicted Class: 0\n",
      "\n",
      "True Class: 0\n",
      "\n",
      "Generated Text: \n",
      "\n",
      "The label Class_01B classifies the patent within the category of \"Carbon nanoparticles\" or more specifically \"Methods of producing carbon nanoparticles\".\n",
      "\n",
      "Here's the step-by-step classification:\n",
      "\n",
      "* Class_01 refers to Chemicals and Chemical Processes, which is the main category for patents related to chemical compounds and processes.\n",
      "* B is the sub-class for \"Carbon\" and \"Nobel gases\", which specifically covers patents related to carbon in all its forms, including carbon nanoparticles.\n",
      "\n",
      "Therefore, Class_01B is the most suitable label for the given patent text.\n",
      "______________________________________________________________________________________________________________________________________________________\n",
      "\n",
      "Input Text: recovery of valuable resources from produced water and coal combustion products the present invention relates to processes employing water produced from wells that after suitable purification steps is processed to recover resources that can be used to treat other waste streams such as flue gases and ashes from combustion of fossil fuels'\n",
      "\n",
      "Predicted Class: 2\n",
      "\n",
      "True Class: 4\n",
      "\n",
      "Generated Text: \n",
      "\n",
      "The patent classification label Class_01D is for \"Water purification or treatment\".\n",
      "\n",
      "The text describes a process for purifying produced water from wells and then recovering valuable resources from it, which can be used to treat other waste streams such as flue gases and ashes from coal combustion. This indicates that the invention is related to water purification and treatment, making Class_01D a suitable classification label.\n",
      "______________________________________________________________________________________________________________________________________________________\n",
      "\n",
      "Input Text: method for revamping an ammonia converter method for revamping a multibed ammonia converter wherein said converter comprises a plurality of adiabatic catalytic beds including a first catalytic bed and one or more further catalytic beds said catalytic beds being arranged in series so that the effluent of a bed is further reacted in the subsequent bed at least a first interbed heat exchanger arranged between said first catalytic bed and a second catalytic bed to cool the effluent of said first bed before admission into said second bed and optionally further interbed heat exchangers arranged between consecutive beds said method involves the conversion of said first catalytic bed into an isothermal catalytic bed'\n",
      "\n",
      "Predicted Class: 1\n",
      "\n",
      "True Class: 1\n",
      "\n",
      "Generated Text: \n",
      "\n",
      "The label Class_01C represents a classification for chemical patent applications, specifically for \"Industrial Furnaces; Industrial Gas-Fuel Burning Appliances\".\n",
      "\n",
      "In this patent text, the ammonia converter is a chemical process equipment, and the revamping method involves changing the first catalytic bed to an isothermal catalytic bed, which is a chemical process modification. Therefore, the patent falls under the category of chemical patent applications, specifically for the revamping of industrial chemical equipment.\n",
      "______________________________________________________________________________________________________________________________________________________\n",
      "\n",
      "Input Text: production of a hexafluorophosphate salt and of phosphorous pentafluoride a process for producing a hexafluorophosphate salt comprises neutralizing hexafluorophosphoric acid with an organic lewis base to obtain an organic hexafluorophosphate salt the organic hexafluorophosphate salt is reacted with an alkali hydroxide selected from an alkali metal hydroxide other than lioh and an alkaline earth metal hydroxide in a nonaqueous suspension medium to obtain an alkali hexafluorophosphate salt as a precipitate a liquid phase comprising the nonaqueous suspension medium any unreacted organic lewis base and any water that has formed during the reaction to form the precipitate is removed thereby the alkali hexafluorophosphate salt is recovered'\n",
      "\n",
      "Predicted Class: 2\n",
      "\n",
      "True Class: 2\n",
      "\n",
      "Generated Text: \n",
      "\n",
      "The text describes a process for producing a hexafluorophosphate salt and phosphorous pentafluoride, which involves chemical reactions and synthesis. This falls under the category of organic chemistry and chemical synthesis.\n",
      "\n",
      "Class_01 is the Class for organic chemistry, and D is the Subclass for chemical synthesis and production of organic compounds.\n",
      "\n",
      "More specifically, Class_01D is for \"Compounds containing phosphorus\" which matches the description of the hexafluorophosphate salt and phosphorous pentafluoride mentioned in the text.\n",
      "______________________________________________________________________________________________________________________________________________________\n",
      "\n",
      "Input Text: method for preparing functionalized carbon materials the present invention belongs to the field of new materials technology and discloses a green method for preparing functionalized carbon materials the present invention can use potassium ferratevi as an oxidant and mechanical milling as a reaction technique for oxidizing carbon materials in a preparation of functionalized carbon materials having oxygencontaining functional groups compared with the prior art the present invention provides a method that combines an environmentally friendly oxidant with an environmentally friendly reaction process the oxidant potassium ferratevi is a green oxidant without producing any toxic byproducts the reaction process is solventfree facilitated by milling the solid mixture of carbon materials and the oxidant thus the present invention provides an environmentally friendly method for preparing oxidatively functionalized carbon materials which is of promotion value'\n",
      "\n",
      "Predicted Class: 0\n",
      "\n",
      "True Class: 0\n",
      "\n",
      "Generated Text: \n",
      "\n",
      "The patent classification label Class_01B is for \"Carbon, e.g., graphite, carbon black, etc.\"\n",
      "\n",
      "The text describes a method for preparing functionalized carbon materials, which involves oxidizing carbon materials with potassium ferrate(VI) and mechanical milling. This indicates that the invention is related to the preparation and modification of carbon materials, which falls under the Class_01B category.\n",
      "\n",
      "More specifically, the subclassification could be 01B 59/02, which is for \"Functionalized carbon\" or a similar subclass. However, based on the provided label Class_01B, I classified it as such.\n",
      "______________________________________________________________________________________________________________________________________________________\n",
      "\n",
      "Input Text: method for producing potassium sulfate and sodium chloride from wastewater a method of producing potassium sulfate by employing sodium sulfate and potassium chloride sources is disclosed the method includes a crystallization process that yields a mother liquor containing sulfate sodium and chloride the mother liquor is directed to an anion segregation unit that produces a reject or retentate rich in sulfate which is recycled and employed in the production of the potassium sulfate further the anion segregation unit produces a permeate that is depleted in sulfate but includes sodium and chloride and is directed to a sodium chloride crystallizer for producing sodium chloride'\n",
      "\n",
      "Predicted Class: 2\n",
      "\n",
      "True Class: 2\n",
      "\n",
      "Generated Text: \n",
      "\n",
      "The patent classification label is Class_01D because the text describes a method for producing potassium sulfate and sodium chloride from wastewater, which falls under the category of chemical patent classifications.\n",
      "\n",
      "Class_01 is the main class for chemical patent applications, and D is the subclass for inorganic chemistry, specifically salts and acids. This subclass covers patents related to the production, purification, and properties of inorganic salts, such as potassium sulfate and sodium chloride.\n",
      "______________________________________________________________________________________________________________________________________________________\n",
      "\n",
      "Input Text: vanadium oxide compositions and systems and methods for creating them a system for creating targeted vanadium oxide vo2 nanoparticle compositions comprising a stock reaction mixture that is a fluid combination of at least one vanadium source combined with at least one dopant source each dopant source contains at least one target dopant element the ratio of the number of vanadium atoms in the vanadium source to the number of target dopant element atoms in the dopant source is less than or equal to 101 a solvent that is compatible with said stock reaction mixture is selected a pressure regulator increases the pressure of the solvent and the stock reaction mixture to between 0 and 5000 psi a heating element increases the temperature of the solvent to between 50 and 500 c a mixing unit receives and mixes a continuous flow of stock reaction mixture with solvent to heat the stock reaction mixture and initiate formation of the targeted vanadium oxide vo2 nanoparticle composition'\n",
      "\n",
      "Predicted Class: 4\n",
      "\n",
      "True Class: 4\n",
      "\n",
      "Generated Text: \n",
      "\n",
      "The patent classification label Class_01F is for \"Vanadium and compounds thereof; Molybdenum and compounds thereof; Chromium and compounds thereof\".\n",
      "\n",
      "This label is appropriate because the text describes vanadium oxide compositions, which are compounds of vanadium. The text also mentions the creation of targeted vanadium oxide (VO2) nanoparticle compositions, which further supports this classification.\n",
      "______________________________________________________________________________________________________________________________________________________\n",
      "\n",
      "Input Text: extraction of lithium from brine a process for the extraction of lithium from a brine wherein a solution of the brine is contacted with a titanate adsorbent such that lithium ions are adsorbed thereon whilst rejecting substantially all other cations the adsorbent is provided in the form of either a hydrated titanium dioxide or a sodium titanate the process in turn produces a substantially pure lithium chloride solution'\n",
      "\n",
      "Predicted Class: 2\n",
      "\n",
      "True Class: 2\n",
      "\n",
      "Generated Text: \n",
      "\n",
      "Class_01D is the correct classification label for the given text.\n",
      "\n",
      "Here's the breakdown:\n",
      "\n",
      "* Class_01: This is the main class for Chemistry, inorganic chemistry, and more specifically, for lithium and lithium compounds.\n",
      "* D: This is the subclass for Lithium compounds, lithium salts, and lithium metal.\n",
      "\n",
      "So, Class_01D specifically refers to Lithium compounds, which is exactly what the patent text is about: a process for extracting lithium from a brine.\n",
      "______________________________________________________________________________________________________________________________________________________\n"
     ]
    }
   ],
   "source": [
    "i = 33\n",
    "\n",
    "predict_list = []\n",
    "true_list = []\n",
    "generated_text_list = []\n",
    "\n",
    "for  i in range(len(eval_df)):\n",
    "    text = f\"{eval_df.iloc[i]['ti']} {eval_df.iloc[i]['ab']}'\"\n",
    "\n",
    "    predicted_class = predict_class(model, tokenizer, text)\n",
    "\n",
    "    print(f\"\")\n",
    "    print(f\"Input Text: {text}\")\n",
    "\n",
    "    print(f\"\")\n",
    "    print(f\"Predicted Class: {predicted_class}\")\n",
    "    predict_list.append(predicted_class)\n",
    "\n",
    "    print(f\"\")\n",
    "    print(f\"True Class: {eval_df.iloc[i]['label_idx']}\")\n",
    "    true_list.append(eval_df.iloc[i]['label_idx'])\n",
    "\n",
    "    generated_text = generate_text(model, tokenizer, text, label_dict[predicted_class])\n",
    "\n",
    "    print(f\"\")\n",
    "    print(f\"Generated Text: {generated_text.split('assistant')[-1]}\")\n",
    "    generated_text_list.append(generated_text.split('assistant')[-1])\n",
    "    print(\"_____\"*30)"
   ]
  },
  {
   "cell_type": "code",
   "execution_count": 18,
   "metadata": {
    "id": "z8k2ghLqVmOq",
    "tags": []
   },
   "outputs": [
    {
     "name": "stdout",
     "output_type": "stream",
     "text": [
      "DataFrame:\n",
      "     predict  true                                     generated_text\n",
      "0          2     2  \\n\\nThe text describes a process for producing...\n",
      "1          0     0  \\n\\nThe label Class_01B is a classification fo...\n",
      "2          0     0  \\n\\nThe label Class_01B is a classification fo...\n",
      "3          3     3  \\n\\nThe label Class_01E represents the classif...\n",
      "4          2     3  \\n\\nThe patent classification label is Class_0...\n",
      "..       ...   ...                                                ...\n",
      "195        2     2  \\n\\nThe text describes a process for producing...\n",
      "196        0     0  \\n\\nThe patent classification label Class_01B ...\n",
      "197        2     2  \\n\\nThe patent classification label is Class_0...\n",
      "198        4     4  \\n\\nThe patent classification label Class_01F ...\n",
      "199        2     2  \\n\\nClass_01D is the correct classification la...\n",
      "\n",
      "[200 rows x 3 columns]\n",
      "\n",
      "정답율: 84.50%\n"
     ]
    }
   ],
   "source": [
    "import pandas as pd\n",
    "\n",
    "df = pd.DataFrame({\n",
    "    'predict': predict_list,\n",
    "    'true': true_list,\n",
    "    'generated_text': generated_text_list\n",
    "})\n",
    "\n",
    "# 정답율 계산\n",
    "accuracy = (df['predict'] == df['true']).mean()\n",
    "\n",
    "print(\"DataFrame:\")\n",
    "print(df)\n",
    "print(f\"\\n정답율: {accuracy:.2%}\")"
   ]
  },
  {
   "cell_type": "code",
   "execution_count": 19,
   "metadata": {
    "tags": []
   },
   "outputs": [],
   "source": [
    "concat_df = pd.concat([eval_df,df], axis=1)\n",
    "concat_df = concat_df.drop(['true'], axis=1)\n",
    "concat_df.to_csv(\"temp11.csv\")"
   ]
  },
  {
   "cell_type": "code",
   "execution_count": 15,
   "metadata": {
    "id": "dJIf0bILq-CM",
    "tags": []
   },
   "outputs": [
    {
     "name": "stderr",
     "output_type": "stream",
     "text": [
      "/root/easymaker/custom-conda-envs/llm/lib/python3.10/site-packages/transformers/generation/configuration_utils.py:567: UserWarning: `do_sample` is set to `False`. However, `temperature` is set to `0.6` -- this flag is only used in sample-based generation modes. You should set `do_sample=True` or unset `temperature`.\n",
      "  warnings.warn(\n",
      "/root/easymaker/custom-conda-envs/llm/lib/python3.10/site-packages/transformers/generation/configuration_utils.py:572: UserWarning: `do_sample` is set to `False`. However, `top_p` is set to `0.95` -- this flag is only used in sample-based generation modes. You should set `do_sample=True` or unset `top_p`.\n",
      "  warnings.warn(\n"
     ]
    },
    {
     "name": "stdout",
     "output_type": "stream",
     "text": [
      "\n",
      "\n",
      "In the patent classification system, Class_01B is a subclass of Class 01, which is the main class for \"Chemical and Chemical Products\".\n",
      "\n",
      "Class 01B is a more specific subclass, and it is defined as \"Organic compounds\".\n",
      "\n",
      "In other words, Class_01B patents relate to inventions that involve the synthesis, properties, or uses of organic compounds, which are typically carbon-based molecules that contain hydrogen and often other elements such as oxygen, nitrogen, and sulfur.\n",
      "\n",
      "Examples of inventions that might be classified under Class_01B include:\n",
      "\n",
      "* New organic compounds with specific properties or uses\n",
      "* Methods for synthesizing organic compounds\n",
      "* Processes for purifying or modifying organic compounds\n",
      "* Uses of organic compounds in various industries, such as pharmaceuticals, agrochemicals, or materials science.\n",
      "\n",
      "Patent examiners and classifiers use the patent classification system to quickly identify the technical subject matter of a patent application and to group related inventions together. This helps to facilitate searching, examination, and retrieval of patent information.\n",
      "______________________________\n",
      "\n",
      "\n",
      "In the patent classification system, Class_01C is a subclass of Class 01, which is the main class for \"Chemical Compositions\".\n",
      "\n",
      "Class 01C is a more specific subclass, and it is defined as \"Compositions: Coating Materials to Be Applied to Surfaces by Spraying; Compositions to Be Used as Sprays\".\n",
      "\n",
      "In other words, Class 01C covers patent applications related to chemical compositions that are designed to be applied to surfaces by spraying, such as paints, coatings, varnishes, and other types of sprays.\n",
      "\n",
      "This subclass is further divided into more specific subclasses, such as 01C1 (Compositions to be applied to surfaces by spraying; Coatings), 01C5 (Compositions to be used as sprays; Aerosol compositions), and others.\n",
      "\n",
      "Patent examiners and searchers use this classification system to categorize and search for patent applications related to specific technologies, making it easier to find relevant prior art and to determine the novelty and non-obviousness of an invention.\n",
      "______________________________\n",
      "\n",
      "\n",
      "In the patent classification system, Class_01D is a subclass of Class 01, which is the main class for \"Chemical or Hazardous Materials Production\".\n",
      "\n",
      "Class 01D specifically refers to \"Natural Resins (coatings); Natural Rubbers (Binders); Lignin; Waxes\".\n",
      "\n",
      "In other words, this subclass covers inventions related to the production, processing, or use of natural resins, natural rubbers, lignin, and waxes. This can include various applications such as:\n",
      "\n",
      "* Coatings and adhesives made from natural resins\n",
      "* Binders and adhesives made from natural rubbers\n",
      "* Uses of lignin, a byproduct of the paper-making process\n",
      "* Production and processing of waxes, such as beeswax or paraffin wax\n",
      "\n",
      "Patent examiners and classifiers use this subclass to categorize inventions that involve the use of these materials in various industrial processes.\n",
      "______________________________\n",
      "\n",
      "\n",
      "In the United States Patent and Trademark Office (USPTO) patent classification system, Class_01E is a subclass of Class 01, which is the main class for \"Chemical or Pharmaceutical Preparations\".\n",
      "\n",
      "Class 01E is a specific subclass within Class 01, and it is further defined as \"Chemical or Pharmaceutical Preparations; Compositions of Food or Ingredients Thereof; or Compositions of Food or Ingredients Thereof\".\n",
      "\n",
      "In simpler terms, Class 01E covers patents related to:\n",
      "\n",
      "1. Chemical or pharmaceutical preparations, such as medicines, drugs, or other chemical compounds.\n",
      "2. Compositions of food or ingredients thereof, including food additives, flavorings, or other food-related substances.\n",
      "3. Compositions of food or ingredients thereof, including beverages, such as soft drinks, juices, or other liquid refreshments.\n",
      "\n",
      "Patents classified under Class 01E typically involve the development of new chemical compounds, pharmaceuticals, or food products, as well as methods for preparing or processing these substances.\n",
      "\n",
      "Here's an example of a patent classification label for a patent related to a new food product:\n",
      "\n",
      "US Patent 1234567, Class 01E, \"Novel Fruit Juice Composition and Method for Preparation\"\n",
      "\n",
      "In this example, the patent is classified under Class 01E, indicating that it relates to a composition of food or ingredients thereof, specifically a new fruit juice product and the method for preparing it.\n",
      "______________________________\n",
      "\n",
      "\n",
      "In the United States Patent and Trademark Office (USPTO) patent classification system, Class_01F is a subclass of Class 01, which is the main class for \"Chemical Compositions\".\n",
      "\n",
      "Class 01F is a specific subclass within Class 01, and it is further divided into more specific subclasses. The \"F\" in Class_01F stands for \"Functional Compositions\".\n",
      "\n",
      "Class 01F specifically covers patent applications related to \"Functional Compositions, e.g., Compositions Containing a Chemical Element or a Chemical Compound as an Active Ingredient (includes a separate Y. class for Compositions Containing a Chemical Element or a Chemical Compound as an Active Ingredient for Diagnostic or Therapeutic Use in Human Beings or Animals)\". \n",
      "\n",
      "In simpler terms, Class 01F covers patent applications for chemical compositions that have a specific function or use, such as a chemical element or compound used as an active ingredient in a product. This can include a wide range of applications, from pharmaceuticals to agrochemicals, and more.\n",
      "______________________________\n",
      "\n",
      "\n",
      "In the United States Patent and Trademark Office (USPTO) patent classification system, Class_01G is a subclass of Class 01, which is the main class for \"Chemical Compositions\".\n",
      "\n",
      "Class 01G is a specific subclass within Class 01, and it is further defined as \"Organic Compounds\".\n",
      "\n",
      "Here's a breakdown of the classification:\n",
      "\n",
      "* Class 01: Chemical Compositions\n",
      "\t+ Class 01G: Organic Compounds\n",
      "\n",
      "In other words, Class_01G refers to patents related to organic compounds, which are chemical compounds that contain carbon-hydrogen bonds. This subclass includes a wide range of organic compounds, such as pharmaceuticals, agrochemicals, dyes, and other organic materials.\n",
      "\n",
      "Patents classified under Class_01G typically involve the synthesis, properties, or applications of these organic compounds.\n",
      "______________________________\n"
     ]
    }
   ],
   "source": [
    "for i in range(len(label_dict)):\n",
    "\n",
    "    chat = [\n",
    "    # {\"role\": \"system\", \"content\":\"You are an AI that generates classification labels for patents. Read the text and classify them correctly. Let's Think Step by Step.\"},\n",
    "    {\"role\": \"user\", \"content\": f'What is the patent classification label \"{label_dict[i]}\"?  Explain it.'}\n",
    "    ]\n",
    "\n",
    "\n",
    "    # Chat 형식에 맞춰 토큰화\n",
    "    inputs = tokenizer.apply_chat_template(chat, add_generation_prompt=True, return_tensors=\"pt\")\n",
    "    input_ids = inputs.to(device)\n",
    "\n",
    "    # 텍스트 생성\n",
    "    with torch.no_grad():\n",
    "        generated_ids = model.lm_model.generate(\n",
    "            input_ids,\n",
    "            max_length=1024,\n",
    "            num_return_sequences=1,\n",
    "            do_sample=False,\n",
    "            eos_token_id=tokenizer.eos_token_id,\n",
    "            pad_token_id=tokenizer.eos_token_id,\n",
    "            # repetition_penalty = 1,\n",
    "            top_p=0.95,\n",
    "            # temperature=0.1\n",
    "        )\n",
    "\n",
    "    # 생성된 텍스트 디코딩\n",
    "    generated_text = tokenizer.decode(generated_ids[0], skip_special_tokens=True)\n",
    "    print(generated_text.split('assistant')[-1])\n",
    "    print(\"___\"*10)"
   ]
  },
  {
   "cell_type": "code",
   "execution_count": null,
   "metadata": {},
   "outputs": [],
   "source": []
  },
  {
   "cell_type": "code",
   "execution_count": null,
   "metadata": {},
   "outputs": [],
   "source": []
  }
 ],
 "metadata": {
  "accelerator": "GPU",
  "colab": {
   "gpuType": "T4",
   "provenance": []
  },
  "kernelspec": {
   "display_name": "llm",
   "language": "python",
   "name": "llm"
  },
  "language_info": {
   "codemirror_mode": {
    "name": "ipython",
    "version": 3
   },
   "file_extension": ".py",
   "mimetype": "text/x-python",
   "name": "python",
   "nbconvert_exporter": "python",
   "pygments_lexer": "ipython3",
   "version": "3.10.13"
  }
 },
 "nbformat": 4,
 "nbformat_minor": 4
}
